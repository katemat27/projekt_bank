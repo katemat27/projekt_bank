{
 "cells": [
  {
   "cell_type": "markdown",
   "metadata": {},
   "source": [
    "# Отток клиентов"
   ]
  },
  {
   "cell_type": "markdown",
   "metadata": {},
   "source": [
    "Из «Бета-Банка» стали уходить клиенты. Каждый месяц. Немного, но заметно. Банковские маркетологи посчитали: сохранять текущих клиентов дешевле, чем привлекать новых.\n",
    "\n",
    "Нужно спрогнозировать, уйдёт клиент из банка в ближайшее время или нет. Вам предоставлены исторические данные о поведении клиентов и расторжении договоров с банком. \n",
    "\n",
    "Постройте модель с предельно большим значением *F1*-меры. Чтобы сдать проект успешно, нужно довести метрику до 0.59. Проверьте *F1*-меру на тестовой выборке самостоятельно.\n",
    "\n",
    "Дополнительно измеряйте *AUC-ROC*, сравнивайте её значение с *F1*-мерой.\n",
    "\n",
    "Источник данных: [https://www.kaggle.com/barelydedicated/bank-customer-churn-modeling](https://www.kaggle.com/barelydedicated/bank-customer-churn-modeling)"
   ]
  },
  {
   "cell_type": "markdown",
   "metadata": {},
   "source": [
    "## Подготовка данных"
   ]
  },
  {
   "cell_type": "code",
   "execution_count": 1,
   "metadata": {},
   "outputs": [],
   "source": [
    "import pandas as pd\n",
    "\n",
    "from sklearn.ensemble import RandomForestClassifier, RandomForestRegressor\n",
    "from sklearn.linear_model import LogisticRegression\n",
    "from sklearn.metrics import confusion_matrix, f1_score, precision_recall_curve, precision_score, recall_score, roc_auc_score, roc_curve, r2_score\n",
    "from sklearn.model_selection import train_test_split\n",
    "from sklearn.tree import DecisionTreeClassifier \n",
    "from sklearn.preprocessing import OrdinalEncoder, OneHotEncoder, StandardScaler\n",
    "from sklearn.utils import shuffle\n",
    "from sklearn.preprocessing import OneHotEncoder\n",
    "\n",
    "\n",
    "import numpy as np"
   ]
  },
  {
   "cell_type": "code",
   "execution_count": 2,
   "metadata": {},
   "outputs": [],
   "source": [
    "df = pd.read_csv('/datasets/Churn.csv')"
   ]
  },
  {
   "cell_type": "code",
   "execution_count": 3,
   "metadata": {},
   "outputs": [
    {
     "data": {
      "text/plain": [
       "(10000, 14)"
      ]
     },
     "execution_count": 3,
     "metadata": {},
     "output_type": "execute_result"
    }
   ],
   "source": [
    "df.shape #изучаем данные"
   ]
  },
  {
   "cell_type": "code",
   "execution_count": 4,
   "metadata": {},
   "outputs": [
    {
     "data": {
      "text/html": [
       "<div>\n",
       "<style scoped>\n",
       "    .dataframe tbody tr th:only-of-type {\n",
       "        vertical-align: middle;\n",
       "    }\n",
       "\n",
       "    .dataframe tbody tr th {\n",
       "        vertical-align: top;\n",
       "    }\n",
       "\n",
       "    .dataframe thead th {\n",
       "        text-align: right;\n",
       "    }\n",
       "</style>\n",
       "<table border=\"1\" class=\"dataframe\">\n",
       "  <thead>\n",
       "    <tr style=\"text-align: right;\">\n",
       "      <th></th>\n",
       "      <th>RowNumber</th>\n",
       "      <th>CustomerId</th>\n",
       "      <th>Surname</th>\n",
       "      <th>CreditScore</th>\n",
       "      <th>Geography</th>\n",
       "      <th>Gender</th>\n",
       "      <th>Age</th>\n",
       "      <th>Tenure</th>\n",
       "      <th>Balance</th>\n",
       "      <th>NumOfProducts</th>\n",
       "      <th>HasCrCard</th>\n",
       "      <th>IsActiveMember</th>\n",
       "      <th>EstimatedSalary</th>\n",
       "      <th>Exited</th>\n",
       "    </tr>\n",
       "  </thead>\n",
       "  <tbody>\n",
       "    <tr>\n",
       "      <th>0</th>\n",
       "      <td>1</td>\n",
       "      <td>15634602</td>\n",
       "      <td>Hargrave</td>\n",
       "      <td>619</td>\n",
       "      <td>France</td>\n",
       "      <td>Female</td>\n",
       "      <td>42</td>\n",
       "      <td>2.0</td>\n",
       "      <td>0.00</td>\n",
       "      <td>1</td>\n",
       "      <td>1</td>\n",
       "      <td>1</td>\n",
       "      <td>101348.88</td>\n",
       "      <td>1</td>\n",
       "    </tr>\n",
       "    <tr>\n",
       "      <th>1</th>\n",
       "      <td>2</td>\n",
       "      <td>15647311</td>\n",
       "      <td>Hill</td>\n",
       "      <td>608</td>\n",
       "      <td>Spain</td>\n",
       "      <td>Female</td>\n",
       "      <td>41</td>\n",
       "      <td>1.0</td>\n",
       "      <td>83807.86</td>\n",
       "      <td>1</td>\n",
       "      <td>0</td>\n",
       "      <td>1</td>\n",
       "      <td>112542.58</td>\n",
       "      <td>0</td>\n",
       "    </tr>\n",
       "    <tr>\n",
       "      <th>2</th>\n",
       "      <td>3</td>\n",
       "      <td>15619304</td>\n",
       "      <td>Onio</td>\n",
       "      <td>502</td>\n",
       "      <td>France</td>\n",
       "      <td>Female</td>\n",
       "      <td>42</td>\n",
       "      <td>8.0</td>\n",
       "      <td>159660.80</td>\n",
       "      <td>3</td>\n",
       "      <td>1</td>\n",
       "      <td>0</td>\n",
       "      <td>113931.57</td>\n",
       "      <td>1</td>\n",
       "    </tr>\n",
       "    <tr>\n",
       "      <th>3</th>\n",
       "      <td>4</td>\n",
       "      <td>15701354</td>\n",
       "      <td>Boni</td>\n",
       "      <td>699</td>\n",
       "      <td>France</td>\n",
       "      <td>Female</td>\n",
       "      <td>39</td>\n",
       "      <td>1.0</td>\n",
       "      <td>0.00</td>\n",
       "      <td>2</td>\n",
       "      <td>0</td>\n",
       "      <td>0</td>\n",
       "      <td>93826.63</td>\n",
       "      <td>0</td>\n",
       "    </tr>\n",
       "    <tr>\n",
       "      <th>4</th>\n",
       "      <td>5</td>\n",
       "      <td>15737888</td>\n",
       "      <td>Mitchell</td>\n",
       "      <td>850</td>\n",
       "      <td>Spain</td>\n",
       "      <td>Female</td>\n",
       "      <td>43</td>\n",
       "      <td>2.0</td>\n",
       "      <td>125510.82</td>\n",
       "      <td>1</td>\n",
       "      <td>1</td>\n",
       "      <td>1</td>\n",
       "      <td>79084.10</td>\n",
       "      <td>0</td>\n",
       "    </tr>\n",
       "    <tr>\n",
       "      <th>5</th>\n",
       "      <td>6</td>\n",
       "      <td>15574012</td>\n",
       "      <td>Chu</td>\n",
       "      <td>645</td>\n",
       "      <td>Spain</td>\n",
       "      <td>Male</td>\n",
       "      <td>44</td>\n",
       "      <td>8.0</td>\n",
       "      <td>113755.78</td>\n",
       "      <td>2</td>\n",
       "      <td>1</td>\n",
       "      <td>0</td>\n",
       "      <td>149756.71</td>\n",
       "      <td>1</td>\n",
       "    </tr>\n",
       "    <tr>\n",
       "      <th>6</th>\n",
       "      <td>7</td>\n",
       "      <td>15592531</td>\n",
       "      <td>Bartlett</td>\n",
       "      <td>822</td>\n",
       "      <td>France</td>\n",
       "      <td>Male</td>\n",
       "      <td>50</td>\n",
       "      <td>7.0</td>\n",
       "      <td>0.00</td>\n",
       "      <td>2</td>\n",
       "      <td>1</td>\n",
       "      <td>1</td>\n",
       "      <td>10062.80</td>\n",
       "      <td>0</td>\n",
       "    </tr>\n",
       "    <tr>\n",
       "      <th>7</th>\n",
       "      <td>8</td>\n",
       "      <td>15656148</td>\n",
       "      <td>Obinna</td>\n",
       "      <td>376</td>\n",
       "      <td>Germany</td>\n",
       "      <td>Female</td>\n",
       "      <td>29</td>\n",
       "      <td>4.0</td>\n",
       "      <td>115046.74</td>\n",
       "      <td>4</td>\n",
       "      <td>1</td>\n",
       "      <td>0</td>\n",
       "      <td>119346.88</td>\n",
       "      <td>1</td>\n",
       "    </tr>\n",
       "    <tr>\n",
       "      <th>8</th>\n",
       "      <td>9</td>\n",
       "      <td>15792365</td>\n",
       "      <td>He</td>\n",
       "      <td>501</td>\n",
       "      <td>France</td>\n",
       "      <td>Male</td>\n",
       "      <td>44</td>\n",
       "      <td>4.0</td>\n",
       "      <td>142051.07</td>\n",
       "      <td>2</td>\n",
       "      <td>0</td>\n",
       "      <td>1</td>\n",
       "      <td>74940.50</td>\n",
       "      <td>0</td>\n",
       "    </tr>\n",
       "    <tr>\n",
       "      <th>9</th>\n",
       "      <td>10</td>\n",
       "      <td>15592389</td>\n",
       "      <td>H?</td>\n",
       "      <td>684</td>\n",
       "      <td>France</td>\n",
       "      <td>Male</td>\n",
       "      <td>27</td>\n",
       "      <td>2.0</td>\n",
       "      <td>134603.88</td>\n",
       "      <td>1</td>\n",
       "      <td>1</td>\n",
       "      <td>1</td>\n",
       "      <td>71725.73</td>\n",
       "      <td>0</td>\n",
       "    </tr>\n",
       "  </tbody>\n",
       "</table>\n",
       "</div>"
      ],
      "text/plain": [
       "   RowNumber  CustomerId   Surname  CreditScore Geography  Gender  Age  \\\n",
       "0          1    15634602  Hargrave          619    France  Female   42   \n",
       "1          2    15647311      Hill          608     Spain  Female   41   \n",
       "2          3    15619304      Onio          502    France  Female   42   \n",
       "3          4    15701354      Boni          699    France  Female   39   \n",
       "4          5    15737888  Mitchell          850     Spain  Female   43   \n",
       "5          6    15574012       Chu          645     Spain    Male   44   \n",
       "6          7    15592531  Bartlett          822    France    Male   50   \n",
       "7          8    15656148    Obinna          376   Germany  Female   29   \n",
       "8          9    15792365        He          501    France    Male   44   \n",
       "9         10    15592389        H?          684    France    Male   27   \n",
       "\n",
       "   Tenure    Balance  NumOfProducts  HasCrCard  IsActiveMember  \\\n",
       "0     2.0       0.00              1          1               1   \n",
       "1     1.0   83807.86              1          0               1   \n",
       "2     8.0  159660.80              3          1               0   \n",
       "3     1.0       0.00              2          0               0   \n",
       "4     2.0  125510.82              1          1               1   \n",
       "5     8.0  113755.78              2          1               0   \n",
       "6     7.0       0.00              2          1               1   \n",
       "7     4.0  115046.74              4          1               0   \n",
       "8     4.0  142051.07              2          0               1   \n",
       "9     2.0  134603.88              1          1               1   \n",
       "\n",
       "   EstimatedSalary  Exited  \n",
       "0        101348.88       1  \n",
       "1        112542.58       0  \n",
       "2        113931.57       1  \n",
       "3         93826.63       0  \n",
       "4         79084.10       0  \n",
       "5        149756.71       1  \n",
       "6         10062.80       0  \n",
       "7        119346.88       1  \n",
       "8         74940.50       0  \n",
       "9         71725.73       0  "
      ]
     },
     "execution_count": 4,
     "metadata": {},
     "output_type": "execute_result"
    }
   ],
   "source": [
    "df.head(10)"
   ]
  },
  {
   "cell_type": "code",
   "execution_count": 5,
   "metadata": {},
   "outputs": [
    {
     "data": {
      "text/plain": [
       "RowNumber            0\n",
       "CustomerId           0\n",
       "Surname              0\n",
       "CreditScore          0\n",
       "Geography            0\n",
       "Gender               0\n",
       "Age                  0\n",
       "Tenure             909\n",
       "Balance              0\n",
       "NumOfProducts        0\n",
       "HasCrCard            0\n",
       "IsActiveMember       0\n",
       "EstimatedSalary      0\n",
       "Exited               0\n",
       "dtype: int64"
      ]
     },
     "execution_count": 5,
     "metadata": {},
     "output_type": "execute_result"
    }
   ],
   "source": [
    "df.isnull().sum() #проверяем на пропуски "
   ]
  },
  {
   "cell_type": "code",
   "execution_count": 6,
   "metadata": {
    "scrolled": true
   },
   "outputs": [
    {
     "data": {
      "text/plain": [
       "0"
      ]
     },
     "execution_count": 6,
     "metadata": {},
     "output_type": "execute_result"
    }
   ],
   "source": [
    "df.duplicated().sum() #проверяем на пропуски "
   ]
  },
  {
   "cell_type": "code",
   "execution_count": 7,
   "metadata": {},
   "outputs": [
    {
     "name": "stdout",
     "output_type": "stream",
     "text": [
      "<class 'pandas.core.frame.DataFrame'>\n",
      "RangeIndex: 10000 entries, 0 to 9999\n",
      "Data columns (total 14 columns):\n",
      " #   Column           Non-Null Count  Dtype  \n",
      "---  ------           --------------  -----  \n",
      " 0   RowNumber        10000 non-null  int64  \n",
      " 1   CustomerId       10000 non-null  int64  \n",
      " 2   Surname          10000 non-null  object \n",
      " 3   CreditScore      10000 non-null  int64  \n",
      " 4   Geography        10000 non-null  object \n",
      " 5   Gender           10000 non-null  object \n",
      " 6   Age              10000 non-null  int64  \n",
      " 7   Tenure           9091 non-null   float64\n",
      " 8   Balance          10000 non-null  float64\n",
      " 9   NumOfProducts    10000 non-null  int64  \n",
      " 10  HasCrCard        10000 non-null  int64  \n",
      " 11  IsActiveMember   10000 non-null  int64  \n",
      " 12  EstimatedSalary  10000 non-null  float64\n",
      " 13  Exited           10000 non-null  int64  \n",
      "dtypes: float64(3), int64(8), object(3)\n",
      "memory usage: 1.1+ MB\n"
     ]
    }
   ],
   "source": [
    "df.info() #для понимания типа данных "
   ]
  },
  {
   "cell_type": "code",
   "execution_count": 8,
   "metadata": {},
   "outputs": [],
   "source": [
    "df['Tenure']=df['Tenure'].fillna(df['Tenure'].median()) #так как пропусков немного заполним сюда медианным значением "
   ]
  },
  {
   "cell_type": "code",
   "execution_count": 9,
   "metadata": {},
   "outputs": [
    {
     "data": {
      "text/plain": [
       "RowNumber          0\n",
       "CustomerId         0\n",
       "Surname            0\n",
       "CreditScore        0\n",
       "Geography          0\n",
       "Gender             0\n",
       "Age                0\n",
       "Tenure             0\n",
       "Balance            0\n",
       "NumOfProducts      0\n",
       "HasCrCard          0\n",
       "IsActiveMember     0\n",
       "EstimatedSalary    0\n",
       "Exited             0\n",
       "dtype: int64"
      ]
     },
     "execution_count": 9,
     "metadata": {},
     "output_type": "execute_result"
    }
   ],
   "source": [
    "df.isnull().sum() #проверяем удалились ли пропуски "
   ]
  },
  {
   "cell_type": "code",
   "execution_count": 10,
   "metadata": {},
   "outputs": [
    {
     "data": {
      "text/html": [
       "<div>\n",
       "<style scoped>\n",
       "    .dataframe tbody tr th:only-of-type {\n",
       "        vertical-align: middle;\n",
       "    }\n",
       "\n",
       "    .dataframe tbody tr th {\n",
       "        vertical-align: top;\n",
       "    }\n",
       "\n",
       "    .dataframe thead th {\n",
       "        text-align: right;\n",
       "    }\n",
       "</style>\n",
       "<table border=\"1\" class=\"dataframe\">\n",
       "  <thead>\n",
       "    <tr style=\"text-align: right;\">\n",
       "      <th></th>\n",
       "      <th>RowNumber</th>\n",
       "      <th>CustomerId</th>\n",
       "      <th>Surname</th>\n",
       "      <th>CreditScore</th>\n",
       "      <th>Geography</th>\n",
       "      <th>Gender</th>\n",
       "      <th>Age</th>\n",
       "      <th>Tenure</th>\n",
       "      <th>Balance</th>\n",
       "      <th>NumOfProducts</th>\n",
       "      <th>HasCrCard</th>\n",
       "      <th>IsActiveMember</th>\n",
       "      <th>EstimatedSalary</th>\n",
       "      <th>Exited</th>\n",
       "    </tr>\n",
       "  </thead>\n",
       "  <tbody>\n",
       "    <tr>\n",
       "      <th>0</th>\n",
       "      <td>1</td>\n",
       "      <td>15634602</td>\n",
       "      <td>Hargrave</td>\n",
       "      <td>619</td>\n",
       "      <td>France</td>\n",
       "      <td>Female</td>\n",
       "      <td>42</td>\n",
       "      <td>2.0</td>\n",
       "      <td>0.00</td>\n",
       "      <td>1</td>\n",
       "      <td>1</td>\n",
       "      <td>1</td>\n",
       "      <td>101348.88</td>\n",
       "      <td>1</td>\n",
       "    </tr>\n",
       "    <tr>\n",
       "      <th>1</th>\n",
       "      <td>2</td>\n",
       "      <td>15647311</td>\n",
       "      <td>Hill</td>\n",
       "      <td>608</td>\n",
       "      <td>Spain</td>\n",
       "      <td>Female</td>\n",
       "      <td>41</td>\n",
       "      <td>1.0</td>\n",
       "      <td>83807.86</td>\n",
       "      <td>1</td>\n",
       "      <td>0</td>\n",
       "      <td>1</td>\n",
       "      <td>112542.58</td>\n",
       "      <td>0</td>\n",
       "    </tr>\n",
       "    <tr>\n",
       "      <th>2</th>\n",
       "      <td>3</td>\n",
       "      <td>15619304</td>\n",
       "      <td>Onio</td>\n",
       "      <td>502</td>\n",
       "      <td>France</td>\n",
       "      <td>Female</td>\n",
       "      <td>42</td>\n",
       "      <td>8.0</td>\n",
       "      <td>159660.80</td>\n",
       "      <td>3</td>\n",
       "      <td>1</td>\n",
       "      <td>0</td>\n",
       "      <td>113931.57</td>\n",
       "      <td>1</td>\n",
       "    </tr>\n",
       "    <tr>\n",
       "      <th>3</th>\n",
       "      <td>4</td>\n",
       "      <td>15701354</td>\n",
       "      <td>Boni</td>\n",
       "      <td>699</td>\n",
       "      <td>France</td>\n",
       "      <td>Female</td>\n",
       "      <td>39</td>\n",
       "      <td>1.0</td>\n",
       "      <td>0.00</td>\n",
       "      <td>2</td>\n",
       "      <td>0</td>\n",
       "      <td>0</td>\n",
       "      <td>93826.63</td>\n",
       "      <td>0</td>\n",
       "    </tr>\n",
       "    <tr>\n",
       "      <th>4</th>\n",
       "      <td>5</td>\n",
       "      <td>15737888</td>\n",
       "      <td>Mitchell</td>\n",
       "      <td>850</td>\n",
       "      <td>Spain</td>\n",
       "      <td>Female</td>\n",
       "      <td>43</td>\n",
       "      <td>2.0</td>\n",
       "      <td>125510.82</td>\n",
       "      <td>1</td>\n",
       "      <td>1</td>\n",
       "      <td>1</td>\n",
       "      <td>79084.10</td>\n",
       "      <td>0</td>\n",
       "    </tr>\n",
       "    <tr>\n",
       "      <th>5</th>\n",
       "      <td>6</td>\n",
       "      <td>15574012</td>\n",
       "      <td>Chu</td>\n",
       "      <td>645</td>\n",
       "      <td>Spain</td>\n",
       "      <td>Male</td>\n",
       "      <td>44</td>\n",
       "      <td>8.0</td>\n",
       "      <td>113755.78</td>\n",
       "      <td>2</td>\n",
       "      <td>1</td>\n",
       "      <td>0</td>\n",
       "      <td>149756.71</td>\n",
       "      <td>1</td>\n",
       "    </tr>\n",
       "    <tr>\n",
       "      <th>6</th>\n",
       "      <td>7</td>\n",
       "      <td>15592531</td>\n",
       "      <td>Bartlett</td>\n",
       "      <td>822</td>\n",
       "      <td>France</td>\n",
       "      <td>Male</td>\n",
       "      <td>50</td>\n",
       "      <td>7.0</td>\n",
       "      <td>0.00</td>\n",
       "      <td>2</td>\n",
       "      <td>1</td>\n",
       "      <td>1</td>\n",
       "      <td>10062.80</td>\n",
       "      <td>0</td>\n",
       "    </tr>\n",
       "    <tr>\n",
       "      <th>7</th>\n",
       "      <td>8</td>\n",
       "      <td>15656148</td>\n",
       "      <td>Obinna</td>\n",
       "      <td>376</td>\n",
       "      <td>Germany</td>\n",
       "      <td>Female</td>\n",
       "      <td>29</td>\n",
       "      <td>4.0</td>\n",
       "      <td>115046.74</td>\n",
       "      <td>4</td>\n",
       "      <td>1</td>\n",
       "      <td>0</td>\n",
       "      <td>119346.88</td>\n",
       "      <td>1</td>\n",
       "    </tr>\n",
       "    <tr>\n",
       "      <th>8</th>\n",
       "      <td>9</td>\n",
       "      <td>15792365</td>\n",
       "      <td>He</td>\n",
       "      <td>501</td>\n",
       "      <td>France</td>\n",
       "      <td>Male</td>\n",
       "      <td>44</td>\n",
       "      <td>4.0</td>\n",
       "      <td>142051.07</td>\n",
       "      <td>2</td>\n",
       "      <td>0</td>\n",
       "      <td>1</td>\n",
       "      <td>74940.50</td>\n",
       "      <td>0</td>\n",
       "    </tr>\n",
       "    <tr>\n",
       "      <th>9</th>\n",
       "      <td>10</td>\n",
       "      <td>15592389</td>\n",
       "      <td>H?</td>\n",
       "      <td>684</td>\n",
       "      <td>France</td>\n",
       "      <td>Male</td>\n",
       "      <td>27</td>\n",
       "      <td>2.0</td>\n",
       "      <td>134603.88</td>\n",
       "      <td>1</td>\n",
       "      <td>1</td>\n",
       "      <td>1</td>\n",
       "      <td>71725.73</td>\n",
       "      <td>0</td>\n",
       "    </tr>\n",
       "  </tbody>\n",
       "</table>\n",
       "</div>"
      ],
      "text/plain": [
       "   RowNumber  CustomerId   Surname  CreditScore Geography  Gender  Age  \\\n",
       "0          1    15634602  Hargrave          619    France  Female   42   \n",
       "1          2    15647311      Hill          608     Spain  Female   41   \n",
       "2          3    15619304      Onio          502    France  Female   42   \n",
       "3          4    15701354      Boni          699    France  Female   39   \n",
       "4          5    15737888  Mitchell          850     Spain  Female   43   \n",
       "5          6    15574012       Chu          645     Spain    Male   44   \n",
       "6          7    15592531  Bartlett          822    France    Male   50   \n",
       "7          8    15656148    Obinna          376   Germany  Female   29   \n",
       "8          9    15792365        He          501    France    Male   44   \n",
       "9         10    15592389        H?          684    France    Male   27   \n",
       "\n",
       "   Tenure    Balance  NumOfProducts  HasCrCard  IsActiveMember  \\\n",
       "0     2.0       0.00              1          1               1   \n",
       "1     1.0   83807.86              1          0               1   \n",
       "2     8.0  159660.80              3          1               0   \n",
       "3     1.0       0.00              2          0               0   \n",
       "4     2.0  125510.82              1          1               1   \n",
       "5     8.0  113755.78              2          1               0   \n",
       "6     7.0       0.00              2          1               1   \n",
       "7     4.0  115046.74              4          1               0   \n",
       "8     4.0  142051.07              2          0               1   \n",
       "9     2.0  134603.88              1          1               1   \n",
       "\n",
       "   EstimatedSalary  Exited  \n",
       "0        101348.88       1  \n",
       "1        112542.58       0  \n",
       "2        113931.57       1  \n",
       "3         93826.63       0  \n",
       "4         79084.10       0  \n",
       "5        149756.71       1  \n",
       "6         10062.80       0  \n",
       "7        119346.88       1  \n",
       "8         74940.50       0  \n",
       "9         71725.73       0  "
      ]
     },
     "execution_count": 10,
     "metadata": {},
     "output_type": "execute_result"
    }
   ],
   "source": [
    "df.head(10)"
   ]
  },
  {
   "cell_type": "code",
   "execution_count": 11,
   "metadata": {
    "scrolled": false
   },
   "outputs": [
    {
     "data": {
      "text/plain": [
       "France     5014\n",
       "Germany    2509\n",
       "Spain      2477\n",
       "Name: Geography, dtype: int64"
      ]
     },
     "execution_count": 11,
     "metadata": {},
     "output_type": "execute_result"
    }
   ],
   "source": [
    "df['Geography'].value_counts() #изучаем из каких стран пользователи "
   ]
  },
  {
   "cell_type": "code",
   "execution_count": 12,
   "metadata": {
    "scrolled": true
   },
   "outputs": [
    {
     "data": {
      "text/plain": [
       "Male      5457\n",
       "Female    4543\n",
       "Name: Gender, dtype: int64"
      ]
     },
     "execution_count": 12,
     "metadata": {},
     "output_type": "execute_result"
    }
   ],
   "source": [
    "df['Gender'].value_counts()  #исследуем пол пользователей банка "
   ]
  },
  {
   "cell_type": "code",
   "execution_count": 13,
   "metadata": {},
   "outputs": [],
   "source": [
    "df = df.drop(columns = ['Surname', 'CustomerId', 'RowNumber'], axis = 1)  #удаляю три столбца которые мне нужны для обучения модели "
   ]
  },
  {
   "cell_type": "markdown",
   "metadata": {},
   "source": [
    "## Исследование задачи"
   ]
  },
  {
   "cell_type": "code",
   "execution_count": 14,
   "metadata": {},
   "outputs": [],
   "source": [
    "#перенесла разделение выборки после обработки методом OneHotEncoder"
   ]
  },
  {
   "cell_type": "code",
   "execution_count": 15,
   "metadata": {
    "scrolled": false
   },
   "outputs": [
    {
     "data": {
      "text/html": [
       "<div>\n",
       "<style scoped>\n",
       "    .dataframe tbody tr th:only-of-type {\n",
       "        vertical-align: middle;\n",
       "    }\n",
       "\n",
       "    .dataframe tbody tr th {\n",
       "        vertical-align: top;\n",
       "    }\n",
       "\n",
       "    .dataframe thead th {\n",
       "        text-align: right;\n",
       "    }\n",
       "</style>\n",
       "<table border=\"1\" class=\"dataframe\">\n",
       "  <thead>\n",
       "    <tr style=\"text-align: right;\">\n",
       "      <th></th>\n",
       "      <th>CreditScore</th>\n",
       "      <th>Geography</th>\n",
       "      <th>Gender</th>\n",
       "      <th>Age</th>\n",
       "      <th>Tenure</th>\n",
       "      <th>Balance</th>\n",
       "      <th>NumOfProducts</th>\n",
       "      <th>HasCrCard</th>\n",
       "      <th>IsActiveMember</th>\n",
       "      <th>EstimatedSalary</th>\n",
       "      <th>Exited</th>\n",
       "    </tr>\n",
       "  </thead>\n",
       "  <tbody>\n",
       "    <tr>\n",
       "      <th>0</th>\n",
       "      <td>619</td>\n",
       "      <td>France</td>\n",
       "      <td>Female</td>\n",
       "      <td>42</td>\n",
       "      <td>2.0</td>\n",
       "      <td>0.00</td>\n",
       "      <td>1</td>\n",
       "      <td>1</td>\n",
       "      <td>1</td>\n",
       "      <td>101348.88</td>\n",
       "      <td>1</td>\n",
       "    </tr>\n",
       "    <tr>\n",
       "      <th>1</th>\n",
       "      <td>608</td>\n",
       "      <td>Spain</td>\n",
       "      <td>Female</td>\n",
       "      <td>41</td>\n",
       "      <td>1.0</td>\n",
       "      <td>83807.86</td>\n",
       "      <td>1</td>\n",
       "      <td>0</td>\n",
       "      <td>1</td>\n",
       "      <td>112542.58</td>\n",
       "      <td>0</td>\n",
       "    </tr>\n",
       "    <tr>\n",
       "      <th>2</th>\n",
       "      <td>502</td>\n",
       "      <td>France</td>\n",
       "      <td>Female</td>\n",
       "      <td>42</td>\n",
       "      <td>8.0</td>\n",
       "      <td>159660.80</td>\n",
       "      <td>3</td>\n",
       "      <td>1</td>\n",
       "      <td>0</td>\n",
       "      <td>113931.57</td>\n",
       "      <td>1</td>\n",
       "    </tr>\n",
       "    <tr>\n",
       "      <th>3</th>\n",
       "      <td>699</td>\n",
       "      <td>France</td>\n",
       "      <td>Female</td>\n",
       "      <td>39</td>\n",
       "      <td>1.0</td>\n",
       "      <td>0.00</td>\n",
       "      <td>2</td>\n",
       "      <td>0</td>\n",
       "      <td>0</td>\n",
       "      <td>93826.63</td>\n",
       "      <td>0</td>\n",
       "    </tr>\n",
       "    <tr>\n",
       "      <th>4</th>\n",
       "      <td>850</td>\n",
       "      <td>Spain</td>\n",
       "      <td>Female</td>\n",
       "      <td>43</td>\n",
       "      <td>2.0</td>\n",
       "      <td>125510.82</td>\n",
       "      <td>1</td>\n",
       "      <td>1</td>\n",
       "      <td>1</td>\n",
       "      <td>79084.10</td>\n",
       "      <td>0</td>\n",
       "    </tr>\n",
       "  </tbody>\n",
       "</table>\n",
       "</div>"
      ],
      "text/plain": [
       "   CreditScore Geography  Gender  Age  Tenure    Balance  NumOfProducts  \\\n",
       "0          619    France  Female   42     2.0       0.00              1   \n",
       "1          608     Spain  Female   41     1.0   83807.86              1   \n",
       "2          502    France  Female   42     8.0  159660.80              3   \n",
       "3          699    France  Female   39     1.0       0.00              2   \n",
       "4          850     Spain  Female   43     2.0  125510.82              1   \n",
       "\n",
       "   HasCrCard  IsActiveMember  EstimatedSalary  Exited  \n",
       "0          1               1        101348.88       1  \n",
       "1          0               1        112542.58       0  \n",
       "2          1               0        113931.57       1  \n",
       "3          0               0         93826.63       0  \n",
       "4          1               1         79084.10       0  "
      ]
     },
     "execution_count": 15,
     "metadata": {},
     "output_type": "execute_result"
    }
   ],
   "source": [
    "df.head()"
   ]
  },
  {
   "cell_type": "code",
   "execution_count": 16,
   "metadata": {},
   "outputs": [],
   "source": [
    "features = df.drop([\"Exited\"], axis = 1)\n",
    "target = df[\"Exited\"]"
   ]
  },
  {
   "cell_type": "code",
   "execution_count": 17,
   "metadata": {},
   "outputs": [],
   "source": [
    "train_size=0.6 # определим размер тренировочной выборки "
   ]
  },
  {
   "cell_type": "code",
   "execution_count": 18,
   "metadata": {},
   "outputs": [],
   "source": [
    "features_train, features_rem, target_train, target_rem = train_test_split(features, target, train_size=0.6, random_state=12345)"
   ]
  },
  {
   "cell_type": "code",
   "execution_count": 19,
   "metadata": {},
   "outputs": [
    {
     "data": {
      "text/plain": [
       "(6000, 10)"
      ]
     },
     "execution_count": 19,
     "metadata": {},
     "output_type": "execute_result"
    }
   ],
   "source": [
    "features_train.shape"
   ]
  },
  {
   "cell_type": "code",
   "execution_count": 20,
   "metadata": {},
   "outputs": [],
   "source": [
    "# Теперь нам из оставшейся надо выделить валидационную и тестовую. Мы хотим чтобы они были по 40% \n",
    "# или 50% от оставшейся  "
   ]
  },
  {
   "cell_type": "code",
   "execution_count": 21,
   "metadata": {},
   "outputs": [],
   "source": [
    "features_test, features_valid, target_test, target_valid = train_test_split(features_rem, target_rem, train_size=0.5, random_state=12345)"
   ]
  },
  {
   "cell_type": "code",
   "execution_count": 22,
   "metadata": {
    "scrolled": true
   },
   "outputs": [
    {
     "data": {
      "text/plain": [
       "(6000, 10)"
      ]
     },
     "execution_count": 22,
     "metadata": {},
     "output_type": "execute_result"
    }
   ],
   "source": [
    "features_train.shape"
   ]
  },
  {
   "cell_type": "code",
   "execution_count": 23,
   "metadata": {},
   "outputs": [
    {
     "data": {
      "text/plain": [
       "(2000, 10)"
      ]
     },
     "execution_count": 23,
     "metadata": {},
     "output_type": "execute_result"
    }
   ],
   "source": [
    "features_valid.shape"
   ]
  },
  {
   "cell_type": "code",
   "execution_count": 24,
   "metadata": {},
   "outputs": [
    {
     "data": {
      "text/plain": [
       "(2000, 10)"
      ]
     },
     "execution_count": 24,
     "metadata": {},
     "output_type": "execute_result"
    }
   ],
   "source": [
    "features_test.shape"
   ]
  },
  {
   "cell_type": "code",
   "execution_count": 25,
   "metadata": {},
   "outputs": [],
   "source": [
    "#работаем с  OHE"
   ]
  },
  {
   "cell_type": "code",
   "execution_count": 26,
   "metadata": {},
   "outputs": [],
   "source": [
    "encoder = OneHotEncoder(drop='first')"
   ]
  },
  {
   "cell_type": "code",
   "execution_count": 27,
   "metadata": {},
   "outputs": [],
   "source": [
    "features_train_ohe = pd.DataFrame(encoder.fit_transform(features_train[['Geography','Gender']]).toarray(), columns=encoder.get_feature_names())"
   ]
  },
  {
   "cell_type": "code",
   "execution_count": 28,
   "metadata": {},
   "outputs": [],
   "source": [
    "features_train_new = features_train.drop(columns=['Geography','Gender']).reset_index(drop=True).join(features_train_ohe.reset_index(drop=True))"
   ]
  },
  {
   "cell_type": "code",
   "execution_count": 29,
   "metadata": {},
   "outputs": [
    {
     "data": {
      "text/html": [
       "<div>\n",
       "<style scoped>\n",
       "    .dataframe tbody tr th:only-of-type {\n",
       "        vertical-align: middle;\n",
       "    }\n",
       "\n",
       "    .dataframe tbody tr th {\n",
       "        vertical-align: top;\n",
       "    }\n",
       "\n",
       "    .dataframe thead th {\n",
       "        text-align: right;\n",
       "    }\n",
       "</style>\n",
       "<table border=\"1\" class=\"dataframe\">\n",
       "  <thead>\n",
       "    <tr style=\"text-align: right;\">\n",
       "      <th></th>\n",
       "      <th>CreditScore</th>\n",
       "      <th>Age</th>\n",
       "      <th>Tenure</th>\n",
       "      <th>Balance</th>\n",
       "      <th>NumOfProducts</th>\n",
       "      <th>HasCrCard</th>\n",
       "      <th>IsActiveMember</th>\n",
       "      <th>EstimatedSalary</th>\n",
       "      <th>x0_Germany</th>\n",
       "      <th>x0_Spain</th>\n",
       "      <th>x1_Male</th>\n",
       "    </tr>\n",
       "  </thead>\n",
       "  <tbody>\n",
       "    <tr>\n",
       "      <th>0</th>\n",
       "      <td>567</td>\n",
       "      <td>35</td>\n",
       "      <td>8.0</td>\n",
       "      <td>153137.74</td>\n",
       "      <td>1</td>\n",
       "      <td>1</td>\n",
       "      <td>0</td>\n",
       "      <td>88659.07</td>\n",
       "      <td>0.0</td>\n",
       "      <td>1.0</td>\n",
       "      <td>1.0</td>\n",
       "    </tr>\n",
       "    <tr>\n",
       "      <th>1</th>\n",
       "      <td>711</td>\n",
       "      <td>37</td>\n",
       "      <td>8.0</td>\n",
       "      <td>113899.92</td>\n",
       "      <td>1</td>\n",
       "      <td>0</td>\n",
       "      <td>0</td>\n",
       "      <td>80215.20</td>\n",
       "      <td>0.0</td>\n",
       "      <td>0.0</td>\n",
       "      <td>0.0</td>\n",
       "    </tr>\n",
       "    <tr>\n",
       "      <th>2</th>\n",
       "      <td>850</td>\n",
       "      <td>44</td>\n",
       "      <td>3.0</td>\n",
       "      <td>140393.65</td>\n",
       "      <td>2</td>\n",
       "      <td>0</td>\n",
       "      <td>1</td>\n",
       "      <td>186285.52</td>\n",
       "      <td>1.0</td>\n",
       "      <td>0.0</td>\n",
       "      <td>1.0</td>\n",
       "    </tr>\n",
       "    <tr>\n",
       "      <th>3</th>\n",
       "      <td>512</td>\n",
       "      <td>24</td>\n",
       "      <td>6.0</td>\n",
       "      <td>0.00</td>\n",
       "      <td>2</td>\n",
       "      <td>1</td>\n",
       "      <td>0</td>\n",
       "      <td>37654.31</td>\n",
       "      <td>0.0</td>\n",
       "      <td>0.0</td>\n",
       "      <td>1.0</td>\n",
       "    </tr>\n",
       "    <tr>\n",
       "      <th>4</th>\n",
       "      <td>665</td>\n",
       "      <td>27</td>\n",
       "      <td>2.0</td>\n",
       "      <td>147435.96</td>\n",
       "      <td>1</td>\n",
       "      <td>0</td>\n",
       "      <td>0</td>\n",
       "      <td>187508.06</td>\n",
       "      <td>1.0</td>\n",
       "      <td>0.0</td>\n",
       "      <td>0.0</td>\n",
       "    </tr>\n",
       "  </tbody>\n",
       "</table>\n",
       "</div>"
      ],
      "text/plain": [
       "   CreditScore  Age  Tenure    Balance  NumOfProducts  HasCrCard  \\\n",
       "0          567   35     8.0  153137.74              1          1   \n",
       "1          711   37     8.0  113899.92              1          0   \n",
       "2          850   44     3.0  140393.65              2          0   \n",
       "3          512   24     6.0       0.00              2          1   \n",
       "4          665   27     2.0  147435.96              1          0   \n",
       "\n",
       "   IsActiveMember  EstimatedSalary  x0_Germany  x0_Spain  x1_Male  \n",
       "0               0         88659.07         0.0       1.0      1.0  \n",
       "1               0         80215.20         0.0       0.0      0.0  \n",
       "2               1        186285.52         1.0       0.0      1.0  \n",
       "3               0         37654.31         0.0       0.0      1.0  \n",
       "4               0        187508.06         1.0       0.0      0.0  "
      ]
     },
     "execution_count": 29,
     "metadata": {},
     "output_type": "execute_result"
    }
   ],
   "source": [
    "features_train_new.head()"
   ]
  },
  {
   "cell_type": "code",
   "execution_count": 30,
   "metadata": {},
   "outputs": [],
   "source": [
    "features_valid_ohe = pd.DataFrame(encoder.transform(features_valid[['Geography','Gender']]).toarray(), columns=encoder.get_feature_names())"
   ]
  },
  {
   "cell_type": "code",
   "execution_count": 31,
   "metadata": {},
   "outputs": [],
   "source": [
    "features_valid_new = features_valid.drop(columns=['Geography','Gender']).reset_index(drop=True).join(features_valid_ohe.reset_index(drop=True))"
   ]
  },
  {
   "cell_type": "code",
   "execution_count": 32,
   "metadata": {},
   "outputs": [
    {
     "data": {
      "text/html": [
       "<div>\n",
       "<style scoped>\n",
       "    .dataframe tbody tr th:only-of-type {\n",
       "        vertical-align: middle;\n",
       "    }\n",
       "\n",
       "    .dataframe tbody tr th {\n",
       "        vertical-align: top;\n",
       "    }\n",
       "\n",
       "    .dataframe thead th {\n",
       "        text-align: right;\n",
       "    }\n",
       "</style>\n",
       "<table border=\"1\" class=\"dataframe\">\n",
       "  <thead>\n",
       "    <tr style=\"text-align: right;\">\n",
       "      <th></th>\n",
       "      <th>CreditScore</th>\n",
       "      <th>Age</th>\n",
       "      <th>Tenure</th>\n",
       "      <th>Balance</th>\n",
       "      <th>NumOfProducts</th>\n",
       "      <th>HasCrCard</th>\n",
       "      <th>IsActiveMember</th>\n",
       "      <th>EstimatedSalary</th>\n",
       "      <th>x0_Germany</th>\n",
       "      <th>x0_Spain</th>\n",
       "      <th>x1_Male</th>\n",
       "    </tr>\n",
       "  </thead>\n",
       "  <tbody>\n",
       "    <tr>\n",
       "      <th>0</th>\n",
       "      <td>438</td>\n",
       "      <td>38</td>\n",
       "      <td>2.0</td>\n",
       "      <td>0.00</td>\n",
       "      <td>2</td>\n",
       "      <td>1</td>\n",
       "      <td>0</td>\n",
       "      <td>136859.55</td>\n",
       "      <td>0.0</td>\n",
       "      <td>0.0</td>\n",
       "      <td>1.0</td>\n",
       "    </tr>\n",
       "    <tr>\n",
       "      <th>1</th>\n",
       "      <td>644</td>\n",
       "      <td>39</td>\n",
       "      <td>9.0</td>\n",
       "      <td>0.00</td>\n",
       "      <td>1</td>\n",
       "      <td>1</td>\n",
       "      <td>0</td>\n",
       "      <td>3740.93</td>\n",
       "      <td>0.0</td>\n",
       "      <td>0.0</td>\n",
       "      <td>0.0</td>\n",
       "    </tr>\n",
       "    <tr>\n",
       "      <th>2</th>\n",
       "      <td>564</td>\n",
       "      <td>31</td>\n",
       "      <td>5.0</td>\n",
       "      <td>121461.87</td>\n",
       "      <td>1</td>\n",
       "      <td>1</td>\n",
       "      <td>1</td>\n",
       "      <td>20432.09</td>\n",
       "      <td>0.0</td>\n",
       "      <td>1.0</td>\n",
       "      <td>1.0</td>\n",
       "    </tr>\n",
       "    <tr>\n",
       "      <th>3</th>\n",
       "      <td>628</td>\n",
       "      <td>40</td>\n",
       "      <td>10.0</td>\n",
       "      <td>0.00</td>\n",
       "      <td>2</td>\n",
       "      <td>1</td>\n",
       "      <td>0</td>\n",
       "      <td>103832.58</td>\n",
       "      <td>0.0</td>\n",
       "      <td>1.0</td>\n",
       "      <td>1.0</td>\n",
       "    </tr>\n",
       "    <tr>\n",
       "      <th>4</th>\n",
       "      <td>728</td>\n",
       "      <td>30</td>\n",
       "      <td>10.0</td>\n",
       "      <td>114835.43</td>\n",
       "      <td>1</td>\n",
       "      <td>0</td>\n",
       "      <td>1</td>\n",
       "      <td>37662.49</td>\n",
       "      <td>0.0</td>\n",
       "      <td>0.0</td>\n",
       "      <td>1.0</td>\n",
       "    </tr>\n",
       "  </tbody>\n",
       "</table>\n",
       "</div>"
      ],
      "text/plain": [
       "   CreditScore  Age  Tenure    Balance  NumOfProducts  HasCrCard  \\\n",
       "0          438   38     2.0       0.00              2          1   \n",
       "1          644   39     9.0       0.00              1          1   \n",
       "2          564   31     5.0  121461.87              1          1   \n",
       "3          628   40    10.0       0.00              2          1   \n",
       "4          728   30    10.0  114835.43              1          0   \n",
       "\n",
       "   IsActiveMember  EstimatedSalary  x0_Germany  x0_Spain  x1_Male  \n",
       "0               0        136859.55         0.0       0.0      1.0  \n",
       "1               0          3740.93         0.0       0.0      0.0  \n",
       "2               1         20432.09         0.0       1.0      1.0  \n",
       "3               0        103832.58         0.0       1.0      1.0  \n",
       "4               1         37662.49         0.0       0.0      1.0  "
      ]
     },
     "execution_count": 32,
     "metadata": {},
     "output_type": "execute_result"
    }
   ],
   "source": [
    "features_valid_new.head()"
   ]
  },
  {
   "cell_type": "code",
   "execution_count": 33,
   "metadata": {},
   "outputs": [],
   "source": [
    "features_test_ohe = pd.DataFrame(encoder.transform(features_test[['Geography','Gender']]).toarray(),columns=encoder.get_feature_names())"
   ]
  },
  {
   "cell_type": "code",
   "execution_count": 34,
   "metadata": {},
   "outputs": [],
   "source": [
    "features_test_new = features_test.drop(columns=['Geography','Gender']).reset_index(drop=True).join(features_test_ohe.reset_index(drop=True))"
   ]
  },
  {
   "cell_type": "code",
   "execution_count": 35,
   "metadata": {},
   "outputs": [
    {
     "data": {
      "text/html": [
       "<div>\n",
       "<style scoped>\n",
       "    .dataframe tbody tr th:only-of-type {\n",
       "        vertical-align: middle;\n",
       "    }\n",
       "\n",
       "    .dataframe tbody tr th {\n",
       "        vertical-align: top;\n",
       "    }\n",
       "\n",
       "    .dataframe thead th {\n",
       "        text-align: right;\n",
       "    }\n",
       "</style>\n",
       "<table border=\"1\" class=\"dataframe\">\n",
       "  <thead>\n",
       "    <tr style=\"text-align: right;\">\n",
       "      <th></th>\n",
       "      <th>CreditScore</th>\n",
       "      <th>Age</th>\n",
       "      <th>Tenure</th>\n",
       "      <th>Balance</th>\n",
       "      <th>NumOfProducts</th>\n",
       "      <th>HasCrCard</th>\n",
       "      <th>IsActiveMember</th>\n",
       "      <th>EstimatedSalary</th>\n",
       "      <th>x0_Germany</th>\n",
       "      <th>x0_Spain</th>\n",
       "      <th>x1_Male</th>\n",
       "    </tr>\n",
       "  </thead>\n",
       "  <tbody>\n",
       "    <tr>\n",
       "      <th>0</th>\n",
       "      <td>585</td>\n",
       "      <td>35</td>\n",
       "      <td>2.0</td>\n",
       "      <td>0.00</td>\n",
       "      <td>2</td>\n",
       "      <td>1</td>\n",
       "      <td>0</td>\n",
       "      <td>98621.04</td>\n",
       "      <td>0.0</td>\n",
       "      <td>0.0</td>\n",
       "      <td>0.0</td>\n",
       "    </tr>\n",
       "    <tr>\n",
       "      <th>1</th>\n",
       "      <td>625</td>\n",
       "      <td>45</td>\n",
       "      <td>3.0</td>\n",
       "      <td>0.00</td>\n",
       "      <td>1</td>\n",
       "      <td>1</td>\n",
       "      <td>1</td>\n",
       "      <td>184474.15</td>\n",
       "      <td>0.0</td>\n",
       "      <td>0.0</td>\n",
       "      <td>0.0</td>\n",
       "    </tr>\n",
       "    <tr>\n",
       "      <th>2</th>\n",
       "      <td>667</td>\n",
       "      <td>32</td>\n",
       "      <td>0.0</td>\n",
       "      <td>103846.65</td>\n",
       "      <td>1</td>\n",
       "      <td>1</td>\n",
       "      <td>0</td>\n",
       "      <td>20560.69</td>\n",
       "      <td>1.0</td>\n",
       "      <td>0.0</td>\n",
       "      <td>1.0</td>\n",
       "    </tr>\n",
       "    <tr>\n",
       "      <th>3</th>\n",
       "      <td>568</td>\n",
       "      <td>36</td>\n",
       "      <td>10.0</td>\n",
       "      <td>153610.61</td>\n",
       "      <td>1</td>\n",
       "      <td>1</td>\n",
       "      <td>1</td>\n",
       "      <td>54083.80</td>\n",
       "      <td>0.0</td>\n",
       "      <td>1.0</td>\n",
       "      <td>0.0</td>\n",
       "    </tr>\n",
       "    <tr>\n",
       "      <th>4</th>\n",
       "      <td>606</td>\n",
       "      <td>42</td>\n",
       "      <td>10.0</td>\n",
       "      <td>0.00</td>\n",
       "      <td>2</td>\n",
       "      <td>1</td>\n",
       "      <td>0</td>\n",
       "      <td>177938.52</td>\n",
       "      <td>0.0</td>\n",
       "      <td>1.0</td>\n",
       "      <td>1.0</td>\n",
       "    </tr>\n",
       "  </tbody>\n",
       "</table>\n",
       "</div>"
      ],
      "text/plain": [
       "   CreditScore  Age  Tenure    Balance  NumOfProducts  HasCrCard  \\\n",
       "0          585   35     2.0       0.00              2          1   \n",
       "1          625   45     3.0       0.00              1          1   \n",
       "2          667   32     0.0  103846.65              1          1   \n",
       "3          568   36    10.0  153610.61              1          1   \n",
       "4          606   42    10.0       0.00              2          1   \n",
       "\n",
       "   IsActiveMember  EstimatedSalary  x0_Germany  x0_Spain  x1_Male  \n",
       "0               0         98621.04         0.0       0.0      0.0  \n",
       "1               1        184474.15         0.0       0.0      0.0  \n",
       "2               0         20560.69         1.0       0.0      1.0  \n",
       "3               1         54083.80         0.0       1.0      0.0  \n",
       "4               0        177938.52         0.0       1.0      1.0  "
      ]
     },
     "execution_count": 35,
     "metadata": {},
     "output_type": "execute_result"
    }
   ],
   "source": [
    "features_test_new.head()"
   ]
  },
  {
   "cell_type": "code",
   "execution_count": 36,
   "metadata": {},
   "outputs": [],
   "source": [
    "#масштабируем данные "
   ]
  },
  {
   "cell_type": "code",
   "execution_count": 37,
   "metadata": {
    "scrolled": true
   },
   "outputs": [],
   "source": [
    "numeric = ['CreditScore','Age','Tenure','Balance','NumOfProducts','HasCrCard','IsActiveMember','EstimatedSalary','x0_Germany','x0_Spain','x1_Male']"
   ]
  },
  {
   "cell_type": "code",
   "execution_count": 38,
   "metadata": {},
   "outputs": [
    {
     "name": "stdout",
     "output_type": "stream",
     "text": [
      "   CreditScore       Age    Tenure   Balance  NumOfProducts  HasCrCard  \\\n",
      "0    -0.886751 -0.373192  1.082277  1.232271      -0.891560   0.642466   \n",
      "1     0.608663 -0.183385  1.082277  0.600563      -0.891560  -1.556504   \n",
      "2     2.052152  0.480939 -0.737696  1.027098       0.830152  -1.556504   \n",
      "3    -1.457915 -1.417129  0.354288 -1.233163       0.830152   0.642466   \n",
      "4     0.130961 -1.132419 -1.101690  1.140475      -0.891560  -1.556504   \n",
      "\n",
      "   IsActiveMember  EstimatedSalary  x0_Germany  x0_Spain   x1_Male  \n",
      "0       -1.055187        -0.187705   -0.572475  1.728977  0.907278  \n",
      "1       -1.055187        -0.333945   -0.572475 -0.578377 -1.102198  \n",
      "2        0.947699         1.503095    1.746802 -0.578377  0.907278  \n",
      "3       -1.055187        -1.071061   -0.572475 -0.578377  0.907278  \n",
      "4       -1.055187         1.524268    1.746802 -0.578377 -1.102198  \n"
     ]
    }
   ],
   "source": [
    "scaler = StandardScaler()\n",
    "scaler.fit(features_train_new[numeric])\n",
    "features_train_new[numeric] = scaler.transform(features_train_new[numeric])\n",
    "features_valid_new[numeric] = scaler.transform(features_valid_new[numeric])\n",
    "features_test_new[numeric] = scaler.transform(features_test_new[numeric])\n",
    "pd.options.mode.chained_assignment = None\n",
    "print(features_train_new.head(5))"
   ]
  },
  {
   "cell_type": "code",
   "execution_count": 39,
   "metadata": {},
   "outputs": [
    {
     "data": {
      "text/plain": [
       "0    4804\n",
       "1    1196\n",
       "Name: Exited, dtype: int64"
      ]
     },
     "execution_count": 39,
     "metadata": {},
     "output_type": "execute_result"
    }
   ],
   "source": [
    "target_train.value_counts()     #Изучаем дисбаланс "
   ]
  },
  {
   "cell_type": "code",
   "execution_count": 40,
   "metadata": {},
   "outputs": [],
   "source": [
    "target_train.reset_index(drop= True , inplace= True ) #сбрасываем индексы ,чтобы код не упал"
   ]
  },
  {
   "cell_type": "code",
   "execution_count": 41,
   "metadata": {},
   "outputs": [],
   "source": [
    "target_valid.reset_index(drop= True , inplace= True )"
   ]
  },
  {
   "cell_type": "code",
   "execution_count": 42,
   "metadata": {},
   "outputs": [],
   "source": [
    "target_test.reset_index(drop= True , inplace= True )"
   ]
  },
  {
   "cell_type": "code",
   "execution_count": 43,
   "metadata": {},
   "outputs": [],
   "source": [
    "#без учета дисбаланса обучим данные на разных моделях \n",
    "#начнем с логистической регрессии "
   ]
  },
  {
   "cell_type": "code",
   "execution_count": 44,
   "metadata": {
    "scrolled": false
   },
   "outputs": [
    {
     "data": {
      "text/plain": [
       "0.8183333333333334"
      ]
     },
     "execution_count": 44,
     "metadata": {},
     "output_type": "execute_result"
    }
   ],
   "source": [
    "model = LogisticRegression(random_state=12345, solver='lbfgs', max_iter=1000)\n",
    "model.fit(features_train_new, target_train)\n",
    "model.score(features_train_new, target_train) "
   ]
  },
  {
   "cell_type": "code",
   "execution_count": 45,
   "metadata": {},
   "outputs": [],
   "source": [
    "predicted_valid_new = model.predict(features_valid_new)"
   ]
  },
  {
   "cell_type": "code",
   "execution_count": 46,
   "metadata": {},
   "outputs": [
    {
     "data": {
      "text/plain": [
       "array([[1504,   73],\n",
       "       [ 344,   79]])"
      ]
     },
     "execution_count": 46,
     "metadata": {},
     "output_type": "execute_result"
    }
   ],
   "source": [
    "confusion_matrix(target_valid, predicted_valid_new)"
   ]
  },
  {
   "cell_type": "code",
   "execution_count": 47,
   "metadata": {},
   "outputs": [
    {
     "data": {
      "text/plain": [
       "0.27478260869565213"
      ]
     },
     "execution_count": 47,
     "metadata": {},
     "output_type": "execute_result"
    }
   ],
   "source": [
    "f1_score(target_valid, predicted_valid_new)"
   ]
  },
  {
   "cell_type": "code",
   "execution_count": 48,
   "metadata": {},
   "outputs": [
    {
     "name": "stdout",
     "output_type": "stream",
     "text": [
      "0.7385990396824326\n"
     ]
    }
   ],
   "source": [
    "probabilities_valid = model.predict_proba(features_valid_new)\n",
    "probabilities_one_valid = probabilities_valid[:, 1]\n",
    "auc_roc = roc_auc_score(target_valid, probabilities_one_valid, multi_class='ovr')\n",
    "print(auc_roc)"
   ]
  },
  {
   "cell_type": "code",
   "execution_count": 49,
   "metadata": {
    "scrolled": true
   },
   "outputs": [],
   "source": [
    "#теперь с помощью цикла определим лучшую модель для Случайного леса "
   ]
  },
  {
   "cell_type": "code",
   "execution_count": null,
   "metadata": {},
   "outputs": [],
   "source": [
    "best_model = None\n",
    "best_result = 0\n",
    "for est in range(1, 27):\n",
    "    for depth in range(1, 50):\n",
    "        model = RandomForestClassifier(random_state=12345, n_estimators= est, max_depth = depth) \n",
    "        model.fit(features_train_new, target_train) \n",
    "        predicted_valid = model.predict(features_valid_new)\n",
    "        result = f1_score(target_valid, predicted_valid) \n",
    "        if result > best_result:\n",
    "            best_model = model\n",
    "            best_result = result    \n",
    "print(\"f1 наилучшей модели на валидационной выборке:\", best_result)"
   ]
  },
  {
   "cell_type": "code",
   "execution_count": 51,
   "metadata": {},
   "outputs": [
    {
     "data": {
      "text/plain": [
       "array([[1509,   68],\n",
       "       [ 251,  172]])"
      ]
     },
     "execution_count": 51,
     "metadata": {},
     "output_type": "execute_result"
    }
   ],
   "source": [
    "confusion_matrix(target_valid, predicted_valid)"
   ]
  },
  {
   "cell_type": "code",
   "execution_count": 52,
   "metadata": {},
   "outputs": [
    {
     "name": "stdout",
     "output_type": "stream",
     "text": [
      "0.8304213494515577\n"
     ]
    }
   ],
   "source": [
    "probabilities_valid = best_model.predict_proba(features_valid_new)\n",
    "probabilities_one_valid = probabilities_valid[:, 1]\n",
    "auc_roc = roc_auc_score(target_valid , probabilities_one_valid, multi_class='ovr')\n",
    "print(auc_roc)"
   ]
  },
  {
   "cell_type": "markdown",
   "metadata": {},
   "source": [
    "<div class=\"alert alert-info\"> \n",
    "    \n",
    "<h1> Вывод: </h1> \n",
    "Без учета дисбаланса данных, используя модель случайнй лес, мы получили более высокий результат, чем используя логистическую регрессию. Однако, из-за дисбаланса мы не можем пока получить необходимое значение f1\n",
    "</div>"
   ]
  },
  {
   "cell_type": "markdown",
   "metadata": {},
   "source": [
    "## Борьба с дисбалансом"
   ]
  },
  {
   "cell_type": "code",
   "execution_count": 53,
   "metadata": {},
   "outputs": [],
   "source": [
    "#перенесла "
   ]
  },
  {
   "cell_type": "code",
   "execution_count": 54,
   "metadata": {},
   "outputs": [],
   "source": [
    "#видим сильный дисбаланс данных "
   ]
  },
  {
   "cell_type": "code",
   "execution_count": 55,
   "metadata": {},
   "outputs": [],
   "source": [
    "# пробуем первый метод upsampling для борьбы с дисбалансом "
   ]
  },
  {
   "cell_type": "code",
   "execution_count": 56,
   "metadata": {},
   "outputs": [],
   "source": [
    "def upsample(features, target, repeat):\n",
    "    features_zeros = features[target == 0]\n",
    "    features_ones = features[target == 1]\n",
    "    target_zeros = target[target == 0]\n",
    "    target_ones = target[target == 1]\n",
    "\n",
    "    features_upsampled = pd.concat([features_zeros] + [features_ones] * repeat)\n",
    "    target_upsampled = pd.concat([target_zeros] + [target_ones] * repeat)\n",
    "    \n",
    "    features_upsampled, target_upsampled = shuffle(\n",
    "        features_upsampled, target_upsampled, random_state=12345)\n",
    "    \n",
    "    return features_upsampled, target_upsampled\n",
    "\n",
    "features_upsampled, target_upsampled = upsample(features_train_new, target_train, 4)\n"
   ]
  },
  {
   "cell_type": "code",
   "execution_count": 57,
   "metadata": {},
   "outputs": [
    {
     "data": {
      "text/plain": [
       "0    4804\n",
       "1    4784\n",
       "Name: Exited, dtype: int64"
      ]
     },
     "execution_count": 57,
     "metadata": {},
     "output_type": "execute_result"
    }
   ],
   "source": [
    "target_upsampled.value_counts() #проверим дисбаланс после метода "
   ]
  },
  {
   "cell_type": "code",
   "execution_count": 58,
   "metadata": {},
   "outputs": [],
   "source": [
    "#подбираем  еще раз лучшую модель  \"Случайный лес\"  с новыми данными"
   ]
  },
  {
   "cell_type": "code",
   "execution_count": 59,
   "metadata": {
    "scrolled": false
   },
   "outputs": [
    {
     "name": "stdout",
     "output_type": "stream",
     "text": [
      "f1 наилучшей модели на валидационной выборке: 0.6192090395480226\n"
     ]
    }
   ],
   "source": [
    "best_model_up = None\n",
    "best_result_up = 0\n",
    "for est in range(1, 27):\n",
    "    for depth in range(1, 50):\n",
    "        model = RandomForestClassifier(random_state=12345, n_estimators= est, max_depth = depth) \n",
    "        model.fit(features_upsampled, target_upsampled) \n",
    "        predicted_valid = model.predict(features_valid_new)\n",
    "        result = f1_score(target_valid, predicted_valid) \n",
    "        if result > best_result_up:\n",
    "            best_model_up = model\n",
    "            best_result_up = result    \n",
    "print(\"f1 наилучшей модели на валидационной выборке:\", best_result_up)"
   ]
  },
  {
   "cell_type": "code",
   "execution_count": 60,
   "metadata": {
    "scrolled": true
   },
   "outputs": [
    {
     "data": {
      "text/plain": [
       "array([[1465,  112],\n",
       "       [ 195,  228]])"
      ]
     },
     "execution_count": 60,
     "metadata": {},
     "output_type": "execute_result"
    }
   ],
   "source": [
    "confusion_matrix(target_valid, predicted_valid)"
   ]
  },
  {
   "cell_type": "code",
   "execution_count": 61,
   "metadata": {
    "scrolled": true
   },
   "outputs": [
    {
     "name": "stdout",
     "output_type": "stream",
     "text": [
      "0.8504686907390667\n"
     ]
    }
   ],
   "source": [
    "probabilities_valid = best_model_up.predict_proba(features_valid_new)\n",
    "probabilities_one_valid = probabilities_valid[:, 1]\n",
    "auc_roc_up = roc_auc_score(target_valid , probabilities_one_valid, multi_class='ovr')\n",
    "print(auc_roc_up)"
   ]
  },
  {
   "cell_type": "code",
   "execution_count": 62,
   "metadata": {},
   "outputs": [],
   "source": [
    "#  пробуем метод downsample"
   ]
  },
  {
   "cell_type": "code",
   "execution_count": 63,
   "metadata": {},
   "outputs": [],
   "source": [
    "def downsample(features, target, fraction):\n",
    "    features_zeros = features[target == 0]\n",
    "    features_ones = features[target == 1]\n",
    "    target_zeros = target[target == 0]\n",
    "    target_ones = target[target == 1]\n",
    "\n",
    "    features_downsampled = pd.concat(\n",
    "        [features_zeros.sample(frac=fraction, random_state=12345)] + [features_ones])  \n",
    "    target_downsampled = pd.concat(\n",
    "        [target_zeros.sample(frac=fraction, random_state=12345)] + [target_ones])\n",
    "    features_downsampled, target_downsampled = shuffle(\n",
    "        features_downsampled, target_downsampled, random_state=12345)\n",
    "    \n",
    "    return features_downsampled, target_downsampled\n",
    "\n",
    "features_downsampled, target_downsampled = downsample(features_train_new, target_train, 0.25)"
   ]
  },
  {
   "cell_type": "code",
   "execution_count": 64,
   "metadata": {},
   "outputs": [
    {
     "data": {
      "text/plain": [
       "0    1201\n",
       "1    1196\n",
       "Name: Exited, dtype: int64"
      ]
     },
     "execution_count": 64,
     "metadata": {},
     "output_type": "execute_result"
    }
   ],
   "source": [
    "target_downsampled.value_counts() #проверим дисбаланс после метода "
   ]
  },
  {
   "cell_type": "code",
   "execution_count": 65,
   "metadata": {},
   "outputs": [
    {
     "name": "stdout",
     "output_type": "stream",
     "text": [
      "Accuracy наилучшей модели на валидационной выборке: 0.5928085519922255\n"
     ]
    }
   ],
   "source": [
    "best_model_down = None\n",
    "best_result_down = 0\n",
    "for est in range(1, 30):\n",
    "    for depth in range(1, 50):\n",
    "        model = RandomForestClassifier(random_state=12345, n_estimators= est, max_depth = depth) \n",
    "        model.fit(features_downsampled, target_downsampled)\n",
    "        predicted_valid = model.predict(features_valid_new)\n",
    "        result = f1_score(target_valid, predicted_valid) \n",
    "        if result > best_result_down:\n",
    "            best_model_down = model\n",
    "            best_result_down = result    \n",
    "print(\"Accuracy наилучшей модели на валидационной выборке:\", best_result_down)"
   ]
  },
  {
   "cell_type": "code",
   "execution_count": 66,
   "metadata": {
    "scrolled": true
   },
   "outputs": [
    {
     "data": {
      "text/plain": [
       "array([[1211,  366],\n",
       "       [ 116,  307]])"
      ]
     },
     "execution_count": 66,
     "metadata": {},
     "output_type": "execute_result"
    }
   ],
   "source": [
    "confusion_matrix(target_valid, predicted_valid) "
   ]
  },
  {
   "cell_type": "code",
   "execution_count": 67,
   "metadata": {},
   "outputs": [
    {
     "name": "stdout",
     "output_type": "stream",
     "text": [
      "0.8468371432726051\n"
     ]
    }
   ],
   "source": [
    "probabilities_valid = best_model_down.predict_proba(features_valid_new)\n",
    "probabilities_one_valid = probabilities_valid[:, 1]\n",
    "auc_roc = roc_auc_score(target_valid , probabilities_one_valid, multi_class='ovr')\n",
    "print(auc_roc)"
   ]
  },
  {
   "cell_type": "markdown",
   "metadata": {},
   "source": [
    "<div class=\"alert alert-info\"> \n",
    "    \n",
    "<h1> Вывод: </h1> \n",
    "После применения масштабирования улучшилось качество модели  \"Случайный лес\" . Мы использовали метод upsampled так как она дал лучший показатель f1 чем downsample. Для проверки на тест берем модель , где дисбаланс мы решили методом   upsampled\n",
    "\n",
    "</div>"
   ]
  },
  {
   "cell_type": "code",
   "execution_count": 68,
   "metadata": {},
   "outputs": [],
   "source": [
    "predicted_valid_test = best_model_up.predict(features_test_new)"
   ]
  },
  {
   "cell_type": "code",
   "execution_count": 69,
   "metadata": {},
   "outputs": [
    {
     "data": {
      "text/plain": [
       "array([[1384,  198],\n",
       "       [ 146,  272]])"
      ]
     },
     "execution_count": 69,
     "metadata": {},
     "output_type": "execute_result"
    }
   ],
   "source": [
    "confusion_matrix(target_test, predicted_valid_test)"
   ]
  },
  {
   "cell_type": "code",
   "execution_count": 70,
   "metadata": {
    "scrolled": true
   },
   "outputs": [
    {
     "data": {
      "text/plain": [
       "0.6126126126126127"
      ]
     },
     "execution_count": 70,
     "metadata": {},
     "output_type": "execute_result"
    }
   ],
   "source": [
    "f1_score(target_test, predicted_valid_test)"
   ]
  },
  {
   "cell_type": "code",
   "execution_count": 71,
   "metadata": {},
   "outputs": [
    {
     "name": "stdout",
     "output_type": "stream",
     "text": [
      "0.8465965799454388\n"
     ]
    }
   ],
   "source": [
    "probabilities_valid_test = best_model_up.predict_proba(features_test_new)\n",
    "probabilities_one_valid_test = probabilities_valid_test[:, 1]\n",
    "auc_roc_test = roc_auc_score(target_test ,probabilities_one_valid_test, multi_class='ovr')\n",
    "print(auc_roc_test)"
   ]
  },
  {
   "cell_type": "code",
   "execution_count": null,
   "metadata": {},
   "outputs": [],
   "source": []
  },
  {
   "cell_type": "code",
   "execution_count": null,
   "metadata": {},
   "outputs": [],
   "source": []
  },
  {
   "cell_type": "code",
   "execution_count": null,
   "metadata": {},
   "outputs": [],
   "source": []
  },
  {
   "cell_type": "code",
   "execution_count": null,
   "metadata": {},
   "outputs": [],
   "source": []
  }
 ],
 "metadata": {
  "ExecuteTimeLog": [
   {
    "duration": 57,
    "start_time": "2022-11-21T20:34:28.090Z"
   },
   {
    "duration": 366,
    "start_time": "2022-11-21T20:34:34.979Z"
   },
   {
    "duration": 179,
    "start_time": "2022-11-21T20:34:37.592Z"
   },
   {
    "duration": 7,
    "start_time": "2022-11-21T20:34:51.360Z"
   },
   {
    "duration": 16,
    "start_time": "2022-11-21T20:35:03.478Z"
   },
   {
    "duration": 15,
    "start_time": "2022-11-21T20:35:29.780Z"
   },
   {
    "duration": 4,
    "start_time": "2022-11-21T20:35:49.800Z"
   },
   {
    "duration": 33,
    "start_time": "2022-11-21T20:38:11.096Z"
   },
   {
    "duration": 661,
    "start_time": "2022-11-21T20:38:30.702Z"
   },
   {
    "duration": 40,
    "start_time": "2022-11-21T20:38:31.364Z"
   },
   {
    "duration": 5,
    "start_time": "2022-11-21T20:38:31.589Z"
   },
   {
    "duration": 12,
    "start_time": "2022-11-21T20:38:32.075Z"
   },
   {
    "duration": 3,
    "start_time": "2022-11-21T20:38:32.618Z"
   },
   {
    "duration": 10,
    "start_time": "2022-11-21T20:38:33.749Z"
   },
   {
    "duration": 49,
    "start_time": "2022-11-21T20:44:19.474Z"
   },
   {
    "duration": 49,
    "start_time": "2022-11-21T20:44:37.547Z"
   },
   {
    "duration": 40,
    "start_time": "2022-11-21T20:44:38.063Z"
   },
   {
    "duration": 4,
    "start_time": "2022-11-21T20:44:38.577Z"
   },
   {
    "duration": 20,
    "start_time": "2022-11-21T20:44:39.052Z"
   },
   {
    "duration": 4,
    "start_time": "2022-11-21T20:44:39.513Z"
   },
   {
    "duration": 9,
    "start_time": "2022-11-21T20:44:40.585Z"
   },
   {
    "duration": 23,
    "start_time": "2022-11-21T20:44:41.087Z"
   },
   {
    "duration": 9,
    "start_time": "2022-11-21T20:45:41.861Z"
   },
   {
    "duration": 20,
    "start_time": "2022-11-21T20:45:42.499Z"
   },
   {
    "duration": 18,
    "start_time": "2022-11-21T20:46:53.457Z"
   },
   {
    "duration": 20,
    "start_time": "2022-11-21T20:47:31.515Z"
   },
   {
    "duration": 20,
    "start_time": "2022-11-21T20:48:30.155Z"
   },
   {
    "duration": 18,
    "start_time": "2022-11-21T20:49:12.462Z"
   },
   {
    "duration": 18,
    "start_time": "2022-11-21T20:49:23.052Z"
   },
   {
    "duration": 1080,
    "start_time": "2022-11-22T11:16:22.739Z"
   },
   {
    "duration": 340,
    "start_time": "2022-11-22T11:16:23.822Z"
   },
   {
    "duration": 9,
    "start_time": "2022-11-22T11:16:24.164Z"
   },
   {
    "duration": 15,
    "start_time": "2022-11-22T11:16:24.264Z"
   },
   {
    "duration": 4,
    "start_time": "2022-11-22T11:16:24.926Z"
   },
   {
    "duration": 11,
    "start_time": "2022-11-22T11:16:26.147Z"
   },
   {
    "duration": 102,
    "start_time": "2022-11-22T11:16:27.076Z"
   },
   {
    "duration": 10,
    "start_time": "2022-11-22T11:17:07.134Z"
   },
   {
    "duration": 19,
    "start_time": "2022-11-22T11:17:08.385Z"
   },
   {
    "duration": 11,
    "start_time": "2022-11-22T11:17:50.303Z"
   },
   {
    "duration": 10,
    "start_time": "2022-11-22T11:18:08.272Z"
   },
   {
    "duration": 35,
    "start_time": "2022-11-22T11:18:08.702Z"
   },
   {
    "duration": 4,
    "start_time": "2022-11-22T11:18:09.282Z"
   },
   {
    "duration": 12,
    "start_time": "2022-11-22T11:18:09.842Z"
   },
   {
    "duration": 4,
    "start_time": "2022-11-22T11:18:10.422Z"
   },
   {
    "duration": 10,
    "start_time": "2022-11-22T11:18:11.786Z"
   },
   {
    "duration": 10,
    "start_time": "2022-11-22T11:18:12.702Z"
   },
   {
    "duration": 10,
    "start_time": "2022-11-22T11:18:21.853Z"
   },
   {
    "duration": 19,
    "start_time": "2022-11-22T11:18:30.262Z"
   },
   {
    "duration": 67,
    "start_time": "2022-11-22T11:20:58.414Z"
   },
   {
    "duration": 4,
    "start_time": "2022-11-22T11:21:07.752Z"
   },
   {
    "duration": 4,
    "start_time": "2022-11-22T11:21:19.492Z"
   },
   {
    "duration": 5,
    "start_time": "2022-11-22T11:21:52.738Z"
   },
   {
    "duration": 1159,
    "start_time": "2022-11-24T14:01:18.931Z"
   },
   {
    "duration": 165,
    "start_time": "2022-11-24T14:01:20.093Z"
   },
   {
    "duration": 7,
    "start_time": "2022-11-24T14:01:20.260Z"
   },
   {
    "duration": 15,
    "start_time": "2022-11-24T14:01:20.809Z"
   },
   {
    "duration": 4,
    "start_time": "2022-11-24T14:01:21.602Z"
   },
   {
    "duration": 11,
    "start_time": "2022-11-24T14:01:22.945Z"
   },
   {
    "duration": 7,
    "start_time": "2022-11-24T14:01:23.614Z"
   },
   {
    "duration": 110,
    "start_time": "2022-11-24T14:13:43.958Z"
   },
   {
    "duration": 3,
    "start_time": "2022-11-24T14:14:21.515Z"
   },
   {
    "duration": 43,
    "start_time": "2022-11-24T14:14:22.013Z"
   },
   {
    "duration": 4,
    "start_time": "2022-11-24T14:14:22.525Z"
   },
   {
    "duration": 12,
    "start_time": "2022-11-24T14:14:23.023Z"
   },
   {
    "duration": 3,
    "start_time": "2022-11-24T14:14:23.551Z"
   },
   {
    "duration": 9,
    "start_time": "2022-11-24T14:14:24.695Z"
   },
   {
    "duration": 6,
    "start_time": "2022-11-24T14:14:25.295Z"
   },
   {
    "duration": 20,
    "start_time": "2022-11-24T14:14:25.895Z"
   },
   {
    "duration": 19,
    "start_time": "2022-11-24T14:14:38.548Z"
   },
   {
    "duration": 17,
    "start_time": "2022-11-24T14:14:59.337Z"
   },
   {
    "duration": 3,
    "start_time": "2022-11-24T14:15:29.603Z"
   },
   {
    "duration": 17,
    "start_time": "2022-11-24T14:15:36.553Z"
   },
   {
    "duration": 18,
    "start_time": "2022-11-24T14:15:43.125Z"
   },
   {
    "duration": 10,
    "start_time": "2022-11-24T14:15:48.639Z"
   },
   {
    "duration": 3,
    "start_time": "2022-11-24T14:16:27.943Z"
   },
   {
    "duration": 17,
    "start_time": "2022-11-24T14:17:05.252Z"
   },
   {
    "duration": 16,
    "start_time": "2022-11-24T14:17:51.651Z"
   },
   {
    "duration": 7,
    "start_time": "2022-11-24T14:18:26.861Z"
   },
   {
    "duration": 3,
    "start_time": "2022-11-24T14:18:27.422Z"
   },
   {
    "duration": 16,
    "start_time": "2022-11-24T14:18:28.178Z"
   },
   {
    "duration": 9,
    "start_time": "2022-11-24T14:18:30.605Z"
   },
   {
    "duration": 10,
    "start_time": "2022-11-24T14:18:52.731Z"
   },
   {
    "duration": 3,
    "start_time": "2022-11-24T14:19:00.236Z"
   },
   {
    "duration": 17,
    "start_time": "2022-11-24T14:19:04.949Z"
   },
   {
    "duration": 13,
    "start_time": "2022-11-24T14:19:30.975Z"
   },
   {
    "duration": 11,
    "start_time": "2022-11-24T14:19:34.310Z"
   },
   {
    "duration": 3,
    "start_time": "2022-11-24T14:20:04.557Z"
   },
   {
    "duration": 3,
    "start_time": "2022-11-24T14:20:08.256Z"
   },
   {
    "duration": 2,
    "start_time": "2022-11-24T14:20:10.485Z"
   },
   {
    "duration": 3,
    "start_time": "2022-11-24T14:20:12.419Z"
   },
   {
    "duration": 3,
    "start_time": "2022-11-24T14:20:14.035Z"
   },
   {
    "duration": 41,
    "start_time": "2022-11-24T14:20:14.509Z"
   },
   {
    "duration": 4,
    "start_time": "2022-11-24T14:20:14.953Z"
   },
   {
    "duration": 13,
    "start_time": "2022-11-24T14:20:15.615Z"
   },
   {
    "duration": 4,
    "start_time": "2022-11-24T14:20:16.366Z"
   },
   {
    "duration": 10,
    "start_time": "2022-11-24T14:20:17.878Z"
   },
   {
    "duration": 5,
    "start_time": "2022-11-24T14:20:18.545Z"
   },
   {
    "duration": 3,
    "start_time": "2022-11-24T14:20:19.106Z"
   },
   {
    "duration": 19,
    "start_time": "2022-11-24T14:20:19.824Z"
   },
   {
    "duration": 11,
    "start_time": "2022-11-24T14:20:20.802Z"
   },
   {
    "duration": 8,
    "start_time": "2022-11-24T14:20:21.388Z"
   },
   {
    "duration": 9,
    "start_time": "2022-11-24T14:28:43.449Z"
   },
   {
    "duration": 5,
    "start_time": "2022-11-24T14:28:44.439Z"
   },
   {
    "duration": 3,
    "start_time": "2022-11-24T14:28:45.359Z"
   },
   {
    "duration": 17,
    "start_time": "2022-11-24T14:28:46.246Z"
   },
   {
    "duration": 8,
    "start_time": "2022-11-24T14:28:49.262Z"
   },
   {
    "duration": 17,
    "start_time": "2022-11-24T14:29:09.732Z"
   },
   {
    "duration": 10,
    "start_time": "2022-11-24T14:29:11.000Z"
   },
   {
    "duration": 8,
    "start_time": "2022-11-24T14:29:13.787Z"
   },
   {
    "duration": 3,
    "start_time": "2022-11-24T14:31:38.987Z"
   },
   {
    "duration": 18,
    "start_time": "2022-11-24T14:31:43.629Z"
   },
   {
    "duration": 3,
    "start_time": "2022-11-24T14:31:51.398Z"
   },
   {
    "duration": 41,
    "start_time": "2022-11-24T14:31:51.878Z"
   },
   {
    "duration": 3,
    "start_time": "2022-11-24T14:31:52.366Z"
   },
   {
    "duration": 13,
    "start_time": "2022-11-24T14:31:52.848Z"
   },
   {
    "duration": 4,
    "start_time": "2022-11-24T14:31:53.358Z"
   },
   {
    "duration": 10,
    "start_time": "2022-11-24T14:31:54.600Z"
   },
   {
    "duration": 6,
    "start_time": "2022-11-24T14:31:55.347Z"
   },
   {
    "duration": 3,
    "start_time": "2022-11-24T14:31:56.053Z"
   },
   {
    "duration": 17,
    "start_time": "2022-11-24T14:31:56.835Z"
   },
   {
    "duration": 10,
    "start_time": "2022-11-24T14:31:57.570Z"
   },
   {
    "duration": 7,
    "start_time": "2022-11-24T14:31:58.473Z"
   },
   {
    "duration": 2,
    "start_time": "2022-11-24T14:33:36.881Z"
   },
   {
    "duration": 17,
    "start_time": "2022-11-24T14:33:37.561Z"
   },
   {
    "duration": 17,
    "start_time": "2022-11-24T14:37:03.579Z"
   },
   {
    "duration": 11,
    "start_time": "2022-11-24T14:37:04.148Z"
   },
   {
    "duration": 8,
    "start_time": "2022-11-24T14:37:05.597Z"
   },
   {
    "duration": 3,
    "start_time": "2022-11-24T14:37:20.305Z"
   },
   {
    "duration": 17,
    "start_time": "2022-11-24T14:37:20.962Z"
   },
   {
    "duration": 10,
    "start_time": "2022-11-24T14:37:22.234Z"
   },
   {
    "duration": 8,
    "start_time": "2022-11-24T14:37:23.670Z"
   },
   {
    "duration": 17,
    "start_time": "2022-11-24T14:40:54.465Z"
   },
   {
    "duration": 9,
    "start_time": "2022-11-24T14:40:58.042Z"
   },
   {
    "duration": 19,
    "start_time": "2022-11-24T14:49:32.741Z"
   },
   {
    "duration": 9,
    "start_time": "2022-11-24T14:49:33.479Z"
   },
   {
    "duration": 17,
    "start_time": "2022-11-24T14:51:51.883Z"
   },
   {
    "duration": 18,
    "start_time": "2022-11-24T15:17:05.697Z"
   },
   {
    "duration": 8,
    "start_time": "2022-11-24T15:17:06.216Z"
   },
   {
    "duration": 1195,
    "start_time": "2022-11-24T20:01:13.902Z"
   },
   {
    "duration": 161,
    "start_time": "2022-11-24T20:01:15.099Z"
   },
   {
    "duration": 8,
    "start_time": "2022-11-24T20:01:15.262Z"
   },
   {
    "duration": 43,
    "start_time": "2022-11-24T20:01:15.272Z"
   },
   {
    "duration": 4,
    "start_time": "2022-11-24T20:01:15.595Z"
   },
   {
    "duration": 11,
    "start_time": "2022-11-24T20:01:17.190Z"
   },
   {
    "duration": 7,
    "start_time": "2022-11-24T20:01:17.692Z"
   },
   {
    "duration": 111,
    "start_time": "2022-11-24T20:01:18.157Z"
   },
   {
    "duration": 11,
    "start_time": "2022-11-24T20:04:42.211Z"
   },
   {
    "duration": 10,
    "start_time": "2022-11-24T20:05:00.759Z"
   },
   {
    "duration": 9,
    "start_time": "2022-11-24T20:06:07.101Z"
   },
   {
    "duration": 219,
    "start_time": "2022-11-24T20:06:12.767Z"
   },
   {
    "duration": 10,
    "start_time": "2022-11-24T20:06:15.394Z"
   },
   {
    "duration": 5,
    "start_time": "2022-11-24T20:06:16.735Z"
   },
   {
    "duration": 190,
    "start_time": "2022-11-24T20:06:31.286Z"
   },
   {
    "duration": 117,
    "start_time": "2022-11-24T20:06:40.619Z"
   },
   {
    "duration": 6,
    "start_time": "2022-11-24T20:06:41.819Z"
   },
   {
    "duration": 8,
    "start_time": "2022-11-24T20:07:38.499Z"
   },
   {
    "duration": 159,
    "start_time": "2022-11-24T20:07:52.329Z"
   },
   {
    "duration": 230,
    "start_time": "2022-11-24T20:08:58.957Z"
   },
   {
    "duration": 10,
    "start_time": "2022-11-24T20:09:21.135Z"
   },
   {
    "duration": 6,
    "start_time": "2022-11-24T20:09:22.104Z"
   },
   {
    "duration": 18,
    "start_time": "2022-11-24T20:09:22.992Z"
   },
   {
    "duration": 9,
    "start_time": "2022-11-24T20:11:07.756Z"
   },
   {
    "duration": 10,
    "start_time": "2022-11-24T20:11:17.573Z"
   },
   {
    "duration": 8,
    "start_time": "2022-11-24T20:11:19.832Z"
   },
   {
    "duration": 8,
    "start_time": "2022-11-24T20:11:20.176Z"
   },
   {
    "duration": 22,
    "start_time": "2022-11-24T20:11:26.235Z"
   },
   {
    "duration": 25,
    "start_time": "2022-11-24T20:11:43.841Z"
   },
   {
    "duration": 4,
    "start_time": "2022-11-24T20:15:06.338Z"
   },
   {
    "duration": 24,
    "start_time": "2022-11-24T20:16:03.794Z"
   },
   {
    "duration": 3,
    "start_time": "2022-11-24T20:16:17.320Z"
   },
   {
    "duration": 36,
    "start_time": "2022-11-24T20:16:17.788Z"
   },
   {
    "duration": 4,
    "start_time": "2022-11-24T20:16:18.314Z"
   },
   {
    "duration": 12,
    "start_time": "2022-11-24T20:16:19.048Z"
   },
   {
    "duration": 3,
    "start_time": "2022-11-24T20:16:19.668Z"
   },
   {
    "duration": 17,
    "start_time": "2022-11-24T20:16:21.473Z"
   },
   {
    "duration": 6,
    "start_time": "2022-11-24T20:16:26.683Z"
   },
   {
    "duration": 6,
    "start_time": "2022-11-24T20:16:27.444Z"
   },
   {
    "duration": 17,
    "start_time": "2022-11-24T20:16:28.059Z"
   },
   {
    "duration": 18,
    "start_time": "2022-11-24T20:18:45.732Z"
   },
   {
    "duration": 5,
    "start_time": "2022-11-24T20:18:51.609Z"
   },
   {
    "duration": 8,
    "start_time": "2022-11-24T20:21:00.736Z"
   },
   {
    "duration": 4,
    "start_time": "2022-11-24T20:21:21.289Z"
   },
   {
    "duration": 42,
    "start_time": "2022-11-24T20:21:21.724Z"
   },
   {
    "duration": 4,
    "start_time": "2022-11-24T20:21:22.183Z"
   },
   {
    "duration": 13,
    "start_time": "2022-11-24T20:21:22.609Z"
   },
   {
    "duration": 4,
    "start_time": "2022-11-24T20:21:23.106Z"
   },
   {
    "duration": 10,
    "start_time": "2022-11-24T20:21:24.065Z"
   },
   {
    "duration": 19,
    "start_time": "2022-11-24T20:21:24.551Z"
   },
   {
    "duration": 23,
    "start_time": "2022-11-24T20:24:49.059Z"
   },
   {
    "duration": 3,
    "start_time": "2022-11-24T20:55:00.249Z"
   },
   {
    "duration": 5,
    "start_time": "2022-11-24T20:55:14.321Z"
   },
   {
    "duration": 4,
    "start_time": "2022-11-24T20:55:39.449Z"
   },
   {
    "duration": 8,
    "start_time": "2022-11-24T20:55:53.057Z"
   },
   {
    "duration": 25,
    "start_time": "2022-11-24T20:55:53.946Z"
   },
   {
    "duration": 7,
    "start_time": "2022-11-24T20:56:13.547Z"
   },
   {
    "duration": 22,
    "start_time": "2022-11-24T20:56:14.065Z"
   },
   {
    "duration": 3,
    "start_time": "2022-11-24T20:58:36.528Z"
   },
   {
    "duration": 20,
    "start_time": "2022-11-24T20:59:37.029Z"
   },
   {
    "duration": 2,
    "start_time": "2022-11-24T20:59:52.916Z"
   },
   {
    "duration": 9,
    "start_time": "2022-11-24T20:59:53.281Z"
   },
   {
    "duration": 3,
    "start_time": "2022-11-24T21:00:29.540Z"
   },
   {
    "duration": 18,
    "start_time": "2022-11-24T21:00:30.024Z"
   },
   {
    "duration": 3,
    "start_time": "2022-11-24T21:02:52.663Z"
   },
   {
    "duration": 36,
    "start_time": "2022-11-24T21:02:53.307Z"
   },
   {
    "duration": 2,
    "start_time": "2022-11-24T21:04:38.372Z"
   },
   {
    "duration": 3,
    "start_time": "2022-11-24T21:05:32.885Z"
   },
   {
    "duration": 3,
    "start_time": "2022-11-24T21:07:10.669Z"
   },
   {
    "duration": 37,
    "start_time": "2022-11-24T21:07:11.130Z"
   },
   {
    "duration": 5,
    "start_time": "2022-11-24T21:07:11.652Z"
   },
   {
    "duration": 11,
    "start_time": "2022-11-24T21:07:12.177Z"
   },
   {
    "duration": 3,
    "start_time": "2022-11-24T21:07:12.600Z"
   },
   {
    "duration": 7,
    "start_time": "2022-11-24T21:07:13.517Z"
   },
   {
    "duration": 3,
    "start_time": "2022-11-24T21:07:14.064Z"
   },
   {
    "duration": 3,
    "start_time": "2022-11-24T21:07:14.549Z"
   },
   {
    "duration": 19,
    "start_time": "2022-11-24T21:07:15.112Z"
   },
   {
    "duration": 5,
    "start_time": "2022-11-24T21:07:19.490Z"
   },
   {
    "duration": 1192,
    "start_time": "2022-11-25T12:27:30.154Z"
   },
   {
    "duration": 160,
    "start_time": "2022-11-25T12:27:31.349Z"
   },
   {
    "duration": 10,
    "start_time": "2022-11-25T12:27:31.510Z"
   },
   {
    "duration": 23,
    "start_time": "2022-11-25T12:27:31.522Z"
   },
   {
    "duration": 6,
    "start_time": "2022-11-25T12:27:31.549Z"
   },
   {
    "duration": 14,
    "start_time": "2022-11-25T12:27:31.557Z"
   },
   {
    "duration": 2,
    "start_time": "2022-11-25T12:27:31.574Z"
   },
   {
    "duration": 20,
    "start_time": "2022-11-25T12:27:31.578Z"
   },
   {
    "duration": 141,
    "start_time": "2022-11-25T12:27:31.600Z"
   },
   {
    "duration": 0,
    "start_time": "2022-11-25T12:27:31.744Z"
   },
   {
    "duration": 46,
    "start_time": "2022-11-25T12:59:35.425Z"
   },
   {
    "duration": 1110,
    "start_time": "2022-11-25T12:59:39.686Z"
   },
   {
    "duration": 168,
    "start_time": "2022-11-25T12:59:40.797Z"
   },
   {
    "duration": 7,
    "start_time": "2022-11-25T12:59:40.967Z"
   },
   {
    "duration": 21,
    "start_time": "2022-11-25T12:59:40.976Z"
   },
   {
    "duration": 3,
    "start_time": "2022-11-25T12:59:42.253Z"
   },
   {
    "duration": 7,
    "start_time": "2022-11-25T13:00:33.255Z"
   },
   {
    "duration": 6,
    "start_time": "2022-11-25T13:02:56.385Z"
   },
   {
    "duration": 4,
    "start_time": "2022-11-25T13:03:14.323Z"
   },
   {
    "duration": 7,
    "start_time": "2022-11-25T13:03:26.712Z"
   },
   {
    "duration": 8,
    "start_time": "2022-11-25T13:04:56.362Z"
   },
   {
    "duration": 8,
    "start_time": "2022-11-25T13:06:22.364Z"
   },
   {
    "duration": 2,
    "start_time": "2022-11-25T13:06:25.004Z"
   },
   {
    "duration": 20,
    "start_time": "2022-11-25T13:06:25.008Z"
   },
   {
    "duration": 76,
    "start_time": "2022-11-25T13:06:25.030Z"
   },
   {
    "duration": 29,
    "start_time": "2022-11-25T13:07:56.149Z"
   },
   {
    "duration": 8,
    "start_time": "2022-11-25T13:07:58.477Z"
   },
   {
    "duration": 8,
    "start_time": "2022-11-25T13:08:01.613Z"
   },
   {
    "duration": 2,
    "start_time": "2022-11-25T13:08:02.109Z"
   },
   {
    "duration": 2,
    "start_time": "2022-11-25T13:08:02.549Z"
   },
   {
    "duration": 20,
    "start_time": "2022-11-25T13:08:03.094Z"
   },
   {
    "duration": 7,
    "start_time": "2022-11-25T13:17:58.912Z"
   },
   {
    "duration": 13,
    "start_time": "2022-11-25T13:18:05.335Z"
   },
   {
    "duration": 14,
    "start_time": "2022-11-25T13:18:39.841Z"
   },
   {
    "duration": 8,
    "start_time": "2022-11-25T13:18:55.576Z"
   },
   {
    "duration": 13,
    "start_time": "2022-11-25T13:18:56.168Z"
   },
   {
    "duration": 7,
    "start_time": "2022-11-25T13:20:04.043Z"
   },
   {
    "duration": 4,
    "start_time": "2022-11-25T13:20:12.675Z"
   },
   {
    "duration": 6,
    "start_time": "2022-11-25T13:20:54.504Z"
   },
   {
    "duration": 8,
    "start_time": "2022-11-25T13:21:01.907Z"
   },
   {
    "duration": 2,
    "start_time": "2022-11-25T13:21:02.451Z"
   },
   {
    "duration": 3,
    "start_time": "2022-11-25T13:21:02.978Z"
   },
   {
    "duration": 19,
    "start_time": "2022-11-25T13:21:03.627Z"
   },
   {
    "duration": 7,
    "start_time": "2022-11-25T13:21:48.262Z"
   },
   {
    "duration": 7,
    "start_time": "2022-11-25T13:21:51.780Z"
   },
   {
    "duration": 3,
    "start_time": "2022-11-25T13:21:52.420Z"
   },
   {
    "duration": 2,
    "start_time": "2022-11-25T13:21:53.020Z"
   },
   {
    "duration": 28,
    "start_time": "2022-11-25T13:21:53.701Z"
   },
   {
    "duration": 14,
    "start_time": "2022-11-25T13:22:18.885Z"
   },
   {
    "duration": 11,
    "start_time": "2022-11-25T13:22:39.909Z"
   },
   {
    "duration": 6,
    "start_time": "2022-11-25T13:22:50.861Z"
   },
   {
    "duration": 5,
    "start_time": "2022-11-25T13:22:54.893Z"
   },
   {
    "duration": 5,
    "start_time": "2022-11-25T13:22:55.805Z"
   },
   {
    "duration": 5,
    "start_time": "2022-11-25T13:23:00.349Z"
   },
   {
    "duration": 11,
    "start_time": "2022-11-25T13:23:00.804Z"
   },
   {
    "duration": 10,
    "start_time": "2022-11-25T13:24:38.471Z"
   },
   {
    "duration": 4,
    "start_time": "2022-11-25T13:24:44.703Z"
   },
   {
    "duration": 4,
    "start_time": "2022-11-25T13:25:25.387Z"
   },
   {
    "duration": 74,
    "start_time": "2022-11-25T13:26:02.705Z"
   },
   {
    "duration": 7,
    "start_time": "2022-11-25T13:26:10.865Z"
   },
   {
    "duration": 2,
    "start_time": "2022-11-25T13:26:12.537Z"
   },
   {
    "duration": 3,
    "start_time": "2022-11-25T13:26:13.048Z"
   },
   {
    "duration": 17,
    "start_time": "2022-11-25T13:26:13.674Z"
   },
   {
    "duration": 7,
    "start_time": "2022-11-25T13:27:10.754Z"
   },
   {
    "duration": 2,
    "start_time": "2022-11-25T13:27:11.458Z"
   },
   {
    "duration": 2,
    "start_time": "2022-11-25T13:27:11.961Z"
   },
   {
    "duration": 18,
    "start_time": "2022-11-25T13:27:12.578Z"
   },
   {
    "duration": 8,
    "start_time": "2022-11-25T13:27:35.850Z"
   },
   {
    "duration": 3,
    "start_time": "2022-11-25T13:27:36.290Z"
   },
   {
    "duration": 3,
    "start_time": "2022-11-25T13:27:36.810Z"
   },
   {
    "duration": 409,
    "start_time": "2022-11-25T13:27:37.396Z"
   },
   {
    "duration": 6,
    "start_time": "2022-11-25T13:49:01.595Z"
   },
   {
    "duration": 5,
    "start_time": "2022-11-25T13:51:02.669Z"
   },
   {
    "duration": 7,
    "start_time": "2022-11-25T13:51:40.454Z"
   },
   {
    "duration": 9,
    "start_time": "2022-11-25T13:54:20.992Z"
   },
   {
    "duration": 4,
    "start_time": "2022-11-25T13:54:34.400Z"
   },
   {
    "duration": 3,
    "start_time": "2022-11-25T13:55:23.657Z"
   },
   {
    "duration": 93,
    "start_time": "2022-11-25T13:55:24.121Z"
   },
   {
    "duration": 3,
    "start_time": "2022-11-25T13:55:24.538Z"
   },
   {
    "duration": 14,
    "start_time": "2022-11-25T13:55:24.939Z"
   },
   {
    "duration": 7,
    "start_time": "2022-11-25T13:55:25.665Z"
   },
   {
    "duration": 4,
    "start_time": "2022-11-25T13:55:26.241Z"
   },
   {
    "duration": 13,
    "start_time": "2022-11-25T13:55:26.810Z"
   },
   {
    "duration": 6,
    "start_time": "2022-11-25T13:55:27.289Z"
   },
   {
    "duration": 7,
    "start_time": "2022-11-25T13:55:27.882Z"
   },
   {
    "duration": 12,
    "start_time": "2022-11-25T13:55:28.505Z"
   },
   {
    "duration": 6,
    "start_time": "2022-11-25T13:55:29.073Z"
   },
   {
    "duration": 6,
    "start_time": "2022-11-25T13:55:29.656Z"
   },
   {
    "duration": 7,
    "start_time": "2022-11-25T13:55:31.057Z"
   },
   {
    "duration": 2,
    "start_time": "2022-11-25T13:55:31.769Z"
   },
   {
    "duration": 2,
    "start_time": "2022-11-25T13:55:32.225Z"
   },
   {
    "duration": 370,
    "start_time": "2022-11-25T13:55:32.641Z"
   },
   {
    "duration": 13810,
    "start_time": "2022-11-25T13:55:34.032Z"
   },
   {
    "duration": 14591,
    "start_time": "2022-11-25T13:56:01.758Z"
   },
   {
    "duration": 148,
    "start_time": "2022-11-25T13:57:42.933Z"
   },
   {
    "duration": 3,
    "start_time": "2022-11-25T13:58:07.885Z"
   },
   {
    "duration": 461,
    "start_time": "2022-11-25T13:58:08.644Z"
   },
   {
    "duration": 627,
    "start_time": "2022-11-25T13:59:40.279Z"
   },
   {
    "duration": 6,
    "start_time": "2022-11-25T14:05:00.972Z"
   },
   {
    "duration": 8,
    "start_time": "2022-11-25T14:21:37.742Z"
   },
   {
    "duration": 8,
    "start_time": "2022-11-25T14:21:44.672Z"
   },
   {
    "duration": 7,
    "start_time": "2022-11-25T14:21:50.829Z"
   },
   {
    "duration": 5,
    "start_time": "2022-11-25T14:24:53.728Z"
   },
   {
    "duration": 308,
    "start_time": "2022-11-25T14:26:49.567Z"
   },
   {
    "duration": 474,
    "start_time": "2022-11-25T14:27:28.131Z"
   },
   {
    "duration": 277,
    "start_time": "2022-11-25T14:28:22.504Z"
   },
   {
    "duration": 184,
    "start_time": "2022-11-25T14:28:40.052Z"
   },
   {
    "duration": 111,
    "start_time": "2022-11-25T14:29:08.341Z"
   },
   {
    "duration": 3,
    "start_time": "2022-11-25T14:29:09.596Z"
   },
   {
    "duration": 5768,
    "start_time": "2022-11-25T14:29:10.341Z"
   },
   {
    "duration": 2,
    "start_time": "2022-11-25T14:29:18.293Z"
   },
   {
    "duration": 16,
    "start_time": "2022-11-25T14:38:09.952Z"
   },
   {
    "duration": 0,
    "start_time": "2022-11-25T14:38:11.130Z"
   },
   {
    "duration": 0,
    "start_time": "2022-11-25T14:38:11.133Z"
   },
   {
    "duration": 0,
    "start_time": "2022-11-25T14:38:11.136Z"
   },
   {
    "duration": 0,
    "start_time": "2022-11-25T14:38:11.139Z"
   },
   {
    "duration": 0,
    "start_time": "2022-11-25T14:38:11.142Z"
   },
   {
    "duration": 0,
    "start_time": "2022-11-25T14:38:11.145Z"
   },
   {
    "duration": 0,
    "start_time": "2022-11-25T14:38:11.148Z"
   },
   {
    "duration": 0,
    "start_time": "2022-11-25T14:38:11.151Z"
   },
   {
    "duration": 0,
    "start_time": "2022-11-25T14:38:11.205Z"
   },
   {
    "duration": 4,
    "start_time": "2022-11-25T14:58:34.496Z"
   },
   {
    "duration": 44,
    "start_time": "2022-11-25T14:58:34.990Z"
   },
   {
    "duration": 4,
    "start_time": "2022-11-25T14:58:35.477Z"
   },
   {
    "duration": 14,
    "start_time": "2022-11-25T14:58:36.429Z"
   },
   {
    "duration": 8,
    "start_time": "2022-11-25T14:58:37.189Z"
   },
   {
    "duration": 4,
    "start_time": "2022-11-25T14:58:38.014Z"
   },
   {
    "duration": 15,
    "start_time": "2022-11-25T14:58:38.726Z"
   },
   {
    "duration": 8,
    "start_time": "2022-11-25T14:58:39.517Z"
   },
   {
    "duration": 17,
    "start_time": "2022-11-25T14:58:40.237Z"
   },
   {
    "duration": 9,
    "start_time": "2022-11-25T14:58:41.450Z"
   },
   {
    "duration": 10,
    "start_time": "2022-11-25T14:58:42.154Z"
   },
   {
    "duration": 175,
    "start_time": "2022-11-25T14:58:43.590Z"
   },
   {
    "duration": 88,
    "start_time": "2022-11-25T14:58:44.278Z"
   },
   {
    "duration": 3,
    "start_time": "2022-11-25T14:58:45.006Z"
   },
   {
    "duration": 6113,
    "start_time": "2022-11-25T14:58:45.901Z"
   },
   {
    "duration": 92,
    "start_time": "2022-11-25T14:58:52.017Z"
   },
   {
    "duration": 130826,
    "start_time": "2022-11-25T14:58:52.111Z"
   },
   {
    "duration": 5,
    "start_time": "2022-11-25T15:04:12.475Z"
   },
   {
    "duration": 5,
    "start_time": "2022-11-25T15:04:31.221Z"
   },
   {
    "duration": 115,
    "start_time": "2022-11-25T15:10:02.579Z"
   },
   {
    "duration": 16,
    "start_time": "2022-11-25T15:10:09.884Z"
   },
   {
    "duration": 7,
    "start_time": "2022-11-25T15:12:04.979Z"
   },
   {
    "duration": 8,
    "start_time": "2022-11-25T15:12:13.653Z"
   },
   {
    "duration": 3,
    "start_time": "2022-11-25T15:12:14.357Z"
   },
   {
    "duration": 476,
    "start_time": "2022-11-25T15:12:15.230Z"
   },
   {
    "duration": 3,
    "start_time": "2022-11-25T15:12:17.622Z"
   },
   {
    "duration": 12484,
    "start_time": "2022-11-25T15:12:18.106Z"
   },
   {
    "duration": 15,
    "start_time": "2022-11-25T15:19:37.300Z"
   },
   {
    "duration": 4,
    "start_time": "2022-11-25T15:20:44.686Z"
   },
   {
    "duration": 7,
    "start_time": "2022-11-25T15:20:46.453Z"
   },
   {
    "duration": 2,
    "start_time": "2022-11-25T15:20:46.970Z"
   },
   {
    "duration": 339,
    "start_time": "2022-11-25T15:20:47.573Z"
   },
   {
    "duration": 3,
    "start_time": "2022-11-25T15:20:48.198Z"
   },
   {
    "duration": 12379,
    "start_time": "2022-11-25T15:20:48.829Z"
   },
   {
    "duration": 5,
    "start_time": "2022-11-25T15:21:01.210Z"
   },
   {
    "duration": 62,
    "start_time": "2022-11-25T15:21:01.216Z"
   },
   {
    "duration": 10,
    "start_time": "2022-11-25T15:22:40.775Z"
   },
   {
    "duration": 4,
    "start_time": "2022-11-25T15:22:57.946Z"
   },
   {
    "duration": 39,
    "start_time": "2022-11-25T15:22:58.960Z"
   },
   {
    "duration": 4,
    "start_time": "2022-11-25T15:22:59.582Z"
   },
   {
    "duration": 22,
    "start_time": "2022-11-25T15:23:00.152Z"
   },
   {
    "duration": 8,
    "start_time": "2022-11-25T15:23:00.770Z"
   },
   {
    "duration": 4,
    "start_time": "2022-11-25T15:23:01.370Z"
   },
   {
    "duration": 14,
    "start_time": "2022-11-25T15:23:01.919Z"
   },
   {
    "duration": 8,
    "start_time": "2022-11-25T15:23:02.526Z"
   },
   {
    "duration": 12,
    "start_time": "2022-11-25T15:23:03.172Z"
   },
   {
    "duration": 6,
    "start_time": "2022-11-25T15:23:03.771Z"
   },
   {
    "duration": 7,
    "start_time": "2022-11-25T15:23:04.472Z"
   },
   {
    "duration": 6,
    "start_time": "2022-11-25T15:23:05.750Z"
   },
   {
    "duration": 5,
    "start_time": "2022-11-25T15:23:06.382Z"
   },
   {
    "duration": 8,
    "start_time": "2022-11-25T15:23:06.929Z"
   },
   {
    "duration": 3,
    "start_time": "2022-11-25T15:23:07.527Z"
   },
   {
    "duration": 603,
    "start_time": "2022-11-25T15:23:08.102Z"
   },
   {
    "duration": 87,
    "start_time": "2022-11-25T15:23:08.719Z"
   },
   {
    "duration": 12414,
    "start_time": "2022-11-25T15:23:09.252Z"
   },
   {
    "duration": 41,
    "start_time": "2022-11-25T15:23:21.674Z"
   },
   {
    "duration": 7,
    "start_time": "2022-11-25T15:23:27.392Z"
   },
   {
    "duration": 10,
    "start_time": "2022-11-25T15:23:57.920Z"
   },
   {
    "duration": 69,
    "start_time": "2022-11-25T15:26:49.108Z"
   },
   {
    "duration": 1172,
    "start_time": "2022-11-25T15:26:55.929Z"
   },
   {
    "duration": 2,
    "start_time": "2022-11-25T15:28:30.070Z"
   },
   {
    "duration": 12,
    "start_time": "2022-11-25T15:28:31.573Z"
   },
   {
    "duration": 2,
    "start_time": "2022-11-25T15:29:14.351Z"
   },
   {
    "duration": 17,
    "start_time": "2022-11-25T15:29:14.781Z"
   },
   {
    "duration": 13,
    "start_time": "2022-11-25T15:36:27.902Z"
   },
   {
    "duration": 2,
    "start_time": "2022-11-25T15:36:31.421Z"
   },
   {
    "duration": 15,
    "start_time": "2022-11-25T15:36:31.885Z"
   },
   {
    "duration": 7,
    "start_time": "2022-11-25T15:36:52.462Z"
   },
   {
    "duration": 3,
    "start_time": "2022-11-25T15:37:34.876Z"
   },
   {
    "duration": 231,
    "start_time": "2022-11-25T15:38:27.681Z"
   },
   {
    "duration": 11964,
    "start_time": "2022-11-25T15:38:43.571Z"
   },
   {
    "duration": 121,
    "start_time": "2022-11-25T15:42:34.300Z"
   },
   {
    "duration": 116,
    "start_time": "2022-11-25T15:46:07.698Z"
   },
   {
    "duration": 128,
    "start_time": "2022-11-25T15:46:36.737Z"
   },
   {
    "duration": 3,
    "start_time": "2022-11-25T15:50:38.295Z"
   },
   {
    "duration": 5,
    "start_time": "2022-11-25T15:51:21.174Z"
   },
   {
    "duration": 9,
    "start_time": "2022-11-25T15:52:06.278Z"
   },
   {
    "duration": 3,
    "start_time": "2022-11-25T15:52:13.487Z"
   },
   {
    "duration": 6,
    "start_time": "2022-11-25T16:03:16.635Z"
   },
   {
    "duration": 8,
    "start_time": "2022-11-25T16:04:13.069Z"
   },
   {
    "duration": 3,
    "start_time": "2022-11-25T16:04:26.789Z"
   },
   {
    "duration": 6,
    "start_time": "2022-11-25T16:04:31.654Z"
   },
   {
    "duration": 120,
    "start_time": "2022-11-25T16:06:41.384Z"
   },
   {
    "duration": 22,
    "start_time": "2022-11-25T16:09:27.603Z"
   },
   {
    "duration": 4,
    "start_time": "2022-11-25T16:09:45.818Z"
   },
   {
    "duration": 74,
    "start_time": "2022-11-25T16:09:51.234Z"
   },
   {
    "duration": 21,
    "start_time": "2022-11-25T16:10:31.780Z"
   },
   {
    "duration": 7,
    "start_time": "2022-11-25T16:13:08.368Z"
   },
   {
    "duration": 6,
    "start_time": "2022-11-25T16:13:11.802Z"
   },
   {
    "duration": 13,
    "start_time": "2022-11-25T16:13:23.398Z"
   },
   {
    "duration": 8,
    "start_time": "2022-11-25T16:13:32.473Z"
   },
   {
    "duration": 7,
    "start_time": "2022-11-25T16:13:43.840Z"
   },
   {
    "duration": 6,
    "start_time": "2022-11-25T16:14:43.224Z"
   },
   {
    "duration": 3,
    "start_time": "2022-11-25T16:15:34.073Z"
   },
   {
    "duration": 4,
    "start_time": "2022-11-25T16:15:51.881Z"
   },
   {
    "duration": 3,
    "start_time": "2022-11-25T16:16:16.698Z"
   },
   {
    "duration": 8,
    "start_time": "2022-11-25T16:18:41.386Z"
   },
   {
    "duration": 9,
    "start_time": "2022-11-25T16:20:35.343Z"
   },
   {
    "duration": 99,
    "start_time": "2022-11-25T16:21:20.255Z"
   },
   {
    "duration": 15,
    "start_time": "2022-11-25T16:21:27.911Z"
   },
   {
    "duration": 3,
    "start_time": "2022-11-25T16:21:55.648Z"
   },
   {
    "duration": 25,
    "start_time": "2022-11-25T16:22:06.994Z"
   },
   {
    "duration": 13,
    "start_time": "2022-11-25T16:22:47.374Z"
   },
   {
    "duration": 9,
    "start_time": "2022-11-25T16:22:51.071Z"
   },
   {
    "duration": 3,
    "start_time": "2022-11-25T16:23:50.178Z"
   },
   {
    "duration": 3,
    "start_time": "2022-11-25T16:24:03.667Z"
   },
   {
    "duration": 14,
    "start_time": "2022-11-25T16:24:13.035Z"
   },
   {
    "duration": 5,
    "start_time": "2022-11-25T16:24:33.754Z"
   },
   {
    "duration": 5,
    "start_time": "2022-11-25T16:24:49.234Z"
   },
   {
    "duration": 11,
    "start_time": "2022-11-25T16:39:40.275Z"
   },
   {
    "duration": 5,
    "start_time": "2022-11-25T16:40:11.076Z"
   },
   {
    "duration": 48,
    "start_time": "2022-11-25T16:40:11.571Z"
   },
   {
    "duration": 6,
    "start_time": "2022-11-25T16:40:18.378Z"
   },
   {
    "duration": 7,
    "start_time": "2022-11-25T16:46:18.202Z"
   },
   {
    "duration": 5,
    "start_time": "2022-11-25T16:46:20.515Z"
   },
   {
    "duration": 5,
    "start_time": "2022-11-25T16:46:23.058Z"
   },
   {
    "duration": 235,
    "start_time": "2022-11-25T16:46:27.170Z"
   },
   {
    "duration": 6,
    "start_time": "2022-11-25T16:46:30.026Z"
   },
   {
    "duration": 6,
    "start_time": "2022-11-25T16:46:31.746Z"
   },
   {
    "duration": 6,
    "start_time": "2022-11-25T16:46:34.026Z"
   },
   {
    "duration": 3,
    "start_time": "2022-11-25T16:46:45.427Z"
   },
   {
    "duration": 41,
    "start_time": "2022-11-25T16:46:46.130Z"
   },
   {
    "duration": 3,
    "start_time": "2022-11-25T16:46:46.730Z"
   },
   {
    "duration": 17,
    "start_time": "2022-11-25T16:46:47.444Z"
   },
   {
    "duration": 9,
    "start_time": "2022-11-25T16:46:48.130Z"
   },
   {
    "duration": 4,
    "start_time": "2022-11-25T16:46:48.805Z"
   },
   {
    "duration": 14,
    "start_time": "2022-11-25T16:46:49.451Z"
   },
   {
    "duration": 7,
    "start_time": "2022-11-25T16:46:50.172Z"
   },
   {
    "duration": 12,
    "start_time": "2022-11-25T16:46:50.947Z"
   },
   {
    "duration": 6,
    "start_time": "2022-11-25T16:46:51.730Z"
   },
   {
    "duration": 6,
    "start_time": "2022-11-25T16:46:52.498Z"
   },
   {
    "duration": 5,
    "start_time": "2022-11-25T16:46:54.209Z"
   },
   {
    "duration": 5,
    "start_time": "2022-11-25T16:46:55.098Z"
   },
   {
    "duration": 7,
    "start_time": "2022-11-25T16:46:55.834Z"
   },
   {
    "duration": 3,
    "start_time": "2022-11-25T16:46:56.657Z"
   },
   {
    "duration": 402,
    "start_time": "2022-11-25T16:46:57.610Z"
   },
   {
    "duration": 3,
    "start_time": "2022-11-25T16:46:59.122Z"
   },
   {
    "duration": 11620,
    "start_time": "2022-11-25T16:46:59.714Z"
   },
   {
    "duration": 5,
    "start_time": "2022-11-25T16:47:11.335Z"
   },
   {
    "duration": 5,
    "start_time": "2022-11-25T16:47:11.342Z"
   },
   {
    "duration": 4,
    "start_time": "2022-11-25T16:47:52.679Z"
   },
   {
    "duration": 38,
    "start_time": "2022-11-25T16:47:53.612Z"
   },
   {
    "duration": 4,
    "start_time": "2022-11-25T16:47:54.291Z"
   },
   {
    "duration": 14,
    "start_time": "2022-11-25T16:47:55.302Z"
   },
   {
    "duration": 7,
    "start_time": "2022-11-25T16:47:56.124Z"
   },
   {
    "duration": 4,
    "start_time": "2022-11-25T16:47:56.899Z"
   },
   {
    "duration": 14,
    "start_time": "2022-11-25T16:47:57.699Z"
   },
   {
    "duration": 9,
    "start_time": "2022-11-25T16:47:58.459Z"
   },
   {
    "duration": 11,
    "start_time": "2022-11-25T16:47:59.179Z"
   },
   {
    "duration": 6,
    "start_time": "2022-11-25T16:47:59.975Z"
   },
   {
    "duration": 6,
    "start_time": "2022-11-25T16:48:00.827Z"
   },
   {
    "duration": 4,
    "start_time": "2022-11-25T16:48:02.220Z"
   },
   {
    "duration": 5,
    "start_time": "2022-11-25T16:48:02.947Z"
   },
   {
    "duration": 7,
    "start_time": "2022-11-25T16:48:03.734Z"
   },
   {
    "duration": 2,
    "start_time": "2022-11-25T16:48:04.532Z"
   },
   {
    "duration": 497,
    "start_time": "2022-11-25T16:48:05.308Z"
   },
   {
    "duration": 3,
    "start_time": "2022-11-25T16:48:06.804Z"
   },
   {
    "duration": 12026,
    "start_time": "2022-11-25T16:48:19.435Z"
   },
   {
    "duration": 5,
    "start_time": "2022-11-25T16:48:36.986Z"
   },
   {
    "duration": 2,
    "start_time": "2022-11-25T16:48:38.132Z"
   },
   {
    "duration": 2,
    "start_time": "2022-11-25T16:48:38.788Z"
   },
   {
    "duration": 2,
    "start_time": "2022-11-25T16:48:39.557Z"
   },
   {
    "duration": 15,
    "start_time": "2022-11-25T16:48:40.334Z"
   },
   {
    "duration": 8,
    "start_time": "2022-11-25T16:48:41.374Z"
   },
   {
    "duration": 3,
    "start_time": "2022-11-25T16:49:03.053Z"
   },
   {
    "duration": 12,
    "start_time": "2022-11-25T16:49:03.644Z"
   },
   {
    "duration": 3,
    "start_time": "2022-11-25T16:53:14.138Z"
   },
   {
    "duration": 16,
    "start_time": "2022-11-25T16:53:14.553Z"
   },
   {
    "duration": 7,
    "start_time": "2022-11-25T16:53:15.921Z"
   },
   {
    "duration": 7,
    "start_time": "2022-11-25T16:53:24.379Z"
   },
   {
    "duration": 3,
    "start_time": "2022-11-25T16:53:25.173Z"
   },
   {
    "duration": 2,
    "start_time": "2022-11-25T16:53:25.970Z"
   },
   {
    "duration": 123,
    "start_time": "2022-11-25T16:53:26.619Z"
   },
   {
    "duration": 3,
    "start_time": "2022-11-25T16:53:28.514Z"
   },
   {
    "duration": 6,
    "start_time": "2022-11-25T16:53:29.058Z"
   },
   {
    "duration": 6,
    "start_time": "2022-11-25T16:53:29.849Z"
   },
   {
    "duration": 6,
    "start_time": "2022-11-25T16:53:30.579Z"
   },
   {
    "duration": 91,
    "start_time": "2022-11-25T16:53:33.617Z"
   },
   {
    "duration": 6,
    "start_time": "2022-11-25T16:54:04.436Z"
   },
   {
    "duration": 10,
    "start_time": "2022-11-25T16:54:06.249Z"
   },
   {
    "duration": 5,
    "start_time": "2022-11-25T16:54:10.875Z"
   },
   {
    "duration": 190,
    "start_time": "2022-11-25T16:56:18.717Z"
   },
   {
    "duration": 111,
    "start_time": "2022-11-25T16:56:40.525Z"
   },
   {
    "duration": 13,
    "start_time": "2022-11-25T16:57:08.802Z"
   },
   {
    "duration": 112,
    "start_time": "2022-11-25T16:57:27.430Z"
   },
   {
    "duration": 3,
    "start_time": "2022-11-25T16:57:28.476Z"
   },
   {
    "duration": 14,
    "start_time": "2022-11-25T16:57:29.189Z"
   },
   {
    "duration": 8,
    "start_time": "2022-11-25T16:58:31.775Z"
   },
   {
    "duration": 8,
    "start_time": "2022-11-25T16:59:14.383Z"
   },
   {
    "duration": 193,
    "start_time": "2022-11-25T17:46:57.714Z"
   },
   {
    "duration": 13,
    "start_time": "2022-11-25T17:47:23.922Z"
   },
   {
    "duration": 6,
    "start_time": "2022-11-25T17:47:30.860Z"
   },
   {
    "duration": 6,
    "start_time": "2022-11-25T17:47:32.957Z"
   },
   {
    "duration": 12,
    "start_time": "2022-11-25T17:48:52.565Z"
   },
   {
    "duration": 39,
    "start_time": "2022-11-25T17:49:11.965Z"
   },
   {
    "duration": 13,
    "start_time": "2022-11-25T17:49:30.173Z"
   },
   {
    "duration": 5,
    "start_time": "2022-11-25T17:50:05.143Z"
   },
   {
    "duration": 5,
    "start_time": "2022-11-25T17:50:06.582Z"
   },
   {
    "duration": 6,
    "start_time": "2022-11-25T17:50:07.670Z"
   },
   {
    "duration": 7,
    "start_time": "2022-11-25T17:50:09.237Z"
   },
   {
    "duration": 5,
    "start_time": "2022-11-25T17:50:09.886Z"
   },
   {
    "duration": 4,
    "start_time": "2022-11-25T17:51:13.426Z"
   },
   {
    "duration": 38,
    "start_time": "2022-11-25T17:51:14.168Z"
   },
   {
    "duration": 4,
    "start_time": "2022-11-25T17:51:14.854Z"
   },
   {
    "duration": 15,
    "start_time": "2022-11-25T17:51:15.783Z"
   },
   {
    "duration": 8,
    "start_time": "2022-11-25T17:51:16.543Z"
   },
   {
    "duration": 4,
    "start_time": "2022-11-25T17:51:17.495Z"
   },
   {
    "duration": 16,
    "start_time": "2022-11-25T17:51:18.183Z"
   },
   {
    "duration": 8,
    "start_time": "2022-11-25T17:51:18.952Z"
   },
   {
    "duration": 11,
    "start_time": "2022-11-25T17:51:19.694Z"
   },
   {
    "duration": 6,
    "start_time": "2022-11-25T17:51:20.519Z"
   },
   {
    "duration": 6,
    "start_time": "2022-11-25T17:51:21.446Z"
   },
   {
    "duration": 4,
    "start_time": "2022-11-25T17:51:23.158Z"
   },
   {
    "duration": 5,
    "start_time": "2022-11-25T17:51:23.823Z"
   },
   {
    "duration": 8,
    "start_time": "2022-11-25T17:51:24.566Z"
   },
   {
    "duration": 2,
    "start_time": "2022-11-25T17:51:25.391Z"
   },
   {
    "duration": 428,
    "start_time": "2022-11-25T17:51:26.278Z"
   },
   {
    "duration": 3,
    "start_time": "2022-11-25T17:51:28.278Z"
   },
   {
    "duration": 11721,
    "start_time": "2022-11-25T17:51:29.007Z"
   },
   {
    "duration": 5,
    "start_time": "2022-11-25T17:51:44.896Z"
   },
   {
    "duration": 2,
    "start_time": "2022-11-25T17:51:48.879Z"
   },
   {
    "duration": 2,
    "start_time": "2022-11-25T17:51:50.302Z"
   },
   {
    "duration": 3,
    "start_time": "2022-11-25T17:51:51.022Z"
   },
   {
    "duration": 15,
    "start_time": "2022-11-25T17:51:51.630Z"
   },
   {
    "duration": 7,
    "start_time": "2022-11-25T17:51:53.232Z"
   },
   {
    "duration": 4,
    "start_time": "2022-11-25T17:51:54.137Z"
   },
   {
    "duration": 5,
    "start_time": "2022-11-25T17:51:58.079Z"
   },
   {
    "duration": 16,
    "start_time": "2022-11-25T17:51:58.623Z"
   },
   {
    "duration": 2,
    "start_time": "2022-11-25T17:52:03.008Z"
   },
   {
    "duration": 195,
    "start_time": "2022-11-25T17:52:04.280Z"
   },
   {
    "duration": 2,
    "start_time": "2022-11-25T17:52:11.536Z"
   },
   {
    "duration": 14,
    "start_time": "2022-11-25T17:52:11.944Z"
   },
   {
    "duration": 3,
    "start_time": "2022-11-25T17:52:27.959Z"
   },
   {
    "duration": 12,
    "start_time": "2022-11-25T17:52:28.640Z"
   },
   {
    "duration": 40,
    "start_time": "2022-11-25T17:55:05.946Z"
   },
   {
    "duration": 15,
    "start_time": "2022-11-25T17:55:09.045Z"
   },
   {
    "duration": 5,
    "start_time": "2022-11-25T17:55:10.925Z"
   },
   {
    "duration": 7,
    "start_time": "2022-11-25T17:55:12.788Z"
   },
   {
    "duration": 6,
    "start_time": "2022-11-25T17:55:15.819Z"
   },
   {
    "duration": 10,
    "start_time": "2022-11-25T17:55:18.011Z"
   },
   {
    "duration": 6,
    "start_time": "2022-11-25T17:55:18.658Z"
   },
   {
    "duration": 2,
    "start_time": "2022-11-25T17:55:22.082Z"
   },
   {
    "duration": 4,
    "start_time": "2022-11-25T17:55:22.563Z"
   },
   {
    "duration": 3,
    "start_time": "2022-11-25T18:17:31.288Z"
   },
   {
    "duration": 38,
    "start_time": "2022-11-25T18:17:31.748Z"
   },
   {
    "duration": 4,
    "start_time": "2022-11-25T18:17:32.291Z"
   },
   {
    "duration": 13,
    "start_time": "2022-11-25T18:17:32.973Z"
   },
   {
    "duration": 7,
    "start_time": "2022-11-25T18:17:33.588Z"
   },
   {
    "duration": 4,
    "start_time": "2022-11-25T18:17:34.260Z"
   },
   {
    "duration": 12,
    "start_time": "2022-11-25T18:17:34.878Z"
   },
   {
    "duration": 7,
    "start_time": "2022-11-25T18:17:35.507Z"
   },
   {
    "duration": 11,
    "start_time": "2022-11-25T18:17:36.212Z"
   },
   {
    "duration": 7,
    "start_time": "2022-11-25T18:17:36.859Z"
   },
   {
    "duration": 5,
    "start_time": "2022-11-25T18:17:37.460Z"
   },
   {
    "duration": 5,
    "start_time": "2022-11-25T18:17:38.961Z"
   },
   {
    "duration": 5,
    "start_time": "2022-11-25T18:17:39.226Z"
   },
   {
    "duration": 8,
    "start_time": "2022-11-25T18:17:39.836Z"
   },
   {
    "duration": 2,
    "start_time": "2022-11-25T18:17:40.403Z"
   },
   {
    "duration": 243,
    "start_time": "2022-11-25T18:17:41.572Z"
   },
   {
    "duration": 3,
    "start_time": "2022-11-25T18:17:42.108Z"
   },
   {
    "duration": 11792,
    "start_time": "2022-11-25T18:17:42.885Z"
   },
   {
    "duration": 6,
    "start_time": "2022-11-25T18:18:00.525Z"
   },
   {
    "duration": 2,
    "start_time": "2022-11-25T18:18:07.085Z"
   },
   {
    "duration": 2,
    "start_time": "2022-11-25T18:18:16.372Z"
   },
   {
    "duration": 3,
    "start_time": "2022-11-25T18:18:16.939Z"
   },
   {
    "duration": 17,
    "start_time": "2022-11-25T18:18:17.636Z"
   },
   {
    "duration": 7,
    "start_time": "2022-11-25T18:18:20.748Z"
   },
   {
    "duration": 4,
    "start_time": "2022-11-25T18:18:21.491Z"
   },
   {
    "duration": 3,
    "start_time": "2022-11-25T18:18:22.435Z"
   },
   {
    "duration": 2,
    "start_time": "2022-11-25T18:18:37.797Z"
   },
   {
    "duration": 193,
    "start_time": "2022-11-25T18:18:39.701Z"
   },
   {
    "duration": 3,
    "start_time": "2022-11-25T18:18:49.003Z"
   },
   {
    "duration": 13,
    "start_time": "2022-11-25T18:18:49.565Z"
   },
   {
    "duration": 7,
    "start_time": "2022-11-25T18:19:01.238Z"
   },
   {
    "duration": 2,
    "start_time": "2022-11-25T18:19:42.231Z"
   },
   {
    "duration": 12,
    "start_time": "2022-11-25T18:19:42.942Z"
   },
   {
    "duration": 39,
    "start_time": "2022-11-25T18:19:43.831Z"
   },
   {
    "duration": 13,
    "start_time": "2022-11-25T18:19:47.237Z"
   },
   {
    "duration": 6,
    "start_time": "2022-11-25T18:19:48.552Z"
   },
   {
    "duration": 6,
    "start_time": "2022-11-25T18:19:49.222Z"
   },
   {
    "duration": 5,
    "start_time": "2022-11-25T18:19:49.833Z"
   },
   {
    "duration": 11,
    "start_time": "2022-11-25T18:19:52.486Z"
   },
   {
    "duration": 6,
    "start_time": "2022-11-25T18:19:52.958Z"
   },
   {
    "duration": 2,
    "start_time": "2022-11-25T18:19:54.246Z"
   },
   {
    "duration": 4,
    "start_time": "2022-11-25T18:19:54.790Z"
   },
   {
    "duration": 3,
    "start_time": "2022-11-25T18:21:06.712Z"
   },
   {
    "duration": 20,
    "start_time": "2022-11-25T18:22:18.033Z"
   },
   {
    "duration": 22,
    "start_time": "2022-11-25T18:22:29.898Z"
   },
   {
    "duration": 11,
    "start_time": "2022-11-25T18:23:36.178Z"
   },
   {
    "duration": 45,
    "start_time": "2022-11-25T18:24:47.636Z"
   },
   {
    "duration": 6,
    "start_time": "2022-11-25T18:25:10.877Z"
   },
   {
    "duration": 9,
    "start_time": "2022-11-25T18:25:32.749Z"
   },
   {
    "duration": 19,
    "start_time": "2022-11-25T18:29:34.545Z"
   },
   {
    "duration": 19,
    "start_time": "2022-11-25T18:30:08.004Z"
   },
   {
    "duration": 4,
    "start_time": "2022-11-25T18:30:09.346Z"
   },
   {
    "duration": 4,
    "start_time": "2022-11-25T18:30:09.970Z"
   },
   {
    "duration": 7,
    "start_time": "2022-11-25T18:30:10.585Z"
   },
   {
    "duration": 2,
    "start_time": "2022-11-25T18:30:11.409Z"
   },
   {
    "duration": 20,
    "start_time": "2022-11-25T18:30:11.946Z"
   },
   {
    "duration": 18,
    "start_time": "2022-11-25T18:30:26.010Z"
   },
   {
    "duration": 4,
    "start_time": "2022-11-25T18:30:27.257Z"
   },
   {
    "duration": 4,
    "start_time": "2022-11-25T18:30:27.713Z"
   },
   {
    "duration": 12,
    "start_time": "2022-11-25T18:30:28.153Z"
   },
   {
    "duration": 3,
    "start_time": "2022-11-25T18:30:28.738Z"
   },
   {
    "duration": 18,
    "start_time": "2022-11-25T18:30:29.402Z"
   },
   {
    "duration": 4,
    "start_time": "2022-11-25T18:30:54.387Z"
   },
   {
    "duration": 4,
    "start_time": "2022-11-25T18:30:55.738Z"
   },
   {
    "duration": 5,
    "start_time": "2022-11-25T18:30:56.241Z"
   },
   {
    "duration": 7,
    "start_time": "2022-11-25T18:30:56.755Z"
   },
   {
    "duration": 2,
    "start_time": "2022-11-25T18:30:57.242Z"
   },
   {
    "duration": 439,
    "start_time": "2022-11-25T18:30:57.867Z"
   },
   {
    "duration": 2,
    "start_time": "2022-11-25T18:31:02.849Z"
   },
   {
    "duration": 10736,
    "start_time": "2022-11-25T18:31:03.362Z"
   },
   {
    "duration": 5,
    "start_time": "2022-11-25T18:31:18.594Z"
   },
   {
    "duration": 2,
    "start_time": "2022-11-25T18:31:20.090Z"
   },
   {
    "duration": 3,
    "start_time": "2022-11-25T18:31:20.826Z"
   },
   {
    "duration": 2,
    "start_time": "2022-11-25T18:31:21.482Z"
   },
   {
    "duration": 16,
    "start_time": "2022-11-25T18:31:22.170Z"
   },
   {
    "duration": 6,
    "start_time": "2022-11-25T18:31:26.507Z"
   },
   {
    "duration": 5,
    "start_time": "2022-11-25T18:31:31.418Z"
   },
   {
    "duration": 2,
    "start_time": "2022-11-25T18:31:32.160Z"
   },
   {
    "duration": 2,
    "start_time": "2022-11-25T18:31:32.723Z"
   },
   {
    "duration": 3,
    "start_time": "2022-11-25T18:31:33.282Z"
   },
   {
    "duration": 16,
    "start_time": "2022-11-25T18:31:33.939Z"
   },
   {
    "duration": 7,
    "start_time": "2022-11-25T18:31:34.530Z"
   },
   {
    "duration": 3,
    "start_time": "2022-11-25T18:31:35.394Z"
   },
   {
    "duration": 3,
    "start_time": "2022-11-25T18:31:40.739Z"
   },
   {
    "duration": 17,
    "start_time": "2022-11-25T18:31:42.573Z"
   },
   {
    "duration": 3,
    "start_time": "2022-11-25T18:31:44.458Z"
   },
   {
    "duration": 180,
    "start_time": "2022-11-25T18:31:44.954Z"
   },
   {
    "duration": 2,
    "start_time": "2022-11-25T18:31:46.899Z"
   },
   {
    "duration": 15,
    "start_time": "2022-11-25T18:31:47.298Z"
   },
   {
    "duration": 7,
    "start_time": "2022-11-25T18:31:48.419Z"
   },
   {
    "duration": 2,
    "start_time": "2022-11-25T18:31:52.498Z"
   },
   {
    "duration": 2,
    "start_time": "2022-11-25T18:31:53.219Z"
   },
   {
    "duration": 11,
    "start_time": "2022-11-25T18:31:53.923Z"
   },
   {
    "duration": 38,
    "start_time": "2022-11-25T18:31:55.731Z"
   },
   {
    "duration": 13,
    "start_time": "2022-11-25T18:31:56.634Z"
   },
   {
    "duration": 5,
    "start_time": "2022-11-25T18:31:57.462Z"
   },
   {
    "duration": 7,
    "start_time": "2022-11-25T18:31:59.460Z"
   },
   {
    "duration": 6,
    "start_time": "2022-11-25T18:32:00.131Z"
   },
   {
    "duration": 9,
    "start_time": "2022-11-25T18:32:02.899Z"
   },
   {
    "duration": 5,
    "start_time": "2022-11-25T18:32:03.380Z"
   },
   {
    "duration": 2,
    "start_time": "2022-11-25T18:32:05.013Z"
   },
   {
    "duration": 4,
    "start_time": "2022-11-25T18:32:05.419Z"
   },
   {
    "duration": 9,
    "start_time": "2022-11-25T18:32:07.619Z"
   },
   {
    "duration": 46,
    "start_time": "2022-11-25T18:32:22.550Z"
   },
   {
    "duration": 22,
    "start_time": "2022-11-25T18:33:19.735Z"
   },
   {
    "duration": 10,
    "start_time": "2022-11-25T18:33:33.728Z"
   },
   {
    "duration": 4,
    "start_time": "2022-11-25T18:34:44.310Z"
   },
   {
    "duration": 4,
    "start_time": "2022-11-25T18:35:04.689Z"
   },
   {
    "duration": 17,
    "start_time": "2022-11-25T18:35:18.167Z"
   },
   {
    "duration": 2,
    "start_time": "2022-11-25T18:35:18.727Z"
   },
   {
    "duration": 178,
    "start_time": "2022-11-25T18:35:19.207Z"
   },
   {
    "duration": 2,
    "start_time": "2022-11-25T18:35:21.160Z"
   },
   {
    "duration": 13,
    "start_time": "2022-11-25T18:35:21.775Z"
   },
   {
    "duration": 5,
    "start_time": "2022-11-25T18:35:22.822Z"
   },
   {
    "duration": 3,
    "start_time": "2022-11-25T18:41:54.710Z"
   },
   {
    "duration": 5,
    "start_time": "2022-11-25T18:41:55.078Z"
   },
   {
    "duration": 2,
    "start_time": "2022-11-25T18:41:55.526Z"
   },
   {
    "duration": 5,
    "start_time": "2022-11-25T18:41:56.086Z"
   },
   {
    "duration": 2,
    "start_time": "2022-11-25T18:41:56.557Z"
   },
   {
    "duration": 531,
    "start_time": "2022-11-25T18:41:57.478Z"
   },
   {
    "duration": 4,
    "start_time": "2022-11-25T18:42:01.807Z"
   },
   {
    "duration": 4,
    "start_time": "2022-11-25T18:42:02.310Z"
   },
   {
    "duration": 4,
    "start_time": "2022-11-25T18:42:02.761Z"
   },
   {
    "duration": 2,
    "start_time": "2022-11-25T18:42:03.222Z"
   },
   {
    "duration": 5,
    "start_time": "2022-11-25T18:42:03.686Z"
   },
   {
    "duration": 2,
    "start_time": "2022-11-25T18:42:04.086Z"
   },
   {
    "duration": 6,
    "start_time": "2022-11-25T18:42:04.597Z"
   },
   {
    "duration": 2,
    "start_time": "2022-11-25T18:42:05.038Z"
   },
   {
    "duration": 795,
    "start_time": "2022-11-25T18:42:05.511Z"
   },
   {
    "duration": 93,
    "start_time": "2022-11-25T18:42:06.313Z"
   },
   {
    "duration": 9562,
    "start_time": "2022-11-25T18:42:10.750Z"
   },
   {
    "duration": 6,
    "start_time": "2022-11-25T18:42:24.662Z"
   },
   {
    "duration": 3,
    "start_time": "2022-11-25T18:42:35.030Z"
   },
   {
    "duration": 2,
    "start_time": "2022-11-25T18:42:35.542Z"
   },
   {
    "duration": 2,
    "start_time": "2022-11-25T18:42:36.223Z"
   },
   {
    "duration": 16,
    "start_time": "2022-11-25T18:42:38.094Z"
   },
   {
    "duration": 2,
    "start_time": "2022-11-25T18:43:01.498Z"
   },
   {
    "duration": 16,
    "start_time": "2022-11-25T18:43:02.025Z"
   },
   {
    "duration": 6,
    "start_time": "2022-11-25T18:43:02.615Z"
   },
   {
    "duration": 3,
    "start_time": "2022-11-25T18:43:04.639Z"
   },
   {
    "duration": 3,
    "start_time": "2022-11-25T18:43:08.558Z"
   },
   {
    "duration": 16,
    "start_time": "2022-11-25T18:43:09.079Z"
   },
   {
    "duration": 2,
    "start_time": "2022-11-25T18:43:26.200Z"
   },
   {
    "duration": 168,
    "start_time": "2022-11-25T18:43:35.448Z"
   },
   {
    "duration": 3,
    "start_time": "2022-11-25T18:43:37.753Z"
   },
   {
    "duration": 14,
    "start_time": "2022-11-25T18:43:38.248Z"
   },
   {
    "duration": 6,
    "start_time": "2022-11-25T18:43:39.385Z"
   },
   {
    "duration": 2,
    "start_time": "2022-11-25T18:43:44.320Z"
   },
   {
    "duration": 2,
    "start_time": "2022-11-25T18:43:44.775Z"
   },
   {
    "duration": 12,
    "start_time": "2022-11-25T18:43:45.184Z"
   },
   {
    "duration": 40,
    "start_time": "2022-11-25T18:43:46.912Z"
   },
   {
    "duration": 12,
    "start_time": "2022-11-25T18:43:48.257Z"
   },
   {
    "duration": 5,
    "start_time": "2022-11-25T18:43:49.376Z"
   },
   {
    "duration": 5,
    "start_time": "2022-11-25T18:43:50.560Z"
   },
   {
    "duration": 5,
    "start_time": "2022-11-25T18:43:51.664Z"
   },
   {
    "duration": 10,
    "start_time": "2022-11-25T18:43:55.761Z"
   },
   {
    "duration": 18,
    "start_time": "2022-11-25T18:43:56.368Z"
   },
   {
    "duration": 15131,
    "start_time": "2022-11-25T18:45:18.426Z"
   },
   {
    "duration": 7718,
    "start_time": "2022-11-25T18:45:36.595Z"
   },
   {
    "duration": 16142,
    "start_time": "2022-11-25T18:45:54.122Z"
   },
   {
    "duration": 36997,
    "start_time": "2022-11-25T18:46:22.819Z"
   },
   {
    "duration": 5,
    "start_time": "2022-11-25T18:47:08.540Z"
   },
   {
    "duration": 2,
    "start_time": "2022-11-25T18:47:09.301Z"
   },
   {
    "duration": 3,
    "start_time": "2022-11-25T18:47:09.811Z"
   },
   {
    "duration": 3,
    "start_time": "2022-11-25T18:47:10.411Z"
   },
   {
    "duration": 15,
    "start_time": "2022-11-25T18:47:11.020Z"
   },
   {
    "duration": 6,
    "start_time": "2022-11-25T18:47:11.638Z"
   },
   {
    "duration": 4,
    "start_time": "2022-11-25T18:47:12.323Z"
   },
   {
    "duration": 3,
    "start_time": "2022-11-25T18:47:13.035Z"
   },
   {
    "duration": 16,
    "start_time": "2022-11-25T18:47:13.700Z"
   },
   {
    "duration": 2,
    "start_time": "2022-11-25T18:47:14.427Z"
   },
   {
    "duration": 405,
    "start_time": "2022-11-25T18:47:15.124Z"
   },
   {
    "duration": 2,
    "start_time": "2022-11-25T18:47:17.540Z"
   },
   {
    "duration": 18,
    "start_time": "2022-11-25T18:47:18.140Z"
   },
   {
    "duration": 6,
    "start_time": "2022-11-25T18:47:19.171Z"
   },
   {
    "duration": 2,
    "start_time": "2022-11-25T18:47:29.020Z"
   },
   {
    "duration": 2,
    "start_time": "2022-11-25T18:47:29.459Z"
   },
   {
    "duration": 11,
    "start_time": "2022-11-25T18:47:29.932Z"
   },
   {
    "duration": 86,
    "start_time": "2022-11-25T18:47:30.548Z"
   },
   {
    "duration": 16,
    "start_time": "2022-11-25T18:47:32.908Z"
   },
   {
    "duration": 6,
    "start_time": "2022-11-25T18:47:33.821Z"
   },
   {
    "duration": 5,
    "start_time": "2022-11-25T18:47:35.660Z"
   },
   {
    "duration": 5,
    "start_time": "2022-11-25T18:47:36.780Z"
   },
   {
    "duration": 74,
    "start_time": "2022-11-25T18:47:41.460Z"
   },
   {
    "duration": 3,
    "start_time": "2022-11-25T18:48:02.950Z"
   },
   {
    "duration": 13,
    "start_time": "2022-11-25T18:48:09.701Z"
   },
   {
    "duration": 15,
    "start_time": "2022-11-25T18:48:29.437Z"
   },
   {
    "duration": 12,
    "start_time": "2022-11-25T18:48:40.918Z"
   },
   {
    "duration": 71296,
    "start_time": "2022-11-25T18:49:01.591Z"
   },
   {
    "duration": 57187,
    "start_time": "2022-11-25T18:50:29.226Z"
   },
   {
    "duration": 3898,
    "start_time": "2022-11-25T18:51:26.416Z"
   },
   {
    "duration": 6,
    "start_time": "2022-11-25T18:51:30.865Z"
   },
   {
    "duration": 1,
    "start_time": "2022-11-25T18:51:31.497Z"
   },
   {
    "duration": 2,
    "start_time": "2022-11-25T18:51:32.041Z"
   },
   {
    "duration": 3,
    "start_time": "2022-11-25T18:51:32.601Z"
   },
   {
    "duration": 16,
    "start_time": "2022-11-25T18:51:33.144Z"
   },
   {
    "duration": 7,
    "start_time": "2022-11-25T18:51:33.664Z"
   },
   {
    "duration": 3,
    "start_time": "2022-11-25T18:51:34.209Z"
   },
   {
    "duration": 2,
    "start_time": "2022-11-25T18:51:34.760Z"
   },
   {
    "duration": 15,
    "start_time": "2022-11-25T18:51:35.353Z"
   },
   {
    "duration": 2,
    "start_time": "2022-11-25T18:51:35.985Z"
   },
   {
    "duration": 455,
    "start_time": "2022-11-25T18:51:36.663Z"
   },
   {
    "duration": 3,
    "start_time": "2022-11-25T18:51:37.361Z"
   },
   {
    "duration": 18,
    "start_time": "2022-11-25T18:51:38.979Z"
   },
   {
    "duration": 7,
    "start_time": "2022-11-25T18:51:39.985Z"
   },
   {
    "duration": 77802,
    "start_time": "2022-11-25T18:51:52.451Z"
   },
   {
    "duration": 5,
    "start_time": "2022-11-25T19:13:27.769Z"
   },
   {
    "duration": 3,
    "start_time": "2022-11-25T19:13:28.887Z"
   },
   {
    "duration": 2,
    "start_time": "2022-11-25T19:13:29.376Z"
   },
   {
    "duration": 2,
    "start_time": "2022-11-25T19:13:30.368Z"
   },
   {
    "duration": 15,
    "start_time": "2022-11-25T19:13:30.872Z"
   },
   {
    "duration": 6,
    "start_time": "2022-11-25T19:13:31.392Z"
   },
   {
    "duration": 3,
    "start_time": "2022-11-25T19:13:31.976Z"
   },
   {
    "duration": 2,
    "start_time": "2022-11-25T19:13:32.671Z"
   },
   {
    "duration": 16,
    "start_time": "2022-11-25T19:13:33.360Z"
   },
   {
    "duration": 2,
    "start_time": "2022-11-25T19:13:34.129Z"
   },
   {
    "duration": 571,
    "start_time": "2022-11-25T19:13:34.793Z"
   },
   {
    "duration": 2,
    "start_time": "2022-11-25T19:13:37.232Z"
   },
   {
    "duration": 20,
    "start_time": "2022-11-25T19:13:37.695Z"
   },
   {
    "duration": 6,
    "start_time": "2022-11-25T19:13:38.443Z"
   },
   {
    "duration": 101632,
    "start_time": "2022-11-25T19:14:40.362Z"
   },
   {
    "duration": 5,
    "start_time": "2022-11-25T19:21:27.352Z"
   },
   {
    "duration": 35,
    "start_time": "2022-11-25T19:21:28.000Z"
   },
   {
    "duration": 4,
    "start_time": "2022-11-25T19:21:28.712Z"
   },
   {
    "duration": 14,
    "start_time": "2022-11-25T19:21:29.375Z"
   },
   {
    "duration": 7,
    "start_time": "2022-11-25T19:21:30.175Z"
   },
   {
    "duration": 4,
    "start_time": "2022-11-25T19:21:30.872Z"
   },
   {
    "duration": 13,
    "start_time": "2022-11-25T19:21:31.529Z"
   },
   {
    "duration": 7,
    "start_time": "2022-11-25T19:21:32.198Z"
   },
   {
    "duration": 11,
    "start_time": "2022-11-25T19:21:32.831Z"
   },
   {
    "duration": 6,
    "start_time": "2022-11-25T19:21:33.462Z"
   },
   {
    "duration": 6,
    "start_time": "2022-11-25T19:21:34.239Z"
   },
   {
    "duration": 4,
    "start_time": "2022-11-25T19:21:34.920Z"
   },
   {
    "duration": 4,
    "start_time": "2022-11-25T19:21:36.040Z"
   },
   {
    "duration": 5,
    "start_time": "2022-11-25T19:21:36.599Z"
   },
   {
    "duration": 4,
    "start_time": "2022-11-25T19:21:37.216Z"
   },
   {
    "duration": 2,
    "start_time": "2022-11-25T19:21:37.791Z"
   },
   {
    "duration": 7,
    "start_time": "2022-11-25T19:21:38.423Z"
   },
   {
    "duration": 2,
    "start_time": "2022-11-25T19:21:39.048Z"
   },
   {
    "duration": 5,
    "start_time": "2022-11-25T19:21:39.823Z"
   },
   {
    "duration": 2,
    "start_time": "2022-11-25T19:21:40.471Z"
   },
   {
    "duration": 769,
    "start_time": "2022-11-25T19:21:41.144Z"
   },
   {
    "duration": 2,
    "start_time": "2022-11-25T19:21:43.176Z"
   },
   {
    "duration": 99632,
    "start_time": "2022-11-25T19:21:43.880Z"
   },
   {
    "duration": 6,
    "start_time": "2022-11-25T19:23:33.307Z"
   },
   {
    "duration": 1,
    "start_time": "2022-11-25T19:23:34.202Z"
   },
   {
    "duration": 3,
    "start_time": "2022-11-25T19:23:34.817Z"
   },
   {
    "duration": 3,
    "start_time": "2022-11-25T19:23:35.377Z"
   },
   {
    "duration": 15,
    "start_time": "2022-11-25T19:23:35.977Z"
   },
   {
    "duration": 7,
    "start_time": "2022-11-25T19:23:36.657Z"
   },
   {
    "duration": 3,
    "start_time": "2022-11-25T19:23:37.360Z"
   },
   {
    "duration": 3,
    "start_time": "2022-11-25T19:23:37.993Z"
   },
   {
    "duration": 15,
    "start_time": "2022-11-25T19:23:38.650Z"
   },
   {
    "duration": 2,
    "start_time": "2022-11-25T19:23:39.345Z"
   },
   {
    "duration": 650,
    "start_time": "2022-11-25T19:23:40.114Z"
   },
   {
    "duration": 2,
    "start_time": "2022-11-25T19:23:44.113Z"
   },
   {
    "duration": 22,
    "start_time": "2022-11-25T19:23:44.962Z"
   },
   {
    "duration": 6,
    "start_time": "2022-11-25T19:23:46.249Z"
   },
   {
    "duration": 11,
    "start_time": "2022-11-25T19:26:29.125Z"
   },
   {
    "duration": 15,
    "start_time": "2022-11-25T19:26:29.932Z"
   },
   {
    "duration": 122,
    "start_time": "2022-11-25T19:26:39.758Z"
   },
   {
    "duration": 25,
    "start_time": "2022-11-25T19:26:41.125Z"
   },
   {
    "duration": 6,
    "start_time": "2022-11-25T19:26:42.213Z"
   },
   {
    "duration": 5,
    "start_time": "2022-11-25T19:26:43.237Z"
   },
   {
    "duration": 5,
    "start_time": "2022-11-25T19:26:44.086Z"
   },
   {
    "duration": 2,
    "start_time": "2022-11-25T19:27:16.950Z"
   },
   {
    "duration": 2,
    "start_time": "2022-11-25T19:27:19.670Z"
   },
   {
    "duration": 2,
    "start_time": "2022-11-25T19:27:21.566Z"
   },
   {
    "duration": 3,
    "start_time": "2022-11-25T19:28:16.322Z"
   },
   {
    "duration": 37,
    "start_time": "2022-11-25T19:28:16.999Z"
   },
   {
    "duration": 3,
    "start_time": "2022-11-25T19:28:17.576Z"
   },
   {
    "duration": 13,
    "start_time": "2022-11-25T19:28:18.110Z"
   },
   {
    "duration": 7,
    "start_time": "2022-11-25T19:28:18.775Z"
   },
   {
    "duration": 4,
    "start_time": "2022-11-25T19:28:19.399Z"
   },
   {
    "duration": 13,
    "start_time": "2022-11-25T19:28:20.055Z"
   },
   {
    "duration": 7,
    "start_time": "2022-11-25T19:28:20.664Z"
   },
   {
    "duration": 11,
    "start_time": "2022-11-25T19:28:21.247Z"
   },
   {
    "duration": 6,
    "start_time": "2022-11-25T19:28:21.840Z"
   },
   {
    "duration": 6,
    "start_time": "2022-11-25T19:28:22.471Z"
   },
   {
    "duration": 5,
    "start_time": "2022-11-25T19:28:23.127Z"
   },
   {
    "duration": 5,
    "start_time": "2022-11-25T19:28:24.359Z"
   },
   {
    "duration": 4,
    "start_time": "2022-11-25T19:28:24.938Z"
   },
   {
    "duration": 5,
    "start_time": "2022-11-25T19:28:25.519Z"
   },
   {
    "duration": 3,
    "start_time": "2022-11-25T19:28:26.140Z"
   },
   {
    "duration": 5,
    "start_time": "2022-11-25T19:28:26.719Z"
   },
   {
    "duration": 2,
    "start_time": "2022-11-25T19:28:27.728Z"
   },
   {
    "duration": 5,
    "start_time": "2022-11-25T19:28:30.199Z"
   },
   {
    "duration": 2,
    "start_time": "2022-11-25T19:28:30.736Z"
   },
   {
    "duration": 644,
    "start_time": "2022-11-25T19:28:31.368Z"
   },
   {
    "duration": 2,
    "start_time": "2022-11-25T19:28:33.023Z"
   },
   {
    "duration": 100295,
    "start_time": "2022-11-25T19:28:33.855Z"
   },
   {
    "duration": 5,
    "start_time": "2022-11-25T19:30:16.961Z"
   },
   {
    "duration": 3,
    "start_time": "2022-11-25T19:30:18.466Z"
   },
   {
    "duration": 2,
    "start_time": "2022-11-25T19:30:18.970Z"
   },
   {
    "duration": 2,
    "start_time": "2022-11-25T19:30:19.449Z"
   },
   {
    "duration": 16,
    "start_time": "2022-11-25T19:30:19.970Z"
   },
   {
    "duration": 7,
    "start_time": "2022-11-25T19:30:20.546Z"
   },
   {
    "duration": 3,
    "start_time": "2022-11-25T19:30:21.138Z"
   },
   {
    "duration": 2,
    "start_time": "2022-11-25T19:30:21.689Z"
   },
   {
    "duration": 15,
    "start_time": "2022-11-25T19:30:22.250Z"
   },
   {
    "duration": 3,
    "start_time": "2022-11-25T19:30:24.320Z"
   },
   {
    "duration": 632,
    "start_time": "2022-11-25T19:30:24.937Z"
   },
   {
    "duration": 2,
    "start_time": "2022-11-25T19:30:26.523Z"
   },
   {
    "duration": 22,
    "start_time": "2022-11-25T19:30:27.169Z"
   },
   {
    "duration": 5,
    "start_time": "2022-11-25T19:30:28.025Z"
   },
   {
    "duration": 3,
    "start_time": "2022-11-25T19:30:43.537Z"
   },
   {
    "duration": 6,
    "start_time": "2022-11-25T19:30:44.184Z"
   },
   {
    "duration": 3,
    "start_time": "2022-11-25T19:30:44.769Z"
   },
   {
    "duration": 5,
    "start_time": "2022-11-25T19:30:45.481Z"
   },
   {
    "duration": 2,
    "start_time": "2022-11-25T19:30:46.064Z"
   },
   {
    "duration": 639,
    "start_time": "2022-11-25T19:30:46.673Z"
   },
   {
    "duration": 2,
    "start_time": "2022-11-25T19:30:47.961Z"
   },
   {
    "duration": 101517,
    "start_time": "2022-11-25T19:30:48.876Z"
   },
   {
    "duration": 9,
    "start_time": "2022-11-25T19:33:37.853Z"
   },
   {
    "duration": 8,
    "start_time": "2022-11-25T19:34:35.822Z"
   },
   {
    "duration": 9,
    "start_time": "2022-11-25T19:34:50.053Z"
   },
   {
    "duration": 9,
    "start_time": "2022-11-25T19:34:59.318Z"
   },
   {
    "duration": 5,
    "start_time": "2022-11-25T19:36:13.894Z"
   },
   {
    "duration": 2,
    "start_time": "2022-11-25T19:36:14.462Z"
   },
   {
    "duration": 2,
    "start_time": "2022-11-25T19:36:15.063Z"
   },
   {
    "duration": 3,
    "start_time": "2022-11-25T19:36:15.640Z"
   },
   {
    "duration": 17,
    "start_time": "2022-11-25T19:36:16.303Z"
   },
   {
    "duration": 7,
    "start_time": "2022-11-25T19:36:16.870Z"
   },
   {
    "duration": 3,
    "start_time": "2022-11-25T19:36:17.623Z"
   },
   {
    "duration": 2,
    "start_time": "2022-11-25T19:36:18.342Z"
   },
   {
    "duration": 15,
    "start_time": "2022-11-25T19:36:19.120Z"
   },
   {
    "duration": 3,
    "start_time": "2022-11-25T19:36:19.759Z"
   },
   {
    "duration": 621,
    "start_time": "2022-11-25T19:36:20.384Z"
   },
   {
    "duration": 2,
    "start_time": "2022-11-25T19:36:22.031Z"
   },
   {
    "duration": 22,
    "start_time": "2022-11-25T19:36:23.167Z"
   },
   {
    "duration": 6,
    "start_time": "2022-11-25T19:36:23.919Z"
   },
   {
    "duration": 123339,
    "start_time": "2022-11-25T19:36:40.247Z"
   },
   {
    "duration": 6,
    "start_time": "2022-11-25T19:39:35.266Z"
   },
   {
    "duration": 2,
    "start_time": "2022-11-25T19:39:35.938Z"
   },
   {
    "duration": 3,
    "start_time": "2022-11-25T19:39:36.426Z"
   },
   {
    "duration": 3,
    "start_time": "2022-11-25T19:39:36.898Z"
   },
   {
    "duration": 18,
    "start_time": "2022-11-25T19:39:37.337Z"
   },
   {
    "duration": 7,
    "start_time": "2022-11-25T19:39:37.914Z"
   },
   {
    "duration": 2,
    "start_time": "2022-11-25T19:39:38.370Z"
   },
   {
    "duration": 3,
    "start_time": "2022-11-25T19:39:39.026Z"
   },
   {
    "duration": 15,
    "start_time": "2022-11-25T19:39:39.626Z"
   },
   {
    "duration": 2,
    "start_time": "2022-11-25T19:39:40.467Z"
   },
   {
    "duration": 650,
    "start_time": "2022-11-25T19:39:41.019Z"
   },
   {
    "duration": 2,
    "start_time": "2022-11-25T19:39:42.741Z"
   },
   {
    "duration": 22,
    "start_time": "2022-11-25T19:39:43.723Z"
   },
   {
    "duration": 5,
    "start_time": "2022-11-25T19:39:44.554Z"
   },
   {
    "duration": 15,
    "start_time": "2022-11-25T19:39:51.603Z"
   },
   {
    "duration": 22,
    "start_time": "2022-11-25T19:40:23.467Z"
   },
   {
    "duration": 20,
    "start_time": "2022-11-25T19:40:25.628Z"
   },
   {
    "duration": 21,
    "start_time": "2022-11-25T19:40:39.595Z"
   },
   {
    "duration": 34602,
    "start_time": "2022-11-25T19:41:48.765Z"
   },
   {
    "duration": 4,
    "start_time": "2022-11-25T19:42:23.368Z"
   },
   {
    "duration": 50,
    "start_time": "2022-11-25T19:42:23.373Z"
   },
   {
    "duration": 3,
    "start_time": "2022-11-25T19:42:23.425Z"
   },
   {
    "duration": 35,
    "start_time": "2022-11-25T19:42:23.429Z"
   },
   {
    "duration": 32,
    "start_time": "2022-11-25T19:42:23.466Z"
   },
   {
    "duration": 45,
    "start_time": "2022-11-25T19:42:23.499Z"
   },
   {
    "duration": 11,
    "start_time": "2022-11-25T19:42:23.546Z"
   },
   {
    "duration": 25,
    "start_time": "2022-11-25T19:42:23.558Z"
   },
   {
    "duration": 21,
    "start_time": "2022-11-25T19:42:23.585Z"
   },
   {
    "duration": 26,
    "start_time": "2022-11-25T19:42:23.607Z"
   },
   {
    "duration": 7,
    "start_time": "2022-11-25T19:43:19.358Z"
   },
   {
    "duration": 7,
    "start_time": "2022-11-25T19:43:19.782Z"
   },
   {
    "duration": 6,
    "start_time": "2022-11-25T19:43:20.414Z"
   },
   {
    "duration": 3,
    "start_time": "2022-11-25T19:43:21.022Z"
   },
   {
    "duration": 5,
    "start_time": "2022-11-25T19:43:22.598Z"
   },
   {
    "duration": 5,
    "start_time": "2022-11-25T19:43:23.510Z"
   },
   {
    "duration": 2,
    "start_time": "2022-11-25T19:43:24.287Z"
   },
   {
    "duration": 2,
    "start_time": "2022-11-25T19:43:24.952Z"
   },
   {
    "duration": 19,
    "start_time": "2022-11-25T19:43:25.767Z"
   },
   {
    "duration": 4,
    "start_time": "2022-11-25T19:43:56.023Z"
   },
   {
    "duration": 2,
    "start_time": "2022-11-25T19:43:56.856Z"
   },
   {
    "duration": 5,
    "start_time": "2022-11-25T19:43:57.648Z"
   },
   {
    "duration": 3,
    "start_time": "2022-11-25T19:43:58.398Z"
   },
   {
    "duration": 5,
    "start_time": "2022-11-25T19:43:59.094Z"
   },
   {
    "duration": 2,
    "start_time": "2022-11-25T19:43:59.855Z"
   },
   {
    "duration": 886,
    "start_time": "2022-11-25T19:44:00.623Z"
   },
   {
    "duration": 2,
    "start_time": "2022-11-25T19:44:02.838Z"
   },
   {
    "duration": 34369,
    "start_time": "2022-11-25T19:44:04.503Z"
   },
   {
    "duration": 5,
    "start_time": "2022-11-25T19:44:42.119Z"
   },
   {
    "duration": 2,
    "start_time": "2022-11-25T19:44:42.795Z"
   },
   {
    "duration": 2,
    "start_time": "2022-11-25T19:44:43.383Z"
   },
   {
    "duration": 15,
    "start_time": "2022-11-25T19:44:44.098Z"
   },
   {
    "duration": 2,
    "start_time": "2022-11-25T19:44:45.511Z"
   },
   {
    "duration": 525,
    "start_time": "2022-11-25T19:44:46.119Z"
   },
   {
    "duration": 2,
    "start_time": "2022-11-25T19:44:47.679Z"
   },
   {
    "duration": 26,
    "start_time": "2022-11-25T19:44:48.304Z"
   },
   {
    "duration": 5,
    "start_time": "2022-11-25T19:44:49.303Z"
   },
   {
    "duration": 52575,
    "start_time": "2022-11-25T19:44:57.976Z"
   },
   {
    "duration": 6,
    "start_time": "2022-11-25T19:47:38.075Z"
   },
   {
    "duration": 2,
    "start_time": "2022-11-25T19:47:38.684Z"
   },
   {
    "duration": 3,
    "start_time": "2022-11-25T19:47:39.242Z"
   },
   {
    "duration": 14,
    "start_time": "2022-11-25T19:47:39.803Z"
   },
   {
    "duration": 2,
    "start_time": "2022-11-25T19:47:40.572Z"
   },
   {
    "duration": 498,
    "start_time": "2022-11-25T19:47:41.243Z"
   },
   {
    "duration": 3,
    "start_time": "2022-11-25T19:47:42.931Z"
   },
   {
    "duration": 18,
    "start_time": "2022-11-25T19:47:43.771Z"
   },
   {
    "duration": 5,
    "start_time": "2022-11-25T19:47:44.667Z"
   },
   {
    "duration": 71649,
    "start_time": "2022-11-25T19:47:56.747Z"
   },
   {
    "duration": 5,
    "start_time": "2022-11-25T19:51:22.648Z"
   },
   {
    "duration": 2,
    "start_time": "2022-11-25T19:51:23.544Z"
   },
   {
    "duration": 2,
    "start_time": "2022-11-25T19:51:24.114Z"
   },
   {
    "duration": 14,
    "start_time": "2022-11-25T19:51:24.775Z"
   },
   {
    "duration": 2,
    "start_time": "2022-11-25T19:51:25.496Z"
   },
   {
    "duration": 524,
    "start_time": "2022-11-25T19:51:26.224Z"
   },
   {
    "duration": 2,
    "start_time": "2022-11-25T19:51:31.104Z"
   },
   {
    "duration": 17,
    "start_time": "2022-11-25T19:51:31.648Z"
   },
   {
    "duration": 5,
    "start_time": "2022-11-25T19:51:32.513Z"
   },
   {
    "duration": 90534,
    "start_time": "2022-11-25T19:51:43.586Z"
   },
   {
    "duration": 5,
    "start_time": "2022-11-25T19:53:18.321Z"
   },
   {
    "duration": 2,
    "start_time": "2022-11-25T19:53:19.001Z"
   },
   {
    "duration": 2,
    "start_time": "2022-11-25T19:53:19.658Z"
   },
   {
    "duration": 15,
    "start_time": "2022-11-25T19:53:20.273Z"
   },
   {
    "duration": 2,
    "start_time": "2022-11-25T19:53:20.905Z"
   },
   {
    "duration": 457,
    "start_time": "2022-11-25T19:53:21.538Z"
   },
   {
    "duration": 2,
    "start_time": "2022-11-25T19:53:22.945Z"
   },
   {
    "duration": 19,
    "start_time": "2022-11-25T19:53:23.427Z"
   },
   {
    "duration": 5,
    "start_time": "2022-11-25T19:53:24.075Z"
   },
   {
    "duration": 161437,
    "start_time": "2022-11-25T19:53:32.161Z"
   },
   {
    "duration": 194181,
    "start_time": "2022-11-25T19:57:06.777Z"
   },
   {
    "duration": 195787,
    "start_time": "2022-11-25T20:00:28.342Z"
   },
   {
    "duration": 5,
    "start_time": "2022-11-25T20:07:00.498Z"
   },
   {
    "duration": 2,
    "start_time": "2022-11-25T20:07:01.225Z"
   },
   {
    "duration": 2,
    "start_time": "2022-11-25T20:07:01.769Z"
   },
   {
    "duration": 15,
    "start_time": "2022-11-25T20:07:02.370Z"
   },
   {
    "duration": 2,
    "start_time": "2022-11-25T20:07:07.473Z"
   },
   {
    "duration": 644,
    "start_time": "2022-11-25T20:07:08.049Z"
   },
   {
    "duration": 3,
    "start_time": "2022-11-25T20:07:10.168Z"
   },
   {
    "duration": 22,
    "start_time": "2022-11-25T20:07:10.665Z"
   },
   {
    "duration": 6,
    "start_time": "2022-11-25T20:07:11.835Z"
   },
   {
    "duration": 6,
    "start_time": "2022-11-25T20:07:32.026Z"
   },
   {
    "duration": 6,
    "start_time": "2022-11-25T20:07:33.186Z"
   },
   {
    "duration": 22,
    "start_time": "2022-11-25T20:07:34.917Z"
   },
   {
    "duration": 21,
    "start_time": "2022-11-25T20:07:40.041Z"
   },
   {
    "duration": 22,
    "start_time": "2022-11-25T20:07:42.642Z"
   },
   {
    "duration": 5,
    "start_time": "2022-11-25T20:07:45.493Z"
   },
   {
    "duration": 5,
    "start_time": "2022-11-25T20:07:47.218Z"
   },
   {
    "duration": 6,
    "start_time": "2022-11-25T20:07:49.931Z"
   },
   {
    "duration": 23,
    "start_time": "2022-11-25T20:07:52.498Z"
   },
   {
    "duration": 3,
    "start_time": "2022-11-25T20:08:26.963Z"
   },
   {
    "duration": 36,
    "start_time": "2022-11-25T20:08:27.532Z"
   },
   {
    "duration": 3,
    "start_time": "2022-11-25T20:08:28.028Z"
   },
   {
    "duration": 15,
    "start_time": "2022-11-25T20:08:28.597Z"
   },
   {
    "duration": 7,
    "start_time": "2022-11-25T20:08:29.099Z"
   },
   {
    "duration": 11,
    "start_time": "2022-11-25T20:08:29.713Z"
   },
   {
    "duration": 4,
    "start_time": "2022-11-25T20:08:30.250Z"
   },
   {
    "duration": 13,
    "start_time": "2022-11-25T20:08:30.860Z"
   },
   {
    "duration": 6,
    "start_time": "2022-11-25T20:08:31.476Z"
   },
   {
    "duration": 6,
    "start_time": "2022-11-25T20:08:32.106Z"
   },
   {
    "duration": 6,
    "start_time": "2022-11-25T20:08:32.674Z"
   },
   {
    "duration": 4,
    "start_time": "2022-11-25T20:08:33.239Z"
   },
   {
    "duration": 4,
    "start_time": "2022-11-25T20:08:34.458Z"
   },
   {
    "duration": 5,
    "start_time": "2022-11-25T20:08:35.011Z"
   },
   {
    "duration": 3,
    "start_time": "2022-11-25T20:08:35.562Z"
   },
   {
    "duration": 2,
    "start_time": "2022-11-25T20:08:36.195Z"
   },
   {
    "duration": 20,
    "start_time": "2022-11-25T20:08:36.764Z"
   },
   {
    "duration": 5,
    "start_time": "2022-11-25T20:08:37.402Z"
   },
   {
    "duration": 2,
    "start_time": "2022-11-25T20:08:38.028Z"
   },
   {
    "duration": 5,
    "start_time": "2022-11-25T20:08:38.651Z"
   },
   {
    "duration": 2,
    "start_time": "2022-11-25T20:08:39.237Z"
   },
   {
    "duration": 5,
    "start_time": "2022-11-25T20:08:39.843Z"
   },
   {
    "duration": 2,
    "start_time": "2022-11-25T20:08:40.466Z"
   },
   {
    "duration": 743,
    "start_time": "2022-11-25T20:08:41.066Z"
   },
   {
    "duration": 2,
    "start_time": "2022-11-25T20:08:41.934Z"
   },
   {
    "duration": 4,
    "start_time": "2022-11-25T20:24:21.524Z"
   },
   {
    "duration": 38,
    "start_time": "2022-11-25T20:24:22.300Z"
   },
   {
    "duration": 3,
    "start_time": "2022-11-25T20:24:22.869Z"
   },
   {
    "duration": 12,
    "start_time": "2022-11-25T20:24:23.386Z"
   },
   {
    "duration": 8,
    "start_time": "2022-11-25T20:24:23.981Z"
   },
   {
    "duration": 11,
    "start_time": "2022-11-25T20:24:24.598Z"
   },
   {
    "duration": 4,
    "start_time": "2022-11-25T20:24:25.167Z"
   },
   {
    "duration": 13,
    "start_time": "2022-11-25T20:24:25.772Z"
   },
   {
    "duration": 7,
    "start_time": "2022-11-25T20:24:26.296Z"
   },
   {
    "duration": 6,
    "start_time": "2022-11-25T20:24:27.002Z"
   },
   {
    "duration": 8,
    "start_time": "2022-11-25T20:24:27.675Z"
   },
   {
    "duration": 4,
    "start_time": "2022-11-25T20:24:28.258Z"
   },
   {
    "duration": 5,
    "start_time": "2022-11-25T20:24:30.009Z"
   },
   {
    "duration": 4,
    "start_time": "2022-11-25T20:24:30.641Z"
   },
   {
    "duration": 3,
    "start_time": "2022-11-25T20:24:31.200Z"
   },
   {
    "duration": 2,
    "start_time": "2022-11-25T20:24:31.722Z"
   },
   {
    "duration": 19,
    "start_time": "2022-11-25T20:24:32.401Z"
   },
   {
    "duration": 4,
    "start_time": "2022-11-25T20:24:33.296Z"
   },
   {
    "duration": 2,
    "start_time": "2022-11-25T20:24:35.087Z"
   },
   {
    "duration": 5,
    "start_time": "2022-11-25T20:24:35.789Z"
   },
   {
    "duration": 2,
    "start_time": "2022-11-25T20:24:36.664Z"
   },
   {
    "duration": 5,
    "start_time": "2022-11-25T20:24:37.176Z"
   },
   {
    "duration": 2,
    "start_time": "2022-11-25T20:24:37.939Z"
   },
   {
    "duration": 959,
    "start_time": "2022-11-25T20:24:38.554Z"
   },
   {
    "duration": 2,
    "start_time": "2022-11-25T20:24:39.607Z"
   },
   {
    "duration": 233485,
    "start_time": "2022-11-25T20:24:41.731Z"
   },
   {
    "duration": 1067,
    "start_time": "2022-11-25T20:35:00.929Z"
   },
   {
    "duration": 43,
    "start_time": "2022-11-25T20:35:03.500Z"
   },
   {
    "duration": 8,
    "start_time": "2022-11-25T20:35:04.634Z"
   },
   {
    "duration": 16,
    "start_time": "2022-11-25T20:35:08.058Z"
   },
   {
    "duration": 7,
    "start_time": "2022-11-25T20:35:09.035Z"
   },
   {
    "duration": 12,
    "start_time": "2022-11-25T20:35:10.397Z"
   },
   {
    "duration": 4,
    "start_time": "2022-11-25T20:35:11.326Z"
   },
   {
    "duration": 13,
    "start_time": "2022-11-25T20:35:12.368Z"
   },
   {
    "duration": 7,
    "start_time": "2022-11-25T20:35:13.504Z"
   },
   {
    "duration": 6,
    "start_time": "2022-11-25T20:35:14.433Z"
   },
   {
    "duration": 6,
    "start_time": "2022-11-25T20:35:15.343Z"
   },
   {
    "duration": 5,
    "start_time": "2022-11-25T20:35:16.197Z"
   },
   {
    "duration": 6,
    "start_time": "2022-11-25T20:35:17.866Z"
   },
   {
    "duration": 5,
    "start_time": "2022-11-25T20:35:18.552Z"
   },
   {
    "duration": 2,
    "start_time": "2022-11-25T20:35:19.567Z"
   },
   {
    "duration": 3,
    "start_time": "2022-11-25T20:35:20.398Z"
   },
   {
    "duration": 100,
    "start_time": "2022-11-25T20:35:21.360Z"
   },
   {
    "duration": 5,
    "start_time": "2022-11-25T20:35:22.417Z"
   },
   {
    "duration": 6,
    "start_time": "2022-11-25T20:36:19.103Z"
   },
   {
    "duration": 3,
    "start_time": "2022-11-25T20:36:19.596Z"
   },
   {
    "duration": 6,
    "start_time": "2022-11-25T20:36:20.194Z"
   },
   {
    "duration": 2,
    "start_time": "2022-11-25T20:36:20.911Z"
   },
   {
    "duration": 5,
    "start_time": "2022-11-25T20:36:22.511Z"
   },
   {
    "duration": 22,
    "start_time": "2022-11-25T20:36:23.094Z"
   },
   {
    "duration": 2,
    "start_time": "2022-11-25T20:36:27.649Z"
   },
   {
    "duration": 3,
    "start_time": "2022-11-25T20:36:41.109Z"
   },
   {
    "duration": 114,
    "start_time": "2022-11-25T20:36:41.114Z"
   },
   {
    "duration": 2,
    "start_time": "2022-11-25T20:36:41.230Z"
   },
   {
    "duration": 1679,
    "start_time": "2022-11-25T20:36:41.233Z"
   },
   {
    "duration": 90,
    "start_time": "2022-11-25T20:36:42.914Z"
   },
   {
    "duration": 162106,
    "start_time": "2022-11-25T20:36:45.499Z"
   },
   {
    "duration": 6,
    "start_time": "2022-11-25T20:40:56.883Z"
   },
   {
    "duration": 3,
    "start_time": "2022-11-25T20:40:57.546Z"
   },
   {
    "duration": 2,
    "start_time": "2022-11-25T20:40:58.345Z"
   },
   {
    "duration": 19,
    "start_time": "2022-11-25T20:40:59.031Z"
   },
   {
    "duration": 2,
    "start_time": "2022-11-25T20:40:59.822Z"
   },
   {
    "duration": 488,
    "start_time": "2022-11-25T20:41:00.698Z"
   },
   {
    "duration": 2,
    "start_time": "2022-11-25T20:41:02.161Z"
   },
   {
    "duration": 21,
    "start_time": "2022-11-25T20:41:02.934Z"
   },
   {
    "duration": 7,
    "start_time": "2022-11-25T20:41:04.030Z"
   },
   {
    "duration": 230235,
    "start_time": "2022-11-25T20:41:16.468Z"
   },
   {
    "duration": 5,
    "start_time": "2022-11-25T20:45:12.517Z"
   },
   {
    "duration": 2,
    "start_time": "2022-11-25T20:45:13.019Z"
   },
   {
    "duration": 2,
    "start_time": "2022-11-25T20:45:13.712Z"
   },
   {
    "duration": 16,
    "start_time": "2022-11-25T20:45:14.310Z"
   },
   {
    "duration": 2,
    "start_time": "2022-11-25T20:45:14.965Z"
   },
   {
    "duration": 483,
    "start_time": "2022-11-25T20:45:15.535Z"
   },
   {
    "duration": 2,
    "start_time": "2022-11-25T20:45:16.892Z"
   },
   {
    "duration": 19,
    "start_time": "2022-11-25T20:45:17.472Z"
   },
   {
    "duration": 6,
    "start_time": "2022-11-25T20:45:18.370Z"
   },
   {
    "duration": 3,
    "start_time": "2022-11-25T20:45:40.472Z"
   },
   {
    "duration": 57,
    "start_time": "2022-11-25T20:45:41.000Z"
   },
   {
    "duration": 4,
    "start_time": "2022-11-25T20:45:41.554Z"
   },
   {
    "duration": 24,
    "start_time": "2022-11-25T20:45:42.175Z"
   },
   {
    "duration": 9,
    "start_time": "2022-11-25T20:45:42.942Z"
   },
   {
    "duration": 11,
    "start_time": "2022-11-25T20:45:43.577Z"
   },
   {
    "duration": 4,
    "start_time": "2022-11-25T20:45:44.290Z"
   },
   {
    "duration": 15,
    "start_time": "2022-11-25T20:45:44.922Z"
   },
   {
    "duration": 9,
    "start_time": "2022-11-25T20:45:45.581Z"
   },
   {
    "duration": 6,
    "start_time": "2022-11-25T20:45:46.131Z"
   },
   {
    "duration": 5,
    "start_time": "2022-11-25T20:45:46.887Z"
   },
   {
    "duration": 4,
    "start_time": "2022-11-25T20:45:47.577Z"
   },
   {
    "duration": 5,
    "start_time": "2022-11-25T20:45:49.103Z"
   },
   {
    "duration": 5,
    "start_time": "2022-11-25T20:45:49.796Z"
   },
   {
    "duration": 3,
    "start_time": "2022-11-25T20:45:50.614Z"
   },
   {
    "duration": 7,
    "start_time": "2022-11-25T20:45:51.257Z"
   },
   {
    "duration": 2,
    "start_time": "2022-11-25T20:45:52.076Z"
   },
   {
    "duration": 17,
    "start_time": "2022-11-25T20:46:36.714Z"
   },
   {
    "duration": 3,
    "start_time": "2022-11-25T20:46:44.191Z"
   },
   {
    "duration": 40,
    "start_time": "2022-11-25T20:46:44.645Z"
   },
   {
    "duration": 4,
    "start_time": "2022-11-25T20:46:45.118Z"
   },
   {
    "duration": 15,
    "start_time": "2022-11-25T20:46:45.569Z"
   },
   {
    "duration": 8,
    "start_time": "2022-11-25T20:46:46.064Z"
   },
   {
    "duration": 11,
    "start_time": "2022-11-25T20:46:46.615Z"
   },
   {
    "duration": 4,
    "start_time": "2022-11-25T20:46:47.170Z"
   },
   {
    "duration": 13,
    "start_time": "2022-11-25T20:46:47.618Z"
   },
   {
    "duration": 7,
    "start_time": "2022-11-25T20:46:48.249Z"
   },
   {
    "duration": 5,
    "start_time": "2022-11-25T20:46:48.811Z"
   },
   {
    "duration": 6,
    "start_time": "2022-11-25T20:46:49.409Z"
   },
   {
    "duration": 4,
    "start_time": "2022-11-25T20:46:50.009Z"
   },
   {
    "duration": 4,
    "start_time": "2022-11-25T20:46:51.564Z"
   },
   {
    "duration": 5,
    "start_time": "2022-11-25T20:46:52.122Z"
   },
   {
    "duration": 5,
    "start_time": "2022-11-25T20:46:52.748Z"
   },
   {
    "duration": 2,
    "start_time": "2022-11-25T20:46:53.314Z"
   },
   {
    "duration": 5,
    "start_time": "2022-11-25T20:46:53.960Z"
   },
   {
    "duration": 2,
    "start_time": "2022-11-25T20:46:54.579Z"
   },
   {
    "duration": 5,
    "start_time": "2022-11-25T20:46:55.114Z"
   },
   {
    "duration": 3,
    "start_time": "2022-11-25T20:46:55.680Z"
   },
   {
    "duration": 22,
    "start_time": "2022-11-25T20:46:56.305Z"
   },
   {
    "duration": 3,
    "start_time": "2022-11-25T20:46:57.267Z"
   },
   {
    "duration": 1621,
    "start_time": "2022-11-25T20:46:58.091Z"
   },
   {
    "duration": 2,
    "start_time": "2022-11-25T20:47:01.178Z"
   },
   {
    "duration": 1128,
    "start_time": "2022-11-25T20:54:51.012Z"
   },
   {
    "duration": 43,
    "start_time": "2022-11-25T20:54:52.142Z"
   },
   {
    "duration": 8,
    "start_time": "2022-11-25T20:54:52.514Z"
   },
   {
    "duration": 17,
    "start_time": "2022-11-25T20:54:55.300Z"
   },
   {
    "duration": 7,
    "start_time": "2022-11-25T20:54:56.061Z"
   },
   {
    "duration": 12,
    "start_time": "2022-11-25T20:54:56.940Z"
   },
   {
    "duration": 4,
    "start_time": "2022-11-25T20:54:57.611Z"
   },
   {
    "duration": 16,
    "start_time": "2022-11-25T20:54:58.303Z"
   },
   {
    "duration": 7,
    "start_time": "2022-11-25T20:54:58.879Z"
   },
   {
    "duration": 6,
    "start_time": "2022-11-25T20:54:59.859Z"
   },
   {
    "duration": 7,
    "start_time": "2022-11-25T20:55:00.426Z"
   },
   {
    "duration": 4,
    "start_time": "2022-11-25T20:55:01.061Z"
   },
   {
    "duration": 5,
    "start_time": "2022-11-25T20:55:02.364Z"
   },
   {
    "duration": 5,
    "start_time": "2022-11-25T20:55:03.003Z"
   },
   {
    "duration": 5,
    "start_time": "2022-11-25T20:55:03.510Z"
   },
   {
    "duration": 2,
    "start_time": "2022-11-25T20:55:04.057Z"
   },
   {
    "duration": 6,
    "start_time": "2022-11-25T20:55:04.562Z"
   },
   {
    "duration": 2,
    "start_time": "2022-11-25T20:55:05.167Z"
   },
   {
    "duration": 5,
    "start_time": "2022-11-25T20:55:05.691Z"
   },
   {
    "duration": 2,
    "start_time": "2022-11-25T20:55:06.197Z"
   },
   {
    "duration": 22,
    "start_time": "2022-11-25T20:55:07.096Z"
   },
   {
    "duration": 2,
    "start_time": "2022-11-25T20:55:07.914Z"
   },
   {
    "duration": 1045,
    "start_time": "2022-11-25T20:55:09.965Z"
   },
   {
    "duration": 2,
    "start_time": "2022-11-25T20:55:11.432Z"
   },
   {
    "duration": 3,
    "start_time": "2022-11-25T20:55:50.282Z"
   },
   {
    "duration": 47,
    "start_time": "2022-11-25T20:55:51.590Z"
   },
   {
    "duration": 1021,
    "start_time": "2022-11-25T20:56:02.866Z"
   },
   {
    "duration": 1048,
    "start_time": "2022-11-25T20:56:13.131Z"
   },
   {
    "duration": 42,
    "start_time": "2022-11-25T20:56:14.181Z"
   },
   {
    "duration": 9,
    "start_time": "2022-11-25T20:56:17.710Z"
   },
   {
    "duration": 17,
    "start_time": "2022-11-25T20:56:18.226Z"
   },
   {
    "duration": 8,
    "start_time": "2022-11-25T20:56:18.595Z"
   },
   {
    "duration": 14,
    "start_time": "2022-11-25T20:56:19.099Z"
   },
   {
    "duration": 4,
    "start_time": "2022-11-25T20:56:19.549Z"
   },
   {
    "duration": 14,
    "start_time": "2022-11-25T20:56:19.929Z"
   },
   {
    "duration": 7,
    "start_time": "2022-11-25T20:56:20.343Z"
   },
   {
    "duration": 6,
    "start_time": "2022-11-25T20:56:20.797Z"
   },
   {
    "duration": 7,
    "start_time": "2022-11-25T20:56:21.271Z"
   },
   {
    "duration": 4,
    "start_time": "2022-11-25T20:56:21.896Z"
   },
   {
    "duration": 5,
    "start_time": "2022-11-25T20:56:23.138Z"
   },
   {
    "duration": 5,
    "start_time": "2022-11-25T20:56:23.876Z"
   },
   {
    "duration": 5,
    "start_time": "2022-11-25T20:56:24.583Z"
   },
   {
    "duration": 2,
    "start_time": "2022-11-25T20:56:25.221Z"
   },
   {
    "duration": 6,
    "start_time": "2022-11-25T20:56:25.804Z"
   },
   {
    "duration": 3,
    "start_time": "2022-11-25T20:56:26.571Z"
   },
   {
    "duration": 5,
    "start_time": "2022-11-25T20:56:27.147Z"
   },
   {
    "duration": 2,
    "start_time": "2022-11-25T20:56:27.732Z"
   },
   {
    "duration": 24,
    "start_time": "2022-11-25T20:56:28.547Z"
   },
   {
    "duration": 2,
    "start_time": "2022-11-25T20:56:34.469Z"
   },
   {
    "duration": 3058,
    "start_time": "2022-11-25T20:56:34.948Z"
   },
   {
    "duration": 3,
    "start_time": "2022-11-25T20:56:39.430Z"
   },
   {
    "duration": 1064,
    "start_time": "2022-11-25T21:03:16.127Z"
   },
   {
    "duration": 42,
    "start_time": "2022-11-25T21:03:17.193Z"
   },
   {
    "duration": 8,
    "start_time": "2022-11-25T21:03:17.310Z"
   },
   {
    "duration": 16,
    "start_time": "2022-11-25T21:03:18.701Z"
   },
   {
    "duration": 8,
    "start_time": "2022-11-25T21:03:19.158Z"
   },
   {
    "duration": 11,
    "start_time": "2022-11-25T21:03:19.657Z"
   },
   {
    "duration": 4,
    "start_time": "2022-11-25T21:03:20.115Z"
   },
   {
    "duration": 13,
    "start_time": "2022-11-25T21:03:20.577Z"
   },
   {
    "duration": 7,
    "start_time": "2022-11-25T21:03:21.061Z"
   },
   {
    "duration": 5,
    "start_time": "2022-11-25T21:03:21.702Z"
   },
   {
    "duration": 6,
    "start_time": "2022-11-25T21:03:22.179Z"
   },
   {
    "duration": 5,
    "start_time": "2022-11-25T21:03:22.883Z"
   },
   {
    "duration": 4,
    "start_time": "2022-11-25T21:03:24.174Z"
   },
   {
    "duration": 5,
    "start_time": "2022-11-25T21:03:24.796Z"
   },
   {
    "duration": 5,
    "start_time": "2022-11-25T21:03:25.458Z"
   },
   {
    "duration": 2,
    "start_time": "2022-11-25T21:03:26.075Z"
   },
   {
    "duration": 6,
    "start_time": "2022-11-25T21:03:27.459Z"
   },
   {
    "duration": 2,
    "start_time": "2022-11-25T21:03:28.176Z"
   },
   {
    "duration": 5,
    "start_time": "2022-11-25T21:03:28.853Z"
   },
   {
    "duration": 2,
    "start_time": "2022-11-25T21:03:29.506Z"
   },
   {
    "duration": 23,
    "start_time": "2022-11-25T21:03:30.401Z"
   },
   {
    "duration": 19,
    "start_time": "2022-11-25T21:03:34.069Z"
   },
   {
    "duration": 3,
    "start_time": "2022-11-25T21:03:35.760Z"
   },
   {
    "duration": 944,
    "start_time": "2022-11-25T21:03:36.560Z"
   },
   {
    "duration": 2,
    "start_time": "2022-11-25T21:03:39.464Z"
   },
   {
    "duration": 33963,
    "start_time": "2022-11-25T21:03:40.463Z"
   },
   {
    "duration": 6,
    "start_time": "2022-11-25T21:04:23.094Z"
   },
   {
    "duration": 2,
    "start_time": "2022-11-25T21:04:24.030Z"
   },
   {
    "duration": 2,
    "start_time": "2022-11-25T21:04:24.570Z"
   },
   {
    "duration": 21,
    "start_time": "2022-11-25T21:04:25.158Z"
   },
   {
    "duration": 2,
    "start_time": "2022-11-25T21:04:25.902Z"
   },
   {
    "duration": 479,
    "start_time": "2022-11-25T21:04:26.465Z"
   },
   {
    "duration": 2,
    "start_time": "2022-11-25T21:04:27.047Z"
   },
   {
    "duration": 20,
    "start_time": "2022-11-25T21:04:27.611Z"
   },
   {
    "duration": 7,
    "start_time": "2022-11-25T21:04:28.470Z"
   },
   {
    "duration": 64572,
    "start_time": "2022-11-25T21:04:41.262Z"
   },
   {
    "duration": 91139,
    "start_time": "2022-11-25T21:05:59.036Z"
   },
   {
    "duration": 5,
    "start_time": "2022-11-25T21:07:43.579Z"
   },
   {
    "duration": 2,
    "start_time": "2022-11-25T21:07:44.042Z"
   },
   {
    "duration": 2,
    "start_time": "2022-11-25T21:07:44.510Z"
   },
   {
    "duration": 16,
    "start_time": "2022-11-25T21:07:45.038Z"
   },
   {
    "duration": 2,
    "start_time": "2022-11-25T21:07:45.699Z"
   },
   {
    "duration": 472,
    "start_time": "2022-11-25T21:07:46.206Z"
   },
   {
    "duration": 2,
    "start_time": "2022-11-25T21:07:46.749Z"
   },
   {
    "duration": 23,
    "start_time": "2022-11-25T21:07:47.298Z"
   },
   {
    "duration": 5,
    "start_time": "2022-11-25T21:07:49.358Z"
   },
   {
    "duration": 164359,
    "start_time": "2022-11-25T21:08:03.396Z"
   },
   {
    "duration": 6,
    "start_time": "2022-11-25T21:11:13.476Z"
   },
   {
    "duration": 2,
    "start_time": "2022-11-25T21:11:14.151Z"
   },
   {
    "duration": 3,
    "start_time": "2022-11-25T21:11:15.095Z"
   },
   {
    "duration": 16,
    "start_time": "2022-11-25T21:11:15.829Z"
   },
   {
    "duration": 2,
    "start_time": "2022-11-25T21:11:16.486Z"
   },
   {
    "duration": 481,
    "start_time": "2022-11-25T21:11:17.047Z"
   },
   {
    "duration": 2,
    "start_time": "2022-11-25T21:11:17.690Z"
   },
   {
    "duration": 23,
    "start_time": "2022-11-25T21:11:18.258Z"
   },
   {
    "duration": 6,
    "start_time": "2022-11-25T21:11:18.882Z"
   },
   {
    "duration": 0,
    "start_time": "2022-11-25T21:20:49.226Z"
   },
   {
    "duration": 9,
    "start_time": "2022-11-25T21:20:52.924Z"
   },
   {
    "duration": 11,
    "start_time": "2022-11-25T21:22:26.628Z"
   },
   {
    "duration": 10,
    "start_time": "2022-11-25T21:23:44.185Z"
   },
   {
    "duration": 10,
    "start_time": "2022-11-25T21:27:00.377Z"
   },
   {
    "duration": 11,
    "start_time": "2022-11-25T21:27:18.023Z"
   },
   {
    "duration": 7234,
    "start_time": "2022-11-25T21:29:30.775Z"
   },
   {
    "duration": 7,
    "start_time": "2022-11-25T21:29:41.539Z"
   },
   {
    "duration": 2,
    "start_time": "2022-11-25T21:29:42.105Z"
   },
   {
    "duration": 2,
    "start_time": "2022-11-25T21:29:42.657Z"
   },
   {
    "duration": 17,
    "start_time": "2022-11-25T21:29:43.329Z"
   },
   {
    "duration": 2,
    "start_time": "2022-11-25T21:29:44.604Z"
   },
   {
    "duration": 110,
    "start_time": "2022-11-25T21:29:45.298Z"
   },
   {
    "duration": 2,
    "start_time": "2022-11-25T21:29:47.483Z"
   },
   {
    "duration": 9,
    "start_time": "2022-11-25T21:29:47.986Z"
   },
   {
    "duration": 5,
    "start_time": "2022-11-25T21:29:49.174Z"
   },
   {
    "duration": 5,
    "start_time": "2022-11-25T21:29:57.885Z"
   },
   {
    "duration": 2,
    "start_time": "2022-11-25T21:29:58.667Z"
   },
   {
    "duration": 2,
    "start_time": "2022-11-25T21:29:59.263Z"
   },
   {
    "duration": 18,
    "start_time": "2022-11-25T21:30:00.136Z"
   },
   {
    "duration": 2,
    "start_time": "2022-11-25T21:30:01.469Z"
   },
   {
    "duration": 92,
    "start_time": "2022-11-25T21:30:02.246Z"
   },
   {
    "duration": 2,
    "start_time": "2022-11-25T21:30:09.334Z"
   },
   {
    "duration": 10,
    "start_time": "2022-11-25T21:30:09.883Z"
   },
   {
    "duration": 20,
    "start_time": "2022-11-25T21:30:13.889Z"
   },
   {
    "duration": 3,
    "start_time": "2022-11-25T21:30:14.788Z"
   },
   {
    "duration": 5403,
    "start_time": "2022-11-25T21:30:15.702Z"
   },
   {
    "duration": 2,
    "start_time": "2022-11-25T21:30:23.106Z"
   },
   {
    "duration": 7450,
    "start_time": "2022-11-25T21:30:24.463Z"
   },
   {
    "duration": 6,
    "start_time": "2022-11-25T21:30:36.061Z"
   },
   {
    "duration": 2,
    "start_time": "2022-11-25T21:30:36.768Z"
   },
   {
    "duration": 3,
    "start_time": "2022-11-25T21:30:37.319Z"
   },
   {
    "duration": 16,
    "start_time": "2022-11-25T21:30:37.869Z"
   },
   {
    "duration": 2,
    "start_time": "2022-11-25T21:30:38.507Z"
   },
   {
    "duration": 100,
    "start_time": "2022-11-25T21:30:39.052Z"
   },
   {
    "duration": 2,
    "start_time": "2022-11-25T21:30:40.098Z"
   },
   {
    "duration": 9,
    "start_time": "2022-11-25T21:30:40.959Z"
   },
   {
    "duration": 71912,
    "start_time": "2022-11-25T21:33:11.209Z"
   },
   {
    "duration": 6,
    "start_time": "2022-11-25T21:34:26.515Z"
   },
   {
    "duration": 3,
    "start_time": "2022-11-25T21:34:27.265Z"
   },
   {
    "duration": 2,
    "start_time": "2022-11-25T21:34:27.900Z"
   },
   {
    "duration": 16,
    "start_time": "2022-11-25T21:34:28.560Z"
   },
   {
    "duration": 2,
    "start_time": "2022-11-25T21:34:29.608Z"
   },
   {
    "duration": 128,
    "start_time": "2022-11-25T21:34:30.056Z"
   },
   {
    "duration": 2,
    "start_time": "2022-11-25T21:34:31.801Z"
   },
   {
    "duration": 11,
    "start_time": "2022-11-25T21:34:32.478Z"
   },
   {
    "duration": 6,
    "start_time": "2022-11-25T21:34:33.894Z"
   },
   {
    "duration": 4,
    "start_time": "2022-11-25T21:34:46.609Z"
   },
   {
    "duration": 44,
    "start_time": "2022-11-25T21:34:47.301Z"
   },
   {
    "duration": 4,
    "start_time": "2022-11-25T21:34:47.930Z"
   },
   {
    "duration": 14,
    "start_time": "2022-11-25T21:34:48.831Z"
   },
   {
    "duration": 7,
    "start_time": "2022-11-25T21:34:49.572Z"
   },
   {
    "duration": 12,
    "start_time": "2022-11-25T21:34:50.464Z"
   },
   {
    "duration": 4,
    "start_time": "2022-11-25T21:34:51.364Z"
   },
   {
    "duration": 13,
    "start_time": "2022-11-25T21:34:52.088Z"
   },
   {
    "duration": 9,
    "start_time": "2022-11-25T21:34:52.999Z"
   },
   {
    "duration": 6,
    "start_time": "2022-11-25T21:34:53.961Z"
   },
   {
    "duration": 5,
    "start_time": "2022-11-25T21:34:54.998Z"
   },
   {
    "duration": 4,
    "start_time": "2022-11-25T21:34:55.837Z"
   },
   {
    "duration": 5,
    "start_time": "2022-11-25T21:34:58.266Z"
   },
   {
    "duration": 5,
    "start_time": "2022-11-25T21:34:59.201Z"
   },
   {
    "duration": 5,
    "start_time": "2022-11-25T21:35:00.568Z"
   },
   {
    "duration": 2,
    "start_time": "2022-11-25T21:35:01.792Z"
   },
   {
    "duration": 6,
    "start_time": "2022-11-25T21:35:08.662Z"
   },
   {
    "duration": 2,
    "start_time": "2022-11-25T21:35:09.920Z"
   },
   {
    "duration": 4,
    "start_time": "2022-11-25T21:35:11.023Z"
   },
   {
    "duration": 2,
    "start_time": "2022-11-25T21:35:12.864Z"
   },
   {
    "duration": 21,
    "start_time": "2022-11-25T21:35:14.135Z"
   },
   {
    "duration": 2,
    "start_time": "2022-11-25T21:35:15.770Z"
   },
   {
    "duration": 5814,
    "start_time": "2022-11-25T21:35:17.399Z"
   },
   {
    "duration": 2,
    "start_time": "2022-11-25T21:35:26.196Z"
   },
   {
    "duration": 72263,
    "start_time": "2022-11-25T21:35:27.272Z"
   },
   {
    "duration": 6,
    "start_time": "2022-11-25T21:36:47.015Z"
   },
   {
    "duration": 2,
    "start_time": "2022-11-25T21:36:47.830Z"
   },
   {
    "duration": 3,
    "start_time": "2022-11-25T21:36:48.530Z"
   },
   {
    "duration": 17,
    "start_time": "2022-11-25T21:36:49.701Z"
   },
   {
    "duration": 3,
    "start_time": "2022-11-25T21:36:50.631Z"
   },
   {
    "duration": 186,
    "start_time": "2022-11-25T21:36:51.863Z"
   },
   {
    "duration": 2,
    "start_time": "2022-11-25T21:36:53.841Z"
   },
   {
    "duration": 11,
    "start_time": "2022-11-25T21:36:55.234Z"
   },
   {
    "duration": 6,
    "start_time": "2022-11-25T21:36:56.131Z"
   },
   {
    "duration": 13,
    "start_time": "2022-11-25T21:37:21.061Z"
   },
   {
    "duration": 6,
    "start_time": "2022-11-25T21:37:22.361Z"
   },
   {
    "duration": 7,
    "start_time": "2022-11-25T21:37:28.487Z"
   },
   {
    "duration": 6,
    "start_time": "2022-11-25T21:37:29.083Z"
   },
   {
    "duration": 18,
    "start_time": "2022-11-25T21:37:29.822Z"
   },
   {
    "duration": 12,
    "start_time": "2022-11-25T21:37:32.824Z"
   },
   {
    "duration": 12,
    "start_time": "2022-11-25T21:37:34.003Z"
   },
   {
    "duration": 7,
    "start_time": "2022-11-25T21:37:35.356Z"
   },
   {
    "duration": 5,
    "start_time": "2022-11-25T21:37:36.261Z"
   },
   {
    "duration": 7,
    "start_time": "2022-11-25T21:37:37.827Z"
   },
   {
    "duration": 18,
    "start_time": "2022-11-25T21:37:39.094Z"
   },
   {
    "duration": 91846,
    "start_time": "2022-11-25T21:37:57.861Z"
   },
   {
    "duration": 5,
    "start_time": "2022-11-25T21:39:45.599Z"
   },
   {
    "duration": 2,
    "start_time": "2022-11-25T21:39:46.453Z"
   },
   {
    "duration": 2,
    "start_time": "2022-11-25T21:39:47.014Z"
   },
   {
    "duration": 17,
    "start_time": "2022-11-25T21:39:47.623Z"
   },
   {
    "duration": 2,
    "start_time": "2022-11-25T21:39:48.481Z"
   },
   {
    "duration": 392,
    "start_time": "2022-11-25T21:39:49.138Z"
   },
   {
    "duration": 2,
    "start_time": "2022-11-25T21:39:50.713Z"
   },
   {
    "duration": 18,
    "start_time": "2022-11-25T21:39:51.306Z"
   },
   {
    "duration": 6,
    "start_time": "2022-11-25T21:39:52.376Z"
   },
   {
    "duration": 110216,
    "start_time": "2022-11-25T21:40:07.653Z"
   },
   {
    "duration": 5,
    "start_time": "2022-11-25T21:42:36.366Z"
   },
   {
    "duration": 3,
    "start_time": "2022-11-25T21:42:36.964Z"
   },
   {
    "duration": 2,
    "start_time": "2022-11-25T21:42:37.495Z"
   },
   {
    "duration": 16,
    "start_time": "2022-11-25T21:42:38.101Z"
   },
   {
    "duration": 3,
    "start_time": "2022-11-25T21:42:38.854Z"
   },
   {
    "duration": 404,
    "start_time": "2022-11-25T21:42:39.499Z"
   },
   {
    "duration": 2,
    "start_time": "2022-11-25T21:42:40.174Z"
   },
   {
    "duration": 17,
    "start_time": "2022-11-25T21:42:40.823Z"
   },
   {
    "duration": 6,
    "start_time": "2022-11-25T21:42:41.701Z"
   },
   {
    "duration": 149246,
    "start_time": "2022-11-25T21:42:55.526Z"
   },
   {
    "duration": 6,
    "start_time": "2022-11-25T21:45:28.171Z"
   },
   {
    "duration": 2,
    "start_time": "2022-11-25T21:45:28.994Z"
   },
   {
    "duration": 2,
    "start_time": "2022-11-25T21:45:29.664Z"
   },
   {
    "duration": 17,
    "start_time": "2022-11-25T21:45:30.448Z"
   },
   {
    "duration": 3,
    "start_time": "2022-11-25T21:45:31.358Z"
   },
   {
    "duration": 383,
    "start_time": "2022-11-25T21:45:32.147Z"
   },
   {
    "duration": 3,
    "start_time": "2022-11-25T21:45:33.771Z"
   },
   {
    "duration": 18,
    "start_time": "2022-11-25T21:45:34.453Z"
   },
   {
    "duration": 6,
    "start_time": "2022-11-25T21:45:35.373Z"
   },
   {
    "duration": 165697,
    "start_time": "2022-11-25T21:45:49.510Z"
   },
   {
    "duration": 5,
    "start_time": "2022-11-25T21:48:50.013Z"
   },
   {
    "duration": 2,
    "start_time": "2022-11-25T21:48:50.838Z"
   },
   {
    "duration": 2,
    "start_time": "2022-11-25T21:48:51.510Z"
   },
   {
    "duration": 17,
    "start_time": "2022-11-25T21:48:52.304Z"
   },
   {
    "duration": 2,
    "start_time": "2022-11-25T21:48:53.449Z"
   },
   {
    "duration": 396,
    "start_time": "2022-11-25T21:48:54.162Z"
   },
   {
    "duration": 2,
    "start_time": "2022-11-25T21:48:55.804Z"
   },
   {
    "duration": 17,
    "start_time": "2022-11-25T21:48:56.369Z"
   },
   {
    "duration": 7,
    "start_time": "2022-11-25T21:48:57.402Z"
   },
   {
    "duration": 9,
    "start_time": "2022-11-25T21:49:04.228Z"
   },
   {
    "duration": 4,
    "start_time": "2022-11-25T21:49:07.988Z"
   },
   {
    "duration": 39,
    "start_time": "2022-11-25T21:49:08.596Z"
   },
   {
    "duration": 4,
    "start_time": "2022-11-25T21:49:09.099Z"
   },
   {
    "duration": 13,
    "start_time": "2022-11-25T21:49:09.727Z"
   },
   {
    "duration": 8,
    "start_time": "2022-11-25T21:49:10.394Z"
   },
   {
    "duration": 11,
    "start_time": "2022-11-25T21:49:10.994Z"
   },
   {
    "duration": 4,
    "start_time": "2022-11-25T21:49:11.604Z"
   },
   {
    "duration": 14,
    "start_time": "2022-11-25T21:49:12.314Z"
   },
   {
    "duration": 8,
    "start_time": "2022-11-25T21:49:12.913Z"
   },
   {
    "duration": 6,
    "start_time": "2022-11-25T21:49:13.631Z"
   },
   {
    "duration": 6,
    "start_time": "2022-11-25T21:49:14.246Z"
   },
   {
    "duration": 5,
    "start_time": "2022-11-25T21:49:15.027Z"
   },
   {
    "duration": 5,
    "start_time": "2022-11-25T21:49:16.408Z"
   },
   {
    "duration": 5,
    "start_time": "2022-11-25T21:49:17.035Z"
   },
   {
    "duration": 4,
    "start_time": "2022-11-25T21:49:17.654Z"
   },
   {
    "duration": 3,
    "start_time": "2022-11-25T21:49:18.257Z"
   },
   {
    "duration": 6,
    "start_time": "2022-11-25T21:49:18.929Z"
   },
   {
    "duration": 2,
    "start_time": "2022-11-25T21:49:19.583Z"
   },
   {
    "duration": 5,
    "start_time": "2022-11-25T21:49:20.270Z"
   },
   {
    "duration": 2,
    "start_time": "2022-11-25T21:49:20.920Z"
   },
   {
    "duration": 21,
    "start_time": "2022-11-25T21:49:21.613Z"
   },
   {
    "duration": 2,
    "start_time": "2022-11-25T21:49:22.410Z"
   },
   {
    "duration": 1001,
    "start_time": "2022-11-25T21:49:23.311Z"
   },
   {
    "duration": 97,
    "start_time": "2022-11-25T21:49:24.315Z"
   },
   {
    "duration": 220608,
    "start_time": "2022-11-25T21:49:34.897Z"
   },
   {
    "duration": 6,
    "start_time": "2022-11-25T21:53:18.754Z"
   },
   {
    "duration": 2,
    "start_time": "2022-11-25T21:53:19.546Z"
   },
   {
    "duration": 2,
    "start_time": "2022-11-25T21:53:20.225Z"
   },
   {
    "duration": 18,
    "start_time": "2022-11-25T21:53:20.957Z"
   },
   {
    "duration": 2,
    "start_time": "2022-11-25T21:53:21.572Z"
   },
   {
    "duration": 166,
    "start_time": "2022-11-25T21:53:23.481Z"
   },
   {
    "duration": 164,
    "start_time": "2022-11-25T21:53:26.846Z"
   },
   {
    "duration": 2,
    "start_time": "2022-11-25T21:53:28.541Z"
   },
   {
    "duration": 12,
    "start_time": "2022-11-25T21:53:30.061Z"
   },
   {
    "duration": 6,
    "start_time": "2022-11-25T21:53:31.170Z"
   },
   {
    "duration": 11,
    "start_time": "2022-11-25T21:53:35.770Z"
   },
   {
    "duration": 5,
    "start_time": "2022-11-25T21:53:43.784Z"
   },
   {
    "duration": 16,
    "start_time": "2022-11-25T21:54:10.950Z"
   },
   {
    "duration": 166,
    "start_time": "2022-11-25T21:54:23.822Z"
   },
   {
    "duration": 12,
    "start_time": "2022-11-25T21:54:27.213Z"
   },
   {
    "duration": 6,
    "start_time": "2022-11-25T21:54:28.872Z"
   },
   {
    "duration": 1080,
    "start_time": "2022-11-25T21:59:16.882Z"
   },
   {
    "duration": 41,
    "start_time": "2022-11-25T21:59:20.430Z"
   },
   {
    "duration": 8,
    "start_time": "2022-11-25T21:59:21.412Z"
   },
   {
    "duration": 15,
    "start_time": "2022-11-25T21:59:24.907Z"
   },
   {
    "duration": 7,
    "start_time": "2022-11-25T21:59:25.454Z"
   },
   {
    "duration": 13,
    "start_time": "2022-11-25T21:59:26.092Z"
   },
   {
    "duration": 4,
    "start_time": "2022-11-25T21:59:26.760Z"
   },
   {
    "duration": 16,
    "start_time": "2022-11-25T21:59:27.376Z"
   },
   {
    "duration": 9,
    "start_time": "2022-11-25T21:59:28.082Z"
   },
   {
    "duration": 6,
    "start_time": "2022-11-25T21:59:28.787Z"
   },
   {
    "duration": 6,
    "start_time": "2022-11-25T21:59:29.466Z"
   },
   {
    "duration": 4,
    "start_time": "2022-11-25T21:59:30.096Z"
   },
   {
    "duration": 5,
    "start_time": "2022-11-25T21:59:31.365Z"
   },
   {
    "duration": 5,
    "start_time": "2022-11-25T21:59:32.358Z"
   },
   {
    "duration": 4,
    "start_time": "2022-11-25T21:59:42.567Z"
   },
   {
    "duration": 3,
    "start_time": "2022-11-25T21:59:43.179Z"
   },
   {
    "duration": 6,
    "start_time": "2022-11-25T21:59:43.764Z"
   },
   {
    "duration": 2,
    "start_time": "2022-11-25T21:59:44.589Z"
   },
   {
    "duration": 5,
    "start_time": "2022-11-25T21:59:47.565Z"
   },
   {
    "duration": 2,
    "start_time": "2022-11-25T21:59:48.198Z"
   },
   {
    "duration": 27,
    "start_time": "2022-11-25T21:59:49.097Z"
   },
   {
    "duration": 2,
    "start_time": "2022-11-25T21:59:50.043Z"
   },
   {
    "duration": 2,
    "start_time": "2022-11-25T22:00:28.491Z"
   },
   {
    "duration": 1713,
    "start_time": "2022-11-25T22:00:29.292Z"
   },
   {
    "duration": 94,
    "start_time": "2022-11-25T22:00:31.012Z"
   },
   {
    "duration": 165094,
    "start_time": "2022-11-25T22:00:31.358Z"
   },
   {
    "duration": 5,
    "start_time": "2022-11-25T22:03:20.376Z"
   },
   {
    "duration": 2,
    "start_time": "2022-11-25T22:03:21.309Z"
   },
   {
    "duration": 3,
    "start_time": "2022-11-25T22:03:23.410Z"
   },
   {
    "duration": 18,
    "start_time": "2022-11-25T22:03:28.529Z"
   },
   {
    "duration": 3,
    "start_time": "2022-11-25T22:03:30.228Z"
   },
   {
    "duration": 443,
    "start_time": "2022-11-25T22:03:31.158Z"
   },
   {
    "duration": 3,
    "start_time": "2022-11-25T22:03:34.082Z"
   },
   {
    "duration": 18,
    "start_time": "2022-11-25T22:03:35.662Z"
   },
   {
    "duration": 5,
    "start_time": "2022-11-25T22:03:36.966Z"
   },
   {
    "duration": 3,
    "start_time": "2022-11-25T22:03:42.898Z"
   },
   {
    "duration": 2,
    "start_time": "2022-11-25T22:03:43.547Z"
   },
   {
    "duration": 2,
    "start_time": "2022-11-25T22:03:44.134Z"
   },
   {
    "duration": 2,
    "start_time": "2022-11-25T22:03:44.776Z"
   },
   {
    "duration": 6,
    "start_time": "2022-11-25T22:03:45.441Z"
   },
   {
    "duration": 6,
    "start_time": "2022-11-25T22:03:46.155Z"
   },
   {
    "duration": 24,
    "start_time": "2022-11-25T22:03:46.807Z"
   },
   {
    "duration": 14,
    "start_time": "2022-11-25T22:03:49.179Z"
   },
   {
    "duration": 17,
    "start_time": "2022-11-25T22:03:51.323Z"
   },
   {
    "duration": 6,
    "start_time": "2022-11-25T22:03:52.328Z"
   },
   {
    "duration": 5,
    "start_time": "2022-11-25T22:03:54.338Z"
   },
   {
    "duration": 5,
    "start_time": "2022-11-25T22:03:55.394Z"
   },
   {
    "duration": 19,
    "start_time": "2022-11-25T22:03:57.001Z"
   },
   {
    "duration": 15,
    "start_time": "2022-11-25T22:07:12.295Z"
   },
   {
    "duration": 5,
    "start_time": "2022-11-25T22:07:20.303Z"
   },
   {
    "duration": 6,
    "start_time": "2022-11-25T22:07:25.306Z"
   },
   {
    "duration": 5,
    "start_time": "2022-11-25T22:07:32.054Z"
   },
   {
    "duration": 20,
    "start_time": "2022-11-25T22:08:17.007Z"
   },
   {
    "duration": 16,
    "start_time": "2022-11-25T22:08:56.514Z"
   },
   {
    "duration": 16,
    "start_time": "2022-11-25T22:09:31.295Z"
   },
   {
    "duration": 5,
    "start_time": "2022-11-25T22:09:37.020Z"
   },
   {
    "duration": 7,
    "start_time": "2022-11-25T22:09:46.974Z"
   },
   {
    "duration": 6,
    "start_time": "2022-11-25T22:09:53.009Z"
   },
   {
    "duration": 7,
    "start_time": "2022-11-25T22:09:58.999Z"
   },
   {
    "duration": 19,
    "start_time": "2022-11-25T22:10:50.251Z"
   },
   {
    "duration": 19,
    "start_time": "2022-11-25T22:11:22.156Z"
   },
   {
    "duration": 18,
    "start_time": "2022-11-25T22:12:39.372Z"
   },
   {
    "duration": 6,
    "start_time": "2022-11-25T22:12:50.132Z"
   },
   {
    "duration": 6,
    "start_time": "2022-11-25T22:12:51.269Z"
   },
   {
    "duration": 6,
    "start_time": "2022-11-25T22:12:52.302Z"
   },
   {
    "duration": 20,
    "start_time": "2022-11-25T22:12:53.767Z"
   },
   {
    "duration": 16,
    "start_time": "2022-11-25T22:13:01.548Z"
   },
   {
    "duration": 5,
    "start_time": "2022-11-25T22:13:02.593Z"
   },
   {
    "duration": 5,
    "start_time": "2022-11-25T22:13:03.448Z"
   },
   {
    "duration": 6,
    "start_time": "2022-11-25T22:13:04.251Z"
   },
   {
    "duration": 21,
    "start_time": "2022-11-25T22:13:05.096Z"
   },
   {
    "duration": 16,
    "start_time": "2022-11-25T22:13:59.370Z"
   },
   {
    "duration": 16,
    "start_time": "2022-11-25T22:14:02.426Z"
   },
   {
    "duration": 8,
    "start_time": "2022-11-25T22:14:13.377Z"
   },
   {
    "duration": 17,
    "start_time": "2022-11-25T22:14:18.302Z"
   },
   {
    "duration": 7,
    "start_time": "2022-11-25T22:14:18.865Z"
   },
   {
    "duration": 2,
    "start_time": "2022-11-25T22:14:25.552Z"
   },
   {
    "duration": 3483,
    "start_time": "2022-11-25T22:14:26.531Z"
   },
   {
    "duration": 200726,
    "start_time": "2022-11-25T22:14:37.330Z"
   },
   {
    "duration": 5,
    "start_time": "2022-11-25T22:18:37.556Z"
   },
   {
    "duration": 2,
    "start_time": "2022-11-25T22:18:38.386Z"
   },
   {
    "duration": 2,
    "start_time": "2022-11-25T22:18:39.023Z"
   },
   {
    "duration": 16,
    "start_time": "2022-11-25T22:18:39.743Z"
   },
   {
    "duration": 3,
    "start_time": "2022-11-25T22:18:40.650Z"
   },
   {
    "duration": 485,
    "start_time": "2022-11-25T22:18:42.039Z"
   },
   {
    "duration": 2,
    "start_time": "2022-11-25T22:18:44.211Z"
   },
   {
    "duration": 19,
    "start_time": "2022-11-25T22:18:45.051Z"
   },
   {
    "duration": 6,
    "start_time": "2022-11-25T22:18:46.096Z"
   },
   {
    "duration": 3,
    "start_time": "2022-11-25T22:18:47.922Z"
   },
   {
    "duration": 2,
    "start_time": "2022-11-25T22:18:48.771Z"
   },
   {
    "duration": 3,
    "start_time": "2022-11-25T22:18:49.637Z"
   },
   {
    "duration": 3,
    "start_time": "2022-11-25T22:18:50.446Z"
   },
   {
    "duration": 7,
    "start_time": "2022-11-25T22:18:51.431Z"
   },
   {
    "duration": 6,
    "start_time": "2022-11-25T22:18:52.306Z"
   },
   {
    "duration": 23,
    "start_time": "2022-11-25T22:18:53.276Z"
   },
   {
    "duration": 16,
    "start_time": "2022-11-25T22:18:55.940Z"
   },
   {
    "duration": 20,
    "start_time": "2022-11-25T22:18:57.309Z"
   },
   {
    "duration": 6,
    "start_time": "2022-11-25T22:18:58.430Z"
   },
   {
    "duration": 6,
    "start_time": "2022-11-25T22:19:00.276Z"
   },
   {
    "duration": 6,
    "start_time": "2022-11-25T22:19:01.278Z"
   },
   {
    "duration": 19,
    "start_time": "2022-11-25T22:19:02.209Z"
   },
   {
    "duration": 3,
    "start_time": "2022-11-25T22:20:44.327Z"
   },
   {
    "duration": 41,
    "start_time": "2022-11-25T22:20:46.553Z"
   },
   {
    "duration": 4,
    "start_time": "2022-11-25T22:20:47.195Z"
   },
   {
    "duration": 13,
    "start_time": "2022-11-25T22:20:47.824Z"
   },
   {
    "duration": 7,
    "start_time": "2022-11-25T22:20:48.551Z"
   },
   {
    "duration": 11,
    "start_time": "2022-11-25T22:20:49.502Z"
   },
   {
    "duration": 4,
    "start_time": "2022-11-25T22:20:50.261Z"
   },
   {
    "duration": 13,
    "start_time": "2022-11-25T22:20:50.888Z"
   },
   {
    "duration": 9,
    "start_time": "2022-11-25T22:20:51.524Z"
   },
   {
    "duration": 6,
    "start_time": "2022-11-25T22:21:32.851Z"
   },
   {
    "duration": 7,
    "start_time": "2022-11-25T22:21:33.490Z"
   },
   {
    "duration": 4,
    "start_time": "2022-11-25T22:21:34.096Z"
   },
   {
    "duration": 4,
    "start_time": "2022-11-25T22:21:36.092Z"
   },
   {
    "duration": 5,
    "start_time": "2022-11-25T22:21:37.600Z"
   },
   {
    "duration": 7,
    "start_time": "2022-11-25T22:21:38.413Z"
   },
   {
    "duration": 2,
    "start_time": "2022-11-25T22:21:39.235Z"
   },
   {
    "duration": 6,
    "start_time": "2022-11-25T22:21:39.999Z"
   },
   {
    "duration": 2,
    "start_time": "2022-11-25T22:21:40.835Z"
   },
   {
    "duration": 6,
    "start_time": "2022-11-25T22:21:41.669Z"
   },
   {
    "duration": 2,
    "start_time": "2022-11-25T22:21:42.493Z"
   },
   {
    "duration": 16,
    "start_time": "2022-11-25T22:21:43.532Z"
   },
   {
    "duration": 7,
    "start_time": "2022-11-25T22:21:44.608Z"
   },
   {
    "duration": 2,
    "start_time": "2022-11-25T22:21:46.603Z"
   },
   {
    "duration": 1869,
    "start_time": "2022-11-25T22:21:47.436Z"
   },
   {
    "duration": 2,
    "start_time": "2022-11-25T22:21:50.646Z"
   },
   {
    "duration": 210247,
    "start_time": "2022-11-25T22:25:23.062Z"
   },
   {
    "duration": 10,
    "start_time": "2022-11-25T22:29:57.293Z"
   },
   {
    "duration": 2,
    "start_time": "2022-11-25T22:29:58.021Z"
   },
   {
    "duration": 3,
    "start_time": "2022-11-25T22:29:58.646Z"
   },
   {
    "duration": 15,
    "start_time": "2022-11-25T22:29:59.342Z"
   },
   {
    "duration": 3,
    "start_time": "2022-11-25T22:30:00.146Z"
   },
   {
    "duration": 310,
    "start_time": "2022-11-25T22:30:00.926Z"
   },
   {
    "duration": 2,
    "start_time": "2022-11-25T22:30:02.323Z"
   },
   {
    "duration": 14,
    "start_time": "2022-11-25T22:30:03.145Z"
   },
   {
    "duration": 5,
    "start_time": "2022-11-25T22:30:03.842Z"
   },
   {
    "duration": 2,
    "start_time": "2022-11-25T22:30:04.750Z"
   },
   {
    "duration": 2,
    "start_time": "2022-11-25T22:30:05.442Z"
   },
   {
    "duration": 13,
    "start_time": "2022-11-25T22:30:17.521Z"
   },
   {
    "duration": 14,
    "start_time": "2022-11-25T22:30:18.215Z"
   },
   {
    "duration": 5,
    "start_time": "2022-11-25T22:30:18.863Z"
   },
   {
    "duration": 6,
    "start_time": "2022-11-25T22:30:19.615Z"
   },
   {
    "duration": 7,
    "start_time": "2022-11-25T22:30:20.232Z"
   },
   {
    "duration": 20,
    "start_time": "2022-11-25T22:30:21.165Z"
   },
   {
    "duration": 362523,
    "start_time": "2022-11-25T22:31:03.871Z"
   },
   {
    "duration": 5,
    "start_time": "2022-11-25T22:37:48.754Z"
   },
   {
    "duration": 2,
    "start_time": "2022-11-25T22:37:49.663Z"
   },
   {
    "duration": 2,
    "start_time": "2022-11-25T22:37:50.293Z"
   },
   {
    "duration": 15,
    "start_time": "2022-11-25T22:37:50.925Z"
   },
   {
    "duration": 2,
    "start_time": "2022-11-25T22:37:51.737Z"
   },
   {
    "duration": 311,
    "start_time": "2022-11-25T22:37:52.677Z"
   },
   {
    "duration": 2,
    "start_time": "2022-11-25T22:37:53.973Z"
   },
   {
    "duration": 16,
    "start_time": "2022-11-25T22:37:55.012Z"
   },
   {
    "duration": 7,
    "start_time": "2022-11-25T22:37:56.024Z"
   },
   {
    "duration": 15,
    "start_time": "2022-11-25T22:40:34.225Z"
   },
   {
    "duration": 308,
    "start_time": "2022-11-25T22:41:13.007Z"
   },
   {
    "duration": 299,
    "start_time": "2022-11-25T22:41:43.368Z"
   },
   {
    "duration": 307,
    "start_time": "2022-11-25T22:45:10.890Z"
   },
   {
    "duration": 2,
    "start_time": "2022-11-25T22:45:16.978Z"
   },
   {
    "duration": 108,
    "start_time": "2022-11-25T22:46:02.836Z"
   },
   {
    "duration": 17,
    "start_time": "2022-11-25T22:46:42.063Z"
   },
   {
    "duration": 291,
    "start_time": "2022-11-25T22:47:59.331Z"
   },
   {
    "duration": 15,
    "start_time": "2022-11-25T22:48:30.426Z"
   },
   {
    "duration": 14,
    "start_time": "2022-11-25T22:48:36.958Z"
   },
   {
    "duration": 6,
    "start_time": "2022-11-25T22:49:04.471Z"
   },
   {
    "duration": 304,
    "start_time": "2022-11-25T22:49:33.865Z"
   },
   {
    "duration": 15,
    "start_time": "2022-11-25T22:49:49.772Z"
   },
   {
    "duration": 6,
    "start_time": "2022-11-25T22:50:01.882Z"
   },
   {
    "duration": 15,
    "start_time": "2022-11-25T22:54:09.906Z"
   },
   {
    "duration": 2,
    "start_time": "2022-11-25T22:54:13.404Z"
   },
   {
    "duration": 14,
    "start_time": "2022-11-25T22:54:14.110Z"
   },
   {
    "duration": 5,
    "start_time": "2022-11-25T22:54:27.230Z"
   },
   {
    "duration": 197101,
    "start_time": "2022-11-25T22:55:01.563Z"
   },
   {
    "duration": 6,
    "start_time": "2022-11-25T22:59:37.469Z"
   },
   {
    "duration": 2,
    "start_time": "2022-11-25T22:59:38.321Z"
   },
   {
    "duration": 2,
    "start_time": "2022-11-25T22:59:38.938Z"
   },
   {
    "duration": 16,
    "start_time": "2022-11-25T22:59:39.581Z"
   },
   {
    "duration": 2,
    "start_time": "2022-11-25T22:59:40.457Z"
   },
   {
    "duration": 325,
    "start_time": "2022-11-25T22:59:41.217Z"
   },
   {
    "duration": 15,
    "start_time": "2022-11-25T22:59:43.074Z"
   },
   {
    "duration": 2,
    "start_time": "2022-11-25T22:59:45.473Z"
   },
   {
    "duration": 15,
    "start_time": "2022-11-25T22:59:46.075Z"
   },
   {
    "duration": 7,
    "start_time": "2022-11-25T22:59:47.311Z"
   },
   {
    "duration": 7,
    "start_time": "2022-11-25T22:59:56.839Z"
   },
   {
    "duration": 6,
    "start_time": "2022-11-25T22:59:57.495Z"
   },
   {
    "duration": 25,
    "start_time": "2022-11-25T22:59:58.503Z"
   },
   {
    "duration": 13,
    "start_time": "2022-11-25T23:00:02.510Z"
   },
   {
    "duration": 15,
    "start_time": "2022-11-25T23:00:03.672Z"
   },
   {
    "duration": 6,
    "start_time": "2022-11-25T23:00:04.637Z"
   },
   {
    "duration": 5,
    "start_time": "2022-11-25T23:00:05.808Z"
   },
   {
    "duration": 6,
    "start_time": "2022-11-25T23:00:07.060Z"
   },
   {
    "duration": 20,
    "start_time": "2022-11-25T23:00:07.994Z"
   },
   {
    "duration": 1116,
    "start_time": "2022-11-26T05:56:28.328Z"
   },
   {
    "duration": 81,
    "start_time": "2022-11-26T05:56:31.738Z"
   },
   {
    "duration": 10,
    "start_time": "2022-11-26T05:56:35.387Z"
   },
   {
    "duration": 16,
    "start_time": "2022-11-26T05:56:36.478Z"
   },
   {
    "duration": 8,
    "start_time": "2022-11-26T05:56:37.132Z"
   },
   {
    "duration": 11,
    "start_time": "2022-11-26T05:56:37.742Z"
   },
   {
    "duration": 5,
    "start_time": "2022-11-26T05:56:38.387Z"
   },
   {
    "duration": 14,
    "start_time": "2022-11-26T05:56:39.040Z"
   },
   {
    "duration": 9,
    "start_time": "2022-11-26T05:56:39.647Z"
   },
   {
    "duration": 6,
    "start_time": "2022-11-26T05:56:40.319Z"
   },
   {
    "duration": 6,
    "start_time": "2022-11-26T05:56:40.991Z"
   },
   {
    "duration": 4,
    "start_time": "2022-11-26T05:56:41.756Z"
   },
   {
    "duration": 5,
    "start_time": "2022-11-26T05:56:43.291Z"
   },
   {
    "duration": 5,
    "start_time": "2022-11-26T05:56:44.119Z"
   },
   {
    "duration": 5,
    "start_time": "2022-11-26T05:56:45.182Z"
   },
   {
    "duration": 2,
    "start_time": "2022-11-26T05:57:26.440Z"
   },
   {
    "duration": 6,
    "start_time": "2022-11-26T05:57:27.378Z"
   },
   {
    "duration": 3,
    "start_time": "2022-11-26T05:57:30.500Z"
   },
   {
    "duration": 5,
    "start_time": "2022-11-26T05:57:36.387Z"
   },
   {
    "duration": 3,
    "start_time": "2022-11-26T05:57:38.020Z"
   },
   {
    "duration": 20,
    "start_time": "2022-11-26T05:57:39.225Z"
   },
   {
    "duration": 113,
    "start_time": "2022-11-26T05:58:40.090Z"
   },
   {
    "duration": 14,
    "start_time": "2022-11-26T06:00:50.575Z"
   },
   {
    "duration": 15,
    "start_time": "2022-11-26T06:00:54.674Z"
   },
   {
    "duration": 20,
    "start_time": "2022-11-26T06:01:12.543Z"
   },
   {
    "duration": 2,
    "start_time": "2022-11-26T06:01:19.290Z"
   },
   {
    "duration": 5749,
    "start_time": "2022-11-26T06:01:19.913Z"
   },
   {
    "duration": 2,
    "start_time": "2022-11-26T06:02:09.186Z"
   },
   {
    "duration": 6,
    "start_time": "2022-11-26T06:09:17.683Z"
   },
   {
    "duration": 996,
    "start_time": "2022-11-26T09:13:16.042Z"
   },
   {
    "duration": 80,
    "start_time": "2022-11-26T09:13:17.040Z"
   },
   {
    "duration": 8,
    "start_time": "2022-11-26T09:13:17.146Z"
   },
   {
    "duration": 15,
    "start_time": "2022-11-26T09:13:17.770Z"
   },
   {
    "duration": 8,
    "start_time": "2022-11-26T09:13:18.400Z"
   },
   {
    "duration": 12,
    "start_time": "2022-11-26T09:13:19.061Z"
   },
   {
    "duration": 4,
    "start_time": "2022-11-26T09:13:19.622Z"
   },
   {
    "duration": 13,
    "start_time": "2022-11-26T09:13:20.421Z"
   },
   {
    "duration": 7,
    "start_time": "2022-11-26T09:13:21.038Z"
   },
   {
    "duration": 6,
    "start_time": "2022-11-26T09:13:21.619Z"
   },
   {
    "duration": 6,
    "start_time": "2022-11-26T09:13:22.242Z"
   },
   {
    "duration": 4,
    "start_time": "2022-11-26T09:13:22.804Z"
   },
   {
    "duration": 5,
    "start_time": "2022-11-26T09:13:24.989Z"
   },
   {
    "duration": 4,
    "start_time": "2022-11-26T09:13:25.661Z"
   },
   {
    "duration": 4,
    "start_time": "2022-11-26T09:13:26.387Z"
   },
   {
    "duration": 3,
    "start_time": "2022-11-26T09:13:27.117Z"
   },
   {
    "duration": 6,
    "start_time": "2022-11-26T09:13:27.780Z"
   },
   {
    "duration": 2,
    "start_time": "2022-11-26T09:13:28.344Z"
   },
   {
    "duration": 5,
    "start_time": "2022-11-26T09:13:29.033Z"
   },
   {
    "duration": 2,
    "start_time": "2022-11-26T09:13:29.788Z"
   },
   {
    "duration": 21,
    "start_time": "2022-11-26T09:13:30.817Z"
   },
   {
    "duration": 107,
    "start_time": "2022-11-26T09:13:51.904Z"
   },
   {
    "duration": 15,
    "start_time": "2022-11-26T09:14:37.406Z"
   },
   {
    "duration": 48,
    "start_time": "2022-11-26T09:25:50.518Z"
   },
   {
    "duration": 728,
    "start_time": "2022-11-26T09:29:25.127Z"
   },
   {
    "duration": 45,
    "start_time": "2022-11-26T09:33:29.073Z"
   },
   {
    "duration": 5,
    "start_time": "2022-11-26T09:33:50.021Z"
   },
   {
    "duration": 4,
    "start_time": "2022-11-26T09:33:54.574Z"
   },
   {
    "duration": 63,
    "start_time": "2022-11-26T09:34:09.848Z"
   },
   {
    "duration": 753,
    "start_time": "2022-11-26T09:34:19.744Z"
   },
   {
    "duration": 42,
    "start_time": "2022-11-26T09:34:20.845Z"
   },
   {
    "duration": 3,
    "start_time": "2022-11-26T09:34:37.714Z"
   },
   {
    "duration": 19,
    "start_time": "2022-11-26T09:34:39.142Z"
   },
   {
    "duration": 2,
    "start_time": "2022-11-26T09:34:42.649Z"
   },
   {
    "duration": 838,
    "start_time": "2022-11-26T09:34:43.563Z"
   },
   {
    "duration": 3,
    "start_time": "2022-11-26T09:34:45.515Z"
   },
   {
    "duration": 18790,
    "start_time": "2022-11-26T09:38:07.440Z"
   },
   {
    "duration": 6,
    "start_time": "2022-11-26T09:38:50.815Z"
   },
   {
    "duration": 3,
    "start_time": "2022-11-26T09:38:51.508Z"
   },
   {
    "duration": 3,
    "start_time": "2022-11-26T09:38:51.972Z"
   },
   {
    "duration": 19,
    "start_time": "2022-11-26T09:38:52.594Z"
   },
   {
    "duration": 2,
    "start_time": "2022-11-26T09:38:54.094Z"
   },
   {
    "duration": 170,
    "start_time": "2022-11-26T09:38:54.702Z"
   },
   {
    "duration": 11,
    "start_time": "2022-11-26T09:38:57.851Z"
   },
   {
    "duration": 2,
    "start_time": "2022-11-26T09:38:59.183Z"
   },
   {
    "duration": 14,
    "start_time": "2022-11-26T09:38:59.708Z"
   },
   {
    "duration": 8,
    "start_time": "2022-11-26T09:39:00.621Z"
   },
   {
    "duration": 35916,
    "start_time": "2022-11-26T09:39:18.149Z"
   },
   {
    "duration": 7,
    "start_time": "2022-11-26T09:40:44.571Z"
   },
   {
    "duration": 3,
    "start_time": "2022-11-26T09:40:45.130Z"
   },
   {
    "duration": 2,
    "start_time": "2022-11-26T09:40:45.627Z"
   },
   {
    "duration": 19,
    "start_time": "2022-11-26T09:40:46.112Z"
   },
   {
    "duration": 3,
    "start_time": "2022-11-26T09:40:46.701Z"
   },
   {
    "duration": 295,
    "start_time": "2022-11-26T09:40:47.930Z"
   },
   {
    "duration": 13,
    "start_time": "2022-11-26T09:40:49.875Z"
   },
   {
    "duration": 2,
    "start_time": "2022-11-26T09:40:52.993Z"
   },
   {
    "duration": 14,
    "start_time": "2022-11-26T09:40:53.494Z"
   },
   {
    "duration": 8,
    "start_time": "2022-11-26T09:40:53.969Z"
   },
   {
    "duration": 3,
    "start_time": "2022-11-26T09:40:54.580Z"
   },
   {
    "duration": 2,
    "start_time": "2022-11-26T09:40:56.666Z"
   },
   {
    "duration": 3,
    "start_time": "2022-11-26T09:40:57.268Z"
   },
   {
    "duration": 3,
    "start_time": "2022-11-26T09:40:58.154Z"
   },
   {
    "duration": 8,
    "start_time": "2022-11-26T09:40:58.779Z"
   },
   {
    "duration": 6,
    "start_time": "2022-11-26T09:40:59.600Z"
   },
   {
    "duration": 17,
    "start_time": "2022-11-26T09:41:00.481Z"
   },
   {
    "duration": 11,
    "start_time": "2022-11-26T09:41:02.554Z"
   },
   {
    "duration": 13,
    "start_time": "2022-11-26T09:41:03.627Z"
   },
   {
    "duration": 5,
    "start_time": "2022-11-26T09:41:04.359Z"
   },
   {
    "duration": 6,
    "start_time": "2022-11-26T09:41:05.550Z"
   },
   {
    "duration": 5,
    "start_time": "2022-11-26T09:41:06.367Z"
   },
   {
    "duration": 15,
    "start_time": "2022-11-26T09:41:07.325Z"
   },
   {
    "duration": 12,
    "start_time": "2022-11-26T09:41:24.173Z"
   },
   {
    "duration": 65,
    "start_time": "2022-11-26T09:45:53.388Z"
   },
   {
    "duration": 21,
    "start_time": "2022-11-26T09:45:55.698Z"
   },
   {
    "duration": 19,
    "start_time": "2022-11-26T09:46:09.091Z"
   },
   {
    "duration": 6,
    "start_time": "2022-11-26T09:46:11.727Z"
   },
   {
    "duration": 7,
    "start_time": "2022-11-26T09:46:13.185Z"
   },
   {
    "duration": 6,
    "start_time": "2022-11-26T09:46:14.083Z"
   },
   {
    "duration": 13,
    "start_time": "2022-11-26T09:46:15.437Z"
   },
   {
    "duration": 12,
    "start_time": "2022-11-26T09:46:33.548Z"
   },
   {
    "duration": 12,
    "start_time": "2022-11-26T09:46:56.560Z"
   },
   {
    "duration": 1182,
    "start_time": "2022-11-27T09:43:18.182Z"
   },
   {
    "duration": 81,
    "start_time": "2022-11-27T09:43:19.366Z"
   },
   {
    "duration": 9,
    "start_time": "2022-11-27T09:43:19.449Z"
   },
   {
    "duration": 20,
    "start_time": "2022-11-27T09:43:19.460Z"
   },
   {
    "duration": 8,
    "start_time": "2022-11-27T09:43:19.483Z"
   },
   {
    "duration": 20,
    "start_time": "2022-11-27T09:43:19.493Z"
   },
   {
    "duration": 5,
    "start_time": "2022-11-27T09:43:19.515Z"
   },
   {
    "duration": 19,
    "start_time": "2022-11-27T09:43:19.523Z"
   },
   {
    "duration": 9,
    "start_time": "2022-11-27T09:43:19.545Z"
   },
   {
    "duration": 6,
    "start_time": "2022-11-27T09:43:19.555Z"
   },
   {
    "duration": 7,
    "start_time": "2022-11-27T09:43:19.562Z"
   },
   {
    "duration": 5,
    "start_time": "2022-11-27T09:43:19.570Z"
   },
   {
    "duration": 35,
    "start_time": "2022-11-27T09:43:19.577Z"
   },
   {
    "duration": 6,
    "start_time": "2022-11-27T09:43:19.616Z"
   },
   {
    "duration": 8,
    "start_time": "2022-11-27T09:43:19.624Z"
   },
   {
    "duration": 4,
    "start_time": "2022-11-27T09:43:19.634Z"
   },
   {
    "duration": 8,
    "start_time": "2022-11-27T09:43:19.640Z"
   },
   {
    "duration": 5,
    "start_time": "2022-11-27T09:43:19.649Z"
   },
   {
    "duration": 9,
    "start_time": "2022-11-27T09:43:19.655Z"
   },
   {
    "duration": 6,
    "start_time": "2022-11-27T09:43:19.665Z"
   },
   {
    "duration": 8,
    "start_time": "2022-11-27T09:43:19.673Z"
   },
   {
    "duration": 47,
    "start_time": "2022-11-27T09:43:19.683Z"
   },
   {
    "duration": 3,
    "start_time": "2022-11-27T09:43:19.732Z"
   },
   {
    "duration": 5188,
    "start_time": "2022-11-27T09:43:19.737Z"
   },
   {
    "duration": 85,
    "start_time": "2022-11-27T09:43:24.928Z"
   },
   {
    "duration": 39045,
    "start_time": "2022-11-27T09:43:25.015Z"
   },
   {
    "duration": 6,
    "start_time": "2022-11-27T09:44:04.061Z"
   },
   {
    "duration": 6,
    "start_time": "2022-11-27T09:44:04.068Z"
   },
   {
    "duration": 4,
    "start_time": "2022-11-27T09:44:04.075Z"
   },
   {
    "duration": 39,
    "start_time": "2022-11-27T09:44:04.081Z"
   },
   {
    "duration": 3,
    "start_time": "2022-11-27T09:44:04.121Z"
   },
   {
    "duration": 247,
    "start_time": "2022-11-27T09:44:04.126Z"
   },
   {
    "duration": 13,
    "start_time": "2022-11-27T09:44:04.375Z"
   },
   {
    "duration": 2,
    "start_time": "2022-11-27T09:44:04.390Z"
   },
   {
    "duration": 33,
    "start_time": "2022-11-27T09:44:04.394Z"
   },
   {
    "duration": 8,
    "start_time": "2022-11-27T09:44:04.429Z"
   },
   {
    "duration": 3,
    "start_time": "2022-11-27T09:44:04.439Z"
   },
   {
    "duration": 5,
    "start_time": "2022-11-27T09:44:04.444Z"
   },
   {
    "duration": 13,
    "start_time": "2022-11-27T09:44:04.451Z"
   },
   {
    "duration": 6,
    "start_time": "2022-11-27T09:44:04.466Z"
   },
   {
    "duration": 8,
    "start_time": "2022-11-27T09:44:04.475Z"
   },
   {
    "duration": 7,
    "start_time": "2022-11-27T09:44:04.514Z"
   },
   {
    "duration": 16,
    "start_time": "2022-11-27T09:44:04.523Z"
   },
   {
    "duration": 81,
    "start_time": "2022-11-27T09:44:04.541Z"
   },
   {
    "duration": 13,
    "start_time": "2022-11-27T09:44:04.624Z"
   },
   {
    "duration": 6,
    "start_time": "2022-11-27T09:44:04.639Z"
   },
   {
    "duration": 7,
    "start_time": "2022-11-27T09:44:04.646Z"
   },
   {
    "duration": 6,
    "start_time": "2022-11-27T09:44:04.655Z"
   },
   {
    "duration": 54,
    "start_time": "2022-11-27T09:44:04.663Z"
   },
   {
    "duration": 104,
    "start_time": "2022-11-27T10:17:17.173Z"
   },
   {
    "duration": 9,
    "start_time": "2022-11-27T10:17:35.781Z"
   },
   {
    "duration": 51,
    "start_time": "2022-11-27T10:17:59.038Z"
   },
   {
    "duration": 4,
    "start_time": "2022-11-27T10:18:04.167Z"
   },
   {
    "duration": 5,
    "start_time": "2022-11-27T10:31:57.399Z"
   },
   {
    "duration": 43,
    "start_time": "2022-11-27T11:16:45.087Z"
   },
   {
    "duration": 1074,
    "start_time": "2022-11-27T11:16:51.500Z"
   },
   {
    "duration": 141,
    "start_time": "2022-11-27T11:16:52.576Z"
   },
   {
    "duration": 8,
    "start_time": "2022-11-27T11:16:53.036Z"
   },
   {
    "duration": 17,
    "start_time": "2022-11-27T11:16:53.606Z"
   },
   {
    "duration": 7,
    "start_time": "2022-11-27T11:16:54.203Z"
   },
   {
    "duration": 11,
    "start_time": "2022-11-27T11:16:55.243Z"
   },
   {
    "duration": 12,
    "start_time": "2022-11-27T11:17:01.822Z"
   },
   {
    "duration": 67,
    "start_time": "2022-11-27T11:18:54.054Z"
   },
   {
    "duration": 24,
    "start_time": "2022-11-27T11:19:09.095Z"
   },
   {
    "duration": 7,
    "start_time": "2022-11-27T11:19:22.167Z"
   },
   {
    "duration": 23,
    "start_time": "2022-11-27T11:19:27.415Z"
   },
   {
    "duration": 8,
    "start_time": "2022-11-27T11:19:27.855Z"
   },
   {
    "duration": 8,
    "start_time": "2022-11-27T11:20:11.935Z"
   },
   {
    "duration": 6,
    "start_time": "2022-11-27T11:20:12.851Z"
   },
   {
    "duration": 8,
    "start_time": "2022-11-27T11:20:41.233Z"
   },
   {
    "duration": 5,
    "start_time": "2022-11-27T12:05:49.527Z"
   },
   {
    "duration": 15,
    "start_time": "2022-11-27T12:05:55.178Z"
   },
   {
    "duration": 4,
    "start_time": "2022-11-27T12:06:05.138Z"
   },
   {
    "duration": 39,
    "start_time": "2022-11-27T12:06:05.978Z"
   },
   {
    "duration": 4,
    "start_time": "2022-11-27T12:06:06.393Z"
   },
   {
    "duration": 16,
    "start_time": "2022-11-27T12:06:06.867Z"
   },
   {
    "duration": 7,
    "start_time": "2022-11-27T12:06:07.321Z"
   },
   {
    "duration": 20,
    "start_time": "2022-11-27T12:06:07.769Z"
   },
   {
    "duration": 11,
    "start_time": "2022-11-27T12:06:09.204Z"
   },
   {
    "duration": 7,
    "start_time": "2022-11-27T12:06:09.625Z"
   },
   {
    "duration": 8,
    "start_time": "2022-11-27T12:06:10.168Z"
   },
   {
    "duration": 13,
    "start_time": "2022-11-27T12:06:11.196Z"
   },
   {
    "duration": 7,
    "start_time": "2022-11-27T12:06:11.697Z"
   },
   {
    "duration": 13,
    "start_time": "2022-11-27T12:06:12.178Z"
   },
   {
    "duration": 8,
    "start_time": "2022-11-27T12:06:12.676Z"
   },
   {
    "duration": 3,
    "start_time": "2022-11-27T12:10:38.583Z"
   },
   {
    "duration": 10,
    "start_time": "2022-11-27T12:10:40.680Z"
   },
   {
    "duration": 2,
    "start_time": "2022-11-27T12:11:20.759Z"
   },
   {
    "duration": 25,
    "start_time": "2022-11-27T12:29:07.491Z"
   },
   {
    "duration": 18,
    "start_time": "2022-11-27T12:29:17.438Z"
   },
   {
    "duration": 24,
    "start_time": "2022-11-27T12:29:53.147Z"
   },
   {
    "duration": 11,
    "start_time": "2022-11-27T12:30:28.316Z"
   },
   {
    "duration": 6,
    "start_time": "2022-11-27T12:32:15.672Z"
   },
   {
    "duration": 7,
    "start_time": "2022-11-27T12:32:16.461Z"
   },
   {
    "duration": 14,
    "start_time": "2022-11-27T12:32:19.317Z"
   },
   {
    "duration": 5,
    "start_time": "2022-11-27T12:32:27.972Z"
   },
   {
    "duration": 37,
    "start_time": "2022-11-27T12:32:28.807Z"
   },
   {
    "duration": 4,
    "start_time": "2022-11-27T12:32:29.335Z"
   },
   {
    "duration": 14,
    "start_time": "2022-11-27T12:32:29.817Z"
   },
   {
    "duration": 10,
    "start_time": "2022-11-27T12:32:30.349Z"
   },
   {
    "duration": 12,
    "start_time": "2022-11-27T12:32:30.878Z"
   },
   {
    "duration": 12,
    "start_time": "2022-11-27T12:32:32.486Z"
   },
   {
    "duration": 7,
    "start_time": "2022-11-27T12:32:33.031Z"
   },
   {
    "duration": 7,
    "start_time": "2022-11-27T12:32:33.601Z"
   },
   {
    "duration": 15,
    "start_time": "2022-11-27T12:32:34.847Z"
   },
   {
    "duration": 6,
    "start_time": "2022-11-27T12:32:35.421Z"
   },
   {
    "duration": 6,
    "start_time": "2022-11-27T12:32:36.015Z"
   },
   {
    "duration": 4,
    "start_time": "2022-11-27T12:32:36.598Z"
   },
   {
    "duration": 3,
    "start_time": "2022-11-27T12:32:42.191Z"
   },
   {
    "duration": 25,
    "start_time": "2022-11-27T12:32:42.629Z"
   },
   {
    "duration": 4,
    "start_time": "2022-11-27T12:32:49.518Z"
   },
   {
    "duration": 2,
    "start_time": "2022-11-27T12:32:49.976Z"
   },
   {
    "duration": 6,
    "start_time": "2022-11-27T12:32:50.530Z"
   },
   {
    "duration": 2,
    "start_time": "2022-11-27T12:32:51.118Z"
   },
   {
    "duration": 5,
    "start_time": "2022-11-27T12:32:51.622Z"
   },
   {
    "duration": 2,
    "start_time": "2022-11-27T12:32:54.358Z"
   },
   {
    "duration": 3,
    "start_time": "2022-11-27T12:32:54.911Z"
   },
   {
    "duration": 14,
    "start_time": "2022-11-27T12:32:57.654Z"
   },
   {
    "duration": 11,
    "start_time": "2022-11-27T12:33:08.312Z"
   },
   {
    "duration": 3,
    "start_time": "2022-11-27T12:33:21.656Z"
   },
   {
    "duration": 24,
    "start_time": "2022-11-27T12:33:22.729Z"
   },
   {
    "duration": 9,
    "start_time": "2022-11-27T12:33:48.889Z"
   },
   {
    "duration": 13,
    "start_time": "2022-11-27T12:33:54.314Z"
   },
   {
    "duration": 10,
    "start_time": "2022-11-27T12:34:07.994Z"
   },
   {
    "duration": 12,
    "start_time": "2022-11-27T12:34:11.376Z"
   },
   {
    "duration": 16,
    "start_time": "2022-11-27T12:35:23.210Z"
   },
   {
    "duration": 5,
    "start_time": "2022-11-27T12:35:57.299Z"
   },
   {
    "duration": 3,
    "start_time": "2022-11-27T12:35:58.105Z"
   },
   {
    "duration": 5,
    "start_time": "2022-11-27T12:35:58.578Z"
   },
   {
    "duration": 2,
    "start_time": "2022-11-27T12:35:59.050Z"
   },
   {
    "duration": 5,
    "start_time": "2022-11-27T12:35:59.585Z"
   },
   {
    "duration": 2,
    "start_time": "2022-11-27T12:36:02.290Z"
   },
   {
    "duration": 3,
    "start_time": "2022-11-27T12:36:02.794Z"
   },
   {
    "duration": 21,
    "start_time": "2022-11-27T12:36:12.308Z"
   },
   {
    "duration": 63,
    "start_time": "2022-11-27T12:36:34.619Z"
   },
   {
    "duration": 9,
    "start_time": "2022-11-27T12:36:42.287Z"
   },
   {
    "duration": 82,
    "start_time": "2022-11-27T12:37:01.900Z"
   },
   {
    "duration": 19,
    "start_time": "2022-11-27T12:37:03.515Z"
   },
   {
    "duration": 3,
    "start_time": "2022-11-27T12:39:11.878Z"
   },
   {
    "duration": 7,
    "start_time": "2022-11-27T12:41:50.640Z"
   },
   {
    "duration": 7,
    "start_time": "2022-11-27T12:41:51.417Z"
   },
   {
    "duration": 12,
    "start_time": "2022-11-27T12:41:58.266Z"
   },
   {
    "duration": 3,
    "start_time": "2022-11-27T12:42:50.870Z"
   },
   {
    "duration": 39,
    "start_time": "2022-11-27T12:42:51.921Z"
   },
   {
    "duration": 4,
    "start_time": "2022-11-27T12:42:52.490Z"
   },
   {
    "duration": 14,
    "start_time": "2022-11-27T12:42:53.090Z"
   },
   {
    "duration": 8,
    "start_time": "2022-11-27T12:42:53.809Z"
   },
   {
    "duration": 12,
    "start_time": "2022-11-27T12:42:54.554Z"
   },
   {
    "duration": 11,
    "start_time": "2022-11-27T12:42:57.113Z"
   },
   {
    "duration": 7,
    "start_time": "2022-11-27T12:42:57.907Z"
   },
   {
    "duration": 55,
    "start_time": "2022-11-27T12:53:25.664Z"
   },
   {
    "duration": 14,
    "start_time": "2022-11-27T12:53:34.943Z"
   },
   {
    "duration": 14,
    "start_time": "2022-11-27T12:53:38.040Z"
   },
   {
    "duration": 7,
    "start_time": "2022-11-27T12:53:40.159Z"
   },
   {
    "duration": 7,
    "start_time": "2022-11-27T12:53:40.536Z"
   },
   {
    "duration": 4,
    "start_time": "2022-11-27T12:53:42.393Z"
   },
   {
    "duration": 29,
    "start_time": "2022-11-27T12:53:45.297Z"
   },
   {
    "duration": 14,
    "start_time": "2022-11-27T12:53:45.847Z"
   },
   {
    "duration": 6,
    "start_time": "2022-11-27T12:53:55.727Z"
   },
   {
    "duration": 3,
    "start_time": "2022-11-27T12:53:56.110Z"
   },
   {
    "duration": 9,
    "start_time": "2022-11-27T12:53:56.478Z"
   },
   {
    "duration": 2,
    "start_time": "2022-11-27T12:53:56.862Z"
   },
   {
    "duration": 4,
    "start_time": "2022-11-27T12:53:57.249Z"
   },
   {
    "duration": 2,
    "start_time": "2022-11-27T12:54:23.560Z"
   },
   {
    "duration": 18,
    "start_time": "2022-11-27T12:54:25.440Z"
   },
   {
    "duration": 6,
    "start_time": "2022-11-27T12:56:34.546Z"
   },
   {
    "duration": 7,
    "start_time": "2022-11-27T12:57:10.954Z"
   },
   {
    "duration": 5,
    "start_time": "2022-11-27T12:57:19.547Z"
   },
   {
    "duration": 5,
    "start_time": "2022-11-27T12:58:25.809Z"
   },
   {
    "duration": 6,
    "start_time": "2022-11-27T13:00:04.625Z"
   },
   {
    "duration": 104,
    "start_time": "2022-11-27T13:05:48.076Z"
   },
   {
    "duration": 6,
    "start_time": "2022-11-27T13:06:32.421Z"
   },
   {
    "duration": 3,
    "start_time": "2022-11-27T13:06:56.711Z"
   },
   {
    "duration": 6,
    "start_time": "2022-11-27T13:07:04.421Z"
   },
   {
    "duration": 19,
    "start_time": "2022-11-27T13:07:24.934Z"
   },
   {
    "duration": 5,
    "start_time": "2022-11-27T13:07:39.469Z"
   },
   {
    "duration": 14,
    "start_time": "2022-11-27T13:07:40.110Z"
   },
   {
    "duration": 4,
    "start_time": "2022-11-27T13:07:52.990Z"
   },
   {
    "duration": 15,
    "start_time": "2022-11-27T13:07:57.432Z"
   },
   {
    "duration": 11,
    "start_time": "2022-11-27T13:09:39.545Z"
   },
   {
    "duration": 43,
    "start_time": "2022-11-27T13:10:38.138Z"
   },
   {
    "duration": 7,
    "start_time": "2022-11-27T13:10:39.018Z"
   },
   {
    "duration": 5,
    "start_time": "2022-11-27T13:10:58.106Z"
   },
   {
    "duration": 8,
    "start_time": "2022-11-27T13:12:17.756Z"
   },
   {
    "duration": 30588,
    "start_time": "2022-11-27T13:18:07.201Z"
   },
   {
    "duration": 5,
    "start_time": "2022-11-27T13:19:07.235Z"
   },
   {
    "duration": 3,
    "start_time": "2022-11-27T13:19:27.874Z"
   },
   {
    "duration": 4,
    "start_time": "2022-11-27T13:43:00.617Z"
   },
   {
    "duration": 4,
    "start_time": "2022-11-27T13:43:13.301Z"
   },
   {
    "duration": 4,
    "start_time": "2022-11-27T13:44:24.517Z"
   },
   {
    "duration": 38,
    "start_time": "2022-11-27T13:44:31.148Z"
   },
   {
    "duration": 4,
    "start_time": "2022-11-27T13:44:31.532Z"
   },
   {
    "duration": 14,
    "start_time": "2022-11-27T13:44:31.925Z"
   },
   {
    "duration": 7,
    "start_time": "2022-11-27T13:44:32.475Z"
   },
   {
    "duration": 11,
    "start_time": "2022-11-27T13:44:33.084Z"
   },
   {
    "duration": 11,
    "start_time": "2022-11-27T13:44:34.780Z"
   },
   {
    "duration": 52,
    "start_time": "2022-11-27T13:44:35.815Z"
   },
   {
    "duration": 9,
    "start_time": "2022-11-27T13:44:36.390Z"
   },
   {
    "duration": 27,
    "start_time": "2022-11-27T13:44:37.839Z"
   },
   {
    "duration": 6,
    "start_time": "2022-11-27T13:44:38.684Z"
   },
   {
    "duration": 6,
    "start_time": "2022-11-27T13:44:39.508Z"
   },
   {
    "duration": 5,
    "start_time": "2022-11-27T13:44:40.356Z"
   },
   {
    "duration": 3,
    "start_time": "2022-11-27T13:44:47.006Z"
   },
   {
    "duration": 15,
    "start_time": "2022-11-27T13:44:47.764Z"
   },
   {
    "duration": 4,
    "start_time": "2022-11-27T13:45:06.581Z"
   },
   {
    "duration": 37,
    "start_time": "2022-11-27T13:45:07.908Z"
   },
   {
    "duration": 4,
    "start_time": "2022-11-27T13:45:08.668Z"
   },
   {
    "duration": 16,
    "start_time": "2022-11-27T13:45:09.446Z"
   },
   {
    "duration": 9,
    "start_time": "2022-11-27T13:45:10.755Z"
   },
   {
    "duration": 14,
    "start_time": "2022-11-27T13:45:11.062Z"
   },
   {
    "duration": 13,
    "start_time": "2022-11-27T13:45:13.607Z"
   },
   {
    "duration": 56,
    "start_time": "2022-11-27T13:45:14.567Z"
   },
   {
    "duration": 8,
    "start_time": "2022-11-27T13:45:15.540Z"
   },
   {
    "duration": 14,
    "start_time": "2022-11-27T13:45:17.565Z"
   },
   {
    "duration": 7,
    "start_time": "2022-11-27T13:45:18.512Z"
   },
   {
    "duration": 6,
    "start_time": "2022-11-27T13:45:19.461Z"
   },
   {
    "duration": 5,
    "start_time": "2022-11-27T13:45:20.396Z"
   },
   {
    "duration": 2,
    "start_time": "2022-11-27T13:45:24.461Z"
   },
   {
    "duration": 19,
    "start_time": "2022-11-27T13:45:25.389Z"
   },
   {
    "duration": 5,
    "start_time": "2022-11-27T13:46:29.507Z"
   },
   {
    "duration": 7,
    "start_time": "2022-11-27T13:46:30.687Z"
   },
   {
    "duration": 14,
    "start_time": "2022-11-27T13:46:35.072Z"
   },
   {
    "duration": 7,
    "start_time": "2022-11-27T13:46:39.518Z"
   },
   {
    "duration": 6,
    "start_time": "2022-11-27T13:46:40.345Z"
   },
   {
    "duration": 19,
    "start_time": "2022-11-27T13:46:41.047Z"
   },
   {
    "duration": 14,
    "start_time": "2022-11-27T13:46:54.479Z"
   },
   {
    "duration": 12,
    "start_time": "2022-11-27T13:47:12.017Z"
   },
   {
    "duration": 14,
    "start_time": "2022-11-27T13:47:26.030Z"
   },
   {
    "duration": 7,
    "start_time": "2022-11-27T13:47:34.986Z"
   },
   {
    "duration": 6,
    "start_time": "2022-11-27T13:47:35.379Z"
   },
   {
    "duration": 14,
    "start_time": "2022-11-27T13:47:36.151Z"
   },
   {
    "duration": 5,
    "start_time": "2022-11-27T13:50:42.152Z"
   },
   {
    "duration": 42,
    "start_time": "2022-11-27T13:50:42.731Z"
   },
   {
    "duration": 5,
    "start_time": "2022-11-27T13:50:43.073Z"
   },
   {
    "duration": 13,
    "start_time": "2022-11-27T13:50:43.386Z"
   },
   {
    "duration": 9,
    "start_time": "2022-11-27T13:50:43.677Z"
   },
   {
    "duration": 15,
    "start_time": "2022-11-27T13:50:44.492Z"
   },
   {
    "duration": 15,
    "start_time": "2022-11-27T13:50:45.883Z"
   },
   {
    "duration": 5,
    "start_time": "2022-11-27T13:50:46.395Z"
   },
   {
    "duration": 9,
    "start_time": "2022-11-27T13:50:46.843Z"
   },
   {
    "duration": 18,
    "start_time": "2022-11-27T13:50:47.830Z"
   },
   {
    "duration": 6,
    "start_time": "2022-11-27T13:50:48.411Z"
   },
   {
    "duration": 6,
    "start_time": "2022-11-27T13:50:48.996Z"
   },
   {
    "duration": 4,
    "start_time": "2022-11-27T13:50:49.653Z"
   },
   {
    "duration": 3,
    "start_time": "2022-11-27T13:50:52.435Z"
   },
   {
    "duration": 30,
    "start_time": "2022-11-27T13:50:53.045Z"
   },
   {
    "duration": 16,
    "start_time": "2022-11-27T13:50:54.726Z"
   },
   {
    "duration": 5,
    "start_time": "2022-11-27T13:50:58.291Z"
   },
   {
    "duration": 3,
    "start_time": "2022-11-27T13:50:58.907Z"
   },
   {
    "duration": 6,
    "start_time": "2022-11-27T13:50:59.532Z"
   },
   {
    "duration": 2,
    "start_time": "2022-11-27T13:50:59.974Z"
   },
   {
    "duration": 6,
    "start_time": "2022-11-27T13:51:00.469Z"
   },
   {
    "duration": 3,
    "start_time": "2022-11-27T13:51:01.477Z"
   },
   {
    "duration": 3,
    "start_time": "2022-11-27T13:51:01.972Z"
   },
   {
    "duration": 23,
    "start_time": "2022-11-27T13:51:03.806Z"
   },
   {
    "duration": 7,
    "start_time": "2022-11-27T13:51:06.878Z"
   },
   {
    "duration": 3,
    "start_time": "2022-11-27T13:51:51.077Z"
   },
   {
    "duration": 21,
    "start_time": "2022-11-27T13:51:52.965Z"
   },
   {
    "duration": 6,
    "start_time": "2022-11-27T13:51:54.837Z"
   },
   {
    "duration": 8,
    "start_time": "2022-11-27T13:51:55.535Z"
   },
   {
    "duration": 7,
    "start_time": "2022-11-27T13:51:56.734Z"
   },
   {
    "duration": 8,
    "start_time": "2022-11-27T13:51:58.660Z"
   },
   {
    "duration": 5,
    "start_time": "2022-11-27T14:14:14.765Z"
   },
   {
    "duration": 37,
    "start_time": "2022-11-27T14:14:15.593Z"
   },
   {
    "duration": 4,
    "start_time": "2022-11-27T14:14:16.020Z"
   },
   {
    "duration": 14,
    "start_time": "2022-11-27T14:14:16.416Z"
   },
   {
    "duration": 7,
    "start_time": "2022-11-27T14:14:17.672Z"
   },
   {
    "duration": 17,
    "start_time": "2022-11-27T14:14:18.123Z"
   },
   {
    "duration": 14,
    "start_time": "2022-11-27T14:14:19.216Z"
   },
   {
    "duration": 5,
    "start_time": "2022-11-27T14:14:19.660Z"
   },
   {
    "duration": 9,
    "start_time": "2022-11-27T14:14:20.056Z"
   },
   {
    "duration": 18,
    "start_time": "2022-11-27T14:14:20.960Z"
   },
   {
    "duration": 7,
    "start_time": "2022-11-27T14:14:21.392Z"
   },
   {
    "duration": 7,
    "start_time": "2022-11-27T14:14:21.954Z"
   },
   {
    "duration": 5,
    "start_time": "2022-11-27T14:14:22.409Z"
   },
   {
    "duration": 3,
    "start_time": "2022-11-27T14:14:25.045Z"
   },
   {
    "duration": 25,
    "start_time": "2022-11-27T14:14:25.599Z"
   },
   {
    "duration": 14,
    "start_time": "2022-11-27T14:14:26.188Z"
   },
   {
    "duration": 4,
    "start_time": "2022-11-27T14:14:27.362Z"
   },
   {
    "duration": 2,
    "start_time": "2022-11-27T14:14:27.962Z"
   },
   {
    "duration": 6,
    "start_time": "2022-11-27T14:14:28.520Z"
   },
   {
    "duration": 2,
    "start_time": "2022-11-27T14:14:29.117Z"
   },
   {
    "duration": 5,
    "start_time": "2022-11-27T14:14:29.729Z"
   },
   {
    "duration": 2,
    "start_time": "2022-11-27T14:14:30.916Z"
   },
   {
    "duration": 2,
    "start_time": "2022-11-27T14:14:31.533Z"
   },
   {
    "duration": 20,
    "start_time": "2022-11-27T14:14:32.724Z"
   },
   {
    "duration": 6,
    "start_time": "2022-11-27T14:14:34.464Z"
   },
   {
    "duration": 3,
    "start_time": "2022-11-27T14:14:35.653Z"
   },
   {
    "duration": 183,
    "start_time": "2022-11-27T14:14:36.196Z"
   },
   {
    "duration": 8,
    "start_time": "2022-11-27T14:14:36.967Z"
   },
   {
    "duration": 7,
    "start_time": "2022-11-27T14:14:37.611Z"
   },
   {
    "duration": 6,
    "start_time": "2022-11-27T14:14:38.252Z"
   },
   {
    "duration": 15,
    "start_time": "2022-11-27T14:14:39.327Z"
   },
   {
    "duration": 2,
    "start_time": "2022-11-27T14:15:35.335Z"
   },
   {
    "duration": 34272,
    "start_time": "2022-11-27T14:15:37.395Z"
   },
   {
    "duration": 3,
    "start_time": "2022-11-27T14:16:11.669Z"
   },
   {
    "duration": 6,
    "start_time": "2022-11-27T14:16:11.678Z"
   },
   {
    "duration": 7,
    "start_time": "2022-11-27T14:16:11.686Z"
   },
   {
    "duration": 1070,
    "start_time": "2022-11-27T19:07:15.880Z"
   },
   {
    "duration": 82,
    "start_time": "2022-11-27T19:07:16.952Z"
   },
   {
    "duration": 8,
    "start_time": "2022-11-27T19:07:17.293Z"
   },
   {
    "duration": 17,
    "start_time": "2022-11-27T19:07:17.896Z"
   },
   {
    "duration": 8,
    "start_time": "2022-11-27T19:07:18.383Z"
   },
   {
    "duration": 12,
    "start_time": "2022-11-27T19:07:18.953Z"
   },
   {
    "duration": 13,
    "start_time": "2022-11-27T19:07:20.676Z"
   },
   {
    "duration": 5,
    "start_time": "2022-11-27T19:07:21.293Z"
   },
   {
    "duration": 8,
    "start_time": "2022-11-27T19:07:21.853Z"
   },
   {
    "duration": 15,
    "start_time": "2022-11-27T19:07:23.030Z"
   },
   {
    "duration": 6,
    "start_time": "2022-11-27T19:07:23.629Z"
   },
   {
    "duration": 6,
    "start_time": "2022-11-27T19:07:24.207Z"
   },
   {
    "duration": 4,
    "start_time": "2022-11-27T19:07:24.790Z"
   },
   {
    "duration": 2,
    "start_time": "2022-11-27T19:07:28.541Z"
   },
   {
    "duration": 27,
    "start_time": "2022-11-27T19:07:29.101Z"
   },
   {
    "duration": 14,
    "start_time": "2022-11-27T19:07:29.734Z"
   },
   {
    "duration": 5,
    "start_time": "2022-11-27T19:07:31.013Z"
   },
   {
    "duration": 3,
    "start_time": "2022-11-27T19:07:31.550Z"
   },
   {
    "duration": 6,
    "start_time": "2022-11-27T19:07:32.037Z"
   },
   {
    "duration": 3,
    "start_time": "2022-11-27T19:07:32.541Z"
   },
   {
    "duration": 5,
    "start_time": "2022-11-27T19:07:33.142Z"
   },
   {
    "duration": 2,
    "start_time": "2022-11-27T19:07:34.285Z"
   },
   {
    "duration": 2,
    "start_time": "2022-11-27T19:07:35.021Z"
   },
   {
    "duration": 21,
    "start_time": "2022-11-27T19:07:36.254Z"
   },
   {
    "duration": 6,
    "start_time": "2022-11-27T19:07:40.734Z"
   },
   {
    "duration": 2,
    "start_time": "2022-11-27T19:07:43.558Z"
   },
   {
    "duration": 82,
    "start_time": "2022-11-27T19:07:44.158Z"
   },
   {
    "duration": 5,
    "start_time": "2022-11-27T19:07:45.918Z"
   },
   {
    "duration": 8,
    "start_time": "2022-11-27T19:07:46.750Z"
   },
   {
    "duration": 6,
    "start_time": "2022-11-27T19:07:47.777Z"
   },
   {
    "duration": 9,
    "start_time": "2022-11-27T19:07:48.606Z"
   },
   {
    "duration": 3,
    "start_time": "2022-11-27T19:07:52.885Z"
   },
   {
    "duration": 34175,
    "start_time": "2022-11-27T19:07:54.334Z"
   },
   {
    "duration": 2,
    "start_time": "2022-11-27T19:08:28.511Z"
   },
   {
    "duration": 11,
    "start_time": "2022-11-27T19:08:28.514Z"
   },
   {
    "duration": 9,
    "start_time": "2022-11-27T19:08:28.526Z"
   },
   {
    "duration": 12,
    "start_time": "2022-11-27T19:12:47.180Z"
   },
   {
    "duration": 9,
    "start_time": "2022-11-27T19:15:11.161Z"
   },
   {
    "duration": 4,
    "start_time": "2022-11-27T19:19:37.573Z"
   },
   {
    "duration": 41,
    "start_time": "2022-11-27T19:19:37.578Z"
   },
   {
    "duration": 4,
    "start_time": "2022-11-27T19:19:37.621Z"
   },
   {
    "duration": 20,
    "start_time": "2022-11-27T19:19:37.626Z"
   },
   {
    "duration": 9,
    "start_time": "2022-11-27T19:19:39.500Z"
   },
   {
    "duration": 11,
    "start_time": "2022-11-27T19:19:40.147Z"
   },
   {
    "duration": 11,
    "start_time": "2022-11-27T19:19:41.787Z"
   },
   {
    "duration": 7,
    "start_time": "2022-11-27T19:19:42.450Z"
   },
   {
    "duration": 8,
    "start_time": "2022-11-27T19:19:43.075Z"
   },
   {
    "duration": 14,
    "start_time": "2022-11-27T19:19:44.323Z"
   },
   {
    "duration": 6,
    "start_time": "2022-11-27T19:19:44.852Z"
   },
   {
    "duration": 7,
    "start_time": "2022-11-27T19:19:45.485Z"
   },
   {
    "duration": 6,
    "start_time": "2022-11-27T19:19:46.124Z"
   },
   {
    "duration": 3,
    "start_time": "2022-11-27T19:19:48.996Z"
   },
   {
    "duration": 30,
    "start_time": "2022-11-27T19:19:49.547Z"
   },
   {
    "duration": 16,
    "start_time": "2022-11-27T19:19:50.198Z"
   },
   {
    "duration": 4,
    "start_time": "2022-11-27T19:19:51.411Z"
   },
   {
    "duration": 2,
    "start_time": "2022-11-27T19:19:51.978Z"
   },
   {
    "duration": 6,
    "start_time": "2022-11-27T19:19:52.613Z"
   },
   {
    "duration": 2,
    "start_time": "2022-11-27T19:19:53.212Z"
   },
   {
    "duration": 4,
    "start_time": "2022-11-27T19:19:53.773Z"
   },
   {
    "duration": 2,
    "start_time": "2022-11-27T19:19:54.924Z"
   },
   {
    "duration": 3,
    "start_time": "2022-11-27T19:19:55.508Z"
   },
   {
    "duration": 19,
    "start_time": "2022-11-27T19:19:56.765Z"
   },
   {
    "duration": 6,
    "start_time": "2022-11-27T19:19:58.715Z"
   },
   {
    "duration": 3,
    "start_time": "2022-11-27T19:20:00.019Z"
   },
   {
    "duration": 22,
    "start_time": "2022-11-27T19:20:00.620Z"
   },
   {
    "duration": 5,
    "start_time": "2022-11-27T19:20:01.220Z"
   },
   {
    "duration": 8,
    "start_time": "2022-11-27T19:20:01.788Z"
   },
   {
    "duration": 6,
    "start_time": "2022-11-27T19:20:02.427Z"
   },
   {
    "duration": 9,
    "start_time": "2022-11-27T19:20:03.076Z"
   },
   {
    "duration": 2,
    "start_time": "2022-11-27T19:20:05.260Z"
   },
   {
    "duration": 34014,
    "start_time": "2022-11-27T19:20:05.859Z"
   },
   {
    "duration": 2,
    "start_time": "2022-11-27T19:20:39.875Z"
   },
   {
    "duration": 9,
    "start_time": "2022-11-27T19:20:39.879Z"
   },
   {
    "duration": 5,
    "start_time": "2022-11-27T19:20:39.890Z"
   },
   {
    "duration": 27,
    "start_time": "2022-11-27T19:20:39.897Z"
   },
   {
    "duration": 2,
    "start_time": "2022-11-27T19:21:10.989Z"
   },
   {
    "duration": 46894,
    "start_time": "2022-11-27T19:21:56.911Z"
   },
   {
    "duration": 11,
    "start_time": "2022-11-27T19:23:47.020Z"
   },
   {
    "duration": 6,
    "start_time": "2022-11-27T19:23:47.603Z"
   },
   {
    "duration": 7,
    "start_time": "2022-11-27T19:23:48.786Z"
   },
   {
    "duration": 15,
    "start_time": "2022-11-27T19:23:51.260Z"
   },
   {
    "duration": 11,
    "start_time": "2022-11-27T19:26:54.085Z"
   },
   {
    "duration": 6,
    "start_time": "2022-11-27T19:26:58.509Z"
   },
   {
    "duration": 5,
    "start_time": "2022-11-27T19:27:03.437Z"
   },
   {
    "duration": 14,
    "start_time": "2022-11-27T19:27:05.566Z"
   },
   {
    "duration": 101,
    "start_time": "2022-11-27T19:30:14.658Z"
   },
   {
    "duration": 10,
    "start_time": "2022-11-27T19:30:22.832Z"
   },
   {
    "duration": 3,
    "start_time": "2022-11-27T19:30:24.591Z"
   },
   {
    "duration": 41559,
    "start_time": "2022-11-27T19:30:25.321Z"
   },
   {
    "duration": 9,
    "start_time": "2022-11-27T19:31:24.689Z"
   },
   {
    "duration": 6,
    "start_time": "2022-11-27T19:31:25.274Z"
   },
   {
    "duration": 6,
    "start_time": "2022-11-27T19:31:25.969Z"
   },
   {
    "duration": 17,
    "start_time": "2022-11-27T19:31:26.744Z"
   },
   {
    "duration": 10,
    "start_time": "2022-11-27T19:31:35.336Z"
   },
   {
    "duration": 2,
    "start_time": "2022-11-27T19:31:36.938Z"
   },
   {
    "duration": 48425,
    "start_time": "2022-11-27T19:31:37.425Z"
   },
   {
    "duration": 12,
    "start_time": "2022-11-27T19:33:04.811Z"
   },
   {
    "duration": 6,
    "start_time": "2022-11-27T19:33:06.091Z"
   },
   {
    "duration": 6,
    "start_time": "2022-11-27T19:33:06.900Z"
   },
   {
    "duration": 15,
    "start_time": "2022-11-27T19:33:07.731Z"
   },
   {
    "duration": 2,
    "start_time": "2022-11-27T19:33:13.283Z"
   },
   {
    "duration": 10,
    "start_time": "2022-11-27T19:33:17.530Z"
   },
   {
    "duration": 17,
    "start_time": "2022-11-27T19:33:19.452Z"
   },
   {
    "duration": 10,
    "start_time": "2022-11-27T19:33:52.348Z"
   },
   {
    "duration": 19,
    "start_time": "2022-11-27T19:33:52.987Z"
   },
   {
    "duration": 11,
    "start_time": "2022-11-27T19:34:15.886Z"
   },
   {
    "duration": 17,
    "start_time": "2022-11-27T19:34:53.085Z"
   },
   {
    "duration": 15807,
    "start_time": "2022-11-27T19:36:26.306Z"
   },
   {
    "duration": 10,
    "start_time": "2022-11-27T19:36:52.567Z"
   },
   {
    "duration": 7,
    "start_time": "2022-11-27T19:36:54.016Z"
   },
   {
    "duration": 15,
    "start_time": "2022-11-27T19:36:57.025Z"
   },
   {
    "duration": 6,
    "start_time": "2022-11-27T19:37:36.040Z"
   },
   {
    "duration": 6,
    "start_time": "2022-11-27T19:37:52.257Z"
   },
   {
    "duration": 7,
    "start_time": "2022-11-27T19:38:05.704Z"
   },
   {
    "duration": 8,
    "start_time": "2022-11-27T19:38:25.825Z"
   },
   {
    "duration": 8,
    "start_time": "2022-11-27T19:39:40.560Z"
   },
   {
    "duration": 13,
    "start_time": "2022-11-27T19:40:02.446Z"
   },
   {
    "duration": 10,
    "start_time": "2022-11-27T19:40:17.421Z"
   },
   {
    "duration": 7,
    "start_time": "2022-11-27T19:40:24.714Z"
   },
   {
    "duration": 6,
    "start_time": "2022-11-27T19:40:25.900Z"
   },
   {
    "duration": 6,
    "start_time": "2022-11-27T19:40:29.266Z"
   },
   {
    "duration": 8,
    "start_time": "2022-11-27T19:40:33.851Z"
   },
   {
    "duration": 12,
    "start_time": "2022-11-27T19:40:49.517Z"
   },
   {
    "duration": 9,
    "start_time": "2022-11-27T19:41:55.181Z"
   },
   {
    "duration": 3,
    "start_time": "2022-11-27T19:41:57.548Z"
   },
   {
    "duration": 50882,
    "start_time": "2022-11-27T19:41:58.116Z"
   },
   {
    "duration": 9,
    "start_time": "2022-11-27T19:42:52.053Z"
   },
   {
    "duration": 7,
    "start_time": "2022-11-27T19:42:52.782Z"
   },
   {
    "duration": 7,
    "start_time": "2022-11-27T19:42:53.670Z"
   },
   {
    "duration": 4,
    "start_time": "2022-11-27T19:43:24.361Z"
   },
   {
    "duration": 37,
    "start_time": "2022-11-27T19:43:25.486Z"
   },
   {
    "duration": 4,
    "start_time": "2022-11-27T19:43:26.085Z"
   },
   {
    "duration": 14,
    "start_time": "2022-11-27T19:43:26.680Z"
   },
   {
    "duration": 7,
    "start_time": "2022-11-27T19:43:27.238Z"
   },
   {
    "duration": 14,
    "start_time": "2022-11-27T19:43:27.886Z"
   },
   {
    "duration": 11,
    "start_time": "2022-11-27T19:43:29.774Z"
   },
   {
    "duration": 4,
    "start_time": "2022-11-27T19:43:30.512Z"
   },
   {
    "duration": 7,
    "start_time": "2022-11-27T19:43:31.214Z"
   },
   {
    "duration": 13,
    "start_time": "2022-11-27T19:43:32.773Z"
   },
   {
    "duration": 6,
    "start_time": "2022-11-27T19:43:33.600Z"
   },
   {
    "duration": 7,
    "start_time": "2022-11-27T19:43:34.341Z"
   },
   {
    "duration": 4,
    "start_time": "2022-11-27T19:43:35.030Z"
   },
   {
    "duration": 3,
    "start_time": "2022-11-27T19:43:38.374Z"
   },
   {
    "duration": 2,
    "start_time": "2022-11-27T19:43:48.849Z"
   },
   {
    "duration": 28,
    "start_time": "2022-11-27T19:43:49.382Z"
   },
   {
    "duration": 16,
    "start_time": "2022-11-27T19:43:49.983Z"
   },
   {
    "duration": 5,
    "start_time": "2022-11-27T19:43:52.499Z"
   },
   {
    "duration": 3,
    "start_time": "2022-11-27T19:43:53.463Z"
   },
   {
    "duration": 6,
    "start_time": "2022-11-27T19:43:54.126Z"
   },
   {
    "duration": 3,
    "start_time": "2022-11-27T19:43:54.678Z"
   },
   {
    "duration": 4,
    "start_time": "2022-11-27T19:43:55.590Z"
   },
   {
    "duration": 3,
    "start_time": "2022-11-27T19:43:57.054Z"
   },
   {
    "duration": 3,
    "start_time": "2022-11-27T19:43:57.686Z"
   },
   {
    "duration": 23,
    "start_time": "2022-11-27T19:43:59.215Z"
   },
   {
    "duration": 7,
    "start_time": "2022-11-27T19:44:09.913Z"
   },
   {
    "duration": 3,
    "start_time": "2022-11-27T19:44:11.278Z"
   },
   {
    "duration": 94,
    "start_time": "2022-11-27T19:44:11.951Z"
   },
   {
    "duration": 6,
    "start_time": "2022-11-27T19:44:12.975Z"
   },
   {
    "duration": 7,
    "start_time": "2022-11-27T19:44:13.711Z"
   },
   {
    "duration": 7,
    "start_time": "2022-11-27T19:44:14.727Z"
   },
   {
    "duration": 11,
    "start_time": "2022-11-27T19:44:15.759Z"
   },
   {
    "duration": 2,
    "start_time": "2022-11-27T19:44:19.552Z"
   },
   {
    "duration": 35702,
    "start_time": "2022-11-27T19:44:20.551Z"
   },
   {
    "duration": 11,
    "start_time": "2022-11-27T19:44:58.633Z"
   },
   {
    "duration": 8,
    "start_time": "2022-11-27T19:44:59.233Z"
   },
   {
    "duration": 8,
    "start_time": "2022-11-27T19:44:59.831Z"
   },
   {
    "duration": 14,
    "start_time": "2022-11-27T19:45:00.993Z"
   },
   {
    "duration": 3,
    "start_time": "2022-11-27T19:45:03.655Z"
   },
   {
    "duration": 3,
    "start_time": "2022-11-27T19:45:04.919Z"
   },
   {
    "duration": 2,
    "start_time": "2022-11-27T19:45:05.656Z"
   },
   {
    "duration": 10,
    "start_time": "2022-11-27T19:45:06.496Z"
   },
   {
    "duration": 3,
    "start_time": "2022-11-27T19:45:09.031Z"
   },
   {
    "duration": 44322,
    "start_time": "2022-11-27T19:45:09.945Z"
   },
   {
    "duration": 6,
    "start_time": "2022-11-27T19:46:02.730Z"
   },
   {
    "duration": 6,
    "start_time": "2022-11-27T19:46:41.843Z"
   },
   {
    "duration": 14,
    "start_time": "2022-11-27T19:46:42.481Z"
   },
   {
    "duration": 6,
    "start_time": "2022-11-27T19:46:43.170Z"
   },
   {
    "duration": 6,
    "start_time": "2022-11-27T19:46:44.058Z"
   },
   {
    "duration": 14,
    "start_time": "2022-11-27T19:46:46.043Z"
   },
   {
    "duration": 3,
    "start_time": "2022-11-27T19:46:59.682Z"
   },
   {
    "duration": 6,
    "start_time": "2022-11-27T19:47:36.964Z"
   },
   {
    "duration": 10,
    "start_time": "2022-11-27T19:47:43.507Z"
   },
   {
    "duration": 6,
    "start_time": "2022-11-27T19:47:43.852Z"
   },
   {
    "duration": 9,
    "start_time": "2022-11-27T19:48:11.332Z"
   },
   {
    "duration": 15455,
    "start_time": "2022-11-27T19:48:11.714Z"
   },
   {
    "duration": 6,
    "start_time": "2022-11-27T19:48:35.459Z"
   },
   {
    "duration": 7,
    "start_time": "2022-11-27T19:48:35.870Z"
   },
   {
    "duration": 7,
    "start_time": "2022-11-27T19:48:36.876Z"
   },
   {
    "duration": 9,
    "start_time": "2022-11-27T19:48:38.900Z"
   },
   {
    "duration": 11,
    "start_time": "2022-11-27T19:48:48.708Z"
   },
   {
    "duration": 12,
    "start_time": "2022-11-27T19:48:51.333Z"
   },
   {
    "duration": 10,
    "start_time": "2022-11-27T19:48:52.532Z"
   },
   {
    "duration": 6,
    "start_time": "2022-11-27T19:48:53.724Z"
   },
   {
    "duration": 6,
    "start_time": "2022-11-27T19:48:54.757Z"
   },
   {
    "duration": 11,
    "start_time": "2022-11-27T19:48:55.780Z"
   },
   {
    "duration": 7,
    "start_time": "2022-11-27T19:50:43.967Z"
   },
   {
    "duration": 9,
    "start_time": "2022-11-27T19:50:50.739Z"
   },
   {
    "duration": 8,
    "start_time": "2022-11-27T19:50:56.959Z"
   },
   {
    "duration": 7,
    "start_time": "2022-11-27T19:50:58.072Z"
   },
   {
    "duration": 8,
    "start_time": "2022-11-27T19:51:00.023Z"
   },
   {
    "duration": 12,
    "start_time": "2022-11-27T19:51:02.327Z"
   },
   {
    "duration": 11,
    "start_time": "2022-11-27T19:51:27.561Z"
   },
   {
    "duration": 13,
    "start_time": "2022-11-27T19:51:36.273Z"
   },
   {
    "duration": 6,
    "start_time": "2022-11-27T19:51:39.672Z"
   },
   {
    "duration": 9,
    "start_time": "2022-11-27T19:51:42.458Z"
   },
   {
    "duration": 6,
    "start_time": "2022-11-27T19:51:43.848Z"
   },
   {
    "duration": 11,
    "start_time": "2022-11-27T19:51:45.129Z"
   },
   {
    "duration": 16,
    "start_time": "2022-11-27T19:53:40.067Z"
   },
   {
    "duration": 19895,
    "start_time": "2022-11-27T19:53:40.762Z"
   },
   {
    "duration": 10,
    "start_time": "2022-11-27T19:55:52.207Z"
   },
   {
    "duration": 2,
    "start_time": "2022-11-27T19:55:54.908Z"
   },
   {
    "duration": 49784,
    "start_time": "2022-11-27T19:55:55.772Z"
   },
   {
    "duration": 7,
    "start_time": "2022-11-27T19:56:47.373Z"
   },
   {
    "duration": 13,
    "start_time": "2022-11-27T19:56:51.021Z"
   },
   {
    "duration": 6,
    "start_time": "2022-11-27T19:56:51.421Z"
   },
   {
    "duration": 6,
    "start_time": "2022-11-27T19:56:52.254Z"
   },
   {
    "duration": 17,
    "start_time": "2022-11-27T19:56:53.550Z"
   },
   {
    "duration": 2,
    "start_time": "2022-11-27T19:56:57.949Z"
   },
   {
    "duration": 10,
    "start_time": "2022-11-27T19:56:58.917Z"
   },
   {
    "duration": 5,
    "start_time": "2022-11-27T19:57:13.702Z"
   },
   {
    "duration": 19516,
    "start_time": "2022-11-27T19:57:19.758Z"
   },
   {
    "duration": 8,
    "start_time": "2022-11-27T19:57:41.390Z"
   },
   {
    "duration": 6,
    "start_time": "2022-11-27T19:57:41.974Z"
   },
   {
    "duration": 6,
    "start_time": "2022-11-27T19:57:42.823Z"
   },
   {
    "duration": 11,
    "start_time": "2022-11-27T19:57:51.455Z"
   },
   {
    "duration": 7,
    "start_time": "2022-11-27T19:57:51.782Z"
   },
   {
    "duration": 10,
    "start_time": "2022-11-27T19:57:56.248Z"
   },
   {
    "duration": 6,
    "start_time": "2022-11-27T19:57:56.558Z"
   },
   {
    "duration": 11,
    "start_time": "2022-11-27T19:58:01.848Z"
   },
   {
    "duration": 6,
    "start_time": "2022-11-27T19:58:02.148Z"
   },
   {
    "duration": 12,
    "start_time": "2022-11-27T19:58:06.655Z"
   },
   {
    "duration": 7,
    "start_time": "2022-11-27T19:58:06.950Z"
   },
   {
    "duration": 8,
    "start_time": "2022-11-27T19:58:07.839Z"
   },
   {
    "duration": 11,
    "start_time": "2022-11-27T19:58:08.382Z"
   },
   {
    "duration": 11,
    "start_time": "2022-11-27T19:58:17.360Z"
   },
   {
    "duration": 13,
    "start_time": "2022-11-27T19:58:19.200Z"
   },
   {
    "duration": 7,
    "start_time": "2022-11-27T19:58:20.350Z"
   },
   {
    "duration": 9,
    "start_time": "2022-11-27T19:58:22.135Z"
   },
   {
    "duration": 6,
    "start_time": "2022-11-27T19:58:23.218Z"
   },
   {
    "duration": 13,
    "start_time": "2022-11-27T19:58:24.996Z"
   },
   {
    "duration": 8,
    "start_time": "2022-11-27T19:58:57.387Z"
   },
   {
    "duration": 11,
    "start_time": "2022-11-27T19:58:58.567Z"
   },
   {
    "duration": 10,
    "start_time": "2022-11-27T19:59:17.061Z"
   },
   {
    "duration": 15,
    "start_time": "2022-11-27T19:59:28.473Z"
   },
   {
    "duration": 8,
    "start_time": "2022-11-27T19:59:30.480Z"
   },
   {
    "duration": 15,
    "start_time": "2022-11-27T19:59:32.376Z"
   },
   {
    "duration": 10,
    "start_time": "2022-11-27T19:59:59.017Z"
   },
   {
    "duration": 7,
    "start_time": "2022-11-27T19:59:59.321Z"
   },
   {
    "duration": 9,
    "start_time": "2022-11-27T20:00:03.353Z"
   },
   {
    "duration": 5,
    "start_time": "2022-11-27T20:00:03.722Z"
   },
   {
    "duration": 20,
    "start_time": "2022-11-27T20:00:09.601Z"
   },
   {
    "duration": 6,
    "start_time": "2022-11-27T20:00:09.872Z"
   },
   {
    "duration": 10,
    "start_time": "2022-11-27T20:00:14.401Z"
   },
   {
    "duration": 6,
    "start_time": "2022-11-27T20:00:14.695Z"
   },
   {
    "duration": 10,
    "start_time": "2022-11-27T20:00:18.098Z"
   },
   {
    "duration": 6,
    "start_time": "2022-11-27T20:00:18.347Z"
   },
   {
    "duration": 3,
    "start_time": "2022-11-27T20:00:25.305Z"
   },
   {
    "duration": 49107,
    "start_time": "2022-11-27T20:00:26.096Z"
   },
   {
    "duration": 13,
    "start_time": "2022-11-27T20:01:23.154Z"
   },
   {
    "duration": 7,
    "start_time": "2022-11-27T20:01:23.491Z"
   },
   {
    "duration": 6,
    "start_time": "2022-11-27T20:01:24.192Z"
   },
   {
    "duration": 16,
    "start_time": "2022-11-27T20:01:24.953Z"
   },
   {
    "duration": 3,
    "start_time": "2022-11-27T20:01:26.989Z"
   },
   {
    "duration": 11,
    "start_time": "2022-11-27T20:01:27.795Z"
   },
   {
    "duration": 6,
    "start_time": "2022-11-27T20:01:28.249Z"
   },
   {
    "duration": 19071,
    "start_time": "2022-11-27T20:01:32.450Z"
   },
   {
    "duration": 8,
    "start_time": "2022-11-27T20:01:52.980Z"
   },
   {
    "duration": 6,
    "start_time": "2022-11-27T20:01:53.364Z"
   },
   {
    "duration": 7,
    "start_time": "2022-11-27T20:01:53.923Z"
   },
   {
    "duration": 11,
    "start_time": "2022-11-27T20:01:54.410Z"
   },
   {
    "duration": 11,
    "start_time": "2022-11-27T20:02:33.556Z"
   },
   {
    "duration": 9,
    "start_time": "2022-11-27T20:03:17.030Z"
   },
   {
    "duration": 10,
    "start_time": "2022-11-27T20:04:17.854Z"
   },
   {
    "duration": 6,
    "start_time": "2022-11-27T20:04:33.352Z"
   },
   {
    "duration": 12,
    "start_time": "2022-11-27T20:04:35.126Z"
   },
   {
    "duration": 9,
    "start_time": "2022-11-27T20:07:07.073Z"
   },
   {
    "duration": 57,
    "start_time": "2022-11-27T20:07:08.599Z"
   },
   {
    "duration": 8,
    "start_time": "2022-11-27T20:07:17.611Z"
   },
   {
    "duration": 6,
    "start_time": "2022-11-27T20:07:51.388Z"
   },
   {
    "duration": 13,
    "start_time": "2022-11-27T20:08:35.611Z"
   },
   {
    "duration": 7,
    "start_time": "2022-11-27T20:08:38.398Z"
   },
   {
    "duration": 7,
    "start_time": "2022-11-27T20:08:40.075Z"
   },
   {
    "duration": 8,
    "start_time": "2022-11-27T20:08:50.811Z"
   },
   {
    "duration": 6,
    "start_time": "2022-11-27T20:08:51.163Z"
   },
   {
    "duration": 6,
    "start_time": "2022-11-27T20:08:54.306Z"
   },
   {
    "duration": 11,
    "start_time": "2022-11-27T20:08:55.547Z"
   },
   {
    "duration": 20,
    "start_time": "2022-11-27T20:10:11.802Z"
   },
   {
    "duration": 18,
    "start_time": "2022-11-27T20:10:13.219Z"
   },
   {
    "duration": 11,
    "start_time": "2022-11-27T20:10:13.667Z"
   },
   {
    "duration": 11,
    "start_time": "2022-11-27T20:10:19.155Z"
   },
   {
    "duration": 13,
    "start_time": "2022-11-27T20:10:20.502Z"
   },
   {
    "duration": 12,
    "start_time": "2022-11-27T20:10:43.926Z"
   },
   {
    "duration": 10,
    "start_time": "2022-11-27T20:10:57.660Z"
   },
   {
    "duration": 6,
    "start_time": "2022-11-27T20:10:57.974Z"
   },
   {
    "duration": 7,
    "start_time": "2022-11-27T20:11:03.620Z"
   },
   {
    "duration": 11,
    "start_time": "2022-11-27T20:11:09.164Z"
   },
   {
    "duration": 15,
    "start_time": "2022-11-27T20:19:05.582Z"
   },
   {
    "duration": 7,
    "start_time": "2022-11-27T20:19:05.896Z"
   },
   {
    "duration": 14,
    "start_time": "2022-11-27T20:19:13.118Z"
   },
   {
    "duration": 7,
    "start_time": "2022-11-27T20:19:13.397Z"
   },
   {
    "duration": 14,
    "start_time": "2022-11-27T20:19:19.470Z"
   },
   {
    "duration": 7,
    "start_time": "2022-11-27T20:19:19.783Z"
   },
   {
    "duration": 19745,
    "start_time": "2022-11-27T20:19:22.912Z"
   },
   {
    "duration": 7,
    "start_time": "2022-11-27T20:19:44.446Z"
   },
   {
    "duration": 7,
    "start_time": "2022-11-27T20:19:45.464Z"
   },
   {
    "duration": 7,
    "start_time": "2022-11-27T20:19:46.302Z"
   },
   {
    "duration": 10,
    "start_time": "2022-11-27T20:19:56.143Z"
   },
   {
    "duration": 7,
    "start_time": "2022-11-27T20:19:56.847Z"
   },
   {
    "duration": 10,
    "start_time": "2022-11-27T20:20:03.479Z"
   },
   {
    "duration": 6,
    "start_time": "2022-11-27T20:20:03.870Z"
   },
   {
    "duration": 10,
    "start_time": "2022-11-27T20:20:10.479Z"
   },
   {
    "duration": 6,
    "start_time": "2022-11-27T20:20:10.759Z"
   },
   {
    "duration": 10,
    "start_time": "2022-11-27T20:20:16.930Z"
   },
   {
    "duration": 7,
    "start_time": "2022-11-27T20:20:17.230Z"
   },
   {
    "duration": 10,
    "start_time": "2022-11-27T20:20:21.512Z"
   },
   {
    "duration": 6,
    "start_time": "2022-11-27T20:20:21.774Z"
   },
   {
    "duration": 18833,
    "start_time": "2022-11-27T20:20:25.150Z"
   },
   {
    "duration": 7,
    "start_time": "2022-11-27T20:20:46.111Z"
   },
   {
    "duration": 7,
    "start_time": "2022-11-27T20:20:46.447Z"
   },
   {
    "duration": 7,
    "start_time": "2022-11-27T20:20:47.230Z"
   },
   {
    "duration": 9,
    "start_time": "2022-11-27T20:20:54.336Z"
   },
   {
    "duration": 6,
    "start_time": "2022-11-27T20:20:54.672Z"
   },
   {
    "duration": 20077,
    "start_time": "2022-11-27T20:20:58.762Z"
   },
   {
    "duration": 6,
    "start_time": "2022-11-27T20:21:20.537Z"
   },
   {
    "duration": 6,
    "start_time": "2022-11-27T20:21:20.896Z"
   },
   {
    "duration": 7,
    "start_time": "2022-11-27T20:21:21.848Z"
   },
   {
    "duration": 9,
    "start_time": "2022-11-27T20:21:23.823Z"
   },
   {
    "duration": 9,
    "start_time": "2022-11-27T20:22:00.946Z"
   },
   {
    "duration": 9,
    "start_time": "2022-11-27T20:22:05.633Z"
   },
   {
    "duration": 10,
    "start_time": "2022-11-27T20:22:26.308Z"
   },
   {
    "duration": 9,
    "start_time": "2022-11-27T20:22:31.466Z"
   },
   {
    "duration": 6,
    "start_time": "2022-11-27T20:22:36.604Z"
   },
   {
    "duration": 6,
    "start_time": "2022-11-27T20:22:36.922Z"
   },
   {
    "duration": 13,
    "start_time": "2022-11-27T20:22:37.722Z"
   },
   {
    "duration": 20,
    "start_time": "2022-11-27T20:23:57.483Z"
   },
   {
    "duration": 11,
    "start_time": "2022-11-27T20:23:57.819Z"
   },
   {
    "duration": 14,
    "start_time": "2022-11-27T20:24:17.947Z"
   },
   {
    "duration": 7,
    "start_time": "2022-11-27T20:24:18.843Z"
   },
   {
    "duration": 6,
    "start_time": "2022-11-27T20:24:22.853Z"
   },
   {
    "duration": 9,
    "start_time": "2022-11-27T20:24:39.299Z"
   },
   {
    "duration": 6,
    "start_time": "2022-11-27T20:24:39.589Z"
   },
   {
    "duration": 8,
    "start_time": "2022-11-27T20:24:40.620Z"
   },
   {
    "duration": 12,
    "start_time": "2022-11-27T20:24:41.333Z"
   },
   {
    "duration": 1260,
    "start_time": "2022-11-28T10:19:02.031Z"
   },
   {
    "duration": 42,
    "start_time": "2022-11-28T10:19:03.293Z"
   },
   {
    "duration": 10,
    "start_time": "2022-11-28T10:19:03.337Z"
   },
   {
    "duration": 30,
    "start_time": "2022-11-28T10:19:03.349Z"
   },
   {
    "duration": 29,
    "start_time": "2022-11-28T10:19:03.382Z"
   },
   {
    "duration": 36,
    "start_time": "2022-11-28T10:19:03.413Z"
   },
   {
    "duration": 19,
    "start_time": "2022-11-28T10:19:03.451Z"
   },
   {
    "duration": 15,
    "start_time": "2022-11-28T10:19:03.472Z"
   },
   {
    "duration": 27,
    "start_time": "2022-11-28T10:19:03.488Z"
   },
   {
    "duration": 48,
    "start_time": "2022-11-28T10:19:03.518Z"
   },
   {
    "duration": 20,
    "start_time": "2022-11-28T10:19:03.568Z"
   },
   {
    "duration": 32,
    "start_time": "2022-11-28T10:19:03.590Z"
   },
   {
    "duration": 28,
    "start_time": "2022-11-28T10:19:03.625Z"
   },
   {
    "duration": 31,
    "start_time": "2022-11-28T10:19:03.654Z"
   },
   {
    "duration": 89,
    "start_time": "2022-11-28T10:19:03.687Z"
   },
   {
    "duration": 23,
    "start_time": "2022-11-28T10:19:03.778Z"
   },
   {
    "duration": 34,
    "start_time": "2022-11-28T10:19:03.803Z"
   },
   {
    "duration": 35,
    "start_time": "2022-11-28T10:19:03.839Z"
   },
   {
    "duration": 31,
    "start_time": "2022-11-28T10:19:03.876Z"
   },
   {
    "duration": 15,
    "start_time": "2022-11-28T10:19:03.909Z"
   },
   {
    "duration": 16,
    "start_time": "2022-11-28T10:19:03.926Z"
   },
   {
    "duration": 26,
    "start_time": "2022-11-28T10:19:03.944Z"
   },
   {
    "duration": 14,
    "start_time": "2022-11-28T10:19:03.972Z"
   },
   {
    "duration": 66,
    "start_time": "2022-11-28T10:19:03.988Z"
   },
   {
    "duration": 7,
    "start_time": "2022-11-28T10:19:04.056Z"
   },
   {
    "duration": 34,
    "start_time": "2022-11-28T10:19:04.066Z"
   },
   {
    "duration": 353,
    "start_time": "2022-11-28T10:19:04.103Z"
   },
   {
    "duration": 8,
    "start_time": "2022-11-28T10:19:04.463Z"
   },
   {
    "duration": 213,
    "start_time": "2022-11-28T10:19:04.473Z"
   },
   {
    "duration": 49,
    "start_time": "2022-11-28T10:19:04.688Z"
   },
   {
    "duration": 48,
    "start_time": "2022-11-28T10:19:04.740Z"
   },
   {
    "duration": 166,
    "start_time": "2022-11-28T10:19:04.790Z"
   },
   {
    "duration": 37010,
    "start_time": "2022-11-28T10:19:04.958Z"
   },
   {
    "duration": 9,
    "start_time": "2022-11-28T10:19:41.969Z"
   },
   {
    "duration": 23,
    "start_time": "2022-11-28T10:19:41.979Z"
   },
   {
    "duration": 41,
    "start_time": "2022-11-28T10:19:42.004Z"
   },
   {
    "duration": 13,
    "start_time": "2022-11-28T10:19:42.047Z"
   },
   {
    "duration": 3,
    "start_time": "2022-11-28T10:19:42.062Z"
   },
   {
    "duration": 12,
    "start_time": "2022-11-28T10:19:42.066Z"
   },
   {
    "duration": 4,
    "start_time": "2022-11-28T10:19:42.080Z"
   },
   {
    "duration": 15,
    "start_time": "2022-11-28T10:19:42.086Z"
   },
   {
    "duration": 5,
    "start_time": "2022-11-28T10:19:42.103Z"
   },
   {
    "duration": 5,
    "start_time": "2022-11-28T10:19:42.110Z"
   },
   {
    "duration": 50131,
    "start_time": "2022-11-28T10:19:42.117Z"
   },
   {
    "duration": 13,
    "start_time": "2022-11-28T10:20:32.250Z"
   },
   {
    "duration": 6,
    "start_time": "2022-11-28T10:20:32.265Z"
   },
   {
    "duration": 8,
    "start_time": "2022-11-28T10:20:32.272Z"
   },
   {
    "duration": 16,
    "start_time": "2022-11-28T10:20:32.282Z"
   },
   {
    "duration": 2,
    "start_time": "2022-11-28T10:20:32.299Z"
   },
   {
    "duration": 10,
    "start_time": "2022-11-28T10:20:32.303Z"
   },
   {
    "duration": 5,
    "start_time": "2022-11-28T10:20:32.315Z"
   },
   {
    "duration": 20685,
    "start_time": "2022-11-28T10:20:32.321Z"
   },
   {
    "duration": 5,
    "start_time": "2022-11-28T10:20:53.008Z"
   },
   {
    "duration": 14,
    "start_time": "2022-11-28T10:20:53.015Z"
   },
   {
    "duration": 28,
    "start_time": "2022-11-28T10:20:53.031Z"
   },
   {
    "duration": 13,
    "start_time": "2022-11-28T10:20:53.061Z"
   },
   {
    "duration": 13,
    "start_time": "2022-11-28T10:20:53.076Z"
   },
   {
    "duration": 11,
    "start_time": "2022-11-28T10:20:53.090Z"
   },
   {
    "duration": 11,
    "start_time": "2022-11-28T10:20:53.102Z"
   },
   {
    "duration": 7,
    "start_time": "2022-11-28T10:20:53.115Z"
   },
   {
    "duration": 11,
    "start_time": "2022-11-28T10:20:53.124Z"
   },
   {
    "duration": 1178,
    "start_time": "2022-11-28T20:26:22.039Z"
   },
   {
    "duration": 151,
    "start_time": "2022-11-28T20:26:23.333Z"
   },
   {
    "duration": 8,
    "start_time": "2022-11-28T20:26:23.893Z"
   },
   {
    "duration": 24,
    "start_time": "2022-11-28T20:26:24.492Z"
   },
   {
    "duration": 10,
    "start_time": "2022-11-28T20:26:25.265Z"
   },
   {
    "duration": 12,
    "start_time": "2022-11-28T20:26:26.015Z"
   },
   {
    "duration": 13,
    "start_time": "2022-11-28T20:26:29.416Z"
   },
   {
    "duration": 5,
    "start_time": "2022-11-28T20:26:30.614Z"
   },
   {
    "duration": 7,
    "start_time": "2022-11-28T20:29:59.580Z"
   },
   {
    "duration": 14,
    "start_time": "2022-11-28T20:30:01.449Z"
   },
   {
    "duration": 6,
    "start_time": "2022-11-28T20:30:02.089Z"
   },
   {
    "duration": 5,
    "start_time": "2022-11-28T20:30:02.733Z"
   },
   {
    "duration": 4,
    "start_time": "2022-11-28T20:30:03.447Z"
   },
   {
    "duration": 3,
    "start_time": "2022-11-28T20:30:18.082Z"
   },
   {
    "duration": 28,
    "start_time": "2022-11-28T20:30:18.680Z"
   },
   {
    "duration": 15,
    "start_time": "2022-11-28T20:30:19.293Z"
   },
   {
    "duration": 5,
    "start_time": "2022-11-28T20:37:14.101Z"
   },
   {
    "duration": 40,
    "start_time": "2022-11-28T20:37:15.126Z"
   },
   {
    "duration": 4,
    "start_time": "2022-11-28T20:37:15.674Z"
   },
   {
    "duration": 15,
    "start_time": "2022-11-28T20:37:16.277Z"
   },
   {
    "duration": 8,
    "start_time": "2022-11-28T20:37:16.928Z"
   },
   {
    "duration": 17,
    "start_time": "2022-11-28T20:37:17.540Z"
   },
   {
    "duration": 12,
    "start_time": "2022-11-28T20:37:19.461Z"
   },
   {
    "duration": 4,
    "start_time": "2022-11-28T20:37:20.783Z"
   },
   {
    "duration": 7,
    "start_time": "2022-11-28T20:37:21.487Z"
   },
   {
    "duration": 13,
    "start_time": "2022-11-28T20:37:23.355Z"
   },
   {
    "duration": 6,
    "start_time": "2022-11-28T20:37:24.018Z"
   },
   {
    "duration": 6,
    "start_time": "2022-11-28T20:37:24.740Z"
   },
   {
    "duration": 4,
    "start_time": "2022-11-28T20:37:25.559Z"
   },
   {
    "duration": 2,
    "start_time": "2022-11-28T20:37:31.892Z"
   },
   {
    "duration": 3,
    "start_time": "2022-11-28T20:38:49.255Z"
   },
   {
    "duration": 44,
    "start_time": "2022-11-28T20:39:22.308Z"
   },
   {
    "duration": 4,
    "start_time": "2022-11-28T20:39:22.893Z"
   },
   {
    "duration": 13,
    "start_time": "2022-11-28T20:39:23.427Z"
   },
   {
    "duration": 7,
    "start_time": "2022-11-28T20:39:24.065Z"
   },
   {
    "duration": 11,
    "start_time": "2022-11-28T20:39:24.818Z"
   },
   {
    "duration": 11,
    "start_time": "2022-11-28T20:39:26.861Z"
   },
   {
    "duration": 4,
    "start_time": "2022-11-28T20:39:28.227Z"
   },
   {
    "duration": 6,
    "start_time": "2022-11-28T20:39:28.867Z"
   },
   {
    "duration": 12,
    "start_time": "2022-11-28T20:39:30.846Z"
   },
   {
    "duration": 5,
    "start_time": "2022-11-28T20:39:31.397Z"
   },
   {
    "duration": 6,
    "start_time": "2022-11-28T20:39:32.059Z"
   },
   {
    "duration": 4,
    "start_time": "2022-11-28T20:39:32.650Z"
   },
   {
    "duration": 4,
    "start_time": "2022-11-28T20:40:08.065Z"
   },
   {
    "duration": 2,
    "start_time": "2022-11-28T20:40:08.582Z"
   },
   {
    "duration": 7,
    "start_time": "2022-11-28T20:40:09.055Z"
   },
   {
    "duration": 2,
    "start_time": "2022-11-28T20:40:09.573Z"
   },
   {
    "duration": 5,
    "start_time": "2022-11-28T20:40:10.157Z"
   },
   {
    "duration": 1096,
    "start_time": "2022-11-29T10:43:11.411Z"
   },
   {
    "duration": 147,
    "start_time": "2022-11-29T10:43:12.510Z"
   },
   {
    "duration": 9,
    "start_time": "2022-11-29T10:43:13.028Z"
   },
   {
    "duration": 16,
    "start_time": "2022-11-29T10:43:13.582Z"
   },
   {
    "duration": 8,
    "start_time": "2022-11-29T10:43:14.073Z"
   },
   {
    "duration": 12,
    "start_time": "2022-11-29T10:43:14.658Z"
   },
   {
    "duration": 13,
    "start_time": "2022-11-29T10:43:16.409Z"
   },
   {
    "duration": 5,
    "start_time": "2022-11-29T10:43:17.749Z"
   },
   {
    "duration": 10,
    "start_time": "2022-11-29T10:43:18.325Z"
   },
   {
    "duration": 14,
    "start_time": "2022-11-29T10:43:20.175Z"
   },
   {
    "duration": 6,
    "start_time": "2022-11-29T10:43:20.991Z"
   },
   {
    "duration": 7,
    "start_time": "2022-11-29T10:43:21.559Z"
   },
   {
    "duration": 4,
    "start_time": "2022-11-29T10:43:22.140Z"
   },
   {
    "duration": 102,
    "start_time": "2022-11-29T10:43:29.087Z"
   },
   {
    "duration": 39,
    "start_time": "2022-11-29T10:43:37.074Z"
   },
   {
    "duration": 38,
    "start_time": "2022-11-29T10:43:39.251Z"
   },
   {
    "duration": 4,
    "start_time": "2022-11-29T10:43:39.887Z"
   },
   {
    "duration": 14,
    "start_time": "2022-11-29T10:43:40.462Z"
   },
   {
    "duration": 9,
    "start_time": "2022-11-29T10:43:41.414Z"
   },
   {
    "duration": 13,
    "start_time": "2022-11-29T10:43:42.062Z"
   },
   {
    "duration": 11,
    "start_time": "2022-11-29T10:43:43.701Z"
   },
   {
    "duration": 4,
    "start_time": "2022-11-29T10:43:44.981Z"
   },
   {
    "duration": 7,
    "start_time": "2022-11-29T10:43:45.598Z"
   },
   {
    "duration": 14,
    "start_time": "2022-11-29T10:43:48.013Z"
   },
   {
    "duration": 5,
    "start_time": "2022-11-29T10:43:48.660Z"
   },
   {
    "duration": 6,
    "start_time": "2022-11-29T10:43:49.396Z"
   },
   {
    "duration": 4,
    "start_time": "2022-11-29T10:43:50.139Z"
   },
   {
    "duration": 4,
    "start_time": "2022-11-29T10:44:08.799Z"
   },
   {
    "duration": 3,
    "start_time": "2022-11-29T10:44:13.420Z"
   },
   {
    "duration": 7,
    "start_time": "2022-11-29T10:44:14.027Z"
   },
   {
    "duration": 2,
    "start_time": "2022-11-29T10:44:14.624Z"
   },
   {
    "duration": 5,
    "start_time": "2022-11-29T10:44:15.223Z"
   },
   {
    "duration": 2,
    "start_time": "2022-11-29T10:44:16.792Z"
   },
   {
    "duration": 10,
    "start_time": "2022-11-29T11:12:47.389Z"
   },
   {
    "duration": 1135,
    "start_time": "2022-11-29T17:16:07.544Z"
   },
   {
    "duration": 165,
    "start_time": "2022-11-29T17:16:09.077Z"
   },
   {
    "duration": 8,
    "start_time": "2022-11-29T17:16:09.635Z"
   },
   {
    "duration": 17,
    "start_time": "2022-11-29T17:16:10.202Z"
   },
   {
    "duration": 9,
    "start_time": "2022-11-29T17:16:10.787Z"
   },
   {
    "duration": 12,
    "start_time": "2022-11-29T17:16:11.472Z"
   },
   {
    "duration": 12,
    "start_time": "2022-11-29T17:16:13.380Z"
   },
   {
    "duration": 5,
    "start_time": "2022-11-29T17:16:14.684Z"
   },
   {
    "duration": 6,
    "start_time": "2022-11-29T17:16:15.296Z"
   },
   {
    "duration": 13,
    "start_time": "2022-11-29T17:16:17.396Z"
   },
   {
    "duration": 6,
    "start_time": "2022-11-29T17:16:18.027Z"
   },
   {
    "duration": 5,
    "start_time": "2022-11-29T17:16:18.905Z"
   },
   {
    "duration": 4,
    "start_time": "2022-11-29T17:16:19.609Z"
   },
   {
    "duration": 4,
    "start_time": "2022-11-29T17:16:26.360Z"
   },
   {
    "duration": 2,
    "start_time": "2022-11-29T17:16:26.981Z"
   },
   {
    "duration": 7,
    "start_time": "2022-11-29T17:16:27.607Z"
   },
   {
    "duration": 2,
    "start_time": "2022-11-29T17:16:28.233Z"
   },
   {
    "duration": 6,
    "start_time": "2022-11-29T17:16:28.893Z"
   },
   {
    "duration": 2,
    "start_time": "2022-11-29T17:16:30.684Z"
   },
   {
    "duration": 4,
    "start_time": "2022-11-29T17:22:33.738Z"
   },
   {
    "duration": 12,
    "start_time": "2022-11-29T18:10:44.159Z"
   },
   {
    "duration": 93,
    "start_time": "2022-11-29T18:11:40.820Z"
   },
   {
    "duration": 8,
    "start_time": "2022-11-29T18:12:03.248Z"
   },
   {
    "duration": 15,
    "start_time": "2022-11-29T18:19:50.869Z"
   },
   {
    "duration": 6,
    "start_time": "2022-11-29T18:29:23.848Z"
   },
   {
    "duration": 5,
    "start_time": "2022-11-29T18:29:24.803Z"
   },
   {
    "duration": 12,
    "start_time": "2022-11-29T18:29:44.606Z"
   },
   {
    "duration": 8,
    "start_time": "2022-11-29T18:31:50.767Z"
   },
   {
    "duration": 6,
    "start_time": "2022-11-29T18:33:41.044Z"
   },
   {
    "duration": 8,
    "start_time": "2022-11-29T18:34:15.037Z"
   },
   {
    "duration": 6,
    "start_time": "2022-11-29T18:35:23.487Z"
   },
   {
    "duration": 5,
    "start_time": "2022-11-29T18:35:44.940Z"
   },
   {
    "duration": 12,
    "start_time": "2022-11-29T18:36:14.352Z"
   },
   {
    "duration": 6,
    "start_time": "2022-11-29T18:36:28.334Z"
   },
   {
    "duration": 9,
    "start_time": "2022-11-29T18:36:50.557Z"
   },
   {
    "duration": 5,
    "start_time": "2022-11-29T18:36:52.795Z"
   },
   {
    "duration": 7,
    "start_time": "2022-11-29T18:37:10.618Z"
   },
   {
    "duration": 7,
    "start_time": "2022-11-29T18:37:11.336Z"
   },
   {
    "duration": 5,
    "start_time": "2022-11-29T18:37:34.719Z"
   },
   {
    "duration": 13,
    "start_time": "2022-11-29T18:37:49.390Z"
   },
   {
    "duration": 10,
    "start_time": "2022-11-29T18:40:14.017Z"
   },
   {
    "duration": 1226,
    "start_time": "2022-11-29T18:40:31.870Z"
   },
   {
    "duration": 291,
    "start_time": "2022-11-29T18:42:24.238Z"
   },
   {
    "duration": 3,
    "start_time": "2022-11-29T18:44:38.263Z"
   },
   {
    "duration": 13,
    "start_time": "2022-11-29T18:44:39.785Z"
   },
   {
    "duration": 1243,
    "start_time": "2022-11-29T18:45:34.702Z"
   },
   {
    "duration": 1166,
    "start_time": "2022-11-29T18:45:44.260Z"
   },
   {
    "duration": 5,
    "start_time": "2022-11-29T18:46:19.423Z"
   },
   {
    "duration": 6,
    "start_time": "2022-11-29T18:46:40.420Z"
   },
   {
    "duration": 5,
    "start_time": "2022-11-29T18:47:17.902Z"
   },
   {
    "duration": 3,
    "start_time": "2022-11-29T18:47:43.847Z"
   },
   {
    "duration": 15,
    "start_time": "2022-11-29T18:47:45.227Z"
   },
   {
    "duration": 4,
    "start_time": "2022-11-29T18:48:59.160Z"
   },
   {
    "duration": 2,
    "start_time": "2022-11-29T18:49:40.697Z"
   },
   {
    "duration": 3,
    "start_time": "2022-11-29T18:49:42.631Z"
   },
   {
    "duration": 12,
    "start_time": "2022-11-29T18:49:54.631Z"
   },
   {
    "duration": 3,
    "start_time": "2022-11-29T18:52:08.679Z"
   },
   {
    "duration": 1206,
    "start_time": "2022-11-29T18:52:14.789Z"
   },
   {
    "duration": 0,
    "start_time": "2022-11-29T18:52:15.997Z"
   },
   {
    "duration": 0,
    "start_time": "2022-11-29T18:52:15.998Z"
   },
   {
    "duration": 4,
    "start_time": "2022-11-29T18:52:46.704Z"
   },
   {
    "duration": 46,
    "start_time": "2022-11-29T18:52:47.757Z"
   },
   {
    "duration": 5,
    "start_time": "2022-11-29T18:52:48.276Z"
   },
   {
    "duration": 13,
    "start_time": "2022-11-29T18:52:48.763Z"
   },
   {
    "duration": 8,
    "start_time": "2022-11-29T18:52:49.227Z"
   },
   {
    "duration": 12,
    "start_time": "2022-11-29T18:52:49.808Z"
   },
   {
    "duration": 12,
    "start_time": "2022-11-29T18:52:51.433Z"
   },
   {
    "duration": 5,
    "start_time": "2022-11-29T18:52:52.530Z"
   },
   {
    "duration": 7,
    "start_time": "2022-11-29T18:52:53.092Z"
   },
   {
    "duration": 19,
    "start_time": "2022-11-29T18:52:54.551Z"
   },
   {
    "duration": 9,
    "start_time": "2022-11-29T18:52:55.112Z"
   },
   {
    "duration": 7,
    "start_time": "2022-11-29T18:52:55.682Z"
   },
   {
    "duration": 5,
    "start_time": "2022-11-29T18:52:56.188Z"
   },
   {
    "duration": 3,
    "start_time": "2022-11-29T18:53:02.156Z"
   },
   {
    "duration": 2,
    "start_time": "2022-11-29T18:53:03.305Z"
   },
   {
    "duration": 10,
    "start_time": "2022-11-29T18:53:03.809Z"
   },
   {
    "duration": 2,
    "start_time": "2022-11-29T18:53:05.141Z"
   },
   {
    "duration": 9,
    "start_time": "2022-11-29T18:53:06.331Z"
   },
   {
    "duration": 5,
    "start_time": "2022-11-29T18:53:07.234Z"
   },
   {
    "duration": 6,
    "start_time": "2022-11-29T18:53:08.040Z"
   },
   {
    "duration": 3,
    "start_time": "2022-11-29T18:53:09.431Z"
   },
   {
    "duration": 20,
    "start_time": "2022-11-29T18:53:10.159Z"
   },
   {
    "duration": 2,
    "start_time": "2022-11-29T18:53:11.966Z"
   },
   {
    "duration": 2,
    "start_time": "2022-11-29T18:53:25.900Z"
   },
   {
    "duration": 4,
    "start_time": "2022-11-29T18:53:39.118Z"
   },
   {
    "duration": 2,
    "start_time": "2022-11-29T18:53:41.508Z"
   },
   {
    "duration": 6,
    "start_time": "2022-11-29T18:53:43.957Z"
   },
   {
    "duration": 3,
    "start_time": "2022-11-29T18:53:44.868Z"
   },
   {
    "duration": 5,
    "start_time": "2022-11-29T18:53:45.799Z"
   },
   {
    "duration": 2,
    "start_time": "2022-11-29T18:53:58.929Z"
   },
   {
    "duration": 3,
    "start_time": "2022-11-29T18:53:59.614Z"
   },
   {
    "duration": 13,
    "start_time": "2022-11-29T18:54:09.365Z"
   },
   {
    "duration": 3,
    "start_time": "2022-11-29T18:54:57.161Z"
   },
   {
    "duration": 16,
    "start_time": "2022-11-29T18:54:59.139Z"
   },
   {
    "duration": 11,
    "start_time": "2022-11-29T18:55:06.921Z"
   },
   {
    "duration": 3,
    "start_time": "2022-11-29T18:55:12.472Z"
   },
   {
    "duration": 11,
    "start_time": "2022-11-29T18:55:17.943Z"
   },
   {
    "duration": 3,
    "start_time": "2022-11-29T18:55:25.231Z"
   },
   {
    "duration": 39,
    "start_time": "2022-11-29T18:55:26.884Z"
   },
   {
    "duration": 34,
    "start_time": "2022-11-29T18:56:19.570Z"
   },
   {
    "duration": 20,
    "start_time": "2022-11-29T18:56:45.808Z"
   },
   {
    "duration": 3,
    "start_time": "2022-11-29T18:57:16.916Z"
   },
   {
    "duration": 11,
    "start_time": "2022-11-29T18:57:19.476Z"
   },
   {
    "duration": 11,
    "start_time": "2022-11-29T18:57:25.402Z"
   },
   {
    "duration": 3,
    "start_time": "2022-11-29T18:57:35.623Z"
   },
   {
    "duration": 24,
    "start_time": "2022-11-29T18:57:38.608Z"
   },
   {
    "duration": 16,
    "start_time": "2022-11-29T18:57:42.417Z"
   },
   {
    "duration": 77,
    "start_time": "2022-11-29T18:58:36.140Z"
   },
   {
    "duration": 5,
    "start_time": "2022-11-29T18:58:38.712Z"
   },
   {
    "duration": 6,
    "start_time": "2022-11-29T18:58:50.278Z"
   },
   {
    "duration": 6,
    "start_time": "2022-11-29T18:58:52.513Z"
   },
   {
    "duration": 13,
    "start_time": "2022-11-29T18:58:53.677Z"
   },
   {
    "duration": 102,
    "start_time": "2022-11-29T18:58:59.614Z"
   },
   {
    "duration": 5,
    "start_time": "2022-11-29T18:59:00.735Z"
   },
   {
    "duration": 6,
    "start_time": "2022-11-29T18:59:01.487Z"
   },
   {
    "duration": 4,
    "start_time": "2022-11-29T18:59:18.336Z"
   },
   {
    "duration": 3,
    "start_time": "2022-11-29T18:59:19.051Z"
   },
   {
    "duration": 5,
    "start_time": "2022-11-29T18:59:19.739Z"
   },
   {
    "duration": 3,
    "start_time": "2022-11-29T18:59:20.490Z"
   },
   {
    "duration": 5,
    "start_time": "2022-11-29T18:59:21.087Z"
   },
   {
    "duration": 2,
    "start_time": "2022-11-29T18:59:21.815Z"
   },
   {
    "duration": 3,
    "start_time": "2022-11-29T18:59:22.524Z"
   },
   {
    "duration": 6,
    "start_time": "2022-11-29T19:01:09.709Z"
   },
   {
    "duration": 4,
    "start_time": "2022-11-29T19:01:16.102Z"
   },
   {
    "duration": 7,
    "start_time": "2022-11-29T19:01:16.784Z"
   },
   {
    "duration": 2,
    "start_time": "2022-11-29T19:01:17.749Z"
   },
   {
    "duration": 6,
    "start_time": "2022-11-29T19:01:18.443Z"
   },
   {
    "duration": 2,
    "start_time": "2022-11-29T19:01:19.229Z"
   },
   {
    "duration": 6,
    "start_time": "2022-11-29T19:01:19.963Z"
   },
   {
    "duration": 3,
    "start_time": "2022-11-29T19:01:20.698Z"
   },
   {
    "duration": 3,
    "start_time": "2022-11-29T19:01:21.710Z"
   },
   {
    "duration": 40,
    "start_time": "2022-11-29T19:01:29.470Z"
   },
   {
    "duration": 22,
    "start_time": "2022-11-29T19:01:30.766Z"
   },
   {
    "duration": 5,
    "start_time": "2022-11-29T19:01:34.696Z"
   },
   {
    "duration": 2,
    "start_time": "2022-11-29T19:01:40.101Z"
   },
   {
    "duration": 247,
    "start_time": "2022-11-29T19:01:40.868Z"
   },
   {
    "duration": 6,
    "start_time": "2022-11-29T19:01:42.309Z"
   },
   {
    "duration": 6,
    "start_time": "2022-11-29T19:01:43.048Z"
   },
   {
    "duration": 6,
    "start_time": "2022-11-29T19:01:44.674Z"
   },
   {
    "duration": 9,
    "start_time": "2022-11-29T19:02:09.781Z"
   },
   {
    "duration": 2,
    "start_time": "2022-11-29T19:02:14.469Z"
   },
   {
    "duration": 30159,
    "start_time": "2022-11-29T19:02:15.088Z"
   },
   {
    "duration": 29352,
    "start_time": "2022-11-29T19:03:34.756Z"
   },
   {
    "duration": 4,
    "start_time": "2022-11-29T19:05:03.025Z"
   },
   {
    "duration": 31,
    "start_time": "2022-11-29T19:05:05.223Z"
   },
   {
    "duration": 23,
    "start_time": "2022-11-29T19:05:06.497Z"
   },
   {
    "duration": 2,
    "start_time": "2022-11-29T19:05:24.656Z"
   },
   {
    "duration": 17,
    "start_time": "2022-11-29T19:05:26.271Z"
   },
   {
    "duration": 33,
    "start_time": "2022-11-29T19:05:27.691Z"
   },
   {
    "duration": 3,
    "start_time": "2022-11-29T19:05:37.984Z"
   },
   {
    "duration": 5,
    "start_time": "2022-11-29T19:05:38.448Z"
   },
   {
    "duration": 6,
    "start_time": "2022-11-29T19:05:39.115Z"
   },
   {
    "duration": 3,
    "start_time": "2022-11-29T19:05:40.084Z"
   },
   {
    "duration": 7,
    "start_time": "2022-11-29T19:05:40.564Z"
   },
   {
    "duration": 3,
    "start_time": "2022-11-29T19:06:13.390Z"
   },
   {
    "duration": 46,
    "start_time": "2022-11-29T19:06:14.287Z"
   },
   {
    "duration": 3,
    "start_time": "2022-11-29T19:06:14.863Z"
   },
   {
    "duration": 13,
    "start_time": "2022-11-29T19:06:15.458Z"
   },
   {
    "duration": 7,
    "start_time": "2022-11-29T19:06:15.974Z"
   },
   {
    "duration": 11,
    "start_time": "2022-11-29T19:06:16.548Z"
   },
   {
    "duration": 15,
    "start_time": "2022-11-29T19:06:18.154Z"
   },
   {
    "duration": 4,
    "start_time": "2022-11-29T19:06:19.436Z"
   },
   {
    "duration": 7,
    "start_time": "2022-11-29T19:06:19.948Z"
   },
   {
    "duration": 15,
    "start_time": "2022-11-29T19:06:21.516Z"
   },
   {
    "duration": 5,
    "start_time": "2022-11-29T19:06:22.077Z"
   },
   {
    "duration": 6,
    "start_time": "2022-11-29T19:06:22.689Z"
   },
   {
    "duration": 4,
    "start_time": "2022-11-29T19:06:23.230Z"
   },
   {
    "duration": 3,
    "start_time": "2022-11-29T19:06:29.131Z"
   },
   {
    "duration": 2,
    "start_time": "2022-11-29T19:06:30.385Z"
   },
   {
    "duration": 11,
    "start_time": "2022-11-29T19:06:31.006Z"
   },
   {
    "duration": 3,
    "start_time": "2022-11-29T19:06:31.670Z"
   },
   {
    "duration": 10,
    "start_time": "2022-11-29T19:06:32.202Z"
   },
   {
    "duration": 5,
    "start_time": "2022-11-29T19:06:33.192Z"
   },
   {
    "duration": 5,
    "start_time": "2022-11-29T19:06:34.123Z"
   },
   {
    "duration": 3,
    "start_time": "2022-11-29T19:06:35.103Z"
   },
   {
    "duration": 13,
    "start_time": "2022-11-29T19:06:35.639Z"
   },
   {
    "duration": 2,
    "start_time": "2022-11-29T19:06:36.401Z"
   },
   {
    "duration": 9,
    "start_time": "2022-11-29T19:06:37.010Z"
   },
   {
    "duration": 6,
    "start_time": "2022-11-29T19:06:37.651Z"
   },
   {
    "duration": 2,
    "start_time": "2022-11-29T19:06:38.354Z"
   },
   {
    "duration": 5,
    "start_time": "2022-11-29T19:06:39.117Z"
   },
   {
    "duration": 2,
    "start_time": "2022-11-29T19:06:39.799Z"
   },
   {
    "duration": 4,
    "start_time": "2022-11-29T19:06:40.428Z"
   },
   {
    "duration": 3,
    "start_time": "2022-11-29T19:06:53.389Z"
   },
   {
    "duration": 6,
    "start_time": "2022-11-29T19:06:53.908Z"
   },
   {
    "duration": 2,
    "start_time": "2022-11-29T19:06:54.585Z"
   },
   {
    "duration": 5,
    "start_time": "2022-11-29T19:06:55.254Z"
   },
   {
    "duration": 2,
    "start_time": "2022-11-29T19:06:55.848Z"
   },
   {
    "duration": 3,
    "start_time": "2022-11-29T19:06:56.529Z"
   },
   {
    "duration": 38,
    "start_time": "2022-11-29T19:06:58.696Z"
   },
   {
    "duration": 28,
    "start_time": "2022-11-29T19:07:00.998Z"
   },
   {
    "duration": 6,
    "start_time": "2022-11-29T19:07:08.540Z"
   },
   {
    "duration": 3,
    "start_time": "2022-11-29T19:07:10.792Z"
   },
   {
    "duration": 273,
    "start_time": "2022-11-29T19:07:11.449Z"
   },
   {
    "duration": 10,
    "start_time": "2022-11-29T19:07:12.753Z"
   },
   {
    "duration": 5,
    "start_time": "2022-11-29T19:07:13.742Z"
   },
   {
    "duration": 6,
    "start_time": "2022-11-29T19:07:14.895Z"
   },
   {
    "duration": 8,
    "start_time": "2022-11-29T19:07:15.864Z"
   },
   {
    "duration": 18,
    "start_time": "2022-11-29T19:07:59.468Z"
   },
   {
    "duration": 5,
    "start_time": "2022-11-29T19:08:31.104Z"
   },
   {
    "duration": 5,
    "start_time": "2022-11-29T19:08:44.644Z"
   },
   {
    "duration": 3,
    "start_time": "2022-11-29T19:08:45.195Z"
   },
   {
    "duration": 2,
    "start_time": "2022-11-29T19:08:45.751Z"
   },
   {
    "duration": 3,
    "start_time": "2022-11-29T19:11:20.426Z"
   },
   {
    "duration": 39,
    "start_time": "2022-11-29T19:11:21.482Z"
   },
   {
    "duration": 3,
    "start_time": "2022-11-29T19:11:22.115Z"
   },
   {
    "duration": 14,
    "start_time": "2022-11-29T19:11:22.676Z"
   },
   {
    "duration": 7,
    "start_time": "2022-11-29T19:11:23.200Z"
   },
   {
    "duration": 11,
    "start_time": "2022-11-29T19:11:24.000Z"
   },
   {
    "duration": 10,
    "start_time": "2022-11-29T19:11:26.095Z"
   },
   {
    "duration": 5,
    "start_time": "2022-11-29T19:11:27.355Z"
   },
   {
    "duration": 7,
    "start_time": "2022-11-29T19:11:28.318Z"
   },
   {
    "duration": 14,
    "start_time": "2022-11-29T19:11:30.335Z"
   },
   {
    "duration": 6,
    "start_time": "2022-11-29T19:11:31.096Z"
   },
   {
    "duration": 6,
    "start_time": "2022-11-29T19:11:31.782Z"
   },
   {
    "duration": 4,
    "start_time": "2022-11-29T19:11:33.180Z"
   },
   {
    "duration": 3,
    "start_time": "2022-11-29T19:11:40.829Z"
   },
   {
    "duration": 2,
    "start_time": "2022-11-29T19:11:43.305Z"
   },
   {
    "duration": 11,
    "start_time": "2022-11-29T19:11:43.962Z"
   },
   {
    "duration": 3,
    "start_time": "2022-11-29T19:11:59.348Z"
   },
   {
    "duration": 10,
    "start_time": "2022-11-29T19:12:00.211Z"
   },
   {
    "duration": 5,
    "start_time": "2022-11-29T19:12:01.969Z"
   },
   {
    "duration": 5,
    "start_time": "2022-11-29T19:12:02.965Z"
   },
   {
    "duration": 3,
    "start_time": "2022-11-29T19:12:04.440Z"
   },
   {
    "duration": 14,
    "start_time": "2022-11-29T19:12:05.518Z"
   },
   {
    "duration": 2,
    "start_time": "2022-11-29T19:12:10.009Z"
   },
   {
    "duration": 5,
    "start_time": "2022-11-29T19:12:10.844Z"
   },
   {
    "duration": 3,
    "start_time": "2022-11-29T19:12:19.369Z"
   },
   {
    "duration": 7,
    "start_time": "2022-11-29T19:12:24.439Z"
   },
   {
    "duration": 3,
    "start_time": "2022-11-29T19:12:26.330Z"
   },
   {
    "duration": 6,
    "start_time": "2022-11-29T19:12:28.283Z"
   },
   {
    "duration": 2,
    "start_time": "2022-11-29T19:12:30.549Z"
   },
   {
    "duration": 4,
    "start_time": "2022-11-29T19:14:00.429Z"
   },
   {
    "duration": 3,
    "start_time": "2022-11-29T19:14:09.573Z"
   },
   {
    "duration": 53,
    "start_time": "2022-11-29T19:14:11.533Z"
   },
   {
    "duration": 22,
    "start_time": "2022-11-29T19:14:16.238Z"
   },
   {
    "duration": 20,
    "start_time": "2022-11-29T19:14:26.505Z"
   },
   {
    "duration": 5,
    "start_time": "2022-11-29T19:14:55.348Z"
   },
   {
    "duration": 40,
    "start_time": "2022-11-29T19:14:56.350Z"
   },
   {
    "duration": 4,
    "start_time": "2022-11-29T19:14:56.853Z"
   },
   {
    "duration": 13,
    "start_time": "2022-11-29T19:14:57.281Z"
   },
   {
    "duration": 6,
    "start_time": "2022-11-29T19:14:57.781Z"
   },
   {
    "duration": 13,
    "start_time": "2022-11-29T19:14:58.256Z"
   },
   {
    "duration": 11,
    "start_time": "2022-11-29T19:14:59.607Z"
   },
   {
    "duration": 4,
    "start_time": "2022-11-29T19:15:00.559Z"
   },
   {
    "duration": 7,
    "start_time": "2022-11-29T19:15:01.054Z"
   },
   {
    "duration": 13,
    "start_time": "2022-11-29T19:15:02.910Z"
   },
   {
    "duration": 8,
    "start_time": "2022-11-29T19:15:03.854Z"
   },
   {
    "duration": 7,
    "start_time": "2022-11-29T19:15:04.386Z"
   },
   {
    "duration": 5,
    "start_time": "2022-11-29T19:15:04.863Z"
   },
   {
    "duration": 2,
    "start_time": "2022-11-29T19:15:10.750Z"
   },
   {
    "duration": 2,
    "start_time": "2022-11-29T19:15:12.013Z"
   },
   {
    "duration": 11,
    "start_time": "2022-11-29T19:15:12.637Z"
   },
   {
    "duration": 3,
    "start_time": "2022-11-29T19:15:13.273Z"
   },
   {
    "duration": 9,
    "start_time": "2022-11-29T19:15:13.896Z"
   },
   {
    "duration": 5,
    "start_time": "2022-11-29T19:15:14.517Z"
   },
   {
    "duration": 6,
    "start_time": "2022-11-29T19:15:15.191Z"
   },
   {
    "duration": 3,
    "start_time": "2022-11-29T19:15:15.869Z"
   },
   {
    "duration": 19,
    "start_time": "2022-11-29T19:15:16.493Z"
   },
   {
    "duration": 3,
    "start_time": "2022-11-29T19:15:17.092Z"
   },
   {
    "duration": 5,
    "start_time": "2022-11-29T19:15:17.584Z"
   },
   {
    "duration": 3,
    "start_time": "2022-11-29T19:15:18.243Z"
   },
   {
    "duration": 6,
    "start_time": "2022-11-29T19:15:18.731Z"
   },
   {
    "duration": 2,
    "start_time": "2022-11-29T19:15:19.524Z"
   },
   {
    "duration": 5,
    "start_time": "2022-11-29T19:15:20.181Z"
   },
   {
    "duration": 3,
    "start_time": "2022-11-29T19:15:20.833Z"
   },
   {
    "duration": 2,
    "start_time": "2022-11-29T19:15:21.373Z"
   },
   {
    "duration": 43,
    "start_time": "2022-11-29T19:15:42.603Z"
   },
   {
    "duration": 5,
    "start_time": "2022-11-29T19:15:48.084Z"
   },
   {
    "duration": 2,
    "start_time": "2022-11-29T19:15:50.088Z"
   },
   {
    "duration": 60,
    "start_time": "2022-11-29T19:15:50.648Z"
   },
   {
    "duration": 6,
    "start_time": "2022-11-29T19:15:51.620Z"
   },
   {
    "duration": 6,
    "start_time": "2022-11-29T19:15:52.273Z"
   },
   {
    "duration": 5,
    "start_time": "2022-11-29T19:15:53.320Z"
   },
   {
    "duration": 11,
    "start_time": "2022-11-29T19:15:54.781Z"
   },
   {
    "duration": 3,
    "start_time": "2022-11-29T19:15:59.201Z"
   },
   {
    "duration": 30019,
    "start_time": "2022-11-29T19:16:29.796Z"
   },
   {
    "duration": 36142,
    "start_time": "2022-11-29T19:17:21.341Z"
   },
   {
    "duration": 39180,
    "start_time": "2022-11-29T19:18:39.080Z"
   },
   {
    "duration": 44448,
    "start_time": "2022-11-29T19:19:53.449Z"
   },
   {
    "duration": 68060,
    "start_time": "2022-11-29T19:21:21.898Z"
   },
   {
    "duration": 6,
    "start_time": "2022-11-29T19:29:49.407Z"
   },
   {
    "duration": 1126,
    "start_time": "2022-11-29T19:31:49.826Z"
   },
   {
    "duration": 41,
    "start_time": "2022-11-29T19:31:52.331Z"
   },
   {
    "duration": 8,
    "start_time": "2022-11-29T19:31:52.973Z"
   },
   {
    "duration": 17,
    "start_time": "2022-11-29T19:31:53.586Z"
   },
   {
    "duration": 9,
    "start_time": "2022-11-29T19:31:54.174Z"
   },
   {
    "duration": 12,
    "start_time": "2022-11-29T19:31:54.879Z"
   },
   {
    "duration": 14,
    "start_time": "2022-11-29T19:31:56.726Z"
   },
   {
    "duration": 6,
    "start_time": "2022-11-29T19:31:57.926Z"
   },
   {
    "duration": 7,
    "start_time": "2022-11-29T19:31:58.387Z"
   },
   {
    "duration": 14,
    "start_time": "2022-11-29T19:32:00.176Z"
   },
   {
    "duration": 7,
    "start_time": "2022-11-29T19:32:00.833Z"
   },
   {
    "duration": 8,
    "start_time": "2022-11-29T19:32:01.419Z"
   },
   {
    "duration": 5,
    "start_time": "2022-11-29T19:32:02.102Z"
   },
   {
    "duration": 3,
    "start_time": "2022-11-29T19:32:06.378Z"
   },
   {
    "duration": 2,
    "start_time": "2022-11-29T19:32:07.174Z"
   },
   {
    "duration": 14,
    "start_time": "2022-11-29T19:32:07.566Z"
   },
   {
    "duration": 3,
    "start_time": "2022-11-29T19:32:08.389Z"
   },
   {
    "duration": 10,
    "start_time": "2022-11-29T19:32:09.061Z"
   },
   {
    "duration": 5,
    "start_time": "2022-11-29T19:32:09.678Z"
   },
   {
    "duration": 11,
    "start_time": "2022-11-29T19:32:10.301Z"
   },
   {
    "duration": 3,
    "start_time": "2022-11-29T19:32:10.871Z"
   },
   {
    "duration": 14,
    "start_time": "2022-11-29T19:32:11.291Z"
   },
   {
    "duration": 2,
    "start_time": "2022-11-29T19:32:11.954Z"
   },
   {
    "duration": 4,
    "start_time": "2022-11-29T19:32:12.574Z"
   },
   {
    "duration": 2,
    "start_time": "2022-11-29T19:32:13.122Z"
   },
   {
    "duration": 7,
    "start_time": "2022-11-29T19:32:13.672Z"
   },
   {
    "duration": 2,
    "start_time": "2022-11-29T19:32:14.202Z"
   },
   {
    "duration": 5,
    "start_time": "2022-11-29T19:32:14.719Z"
   },
   {
    "duration": 2,
    "start_time": "2022-11-29T19:32:15.289Z"
   },
   {
    "duration": 2,
    "start_time": "2022-11-29T19:32:15.810Z"
   },
   {
    "duration": 49,
    "start_time": "2022-11-29T19:32:17.344Z"
   },
   {
    "duration": 5,
    "start_time": "2022-11-29T19:32:21.040Z"
   },
   {
    "duration": 2,
    "start_time": "2022-11-29T19:32:24.620Z"
   },
   {
    "duration": 43,
    "start_time": "2022-11-29T19:32:25.265Z"
   },
   {
    "duration": 9,
    "start_time": "2022-11-29T19:32:26.368Z"
   },
   {
    "duration": 6,
    "start_time": "2022-11-29T19:32:27.486Z"
   },
   {
    "duration": 5,
    "start_time": "2022-11-29T19:32:28.923Z"
   },
   {
    "duration": 9,
    "start_time": "2022-11-29T19:32:29.754Z"
   },
   {
    "duration": 2,
    "start_time": "2022-11-29T19:32:32.469Z"
   },
   {
    "duration": 60323,
    "start_time": "2022-11-29T19:32:33.309Z"
   },
   {
    "duration": 7,
    "start_time": "2022-11-29T19:34:16.130Z"
   },
   {
    "duration": 25,
    "start_time": "2022-11-29T19:34:17.311Z"
   },
   {
    "duration": 2,
    "start_time": "2022-11-29T19:34:20.628Z"
   },
   {
    "duration": 3,
    "start_time": "2022-11-29T19:34:22.405Z"
   },
   {
    "duration": 3,
    "start_time": "2022-11-29T19:34:23.147Z"
   },
   {
    "duration": 12,
    "start_time": "2022-11-29T19:34:26.920Z"
   },
   {
    "duration": 7,
    "start_time": "2022-11-29T19:34:27.459Z"
   },
   {
    "duration": 9,
    "start_time": "2022-11-29T19:34:36.693Z"
   },
   {
    "duration": 11,
    "start_time": "2022-11-29T19:34:37.485Z"
   },
   {
    "duration": 11,
    "start_time": "2022-11-29T19:34:43.490Z"
   },
   {
    "duration": 7,
    "start_time": "2022-11-29T19:34:43.900Z"
   },
   {
    "duration": 12,
    "start_time": "2022-11-29T19:34:50.121Z"
   },
   {
    "duration": 5,
    "start_time": "2022-11-29T19:34:50.734Z"
   },
   {
    "duration": 14,
    "start_time": "2022-11-29T19:34:55.426Z"
   },
   {
    "duration": 6,
    "start_time": "2022-11-29T19:34:55.822Z"
   },
   {
    "duration": 124,
    "start_time": "2022-11-29T19:36:13.484Z"
   },
   {
    "duration": 42799,
    "start_time": "2022-11-29T19:36:40.505Z"
   },
   {
    "duration": 8,
    "start_time": "2022-11-29T19:39:52.437Z"
   },
   {
    "duration": 16,
    "start_time": "2022-11-29T19:39:54.958Z"
   },
   {
    "duration": 16,
    "start_time": "2022-11-29T19:40:07.335Z"
   },
   {
    "duration": 13,
    "start_time": "2022-11-29T19:40:08.074Z"
   },
   {
    "duration": 7,
    "start_time": "2022-11-29T19:40:10.262Z"
   },
   {
    "duration": 20591,
    "start_time": "2022-11-29T19:40:54.710Z"
   },
   {
    "duration": 9,
    "start_time": "2022-11-29T19:41:24.799Z"
   },
   {
    "duration": 16,
    "start_time": "2022-11-29T19:41:26.139Z"
   },
   {
    "duration": 14,
    "start_time": "2022-11-29T19:41:38.008Z"
   },
   {
    "duration": 11,
    "start_time": "2022-11-29T19:41:41.893Z"
   },
   {
    "duration": 7,
    "start_time": "2022-11-29T19:41:42.582Z"
   },
   {
    "duration": 8,
    "start_time": "2022-11-29T19:41:44.061Z"
   },
   {
    "duration": 14,
    "start_time": "2022-11-29T19:41:48.929Z"
   },
   {
    "duration": 56873,
    "start_time": "2022-11-29T19:42:06.321Z"
   },
   {
    "duration": 7,
    "start_time": "2022-11-29T19:43:06.790Z"
   },
   {
    "duration": 13,
    "start_time": "2022-11-29T19:43:08.199Z"
   },
   {
    "duration": 13,
    "start_time": "2022-11-29T19:43:14.736Z"
   },
   {
    "duration": 12,
    "start_time": "2022-11-29T19:43:17.226Z"
   },
   {
    "duration": 8,
    "start_time": "2022-11-29T19:43:18.347Z"
   },
   {
    "duration": 6,
    "start_time": "2022-11-29T19:43:19.888Z"
   },
   {
    "duration": 15,
    "start_time": "2022-11-29T19:43:21.372Z"
   },
   {
    "duration": 87086,
    "start_time": "2022-11-29T19:43:31.744Z"
   },
   {
    "duration": 7,
    "start_time": "2022-11-29T19:45:49.701Z"
   },
   {
    "duration": 18,
    "start_time": "2022-11-29T19:45:50.258Z"
   },
   {
    "duration": 19,
    "start_time": "2022-11-29T19:45:55.604Z"
   },
   {
    "duration": 15,
    "start_time": "2022-11-29T19:45:58.042Z"
   },
   {
    "duration": 8,
    "start_time": "2022-11-29T19:45:58.754Z"
   },
   {
    "duration": 7,
    "start_time": "2022-11-29T19:45:59.402Z"
   },
   {
    "duration": 19,
    "start_time": "2022-11-29T19:46:04.052Z"
   },
   {
    "duration": 7,
    "start_time": "2022-11-29T19:46:07.160Z"
   },
   {
    "duration": 16,
    "start_time": "2022-11-29T19:46:14.870Z"
   },
   {
    "duration": 7,
    "start_time": "2022-11-29T19:46:15.475Z"
   },
   {
    "duration": 7,
    "start_time": "2022-11-29T19:46:16.262Z"
   },
   {
    "duration": 73522,
    "start_time": "2022-11-29T19:46:35.095Z"
   },
   {
    "duration": 8,
    "start_time": "2022-11-29T19:47:54.956Z"
   },
   {
    "duration": 20,
    "start_time": "2022-11-29T19:47:55.755Z"
   },
   {
    "duration": 2,
    "start_time": "2022-11-29T19:47:58.363Z"
   },
   {
    "duration": 13,
    "start_time": "2022-11-29T19:47:58.976Z"
   },
   {
    "duration": 6,
    "start_time": "2022-11-29T19:47:59.532Z"
   },
   {
    "duration": 17839,
    "start_time": "2022-11-29T19:48:00.272Z"
   },
   {
    "duration": 7,
    "start_time": "2022-11-29T19:48:18.113Z"
   },
   {
    "duration": 23,
    "start_time": "2022-11-29T19:48:18.122Z"
   },
   {
    "duration": 12,
    "start_time": "2022-11-29T19:48:18.147Z"
   },
   {
    "duration": 8,
    "start_time": "2022-11-29T19:48:18.161Z"
   },
   {
    "duration": 9,
    "start_time": "2022-11-29T19:48:24.548Z"
   },
   {
    "duration": 6,
    "start_time": "2022-11-29T19:48:25.015Z"
   },
   {
    "duration": 10,
    "start_time": "2022-11-29T19:48:30.450Z"
   },
   {
    "duration": 5,
    "start_time": "2022-11-29T19:48:30.948Z"
   },
   {
    "duration": 17617,
    "start_time": "2022-11-29T19:48:33.264Z"
   },
   {
    "duration": 7,
    "start_time": "2022-11-29T19:48:53.457Z"
   },
   {
    "duration": 18,
    "start_time": "2022-11-29T19:48:54.010Z"
   },
   {
    "duration": 15,
    "start_time": "2022-11-29T19:48:57.036Z"
   },
   {
    "duration": 16,
    "start_time": "2022-11-29T19:48:59.073Z"
   },
   {
    "duration": 7,
    "start_time": "2022-11-29T19:48:59.702Z"
   },
   {
    "duration": 7,
    "start_time": "2022-11-29T19:49:00.605Z"
   },
   {
    "duration": 18,
    "start_time": "2022-11-29T19:49:01.983Z"
   },
   {
    "duration": 79198,
    "start_time": "2022-11-29T19:49:20.187Z"
   },
   {
    "duration": 8,
    "start_time": "2022-11-29T19:51:18.540Z"
   },
   {
    "duration": 16,
    "start_time": "2022-11-29T19:51:19.553Z"
   },
   {
    "duration": 16,
    "start_time": "2022-11-29T19:51:26.013Z"
   },
   {
    "duration": 16,
    "start_time": "2022-11-29T19:51:27.925Z"
   },
   {
    "duration": 6,
    "start_time": "2022-11-29T19:51:28.617Z"
   },
   {
    "duration": 6,
    "start_time": "2022-11-29T19:51:29.209Z"
   },
   {
    "duration": 21,
    "start_time": "2022-11-29T19:51:30.005Z"
   },
   {
    "duration": 106293,
    "start_time": "2022-11-29T19:51:42.802Z"
   },
   {
    "duration": 6,
    "start_time": "2022-11-29T19:56:57.243Z"
   },
   {
    "duration": 19,
    "start_time": "2022-11-29T19:56:57.850Z"
   },
   {
    "duration": 18,
    "start_time": "2022-11-29T19:57:01.312Z"
   },
   {
    "duration": 16,
    "start_time": "2022-11-29T19:57:03.622Z"
   },
   {
    "duration": 6,
    "start_time": "2022-11-29T19:57:04.127Z"
   },
   {
    "duration": 6,
    "start_time": "2022-11-29T19:57:04.575Z"
   },
   {
    "duration": 16,
    "start_time": "2022-11-29T19:57:24.878Z"
   },
   {
    "duration": 5,
    "start_time": "2022-11-29T19:57:25.525Z"
   },
   {
    "duration": 5,
    "start_time": "2022-11-29T19:57:25.996Z"
   },
   {
    "duration": 11,
    "start_time": "2022-11-29T19:57:39.246Z"
   },
   {
    "duration": 6,
    "start_time": "2022-11-29T19:57:39.753Z"
   },
   {
    "duration": 6,
    "start_time": "2022-11-29T19:57:40.516Z"
   },
   {
    "duration": 17,
    "start_time": "2022-11-29T19:57:50.944Z"
   },
   {
    "duration": 5,
    "start_time": "2022-11-29T19:57:51.406Z"
   },
   {
    "duration": 6,
    "start_time": "2022-11-29T19:57:52.063Z"
   },
   {
    "duration": 18,
    "start_time": "2022-11-29T19:57:53.072Z"
   },
   {
    "duration": 109452,
    "start_time": "2022-11-29T19:58:06.691Z"
   },
   {
    "duration": 7,
    "start_time": "2022-11-29T20:00:07.353Z"
   },
   {
    "duration": 19,
    "start_time": "2022-11-29T20:00:08.362Z"
   },
   {
    "duration": 22,
    "start_time": "2022-11-29T20:00:13.341Z"
   },
   {
    "duration": 6,
    "start_time": "2022-11-29T20:00:14.066Z"
   },
   {
    "duration": 7,
    "start_time": "2022-11-29T20:00:15.164Z"
   },
   {
    "duration": 22,
    "start_time": "2022-11-29T20:00:18.358Z"
   },
   {
    "duration": 119392,
    "start_time": "2022-11-29T20:00:30.012Z"
   },
   {
    "duration": 8,
    "start_time": "2022-11-29T20:02:35.893Z"
   },
   {
    "duration": 19,
    "start_time": "2022-11-29T20:02:36.745Z"
   },
   {
    "duration": 16,
    "start_time": "2022-11-29T20:02:42.745Z"
   },
   {
    "duration": 10,
    "start_time": "2022-11-29T20:02:43.404Z"
   },
   {
    "duration": 5,
    "start_time": "2022-11-29T20:02:44.492Z"
   },
   {
    "duration": 20,
    "start_time": "2022-11-29T20:02:46.191Z"
   },
   {
    "duration": 81660,
    "start_time": "2022-11-29T20:02:58.562Z"
   },
   {
    "duration": 6,
    "start_time": "2022-11-29T20:04:22.820Z"
   },
   {
    "duration": 18,
    "start_time": "2022-11-29T20:04:23.753Z"
   },
   {
    "duration": 14,
    "start_time": "2022-11-29T20:04:29.992Z"
   },
   {
    "duration": 5,
    "start_time": "2022-11-29T20:04:30.587Z"
   },
   {
    "duration": 6,
    "start_time": "2022-11-29T20:04:31.602Z"
   },
   {
    "duration": 87733,
    "start_time": "2022-11-29T20:04:47.348Z"
   },
   {
    "duration": 5,
    "start_time": "2022-11-29T20:06:15.083Z"
   },
   {
    "duration": 31,
    "start_time": "2022-11-29T20:06:15.089Z"
   },
   {
    "duration": 14,
    "start_time": "2022-11-29T20:06:23.847Z"
   },
   {
    "duration": 5,
    "start_time": "2022-11-29T20:06:24.418Z"
   },
   {
    "duration": 6,
    "start_time": "2022-11-29T20:06:26.927Z"
   },
   {
    "duration": 6,
    "start_time": "2022-11-29T20:06:27.825Z"
   },
   {
    "duration": 16,
    "start_time": "2022-11-29T20:06:29.295Z"
   },
   {
    "duration": 100249,
    "start_time": "2022-11-29T20:06:41.472Z"
   },
   {
    "duration": 7,
    "start_time": "2022-11-29T20:08:21.723Z"
   },
   {
    "duration": 22,
    "start_time": "2022-11-29T20:08:21.731Z"
   },
   {
    "duration": 15,
    "start_time": "2022-11-29T20:09:11.164Z"
   },
   {
    "duration": 5,
    "start_time": "2022-11-29T20:09:11.684Z"
   },
   {
    "duration": 6,
    "start_time": "2022-11-29T20:09:12.876Z"
   },
   {
    "duration": 18,
    "start_time": "2022-11-29T20:09:16.651Z"
   },
   {
    "duration": 62580,
    "start_time": "2022-11-29T20:09:35.358Z"
   },
   {
    "duration": 6,
    "start_time": "2022-11-29T20:10:40.962Z"
   },
   {
    "duration": 12,
    "start_time": "2022-11-29T20:10:42.004Z"
   },
   {
    "duration": 10,
    "start_time": "2022-11-29T20:10:49.667Z"
   },
   {
    "duration": 6,
    "start_time": "2022-11-29T20:10:50.521Z"
   },
   {
    "duration": 5,
    "start_time": "2022-11-29T20:10:51.709Z"
   },
   {
    "duration": 12,
    "start_time": "2022-11-29T20:10:54.240Z"
   },
   {
    "duration": 67865,
    "start_time": "2022-11-29T20:11:08.828Z"
   },
   {
    "duration": 6,
    "start_time": "2022-11-29T20:12:25.468Z"
   },
   {
    "duration": 11,
    "start_time": "2022-11-29T20:12:26.474Z"
   },
   {
    "duration": 9,
    "start_time": "2022-11-29T20:12:32.455Z"
   },
   {
    "duration": 5,
    "start_time": "2022-11-29T20:12:32.887Z"
   },
   {
    "duration": 6,
    "start_time": "2022-11-29T20:12:33.593Z"
   },
   {
    "duration": 12,
    "start_time": "2022-11-29T20:12:34.243Z"
   },
   {
    "duration": 89666,
    "start_time": "2022-11-29T20:12:45.587Z"
   },
   {
    "duration": 6,
    "start_time": "2022-11-29T20:14:19.026Z"
   },
   {
    "duration": 16,
    "start_time": "2022-11-29T20:14:19.914Z"
   },
   {
    "duration": 13,
    "start_time": "2022-11-29T20:14:25.405Z"
   },
   {
    "duration": 4,
    "start_time": "2022-11-29T20:14:25.834Z"
   },
   {
    "duration": 6,
    "start_time": "2022-11-29T20:14:26.386Z"
   },
   {
    "duration": 19,
    "start_time": "2022-11-29T20:14:27.351Z"
   },
   {
    "duration": 105465,
    "start_time": "2022-11-29T20:14:39.918Z"
   },
   {
    "duration": 5,
    "start_time": "2022-11-29T20:16:25.385Z"
   },
   {
    "duration": 26,
    "start_time": "2022-11-29T20:16:25.391Z"
   },
   {
    "duration": 12,
    "start_time": "2022-11-29T20:16:35.386Z"
   },
   {
    "duration": 5,
    "start_time": "2022-11-29T20:16:35.871Z"
   },
   {
    "duration": 6,
    "start_time": "2022-11-29T20:16:36.765Z"
   },
   {
    "duration": 16,
    "start_time": "2022-11-29T20:16:37.975Z"
   },
   {
    "duration": 117885,
    "start_time": "2022-11-29T20:16:47.803Z"
   },
   {
    "duration": 5,
    "start_time": "2022-11-29T20:18:45.690Z"
   },
   {
    "duration": 26,
    "start_time": "2022-11-29T20:18:45.704Z"
   },
   {
    "duration": 17,
    "start_time": "2022-11-29T20:21:18.814Z"
   },
   {
    "duration": 8,
    "start_time": "2022-11-29T20:21:19.186Z"
   },
   {
    "duration": 8,
    "start_time": "2022-11-29T20:21:19.803Z"
   },
   {
    "duration": 17,
    "start_time": "2022-11-29T20:21:20.740Z"
   },
   {
    "duration": 11,
    "start_time": "2022-11-29T20:21:34.254Z"
   },
   {
    "duration": 5,
    "start_time": "2022-11-29T20:21:34.588Z"
   },
   {
    "duration": 15,
    "start_time": "2022-11-29T20:21:42.215Z"
   },
   {
    "duration": 11,
    "start_time": "2022-11-29T20:21:48.239Z"
   },
   {
    "duration": 5,
    "start_time": "2022-11-29T20:21:48.704Z"
   },
   {
    "duration": 147567,
    "start_time": "2022-11-29T20:22:08.126Z"
   },
   {
    "duration": 13,
    "start_time": "2022-11-29T20:24:35.696Z"
   },
   {
    "duration": 16,
    "start_time": "2022-11-29T20:24:35.711Z"
   },
   {
    "duration": 16,
    "start_time": "2022-11-29T20:24:59.532Z"
   },
   {
    "duration": 6,
    "start_time": "2022-11-29T20:24:59.995Z"
   },
   {
    "duration": 6,
    "start_time": "2022-11-29T20:25:00.734Z"
   },
   {
    "duration": 19,
    "start_time": "2022-11-29T20:25:01.532Z"
   },
   {
    "duration": 6,
    "start_time": "2022-11-29T20:25:07.969Z"
   },
   {
    "duration": 17,
    "start_time": "2022-11-29T20:25:08.650Z"
   },
   {
    "duration": 16,
    "start_time": "2022-11-29T20:25:21.569Z"
   },
   {
    "duration": 5,
    "start_time": "2022-11-29T20:25:22.197Z"
   },
   {
    "duration": 14,
    "start_time": "2022-11-29T20:25:25.194Z"
   },
   {
    "duration": 5,
    "start_time": "2022-11-29T20:25:25.889Z"
   },
   {
    "duration": 5,
    "start_time": "2022-11-29T20:25:26.520Z"
   },
   {
    "duration": 17,
    "start_time": "2022-11-29T20:25:27.142Z"
   },
   {
    "duration": 59261,
    "start_time": "2022-11-29T20:25:41.337Z"
   },
   {
    "duration": 5,
    "start_time": "2022-11-29T20:26:40.604Z"
   },
   {
    "duration": 13,
    "start_time": "2022-11-29T20:26:40.611Z"
   },
   {
    "duration": 11,
    "start_time": "2022-11-29T20:27:51.976Z"
   },
   {
    "duration": 7,
    "start_time": "2022-11-29T20:27:52.464Z"
   },
   {
    "duration": 5,
    "start_time": "2022-11-29T20:27:53.119Z"
   },
   {
    "duration": 13,
    "start_time": "2022-11-29T20:27:54.017Z"
   },
   {
    "duration": 47077,
    "start_time": "2022-11-29T20:28:53.293Z"
   },
   {
    "duration": 7,
    "start_time": "2022-11-29T20:29:40.372Z"
   },
   {
    "duration": 29,
    "start_time": "2022-11-29T20:29:40.381Z"
   },
   {
    "duration": 10,
    "start_time": "2022-11-29T20:31:05.454Z"
   },
   {
    "duration": 6,
    "start_time": "2022-11-29T20:31:05.907Z"
   },
   {
    "duration": 6,
    "start_time": "2022-11-29T20:31:06.622Z"
   },
   {
    "duration": 13,
    "start_time": "2022-11-29T20:31:08.187Z"
   },
   {
    "duration": 66861,
    "start_time": "2022-11-29T20:31:30.566Z"
   },
   {
    "duration": 8,
    "start_time": "2022-11-29T20:32:37.429Z"
   },
   {
    "duration": 64,
    "start_time": "2022-11-29T20:32:37.438Z"
   },
   {
    "duration": 9,
    "start_time": "2022-11-29T20:34:35.035Z"
   },
   {
    "duration": 6,
    "start_time": "2022-11-29T20:34:35.408Z"
   },
   {
    "duration": 5,
    "start_time": "2022-11-29T20:34:36.068Z"
   },
   {
    "duration": 12,
    "start_time": "2022-11-29T20:34:36.732Z"
   },
   {
    "duration": 112590,
    "start_time": "2022-11-29T20:34:48.026Z"
   },
   {
    "duration": 5,
    "start_time": "2022-11-29T20:36:40.618Z"
   },
   {
    "duration": 20,
    "start_time": "2022-11-29T20:36:40.625Z"
   },
   {
    "duration": 14,
    "start_time": "2022-11-29T20:37:04.985Z"
   },
   {
    "duration": 5,
    "start_time": "2022-11-29T20:37:05.346Z"
   },
   {
    "duration": 6,
    "start_time": "2022-11-29T20:37:05.903Z"
   },
   {
    "duration": 15,
    "start_time": "2022-11-29T20:37:07.713Z"
   },
   {
    "duration": 35370,
    "start_time": "2022-11-29T20:37:31.063Z"
   },
   {
    "duration": 5,
    "start_time": "2022-11-29T20:38:36.069Z"
   },
   {
    "duration": 16,
    "start_time": "2022-11-29T20:38:36.598Z"
   },
   {
    "duration": 16,
    "start_time": "2022-11-29T20:38:48.158Z"
   },
   {
    "duration": 6,
    "start_time": "2022-11-29T20:38:48.699Z"
   },
   {
    "duration": 6,
    "start_time": "2022-11-29T20:38:49.459Z"
   },
   {
    "duration": 17,
    "start_time": "2022-11-29T20:38:51.205Z"
   },
   {
    "duration": 82886,
    "start_time": "2022-11-29T20:39:06.037Z"
   },
   {
    "duration": 6,
    "start_time": "2022-11-29T20:40:28.924Z"
   },
   {
    "duration": 13,
    "start_time": "2022-11-29T20:40:28.931Z"
   },
   {
    "duration": 9,
    "start_time": "2022-11-29T20:42:05.840Z"
   },
   {
    "duration": 6,
    "start_time": "2022-11-29T20:42:06.353Z"
   },
   {
    "duration": 5,
    "start_time": "2022-11-29T20:42:07.022Z"
   },
   {
    "duration": 12,
    "start_time": "2022-11-29T20:42:07.714Z"
   },
   {
    "duration": 56733,
    "start_time": "2022-11-29T20:42:45.028Z"
   },
   {
    "duration": 5,
    "start_time": "2022-11-29T20:43:41.762Z"
   },
   {
    "duration": 11,
    "start_time": "2022-11-29T20:43:41.769Z"
   },
   {
    "duration": 7,
    "start_time": "2022-11-29T20:45:05.709Z"
   },
   {
    "duration": 7,
    "start_time": "2022-11-29T20:45:06.659Z"
   },
   {
    "duration": 15,
    "start_time": "2022-11-29T20:45:07.536Z"
   },
   {
    "duration": 90054,
    "start_time": "2022-11-29T20:45:24.834Z"
   },
   {
    "duration": 5,
    "start_time": "2022-11-29T20:46:54.889Z"
   },
   {
    "duration": 10,
    "start_time": "2022-11-29T20:46:54.904Z"
   },
   {
    "duration": 9,
    "start_time": "2022-11-29T20:46:54.916Z"
   },
   {
    "duration": 8,
    "start_time": "2022-11-29T20:46:54.928Z"
   },
   {
    "duration": 41434,
    "start_time": "2022-11-29T20:47:29.010Z"
   },
   {
    "duration": 5,
    "start_time": "2022-11-29T20:48:10.446Z"
   },
   {
    "duration": 18,
    "start_time": "2022-11-29T20:48:10.452Z"
   },
   {
    "duration": 10,
    "start_time": "2022-11-29T20:48:24.397Z"
   },
   {
    "duration": 6,
    "start_time": "2022-11-29T20:48:25.001Z"
   },
   {
    "duration": 6,
    "start_time": "2022-11-29T20:48:25.795Z"
   },
   {
    "duration": 12,
    "start_time": "2022-11-29T20:48:27.286Z"
   },
   {
    "duration": 13,
    "start_time": "2022-11-29T20:49:01.099Z"
   },
   {
    "duration": 6,
    "start_time": "2022-11-29T20:49:01.679Z"
   },
   {
    "duration": 5,
    "start_time": "2022-11-29T20:49:02.508Z"
   },
   {
    "duration": 14,
    "start_time": "2022-11-29T20:49:03.280Z"
   },
   {
    "duration": 172491,
    "start_time": "2022-11-29T20:49:23.885Z"
   },
   {
    "duration": 5,
    "start_time": "2022-11-29T20:52:16.378Z"
   },
   {
    "duration": 30,
    "start_time": "2022-11-29T20:52:16.384Z"
   },
   {
    "duration": 14,
    "start_time": "2022-11-29T20:52:24.406Z"
   },
   {
    "duration": 9,
    "start_time": "2022-11-29T20:52:24.927Z"
   },
   {
    "duration": 6,
    "start_time": "2022-11-29T20:52:25.560Z"
   },
   {
    "duration": 16,
    "start_time": "2022-11-29T20:52:26.291Z"
   },
   {
    "duration": 13,
    "start_time": "2022-11-29T20:52:33.027Z"
   },
   {
    "duration": 5,
    "start_time": "2022-11-29T20:52:33.596Z"
   },
   {
    "duration": 6,
    "start_time": "2022-11-29T20:52:34.335Z"
   },
   {
    "duration": 15,
    "start_time": "2022-11-29T20:52:35.078Z"
   },
   {
    "duration": 121931,
    "start_time": "2022-11-29T20:52:46.856Z"
   },
   {
    "duration": 5,
    "start_time": "2022-11-29T20:54:48.789Z"
   },
   {
    "duration": 18,
    "start_time": "2022-11-29T20:54:48.795Z"
   },
   {
    "duration": 10,
    "start_time": "2022-11-29T20:55:01.389Z"
   },
   {
    "duration": 6,
    "start_time": "2022-11-29T20:55:01.952Z"
   },
   {
    "duration": 6,
    "start_time": "2022-11-29T20:55:02.616Z"
   },
   {
    "duration": 12,
    "start_time": "2022-11-29T20:55:03.867Z"
   },
   {
    "duration": 99930,
    "start_time": "2022-11-29T20:55:18.456Z"
   },
   {
    "duration": 108114,
    "start_time": "2022-11-29T20:57:15.254Z"
   },
   {
    "duration": 6,
    "start_time": "2022-11-29T20:59:03.369Z"
   },
   {
    "duration": 14,
    "start_time": "2022-11-29T20:59:03.376Z"
   },
   {
    "duration": 9,
    "start_time": "2022-11-29T20:59:30.908Z"
   },
   {
    "duration": 6,
    "start_time": "2022-11-29T20:59:31.526Z"
   },
   {
    "duration": 6,
    "start_time": "2022-11-29T20:59:32.195Z"
   },
   {
    "duration": 12,
    "start_time": "2022-11-29T20:59:32.764Z"
   },
   {
    "duration": 120613,
    "start_time": "2022-11-29T21:00:03.978Z"
   },
   {
    "duration": 158824,
    "start_time": "2022-11-29T21:02:38.167Z"
   },
   {
    "duration": 12,
    "start_time": "2022-11-29T21:05:16.993Z"
   },
   {
    "duration": 16,
    "start_time": "2022-11-29T21:05:17.006Z"
   },
   {
    "duration": 12,
    "start_time": "2022-11-29T21:05:28.036Z"
   },
   {
    "duration": 5,
    "start_time": "2022-11-29T21:05:29.040Z"
   },
   {
    "duration": 6,
    "start_time": "2022-11-29T21:05:30.201Z"
   },
   {
    "duration": 17,
    "start_time": "2022-11-29T21:05:31.584Z"
   },
   {
    "duration": 100181,
    "start_time": "2022-11-29T21:05:48.588Z"
   },
   {
    "duration": 5,
    "start_time": "2022-11-29T21:07:28.770Z"
   },
   {
    "duration": 20,
    "start_time": "2022-11-29T21:07:28.777Z"
   },
   {
    "duration": 26847,
    "start_time": "2022-11-29T21:07:28.798Z"
   },
   {
    "duration": 5,
    "start_time": "2022-11-29T21:07:55.647Z"
   },
   {
    "duration": 30,
    "start_time": "2022-11-29T21:07:55.653Z"
   },
   {
    "duration": 9,
    "start_time": "2022-11-29T21:08:10.269Z"
   },
   {
    "duration": 5,
    "start_time": "2022-11-29T21:08:11.254Z"
   },
   {
    "duration": 6,
    "start_time": "2022-11-29T21:08:12.300Z"
   },
   {
    "duration": 12,
    "start_time": "2022-11-29T21:08:13.642Z"
   },
   {
    "duration": 106017,
    "start_time": "2022-11-29T21:08:30.360Z"
   },
   {
    "duration": 5,
    "start_time": "2022-11-29T21:10:16.379Z"
   },
   {
    "duration": 27,
    "start_time": "2022-11-29T21:10:16.386Z"
   },
   {
    "duration": 18740,
    "start_time": "2022-11-29T21:10:16.415Z"
   },
   {
    "duration": 10,
    "start_time": "2022-11-29T21:11:24.522Z"
   },
   {
    "duration": 5,
    "start_time": "2022-11-29T21:11:25.033Z"
   },
   {
    "duration": 5,
    "start_time": "2022-11-29T21:11:26.233Z"
   },
   {
    "duration": 12,
    "start_time": "2022-11-29T21:11:27.620Z"
   },
   {
    "duration": 126556,
    "start_time": "2022-11-29T21:12:07.043Z"
   },
   {
    "duration": 7,
    "start_time": "2022-11-29T21:14:13.601Z"
   },
   {
    "duration": 12,
    "start_time": "2022-11-29T21:14:13.610Z"
   },
   {
    "duration": 32148,
    "start_time": "2022-11-29T21:14:59.441Z"
   },
   {
    "duration": 58098,
    "start_time": "2022-11-29T21:15:58.749Z"
   },
   {
    "duration": 143806,
    "start_time": "2022-11-29T21:16:56.849Z"
   },
   {
    "duration": 6,
    "start_time": "2022-11-29T21:19:20.656Z"
   },
   {
    "duration": 24,
    "start_time": "2022-11-29T21:19:20.663Z"
   },
   {
    "duration": 95960,
    "start_time": "2022-11-29T21:19:20.690Z"
   },
   {
    "duration": 5,
    "start_time": "2022-11-29T21:20:56.652Z"
   },
   {
    "duration": 19,
    "start_time": "2022-11-29T21:20:56.659Z"
   },
   {
    "duration": 291681,
    "start_time": "2022-11-29T21:20:56.680Z"
   },
   {
    "duration": 6,
    "start_time": "2022-11-29T21:25:48.363Z"
   },
   {
    "duration": 44,
    "start_time": "2022-11-29T21:25:48.371Z"
   },
   {
    "duration": 17,
    "start_time": "2022-11-29T21:26:48.885Z"
   },
   {
    "duration": 5,
    "start_time": "2022-11-29T21:26:49.372Z"
   },
   {
    "duration": 5,
    "start_time": "2022-11-29T21:26:50.201Z"
   },
   {
    "duration": 19,
    "start_time": "2022-11-29T21:26:51.983Z"
   },
   {
    "duration": 13,
    "start_time": "2022-11-29T21:27:02.993Z"
   },
   {
    "duration": 5,
    "start_time": "2022-11-29T21:27:03.498Z"
   },
   {
    "duration": 6,
    "start_time": "2022-11-29T21:27:04.219Z"
   },
   {
    "duration": 20,
    "start_time": "2022-11-29T21:27:04.930Z"
   },
   {
    "duration": 5,
    "start_time": "2022-11-29T21:29:10.704Z"
   },
   {
    "duration": 203319,
    "start_time": "2022-11-29T21:29:35.591Z"
   },
   {
    "duration": 5,
    "start_time": "2022-11-29T21:32:58.911Z"
   },
   {
    "duration": 28,
    "start_time": "2022-11-29T21:32:58.918Z"
   },
   {
    "duration": 131175,
    "start_time": "2022-11-29T21:32:58.947Z"
   },
   {
    "duration": 6,
    "start_time": "2022-11-29T21:35:10.124Z"
   },
   {
    "duration": 29,
    "start_time": "2022-11-29T21:35:10.131Z"
   },
   {
    "duration": 13,
    "start_time": "2022-11-29T21:35:50.045Z"
   },
   {
    "duration": 5,
    "start_time": "2022-11-29T21:35:50.567Z"
   },
   {
    "duration": 5,
    "start_time": "2022-11-29T21:35:51.297Z"
   },
   {
    "duration": 17,
    "start_time": "2022-11-29T21:35:52.003Z"
   },
   {
    "duration": 15,
    "start_time": "2022-11-29T21:36:03.990Z"
   },
   {
    "duration": 7,
    "start_time": "2022-11-29T21:36:04.587Z"
   },
   {
    "duration": 5,
    "start_time": "2022-11-29T21:36:05.389Z"
   },
   {
    "duration": 17,
    "start_time": "2022-11-29T21:36:06.297Z"
   },
   {
    "duration": 124792,
    "start_time": "2022-11-29T21:36:20.989Z"
   },
   {
    "duration": 5,
    "start_time": "2022-11-29T21:38:25.783Z"
   },
   {
    "duration": 20,
    "start_time": "2022-11-29T21:38:25.789Z"
   },
   {
    "duration": 74527,
    "start_time": "2022-11-29T21:38:25.811Z"
   },
   {
    "duration": 5,
    "start_time": "2022-11-29T21:39:40.339Z"
   },
   {
    "duration": 16,
    "start_time": "2022-11-29T21:39:40.345Z"
   },
   {
    "duration": 11,
    "start_time": "2022-11-29T21:40:19.965Z"
   },
   {
    "duration": 6,
    "start_time": "2022-11-29T21:40:20.670Z"
   },
   {
    "duration": 6,
    "start_time": "2022-11-29T21:40:21.338Z"
   },
   {
    "duration": 12,
    "start_time": "2022-11-29T21:40:22.769Z"
   },
   {
    "duration": 1202,
    "start_time": "2022-11-30T10:37:01.515Z"
   },
   {
    "duration": 81,
    "start_time": "2022-11-30T10:37:02.719Z"
   },
   {
    "duration": 10,
    "start_time": "2022-11-30T10:37:02.801Z"
   },
   {
    "duration": 24,
    "start_time": "2022-11-30T10:37:02.813Z"
   },
   {
    "duration": 9,
    "start_time": "2022-11-30T10:37:02.840Z"
   },
   {
    "duration": 18,
    "start_time": "2022-11-30T10:37:02.851Z"
   },
   {
    "duration": 13,
    "start_time": "2022-11-30T10:37:02.871Z"
   },
   {
    "duration": 5,
    "start_time": "2022-11-30T10:37:02.887Z"
   },
   {
    "duration": 14,
    "start_time": "2022-11-30T10:37:02.893Z"
   },
   {
    "duration": 14,
    "start_time": "2022-11-30T10:37:02.909Z"
   },
   {
    "duration": 30,
    "start_time": "2022-11-30T10:37:02.925Z"
   },
   {
    "duration": 7,
    "start_time": "2022-11-30T10:37:02.957Z"
   },
   {
    "duration": 12,
    "start_time": "2022-11-30T10:37:02.966Z"
   },
   {
    "duration": 4,
    "start_time": "2022-11-30T10:37:02.982Z"
   },
   {
    "duration": 6,
    "start_time": "2022-11-30T10:37:02.988Z"
   },
   {
    "duration": 18,
    "start_time": "2022-11-30T10:37:02.995Z"
   },
   {
    "duration": 6,
    "start_time": "2022-11-30T10:37:03.015Z"
   },
   {
    "duration": 17,
    "start_time": "2022-11-30T10:37:03.022Z"
   },
   {
    "duration": 20,
    "start_time": "2022-11-30T10:37:03.041Z"
   },
   {
    "duration": 7,
    "start_time": "2022-11-30T10:37:03.063Z"
   },
   {
    "duration": 4,
    "start_time": "2022-11-30T10:37:03.071Z"
   },
   {
    "duration": 24,
    "start_time": "2022-11-30T10:37:03.077Z"
   },
   {
    "duration": 5,
    "start_time": "2022-11-30T10:37:03.103Z"
   },
   {
    "duration": 8,
    "start_time": "2022-11-30T10:37:03.110Z"
   },
   {
    "duration": 6,
    "start_time": "2022-11-30T10:37:03.119Z"
   },
   {
    "duration": 8,
    "start_time": "2022-11-30T10:37:03.126Z"
   },
   {
    "duration": 19,
    "start_time": "2022-11-30T10:37:03.136Z"
   },
   {
    "duration": 11,
    "start_time": "2022-11-30T10:37:03.157Z"
   },
   {
    "duration": 6,
    "start_time": "2022-11-30T10:37:03.169Z"
   },
   {
    "duration": 7,
    "start_time": "2022-11-30T10:37:03.176Z"
   },
   {
    "duration": 47,
    "start_time": "2022-11-30T10:37:03.184Z"
   },
   {
    "duration": 5,
    "start_time": "2022-11-30T10:37:03.233Z"
   },
   {
    "duration": 16,
    "start_time": "2022-11-30T10:37:03.239Z"
   },
   {
    "duration": 200,
    "start_time": "2022-11-30T10:37:03.256Z"
   },
   {
    "duration": 105,
    "start_time": "2022-11-30T10:37:03.458Z"
   },
   {
    "duration": 198,
    "start_time": "2022-11-30T10:37:03.566Z"
   },
   {
    "duration": 12,
    "start_time": "2022-11-30T10:37:03.766Z"
   },
   {
    "duration": 27,
    "start_time": "2022-11-30T10:37:03.780Z"
   },
   {
    "duration": 100,
    "start_time": "2022-11-30T10:37:03.856Z"
   },
   {
    "duration": 55807,
    "start_time": "2022-11-30T10:37:03.958Z"
   },
   {
    "duration": 6,
    "start_time": "2022-11-30T10:37:59.770Z"
   },
   {
    "duration": 17,
    "start_time": "2022-11-30T10:37:59.777Z"
   },
   {
    "duration": 2,
    "start_time": "2022-11-30T10:37:59.795Z"
   },
   {
    "duration": 10,
    "start_time": "2022-11-30T10:37:59.799Z"
   },
   {
    "duration": 7,
    "start_time": "2022-11-30T10:37:59.811Z"
   },
   {
    "duration": 20,
    "start_time": "2022-11-30T10:37:59.820Z"
   },
   {
    "duration": 15,
    "start_time": "2022-11-30T10:37:59.842Z"
   },
   {
    "duration": 16,
    "start_time": "2022-11-30T10:37:59.858Z"
   },
   {
    "duration": 136504,
    "start_time": "2022-11-30T10:37:59.875Z"
   },
   {
    "duration": 7,
    "start_time": "2022-11-30T10:40:16.381Z"
   },
   {
    "duration": 33,
    "start_time": "2022-11-30T10:40:16.389Z"
   },
   {
    "duration": 19,
    "start_time": "2022-11-30T10:40:16.424Z"
   },
   {
    "duration": 24,
    "start_time": "2022-11-30T10:40:16.445Z"
   },
   {
    "duration": 28,
    "start_time": "2022-11-30T10:40:16.471Z"
   },
   {
    "duration": 79367,
    "start_time": "2022-11-30T10:40:16.501Z"
   },
   {
    "duration": 6,
    "start_time": "2022-11-30T10:41:35.870Z"
   },
   {
    "duration": 17,
    "start_time": "2022-11-30T10:41:35.877Z"
   },
   {
    "duration": 11,
    "start_time": "2022-11-30T10:41:35.895Z"
   },
   {
    "duration": 5,
    "start_time": "2022-11-30T10:41:35.908Z"
   },
   {
    "duration": 9,
    "start_time": "2022-11-30T10:41:35.914Z"
   },
   {
    "duration": 36,
    "start_time": "2022-11-30T10:41:35.924Z"
   },
   {
    "duration": 46,
    "start_time": "2022-11-30T12:12:54.897Z"
   },
   {
    "duration": 1108,
    "start_time": "2022-11-30T14:16:22.271Z"
   },
   {
    "duration": 376,
    "start_time": "2022-11-30T14:16:23.381Z"
   },
   {
    "duration": 7,
    "start_time": "2022-11-30T14:16:23.759Z"
   },
   {
    "duration": 16,
    "start_time": "2022-11-30T14:16:24.300Z"
   },
   {
    "duration": 7,
    "start_time": "2022-11-30T14:16:24.883Z"
   },
   {
    "duration": 12,
    "start_time": "2022-11-30T14:16:25.387Z"
   },
   {
    "duration": 12,
    "start_time": "2022-11-30T14:16:26.915Z"
   },
   {
    "duration": 5,
    "start_time": "2022-11-30T14:16:28.099Z"
   },
   {
    "duration": 7,
    "start_time": "2022-11-30T14:16:28.651Z"
   },
   {
    "duration": 14,
    "start_time": "2022-11-30T14:16:30.572Z"
   },
   {
    "duration": 6,
    "start_time": "2022-11-30T14:16:31.227Z"
   },
   {
    "duration": 6,
    "start_time": "2022-11-30T14:16:31.803Z"
   },
   {
    "duration": 5,
    "start_time": "2022-11-30T14:16:32.460Z"
   },
   {
    "duration": 3,
    "start_time": "2022-11-30T14:16:40.405Z"
   },
   {
    "duration": 2,
    "start_time": "2022-11-30T14:16:41.589Z"
   },
   {
    "duration": 15,
    "start_time": "2022-11-30T14:16:42.460Z"
   },
   {
    "duration": 11,
    "start_time": "2022-11-30T14:16:48.062Z"
   },
   {
    "duration": 4,
    "start_time": "2022-11-30T14:16:49.909Z"
   },
   {
    "duration": 3,
    "start_time": "2022-11-30T14:16:50.653Z"
   },
   {
    "duration": 6,
    "start_time": "2022-11-30T14:16:51.347Z"
   },
   {
    "duration": 2,
    "start_time": "2022-11-30T14:16:52.059Z"
   },
   {
    "duration": 5,
    "start_time": "2022-11-30T14:16:52.715Z"
   },
   {
    "duration": 3,
    "start_time": "2022-11-30T14:17:40.986Z"
   },
   {
    "duration": 61,
    "start_time": "2022-11-30T14:18:58.791Z"
   },
   {
    "duration": 9,
    "start_time": "2022-11-30T14:19:28.217Z"
   },
   {
    "duration": 3,
    "start_time": "2022-11-30T14:19:51.815Z"
   },
   {
    "duration": 11,
    "start_time": "2022-11-30T14:19:52.311Z"
   },
   {
    "duration": 10,
    "start_time": "2022-11-30T14:21:42.090Z"
   },
   {
    "duration": 7,
    "start_time": "2022-11-30T14:24:36.093Z"
   },
   {
    "duration": 13,
    "start_time": "2022-11-30T14:24:44.975Z"
   },
   {
    "duration": 7,
    "start_time": "2022-11-30T14:26:03.927Z"
   },
   {
    "duration": 6,
    "start_time": "2022-11-30T14:27:09.259Z"
   },
   {
    "duration": 6,
    "start_time": "2022-11-30T14:27:11.896Z"
   },
   {
    "duration": 7,
    "start_time": "2022-11-30T14:27:20.600Z"
   },
   {
    "duration": 8,
    "start_time": "2022-11-30T14:28:06.099Z"
   },
   {
    "duration": 10,
    "start_time": "2022-11-30T14:32:08.636Z"
   },
   {
    "duration": 8,
    "start_time": "2022-11-30T15:01:34.396Z"
   },
   {
    "duration": 13,
    "start_time": "2022-11-30T15:02:15.386Z"
   },
   {
    "duration": 3,
    "start_time": "2022-11-30T15:02:34.871Z"
   },
   {
    "duration": 12,
    "start_time": "2022-11-30T15:02:36.635Z"
   },
   {
    "duration": 12,
    "start_time": "2022-11-30T15:03:25.805Z"
   },
   {
    "duration": 4,
    "start_time": "2022-11-30T15:04:28.363Z"
   },
   {
    "duration": 38,
    "start_time": "2022-11-30T15:04:29.505Z"
   },
   {
    "duration": 4,
    "start_time": "2022-11-30T15:04:30.112Z"
   },
   {
    "duration": 14,
    "start_time": "2022-11-30T15:04:30.634Z"
   },
   {
    "duration": 8,
    "start_time": "2022-11-30T15:04:31.312Z"
   },
   {
    "duration": 13,
    "start_time": "2022-11-30T15:04:32.044Z"
   },
   {
    "duration": 12,
    "start_time": "2022-11-30T15:04:34.041Z"
   },
   {
    "duration": 4,
    "start_time": "2022-11-30T15:04:35.524Z"
   },
   {
    "duration": 7,
    "start_time": "2022-11-30T15:04:36.224Z"
   },
   {
    "duration": 14,
    "start_time": "2022-11-30T15:04:38.332Z"
   },
   {
    "duration": 7,
    "start_time": "2022-11-30T15:04:39.188Z"
   },
   {
    "duration": 6,
    "start_time": "2022-11-30T15:04:40.064Z"
   },
   {
    "duration": 5,
    "start_time": "2022-11-30T15:04:40.915Z"
   },
   {
    "duration": 2,
    "start_time": "2022-11-30T15:04:47.879Z"
   },
   {
    "duration": 16,
    "start_time": "2022-11-30T15:04:49.797Z"
   },
   {
    "duration": 5,
    "start_time": "2022-11-30T15:04:51.905Z"
   },
   {
    "duration": 3,
    "start_time": "2022-11-30T15:04:52.660Z"
   },
   {
    "duration": 7,
    "start_time": "2022-11-30T15:04:53.324Z"
   },
   {
    "duration": 3,
    "start_time": "2022-11-30T15:04:53.981Z"
   },
   {
    "duration": 5,
    "start_time": "2022-11-30T15:04:54.722Z"
   },
   {
    "duration": 2,
    "start_time": "2022-11-30T15:04:55.325Z"
   },
   {
    "duration": 2,
    "start_time": "2022-11-30T15:04:56.673Z"
   },
   {
    "duration": 2,
    "start_time": "2022-11-30T15:05:04.515Z"
   },
   {
    "duration": 7,
    "start_time": "2022-11-30T15:05:05.377Z"
   },
   {
    "duration": 10,
    "start_time": "2022-11-30T15:05:07.411Z"
   },
   {
    "duration": 10,
    "start_time": "2022-11-30T15:05:47.263Z"
   },
   {
    "duration": 9,
    "start_time": "2022-11-30T15:11:53.202Z"
   },
   {
    "duration": 9,
    "start_time": "2022-11-30T15:12:16.049Z"
   },
   {
    "duration": 6,
    "start_time": "2022-11-30T15:22:58.187Z"
   },
   {
    "duration": 3,
    "start_time": "2022-11-30T15:22:58.852Z"
   },
   {
    "duration": 7,
    "start_time": "2022-11-30T15:22:59.471Z"
   },
   {
    "duration": 3,
    "start_time": "2022-11-30T15:23:00.314Z"
   },
   {
    "duration": 3,
    "start_time": "2022-11-30T15:23:01.337Z"
   },
   {
    "duration": 9,
    "start_time": "2022-11-30T15:23:02.384Z"
   },
   {
    "duration": 13,
    "start_time": "2022-11-30T15:23:03.126Z"
   },
   {
    "duration": 3,
    "start_time": "2022-11-30T15:59:19.928Z"
   },
   {
    "duration": 5,
    "start_time": "2022-11-30T15:59:20.919Z"
   },
   {
    "duration": 2,
    "start_time": "2022-11-30T15:59:21.774Z"
   },
   {
    "duration": 3,
    "start_time": "2022-11-30T15:59:22.595Z"
   },
   {
    "duration": 11,
    "start_time": "2022-11-30T15:59:23.667Z"
   },
   {
    "duration": 1363,
    "start_time": "2022-12-01T14:49:55.212Z"
   },
   {
    "duration": 182,
    "start_time": "2022-12-01T14:49:56.577Z"
   },
   {
    "duration": 7,
    "start_time": "2022-12-01T14:49:56.761Z"
   },
   {
    "duration": 15,
    "start_time": "2022-12-01T14:49:57.165Z"
   },
   {
    "duration": 9,
    "start_time": "2022-12-01T14:49:57.570Z"
   },
   {
    "duration": 11,
    "start_time": "2022-12-01T14:49:58.056Z"
   },
   {
    "duration": 14,
    "start_time": "2022-12-01T14:49:59.480Z"
   },
   {
    "duration": 9,
    "start_time": "2022-12-01T14:50:00.408Z"
   },
   {
    "duration": 8,
    "start_time": "2022-12-01T14:50:01.034Z"
   },
   {
    "duration": 14,
    "start_time": "2022-12-01T14:50:02.552Z"
   },
   {
    "duration": 6,
    "start_time": "2022-12-01T14:50:03.080Z"
   },
   {
    "duration": 7,
    "start_time": "2022-12-01T14:50:03.658Z"
   },
   {
    "duration": 5,
    "start_time": "2022-12-01T14:50:04.098Z"
   },
   {
    "duration": 2,
    "start_time": "2022-12-01T14:50:09.423Z"
   },
   {
    "duration": 11,
    "start_time": "2022-12-01T14:50:10.424Z"
   },
   {
    "duration": 5,
    "start_time": "2022-12-01T14:50:12.124Z"
   },
   {
    "duration": 4,
    "start_time": "2022-12-01T14:50:12.631Z"
   },
   {
    "duration": 8,
    "start_time": "2022-12-01T14:50:13.146Z"
   },
   {
    "duration": 2,
    "start_time": "2022-12-01T14:50:13.690Z"
   },
   {
    "duration": 6,
    "start_time": "2022-12-01T14:50:14.097Z"
   },
   {
    "duration": 3,
    "start_time": "2022-12-01T14:50:15.177Z"
   },
   {
    "duration": 4,
    "start_time": "2022-12-01T14:50:15.690Z"
   },
   {
    "duration": 10,
    "start_time": "2022-12-01T14:50:17.482Z"
   },
   {
    "duration": 4,
    "start_time": "2022-12-01T14:53:27.669Z"
   },
   {
    "duration": 3,
    "start_time": "2022-12-01T14:53:28.553Z"
   },
   {
    "duration": 97,
    "start_time": "2022-12-01T14:53:29.292Z"
   },
   {
    "duration": 9,
    "start_time": "2022-12-01T14:54:52.081Z"
   },
   {
    "duration": 4,
    "start_time": "2022-12-01T14:59:45.726Z"
   },
   {
    "duration": 44,
    "start_time": "2022-12-01T15:00:03.866Z"
   },
   {
    "duration": 4,
    "start_time": "2022-12-01T15:00:04.476Z"
   },
   {
    "duration": 31,
    "start_time": "2022-12-01T15:00:04.996Z"
   },
   {
    "duration": 9,
    "start_time": "2022-12-01T15:00:05.452Z"
   },
   {
    "duration": 12,
    "start_time": "2022-12-01T15:00:06.053Z"
   },
   {
    "duration": 11,
    "start_time": "2022-12-01T15:00:07.634Z"
   },
   {
    "duration": 4,
    "start_time": "2022-12-01T15:00:09.065Z"
   },
   {
    "duration": 8,
    "start_time": "2022-12-01T15:00:09.713Z"
   },
   {
    "duration": 13,
    "start_time": "2022-12-01T15:00:12.234Z"
   },
   {
    "duration": 6,
    "start_time": "2022-12-01T15:00:13.049Z"
   },
   {
    "duration": 7,
    "start_time": "2022-12-01T15:00:13.745Z"
   },
   {
    "duration": 4,
    "start_time": "2022-12-01T15:00:14.409Z"
   },
   {
    "duration": 3,
    "start_time": "2022-12-01T15:00:20.121Z"
   },
   {
    "duration": 11,
    "start_time": "2022-12-01T15:00:21.050Z"
   },
   {
    "duration": 5,
    "start_time": "2022-12-01T15:00:23.082Z"
   },
   {
    "duration": 3,
    "start_time": "2022-12-01T15:00:23.684Z"
   },
   {
    "duration": 5,
    "start_time": "2022-12-01T15:00:24.156Z"
   },
   {
    "duration": 2,
    "start_time": "2022-12-01T15:00:24.683Z"
   },
   {
    "duration": 5,
    "start_time": "2022-12-01T15:00:25.154Z"
   },
   {
    "duration": 2,
    "start_time": "2022-12-01T15:00:25.623Z"
   },
   {
    "duration": 3,
    "start_time": "2022-12-01T15:00:26.249Z"
   },
   {
    "duration": 3,
    "start_time": "2022-12-01T15:00:27.899Z"
   },
   {
    "duration": 3,
    "start_time": "2022-12-01T15:00:36.468Z"
   },
   {
    "duration": 22,
    "start_time": "2022-12-01T15:00:36.898Z"
   },
   {
    "duration": 10,
    "start_time": "2022-12-01T15:02:09.686Z"
   },
   {
    "duration": 3,
    "start_time": "2022-12-01T15:03:12.334Z"
   },
   {
    "duration": 14,
    "start_time": "2022-12-01T15:03:57.032Z"
   },
   {
    "duration": 3,
    "start_time": "2022-12-01T15:04:17.614Z"
   },
   {
    "duration": 3,
    "start_time": "2022-12-01T15:04:18.680Z"
   },
   {
    "duration": 32,
    "start_time": "2022-12-01T15:04:19.753Z"
   },
   {
    "duration": 3,
    "start_time": "2022-12-01T15:04:29.279Z"
   },
   {
    "duration": 3,
    "start_time": "2022-12-01T15:04:29.869Z"
   },
   {
    "duration": 25,
    "start_time": "2022-12-01T15:04:30.317Z"
   },
   {
    "duration": 43,
    "start_time": "2022-12-01T15:07:12.828Z"
   },
   {
    "duration": 29,
    "start_time": "2022-12-01T15:07:18.851Z"
   },
   {
    "duration": 2,
    "start_time": "2022-12-01T15:07:19.706Z"
   },
   {
    "duration": 3,
    "start_time": "2022-12-01T15:07:20.216Z"
   },
   {
    "duration": 14,
    "start_time": "2022-12-01T15:07:31.026Z"
   },
   {
    "duration": 13,
    "start_time": "2022-12-01T15:08:11.744Z"
   },
   {
    "duration": 13,
    "start_time": "2022-12-01T15:08:48.365Z"
   },
   {
    "duration": 1075,
    "start_time": "2022-12-01T15:48:15.461Z"
   },
   {
    "duration": 357,
    "start_time": "2022-12-01T15:48:16.575Z"
   },
   {
    "duration": 9,
    "start_time": "2022-12-01T15:48:17.159Z"
   },
   {
    "duration": 20,
    "start_time": "2022-12-01T15:48:17.672Z"
   },
   {
    "duration": 8,
    "start_time": "2022-12-01T15:48:18.229Z"
   },
   {
    "duration": 18,
    "start_time": "2022-12-01T15:48:18.775Z"
   },
   {
    "duration": 12,
    "start_time": "2022-12-01T15:48:20.264Z"
   },
   {
    "duration": 5,
    "start_time": "2022-12-01T15:48:21.294Z"
   },
   {
    "duration": 8,
    "start_time": "2022-12-01T15:48:21.735Z"
   },
   {
    "duration": 14,
    "start_time": "2022-12-01T15:48:23.238Z"
   },
   {
    "duration": 6,
    "start_time": "2022-12-01T15:48:23.702Z"
   },
   {
    "duration": 6,
    "start_time": "2022-12-01T15:48:24.232Z"
   },
   {
    "duration": 5,
    "start_time": "2022-12-01T15:48:24.695Z"
   },
   {
    "duration": 3,
    "start_time": "2022-12-01T16:03:39.253Z"
   },
   {
    "duration": 14,
    "start_time": "2022-12-01T16:03:41.032Z"
   },
   {
    "duration": 4,
    "start_time": "2022-12-01T16:03:43.040Z"
   },
   {
    "duration": 3,
    "start_time": "2022-12-01T16:03:43.679Z"
   },
   {
    "duration": 7,
    "start_time": "2022-12-01T16:03:44.294Z"
   },
   {
    "duration": 2,
    "start_time": "2022-12-01T16:03:44.912Z"
   },
   {
    "duration": 5,
    "start_time": "2022-12-01T16:03:45.553Z"
   },
   {
    "duration": 2,
    "start_time": "2022-12-01T16:03:46.176Z"
   },
   {
    "duration": 470,
    "start_time": "2022-12-01T16:04:01.367Z"
   },
   {
    "duration": 108,
    "start_time": "2022-12-01T16:05:00.908Z"
   },
   {
    "duration": 3,
    "start_time": "2022-12-01T16:05:49.243Z"
   },
   {
    "duration": 25,
    "start_time": "2022-12-01T16:05:49.801Z"
   },
   {
    "duration": 138,
    "start_time": "2022-12-01T16:05:59.266Z"
   },
   {
    "duration": 4,
    "start_time": "2022-12-01T16:10:57.454Z"
   },
   {
    "duration": 2,
    "start_time": "2022-12-01T16:10:57.990Z"
   },
   {
    "duration": 14,
    "start_time": "2022-12-01T16:10:58.408Z"
   },
   {
    "duration": 152,
    "start_time": "2022-12-01T16:11:23.576Z"
   },
   {
    "duration": 150,
    "start_time": "2022-12-01T16:11:59.108Z"
   },
   {
    "duration": 39,
    "start_time": "2022-12-01T16:12:29.084Z"
   },
   {
    "duration": 39,
    "start_time": "2022-12-01T16:14:02.620Z"
   },
   {
    "duration": 5,
    "start_time": "2022-12-01T16:20:06.337Z"
   },
   {
    "duration": 45,
    "start_time": "2022-12-01T16:20:07.441Z"
   },
   {
    "duration": 3,
    "start_time": "2022-12-01T16:20:08.049Z"
   },
   {
    "duration": 14,
    "start_time": "2022-12-01T16:20:08.554Z"
   },
   {
    "duration": 7,
    "start_time": "2022-12-01T16:20:09.161Z"
   },
   {
    "duration": 12,
    "start_time": "2022-12-01T16:20:09.817Z"
   },
   {
    "duration": 12,
    "start_time": "2022-12-01T16:20:11.561Z"
   },
   {
    "duration": 5,
    "start_time": "2022-12-01T16:20:12.880Z"
   },
   {
    "duration": 10,
    "start_time": "2022-12-01T16:20:13.410Z"
   },
   {
    "duration": 18,
    "start_time": "2022-12-01T16:20:14.922Z"
   },
   {
    "duration": 7,
    "start_time": "2022-12-01T16:20:15.479Z"
   },
   {
    "duration": 6,
    "start_time": "2022-12-01T16:20:16.097Z"
   },
   {
    "duration": 4,
    "start_time": "2022-12-01T16:20:16.649Z"
   },
   {
    "duration": 2,
    "start_time": "2022-12-01T16:20:22.216Z"
   },
   {
    "duration": 12,
    "start_time": "2022-12-01T16:20:25.391Z"
   },
   {
    "duration": 5,
    "start_time": "2022-12-01T16:20:33.842Z"
   },
   {
    "duration": 2,
    "start_time": "2022-12-01T16:20:34.402Z"
   },
   {
    "duration": 6,
    "start_time": "2022-12-01T16:20:34.938Z"
   },
   {
    "duration": 3,
    "start_time": "2022-12-01T16:20:35.615Z"
   },
   {
    "duration": 6,
    "start_time": "2022-12-01T16:20:36.306Z"
   },
   {
    "duration": 4,
    "start_time": "2022-12-01T16:20:37.041Z"
   },
   {
    "duration": 2,
    "start_time": "2022-12-01T16:20:37.706Z"
   },
   {
    "duration": 152,
    "start_time": "2022-12-01T16:20:38.538Z"
   },
   {
    "duration": 37,
    "start_time": "2022-12-01T16:20:39.367Z"
   },
   {
    "duration": 33,
    "start_time": "2022-12-01T16:20:40.081Z"
   },
   {
    "duration": 2,
    "start_time": "2022-12-01T16:20:40.799Z"
   },
   {
    "duration": 3,
    "start_time": "2022-12-01T16:20:43.096Z"
   },
   {
    "duration": 14,
    "start_time": "2022-12-01T16:20:50.233Z"
   },
   {
    "duration": 2,
    "start_time": "2022-12-01T16:29:50.149Z"
   },
   {
    "duration": 152,
    "start_time": "2022-12-01T16:29:50.810Z"
   },
   {
    "duration": 36,
    "start_time": "2022-12-01T16:29:51.812Z"
   },
   {
    "duration": 36,
    "start_time": "2022-12-01T16:29:52.401Z"
   },
   {
    "duration": 11,
    "start_time": "2022-12-01T16:33:31.189Z"
   },
   {
    "duration": 3226,
    "start_time": "2022-12-01T16:41:15.170Z"
   },
   {
    "duration": 9,
    "start_time": "2022-12-01T16:46:37.820Z"
   },
   {
    "duration": 10,
    "start_time": "2022-12-01T16:46:45.155Z"
   },
   {
    "duration": 17,
    "start_time": "2022-12-01T16:46:50.772Z"
   },
   {
    "duration": 2,
    "start_time": "2022-12-01T16:47:33.061Z"
   },
   {
    "duration": 124,
    "start_time": "2022-12-01T16:51:04.148Z"
   },
   {
    "duration": 21,
    "start_time": "2022-12-01T16:51:55.356Z"
   },
   {
    "duration": 13,
    "start_time": "2022-12-01T17:00:55.365Z"
   },
   {
    "duration": 17,
    "start_time": "2022-12-01T17:00:55.748Z"
   },
   {
    "duration": 14,
    "start_time": "2022-12-01T17:01:08.292Z"
   },
   {
    "duration": 34,
    "start_time": "2022-12-01T17:01:08.812Z"
   },
   {
    "duration": 9,
    "start_time": "2022-12-01T17:01:23.487Z"
   },
   {
    "duration": 99,
    "start_time": "2022-12-01T17:01:49.541Z"
   },
   {
    "duration": 100,
    "start_time": "2022-12-01T17:02:10.277Z"
   },
   {
    "duration": 9,
    "start_time": "2022-12-01T17:03:09.630Z"
   },
   {
    "duration": 67,
    "start_time": "2022-12-01T17:03:27.670Z"
   },
   {
    "duration": 2,
    "start_time": "2022-12-01T17:03:27.982Z"
   },
   {
    "duration": 16,
    "start_time": "2022-12-01T17:03:28.238Z"
   },
   {
    "duration": 35,
    "start_time": "2022-12-01T17:03:28.695Z"
   },
   {
    "duration": 808,
    "start_time": "2022-12-01T17:03:44.096Z"
   },
   {
    "duration": 8,
    "start_time": "2022-12-01T17:05:15.049Z"
   },
   {
    "duration": 5,
    "start_time": "2022-12-01T17:09:17.222Z"
   },
   {
    "duration": 4,
    "start_time": "2022-12-01T17:09:36.085Z"
   },
   {
    "duration": 9,
    "start_time": "2022-12-01T17:09:49.038Z"
   },
   {
    "duration": 3,
    "start_time": "2022-12-01T17:10:03.543Z"
   },
   {
    "duration": 18,
    "start_time": "2022-12-01T17:10:03.927Z"
   },
   {
    "duration": 3,
    "start_time": "2022-12-01T17:10:20.206Z"
   },
   {
    "duration": 8,
    "start_time": "2022-12-01T17:10:20.473Z"
   },
   {
    "duration": 12,
    "start_time": "2022-12-01T17:10:51.985Z"
   },
   {
    "duration": 12,
    "start_time": "2022-12-01T17:11:06.952Z"
   },
   {
    "duration": 3,
    "start_time": "2022-12-01T17:49:35.734Z"
   },
   {
    "duration": 36,
    "start_time": "2022-12-01T17:49:36.410Z"
   },
   {
    "duration": 4,
    "start_time": "2022-12-01T17:49:36.768Z"
   },
   {
    "duration": 14,
    "start_time": "2022-12-01T17:49:37.082Z"
   },
   {
    "duration": 10,
    "start_time": "2022-12-01T17:49:37.439Z"
   },
   {
    "duration": 12,
    "start_time": "2022-12-01T17:49:37.800Z"
   },
   {
    "duration": 11,
    "start_time": "2022-12-01T17:49:38.814Z"
   },
   {
    "duration": 4,
    "start_time": "2022-12-01T17:49:39.551Z"
   },
   {
    "duration": 7,
    "start_time": "2022-12-01T17:49:39.950Z"
   },
   {
    "duration": 15,
    "start_time": "2022-12-01T17:49:41.065Z"
   },
   {
    "duration": 7,
    "start_time": "2022-12-01T17:49:41.431Z"
   },
   {
    "duration": 6,
    "start_time": "2022-12-01T17:49:41.799Z"
   },
   {
    "duration": 4,
    "start_time": "2022-12-01T17:49:42.158Z"
   },
   {
    "duration": 3,
    "start_time": "2022-12-01T17:49:46.302Z"
   },
   {
    "duration": 16,
    "start_time": "2022-12-01T17:49:47.137Z"
   },
   {
    "duration": 3,
    "start_time": "2022-12-01T17:49:49.312Z"
   },
   {
    "duration": 5,
    "start_time": "2022-12-01T17:49:49.784Z"
   },
   {
    "duration": 2,
    "start_time": "2022-12-01T17:49:50.128Z"
   },
   {
    "duration": 6,
    "start_time": "2022-12-01T17:49:50.488Z"
   },
   {
    "duration": 6,
    "start_time": "2022-12-01T17:49:50.862Z"
   },
   {
    "duration": 5,
    "start_time": "2022-12-01T17:49:51.206Z"
   },
   {
    "duration": 5,
    "start_time": "2022-12-01T17:49:51.559Z"
   },
   {
    "duration": 2,
    "start_time": "2022-12-01T17:49:52.713Z"
   },
   {
    "duration": 3,
    "start_time": "2022-12-01T17:49:53.143Z"
   },
   {
    "duration": 13,
    "start_time": "2022-12-01T17:49:53.599Z"
   },
   {
    "duration": 14,
    "start_time": "2022-12-01T17:49:54.239Z"
   },
   {
    "duration": 4,
    "start_time": "2022-12-01T19:51:43.652Z"
   },
   {
    "duration": 39,
    "start_time": "2022-12-01T19:51:44.944Z"
   },
   {
    "duration": 3,
    "start_time": "2022-12-01T19:51:45.474Z"
   },
   {
    "duration": 17,
    "start_time": "2022-12-01T19:51:46.060Z"
   },
   {
    "duration": 8,
    "start_time": "2022-12-01T19:51:46.574Z"
   },
   {
    "duration": 15,
    "start_time": "2022-12-01T19:51:47.218Z"
   },
   {
    "duration": 13,
    "start_time": "2022-12-01T19:51:48.972Z"
   },
   {
    "duration": 5,
    "start_time": "2022-12-01T19:51:49.982Z"
   },
   {
    "duration": 8,
    "start_time": "2022-12-01T19:51:50.556Z"
   },
   {
    "duration": 15,
    "start_time": "2022-12-01T19:51:52.144Z"
   },
   {
    "duration": 7,
    "start_time": "2022-12-01T19:51:52.685Z"
   },
   {
    "duration": 6,
    "start_time": "2022-12-01T19:51:53.344Z"
   },
   {
    "duration": 4,
    "start_time": "2022-12-01T19:51:53.842Z"
   },
   {
    "duration": 3,
    "start_time": "2022-12-01T19:52:46.176Z"
   },
   {
    "duration": 12,
    "start_time": "2022-12-01T19:52:47.361Z"
   },
   {
    "duration": 6,
    "start_time": "2022-12-01T19:52:49.305Z"
   },
   {
    "duration": 6,
    "start_time": "2022-12-01T19:52:49.887Z"
   },
   {
    "duration": 2,
    "start_time": "2022-12-01T19:52:50.543Z"
   },
   {
    "duration": 5,
    "start_time": "2022-12-01T19:52:51.121Z"
   },
   {
    "duration": 4,
    "start_time": "2022-12-01T19:52:51.741Z"
   },
   {
    "duration": 4,
    "start_time": "2022-12-01T19:52:52.345Z"
   },
   {
    "duration": 6,
    "start_time": "2022-12-01T19:52:53.017Z"
   },
   {
    "duration": 3,
    "start_time": "2022-12-01T19:52:53.641Z"
   },
   {
    "duration": 2,
    "start_time": "2022-12-01T19:52:54.254Z"
   },
   {
    "duration": 13,
    "start_time": "2022-12-01T19:52:54.862Z"
   },
   {
    "duration": 13,
    "start_time": "2022-12-01T19:52:55.590Z"
   },
   {
    "duration": 3,
    "start_time": "2022-12-01T20:02:10.561Z"
   },
   {
    "duration": 10,
    "start_time": "2022-12-01T20:02:10.923Z"
   },
   {
    "duration": 73,
    "start_time": "2022-12-01T20:03:59.347Z"
   },
   {
    "duration": 82,
    "start_time": "2022-12-01T20:04:11.547Z"
   },
   {
    "duration": 70,
    "start_time": "2022-12-01T20:04:17.646Z"
   },
   {
    "duration": 91,
    "start_time": "2022-12-01T20:04:51.996Z"
   },
   {
    "duration": 11,
    "start_time": "2022-12-01T20:05:30.257Z"
   },
   {
    "duration": 2,
    "start_time": "2022-12-01T20:05:42.926Z"
   },
   {
    "duration": 7,
    "start_time": "2022-12-01T20:05:44.246Z"
   },
   {
    "duration": 14,
    "start_time": "2022-12-01T20:05:45.390Z"
   },
   {
    "duration": 9,
    "start_time": "2022-12-01T20:06:13.545Z"
   },
   {
    "duration": 15,
    "start_time": "2022-12-01T20:06:14.144Z"
   },
   {
    "duration": 4,
    "start_time": "2022-12-01T20:28:28.724Z"
   },
   {
    "duration": 35,
    "start_time": "2022-12-01T20:28:30.072Z"
   },
   {
    "duration": 4,
    "start_time": "2022-12-01T20:28:30.711Z"
   },
   {
    "duration": 14,
    "start_time": "2022-12-01T20:28:31.320Z"
   },
   {
    "duration": 9,
    "start_time": "2022-12-01T20:28:31.812Z"
   },
   {
    "duration": 15,
    "start_time": "2022-12-01T20:28:32.521Z"
   },
   {
    "duration": 11,
    "start_time": "2022-12-01T20:28:34.308Z"
   },
   {
    "duration": 4,
    "start_time": "2022-12-01T20:28:35.334Z"
   },
   {
    "duration": 6,
    "start_time": "2022-12-01T20:28:35.943Z"
   },
   {
    "duration": 13,
    "start_time": "2022-12-01T20:28:37.933Z"
   },
   {
    "duration": 6,
    "start_time": "2022-12-01T20:28:38.533Z"
   },
   {
    "duration": 6,
    "start_time": "2022-12-01T20:28:39.241Z"
   },
   {
    "duration": 4,
    "start_time": "2022-12-01T20:28:39.941Z"
   },
   {
    "duration": 3,
    "start_time": "2022-12-01T20:28:47.815Z"
   },
   {
    "duration": 12,
    "start_time": "2022-12-01T20:28:49.169Z"
   },
   {
    "duration": 3,
    "start_time": "2022-12-01T20:28:52.134Z"
   },
   {
    "duration": 5,
    "start_time": "2022-12-01T20:28:52.840Z"
   },
   {
    "duration": 2,
    "start_time": "2022-12-01T20:28:53.635Z"
   },
   {
    "duration": 4,
    "start_time": "2022-12-01T20:28:54.282Z"
   },
   {
    "duration": 4,
    "start_time": "2022-12-01T20:28:55.982Z"
   },
   {
    "duration": 4,
    "start_time": "2022-12-01T20:28:56.755Z"
   },
   {
    "duration": 4,
    "start_time": "2022-12-01T20:28:57.623Z"
   },
   {
    "duration": 2,
    "start_time": "2022-12-01T20:28:58.407Z"
   },
   {
    "duration": 2,
    "start_time": "2022-12-01T20:29:01.020Z"
   },
   {
    "duration": 9,
    "start_time": "2022-12-01T20:29:01.638Z"
   },
   {
    "duration": 13,
    "start_time": "2022-12-01T20:29:02.647Z"
   },
   {
    "duration": 1466,
    "start_time": "2022-12-02T14:16:48.486Z"
   },
   {
    "duration": 272,
    "start_time": "2022-12-02T14:16:49.960Z"
   },
   {
    "duration": 11,
    "start_time": "2022-12-02T14:16:50.234Z"
   },
   {
    "duration": 95,
    "start_time": "2022-12-02T14:16:50.247Z"
   },
   {
    "duration": 75,
    "start_time": "2022-12-02T14:16:50.345Z"
   },
   {
    "duration": 16,
    "start_time": "2022-12-02T14:16:50.422Z"
   },
   {
    "duration": 18,
    "start_time": "2022-12-02T14:16:50.440Z"
   },
   {
    "duration": 25,
    "start_time": "2022-12-02T14:16:50.460Z"
   },
   {
    "duration": 36,
    "start_time": "2022-12-02T14:16:50.487Z"
   },
   {
    "duration": 21,
    "start_time": "2022-12-02T14:16:50.524Z"
   },
   {
    "duration": 20,
    "start_time": "2022-12-02T14:16:50.547Z"
   },
   {
    "duration": 44,
    "start_time": "2022-12-02T14:16:50.569Z"
   },
   {
    "duration": 5,
    "start_time": "2022-12-02T14:16:50.615Z"
   },
   {
    "duration": 7,
    "start_time": "2022-12-02T14:16:50.624Z"
   },
   {
    "duration": 44,
    "start_time": "2022-12-02T14:16:50.633Z"
   },
   {
    "duration": 50,
    "start_time": "2022-12-02T14:16:50.682Z"
   },
   {
    "duration": 8,
    "start_time": "2022-12-02T14:16:50.734Z"
   },
   {
    "duration": 10,
    "start_time": "2022-12-02T14:16:50.744Z"
   },
   {
    "duration": 52,
    "start_time": "2022-12-02T14:16:50.760Z"
   },
   {
    "duration": 8,
    "start_time": "2022-12-02T14:16:50.815Z"
   },
   {
    "duration": 8,
    "start_time": "2022-12-02T14:16:50.824Z"
   },
   {
    "duration": 11,
    "start_time": "2022-12-02T14:16:50.833Z"
   },
   {
    "duration": 5,
    "start_time": "2022-12-02T14:16:50.846Z"
   },
   {
    "duration": 56,
    "start_time": "2022-12-02T14:16:50.852Z"
   },
   {
    "duration": 12,
    "start_time": "2022-12-02T14:16:50.912Z"
   },
   {
    "duration": 145,
    "start_time": "2022-12-02T14:16:50.926Z"
   },
   {
    "duration": 0,
    "start_time": "2022-12-02T14:16:51.074Z"
   },
   {
    "duration": 0,
    "start_time": "2022-12-02T14:16:51.075Z"
   },
   {
    "duration": 0,
    "start_time": "2022-12-02T14:16:51.076Z"
   },
   {
    "duration": 0,
    "start_time": "2022-12-02T14:16:51.077Z"
   },
   {
    "duration": 0,
    "start_time": "2022-12-02T14:16:51.077Z"
   },
   {
    "duration": 0,
    "start_time": "2022-12-02T14:16:51.078Z"
   },
   {
    "duration": 0,
    "start_time": "2022-12-02T14:16:51.080Z"
   },
   {
    "duration": 0,
    "start_time": "2022-12-02T14:16:51.081Z"
   },
   {
    "duration": 0,
    "start_time": "2022-12-02T14:16:51.082Z"
   },
   {
    "duration": 0,
    "start_time": "2022-12-02T14:16:51.083Z"
   },
   {
    "duration": 0,
    "start_time": "2022-12-02T14:16:51.085Z"
   },
   {
    "duration": 0,
    "start_time": "2022-12-02T14:16:51.086Z"
   },
   {
    "duration": 0,
    "start_time": "2022-12-02T14:16:51.087Z"
   },
   {
    "duration": 0,
    "start_time": "2022-12-02T14:16:51.088Z"
   },
   {
    "duration": 0,
    "start_time": "2022-12-02T14:16:51.089Z"
   },
   {
    "duration": 0,
    "start_time": "2022-12-02T14:16:51.091Z"
   },
   {
    "duration": 0,
    "start_time": "2022-12-02T14:16:51.092Z"
   },
   {
    "duration": 0,
    "start_time": "2022-12-02T14:16:51.093Z"
   },
   {
    "duration": 0,
    "start_time": "2022-12-02T14:16:51.094Z"
   },
   {
    "duration": 0,
    "start_time": "2022-12-02T14:16:51.096Z"
   },
   {
    "duration": 0,
    "start_time": "2022-12-02T14:16:51.097Z"
   },
   {
    "duration": 0,
    "start_time": "2022-12-02T14:16:51.098Z"
   },
   {
    "duration": 0,
    "start_time": "2022-12-02T14:16:51.100Z"
   },
   {
    "duration": 0,
    "start_time": "2022-12-02T14:16:51.101Z"
   },
   {
    "duration": 0,
    "start_time": "2022-12-02T14:16:51.102Z"
   },
   {
    "duration": 0,
    "start_time": "2022-12-02T14:16:51.104Z"
   },
   {
    "duration": 0,
    "start_time": "2022-12-02T14:16:51.105Z"
   },
   {
    "duration": 0,
    "start_time": "2022-12-02T14:16:51.106Z"
   },
   {
    "duration": 0,
    "start_time": "2022-12-02T14:16:51.107Z"
   },
   {
    "duration": 0,
    "start_time": "2022-12-02T14:16:51.109Z"
   },
   {
    "duration": 0,
    "start_time": "2022-12-02T14:16:51.110Z"
   },
   {
    "duration": 0,
    "start_time": "2022-12-02T14:16:51.112Z"
   },
   {
    "duration": 0,
    "start_time": "2022-12-02T14:16:51.113Z"
   },
   {
    "duration": 17,
    "start_time": "2022-12-02T14:26:05.073Z"
   },
   {
    "duration": 6,
    "start_time": "2022-12-02T14:26:18.167Z"
   },
   {
    "duration": 3,
    "start_time": "2022-12-02T14:37:25.946Z"
   },
   {
    "duration": 56,
    "start_time": "2022-12-02T14:37:30.319Z"
   },
   {
    "duration": 34645,
    "start_time": "2022-12-02T14:38:07.284Z"
   },
   {
    "duration": 41,
    "start_time": "2022-12-02T14:38:59.113Z"
   },
   {
    "duration": 7,
    "start_time": "2022-12-02T14:39:45.981Z"
   },
   {
    "duration": 40,
    "start_time": "2022-12-02T14:39:59.301Z"
   },
   {
    "duration": 3329,
    "start_time": "2022-12-02T14:40:33.927Z"
   },
   {
    "duration": 3999,
    "start_time": "2022-12-02T14:41:05.616Z"
   },
   {
    "duration": 2701,
    "start_time": "2022-12-02T14:41:09.618Z"
   },
   {
    "duration": 292,
    "start_time": "2022-12-02T14:41:12.327Z"
   },
   {
    "duration": 17,
    "start_time": "2022-12-02T14:41:12.631Z"
   },
   {
    "duration": 112,
    "start_time": "2022-12-02T14:41:12.651Z"
   },
   {
    "duration": 22,
    "start_time": "2022-12-02T14:41:12.771Z"
   },
   {
    "duration": 71,
    "start_time": "2022-12-02T14:41:12.798Z"
   },
   {
    "duration": 71,
    "start_time": "2022-12-02T14:41:12.874Z"
   },
   {
    "duration": 19,
    "start_time": "2022-12-02T14:41:12.949Z"
   },
   {
    "duration": 168,
    "start_time": "2022-12-02T14:41:12.977Z"
   },
   {
    "duration": 49,
    "start_time": "2022-12-02T14:41:13.147Z"
   },
   {
    "duration": 59,
    "start_time": "2022-12-02T14:41:13.198Z"
   },
   {
    "duration": 95,
    "start_time": "2022-12-02T14:41:13.264Z"
   },
   {
    "duration": 69,
    "start_time": "2022-12-02T14:41:13.362Z"
   },
   {
    "duration": 96,
    "start_time": "2022-12-02T14:41:13.437Z"
   },
   {
    "duration": 83,
    "start_time": "2022-12-02T14:41:13.544Z"
   },
   {
    "duration": 86,
    "start_time": "2022-12-02T14:41:13.638Z"
   },
   {
    "duration": 48,
    "start_time": "2022-12-02T14:41:13.736Z"
   },
   {
    "duration": 84,
    "start_time": "2022-12-02T14:41:13.791Z"
   },
   {
    "duration": 79,
    "start_time": "2022-12-02T14:41:13.882Z"
   },
   {
    "duration": 82,
    "start_time": "2022-12-02T14:41:13.963Z"
   },
   {
    "duration": 90,
    "start_time": "2022-12-02T14:41:14.048Z"
   },
   {
    "duration": 91,
    "start_time": "2022-12-02T14:41:14.142Z"
   },
   {
    "duration": 97,
    "start_time": "2022-12-02T14:41:14.237Z"
   },
   {
    "duration": 76,
    "start_time": "2022-12-02T14:41:14.338Z"
   },
   {
    "duration": 199,
    "start_time": "2022-12-02T14:41:14.423Z"
   },
   {
    "duration": 110,
    "start_time": "2022-12-02T14:41:14.626Z"
   },
   {
    "duration": 130,
    "start_time": "2022-12-02T14:41:14.746Z"
   },
   {
    "duration": 91,
    "start_time": "2022-12-02T14:41:14.880Z"
   },
   {
    "duration": 315,
    "start_time": "2022-12-02T14:41:14.972Z"
   },
   {
    "duration": 0,
    "start_time": "2022-12-02T14:41:15.293Z"
   },
   {
    "duration": 0,
    "start_time": "2022-12-02T14:41:15.307Z"
   },
   {
    "duration": 0,
    "start_time": "2022-12-02T14:41:15.313Z"
   },
   {
    "duration": 0,
    "start_time": "2022-12-02T14:41:15.319Z"
   },
   {
    "duration": 0,
    "start_time": "2022-12-02T14:41:15.327Z"
   },
   {
    "duration": 0,
    "start_time": "2022-12-02T14:41:15.331Z"
   },
   {
    "duration": 0,
    "start_time": "2022-12-02T14:41:15.333Z"
   },
   {
    "duration": 0,
    "start_time": "2022-12-02T14:41:15.336Z"
   },
   {
    "duration": 0,
    "start_time": "2022-12-02T14:41:15.347Z"
   },
   {
    "duration": 0,
    "start_time": "2022-12-02T14:41:15.349Z"
   },
   {
    "duration": 0,
    "start_time": "2022-12-02T14:41:15.350Z"
   },
   {
    "duration": 0,
    "start_time": "2022-12-02T14:41:15.351Z"
   },
   {
    "duration": 0,
    "start_time": "2022-12-02T14:41:15.352Z"
   },
   {
    "duration": 0,
    "start_time": "2022-12-02T14:41:15.353Z"
   },
   {
    "duration": 0,
    "start_time": "2022-12-02T14:41:15.360Z"
   },
   {
    "duration": 0,
    "start_time": "2022-12-02T14:41:15.361Z"
   },
   {
    "duration": 0,
    "start_time": "2022-12-02T14:41:15.362Z"
   },
   {
    "duration": 0,
    "start_time": "2022-12-02T14:41:15.368Z"
   },
   {
    "duration": 0,
    "start_time": "2022-12-02T14:41:15.369Z"
   },
   {
    "duration": 0,
    "start_time": "2022-12-02T14:41:15.373Z"
   },
   {
    "duration": 0,
    "start_time": "2022-12-02T14:41:15.375Z"
   },
   {
    "duration": 0,
    "start_time": "2022-12-02T14:41:15.377Z"
   },
   {
    "duration": 0,
    "start_time": "2022-12-02T14:41:15.378Z"
   },
   {
    "duration": 0,
    "start_time": "2022-12-02T14:41:15.385Z"
   },
   {
    "duration": 0,
    "start_time": "2022-12-02T14:41:15.391Z"
   },
   {
    "duration": 0,
    "start_time": "2022-12-02T14:41:15.393Z"
   },
   {
    "duration": 0,
    "start_time": "2022-12-02T14:41:15.395Z"
   },
   {
    "duration": 0,
    "start_time": "2022-12-02T14:41:15.397Z"
   },
   {
    "duration": 0,
    "start_time": "2022-12-02T14:41:15.401Z"
   },
   {
    "duration": 0,
    "start_time": "2022-12-02T14:41:15.407Z"
   },
   {
    "duration": 25,
    "start_time": "2022-12-02T14:42:04.113Z"
   },
   {
    "duration": 3228,
    "start_time": "2022-12-02T14:43:12.841Z"
   },
   {
    "duration": 1364,
    "start_time": "2022-12-02T14:43:16.072Z"
   },
   {
    "duration": 94,
    "start_time": "2022-12-02T14:43:17.437Z"
   },
   {
    "duration": 9,
    "start_time": "2022-12-02T14:43:17.533Z"
   },
   {
    "duration": 44,
    "start_time": "2022-12-02T14:43:17.545Z"
   },
   {
    "duration": 39,
    "start_time": "2022-12-02T14:43:17.598Z"
   },
   {
    "duration": 28,
    "start_time": "2022-12-02T14:43:17.639Z"
   },
   {
    "duration": 32,
    "start_time": "2022-12-02T14:43:17.669Z"
   },
   {
    "duration": 33,
    "start_time": "2022-12-02T14:43:17.703Z"
   },
   {
    "duration": 15,
    "start_time": "2022-12-02T14:43:17.739Z"
   },
   {
    "duration": 32,
    "start_time": "2022-12-02T14:43:17.758Z"
   },
   {
    "duration": 38,
    "start_time": "2022-12-02T14:43:17.792Z"
   },
   {
    "duration": 10,
    "start_time": "2022-12-02T14:43:17.834Z"
   },
   {
    "duration": 15,
    "start_time": "2022-12-02T14:43:17.847Z"
   },
   {
    "duration": 62,
    "start_time": "2022-12-02T14:43:17.864Z"
   },
   {
    "duration": 15,
    "start_time": "2022-12-02T14:43:17.928Z"
   },
   {
    "duration": 60,
    "start_time": "2022-12-02T14:43:17.946Z"
   },
   {
    "duration": 24,
    "start_time": "2022-12-02T14:43:18.007Z"
   },
   {
    "duration": 4,
    "start_time": "2022-12-02T14:43:18.033Z"
   },
   {
    "duration": 19,
    "start_time": "2022-12-02T14:43:18.039Z"
   },
   {
    "duration": 75,
    "start_time": "2022-12-02T14:43:18.060Z"
   },
   {
    "duration": 25,
    "start_time": "2022-12-02T14:43:18.138Z"
   },
   {
    "duration": 49,
    "start_time": "2022-12-02T14:43:18.166Z"
   },
   {
    "duration": 31,
    "start_time": "2022-12-02T14:43:18.218Z"
   },
   {
    "duration": 73,
    "start_time": "2022-12-02T14:43:18.251Z"
   },
   {
    "duration": 91,
    "start_time": "2022-12-02T14:43:18.328Z"
   },
   {
    "duration": 22,
    "start_time": "2022-12-02T14:43:18.424Z"
   },
   {
    "duration": 80,
    "start_time": "2022-12-02T14:43:18.448Z"
   },
   {
    "duration": 209,
    "start_time": "2022-12-02T14:43:18.530Z"
   },
   {
    "duration": 0,
    "start_time": "2022-12-02T14:43:18.742Z"
   },
   {
    "duration": 0,
    "start_time": "2022-12-02T14:43:18.744Z"
   },
   {
    "duration": 0,
    "start_time": "2022-12-02T14:43:18.760Z"
   },
   {
    "duration": 0,
    "start_time": "2022-12-02T14:43:18.761Z"
   },
   {
    "duration": 0,
    "start_time": "2022-12-02T14:43:18.763Z"
   },
   {
    "duration": 0,
    "start_time": "2022-12-02T14:43:18.765Z"
   },
   {
    "duration": 0,
    "start_time": "2022-12-02T14:43:18.766Z"
   },
   {
    "duration": 0,
    "start_time": "2022-12-02T14:43:18.768Z"
   },
   {
    "duration": 0,
    "start_time": "2022-12-02T14:43:18.769Z"
   },
   {
    "duration": 0,
    "start_time": "2022-12-02T14:43:18.771Z"
   },
   {
    "duration": 0,
    "start_time": "2022-12-02T14:43:18.773Z"
   },
   {
    "duration": 0,
    "start_time": "2022-12-02T14:43:18.774Z"
   },
   {
    "duration": 0,
    "start_time": "2022-12-02T14:43:18.780Z"
   },
   {
    "duration": 0,
    "start_time": "2022-12-02T14:43:18.780Z"
   },
   {
    "duration": 0,
    "start_time": "2022-12-02T14:43:18.781Z"
   },
   {
    "duration": 0,
    "start_time": "2022-12-02T14:43:18.786Z"
   },
   {
    "duration": 0,
    "start_time": "2022-12-02T14:43:18.787Z"
   },
   {
    "duration": 0,
    "start_time": "2022-12-02T14:43:18.788Z"
   },
   {
    "duration": 0,
    "start_time": "2022-12-02T14:43:18.791Z"
   },
   {
    "duration": 0,
    "start_time": "2022-12-02T14:43:18.793Z"
   },
   {
    "duration": 0,
    "start_time": "2022-12-02T14:43:18.795Z"
   },
   {
    "duration": 0,
    "start_time": "2022-12-02T14:43:18.796Z"
   },
   {
    "duration": 0,
    "start_time": "2022-12-02T14:43:18.797Z"
   },
   {
    "duration": 0,
    "start_time": "2022-12-02T14:43:18.799Z"
   },
   {
    "duration": 0,
    "start_time": "2022-12-02T14:43:18.800Z"
   },
   {
    "duration": 0,
    "start_time": "2022-12-02T14:43:18.801Z"
   },
   {
    "duration": 0,
    "start_time": "2022-12-02T14:43:18.805Z"
   },
   {
    "duration": 0,
    "start_time": "2022-12-02T14:43:18.806Z"
   },
   {
    "duration": 0,
    "start_time": "2022-12-02T14:43:18.808Z"
   },
   {
    "duration": 0,
    "start_time": "2022-12-02T14:43:18.809Z"
   },
   {
    "duration": 1294,
    "start_time": "2022-12-02T14:43:55.849Z"
   },
   {
    "duration": 79,
    "start_time": "2022-12-02T14:43:57.145Z"
   },
   {
    "duration": 9,
    "start_time": "2022-12-02T14:43:57.225Z"
   },
   {
    "duration": 31,
    "start_time": "2022-12-02T14:43:57.237Z"
   },
   {
    "duration": 36,
    "start_time": "2022-12-02T14:43:57.272Z"
   },
   {
    "duration": 32,
    "start_time": "2022-12-02T14:43:57.310Z"
   },
   {
    "duration": 29,
    "start_time": "2022-12-02T14:43:57.344Z"
   },
   {
    "duration": 60,
    "start_time": "2022-12-02T14:43:57.374Z"
   },
   {
    "duration": 10,
    "start_time": "2022-12-02T14:43:57.436Z"
   },
   {
    "duration": 54,
    "start_time": "2022-12-02T14:43:57.448Z"
   },
   {
    "duration": 31,
    "start_time": "2022-12-02T14:43:57.505Z"
   },
   {
    "duration": 10,
    "start_time": "2022-12-02T14:43:57.538Z"
   },
   {
    "duration": 65,
    "start_time": "2022-12-02T14:43:57.549Z"
   },
   {
    "duration": 4,
    "start_time": "2022-12-02T14:43:57.627Z"
   },
   {
    "duration": 16,
    "start_time": "2022-12-02T14:43:57.632Z"
   },
   {
    "duration": 73,
    "start_time": "2022-12-02T14:43:57.649Z"
   },
   {
    "duration": 8,
    "start_time": "2022-12-02T14:43:57.724Z"
   },
   {
    "duration": 7,
    "start_time": "2022-12-02T14:43:57.734Z"
   },
   {
    "duration": 15,
    "start_time": "2022-12-02T14:43:57.743Z"
   },
   {
    "duration": 64,
    "start_time": "2022-12-02T14:43:57.759Z"
   },
   {
    "duration": 8,
    "start_time": "2022-12-02T14:43:57.825Z"
   },
   {
    "duration": 6,
    "start_time": "2022-12-02T14:43:57.835Z"
   },
   {
    "duration": 6,
    "start_time": "2022-12-02T14:43:57.843Z"
   },
   {
    "duration": 80,
    "start_time": "2022-12-02T14:43:57.851Z"
   },
   {
    "duration": 15,
    "start_time": "2022-12-02T14:43:57.932Z"
   },
   {
    "duration": 4,
    "start_time": "2022-12-02T14:43:57.949Z"
   },
   {
    "duration": 75,
    "start_time": "2022-12-02T14:43:57.954Z"
   },
   {
    "duration": 146,
    "start_time": "2022-12-02T14:43:58.031Z"
   },
   {
    "duration": 0,
    "start_time": "2022-12-02T14:43:58.180Z"
   },
   {
    "duration": 0,
    "start_time": "2022-12-02T14:43:58.183Z"
   },
   {
    "duration": 0,
    "start_time": "2022-12-02T14:43:58.184Z"
   },
   {
    "duration": 0,
    "start_time": "2022-12-02T14:43:58.185Z"
   },
   {
    "duration": 0,
    "start_time": "2022-12-02T14:43:58.187Z"
   },
   {
    "duration": 0,
    "start_time": "2022-12-02T14:43:58.188Z"
   },
   {
    "duration": 0,
    "start_time": "2022-12-02T14:43:58.189Z"
   },
   {
    "duration": 0,
    "start_time": "2022-12-02T14:43:58.190Z"
   },
   {
    "duration": 0,
    "start_time": "2022-12-02T14:43:58.191Z"
   },
   {
    "duration": 0,
    "start_time": "2022-12-02T14:43:58.192Z"
   },
   {
    "duration": 0,
    "start_time": "2022-12-02T14:43:58.193Z"
   },
   {
    "duration": 0,
    "start_time": "2022-12-02T14:43:58.194Z"
   },
   {
    "duration": 0,
    "start_time": "2022-12-02T14:43:58.196Z"
   },
   {
    "duration": 0,
    "start_time": "2022-12-02T14:43:58.197Z"
   },
   {
    "duration": 0,
    "start_time": "2022-12-02T14:43:58.198Z"
   },
   {
    "duration": 0,
    "start_time": "2022-12-02T14:43:58.200Z"
   },
   {
    "duration": 0,
    "start_time": "2022-12-02T14:43:58.201Z"
   },
   {
    "duration": 0,
    "start_time": "2022-12-02T14:43:58.202Z"
   },
   {
    "duration": 0,
    "start_time": "2022-12-02T14:43:58.203Z"
   },
   {
    "duration": 0,
    "start_time": "2022-12-02T14:43:58.204Z"
   },
   {
    "duration": 0,
    "start_time": "2022-12-02T14:43:58.206Z"
   },
   {
    "duration": 0,
    "start_time": "2022-12-02T14:43:58.207Z"
   },
   {
    "duration": 0,
    "start_time": "2022-12-02T14:43:58.208Z"
   },
   {
    "duration": 0,
    "start_time": "2022-12-02T14:43:58.210Z"
   },
   {
    "duration": 0,
    "start_time": "2022-12-02T14:43:58.211Z"
   },
   {
    "duration": 0,
    "start_time": "2022-12-02T14:43:58.212Z"
   },
   {
    "duration": 0,
    "start_time": "2022-12-02T14:43:58.213Z"
   },
   {
    "duration": 0,
    "start_time": "2022-12-02T14:43:58.214Z"
   },
   {
    "duration": 0,
    "start_time": "2022-12-02T14:43:58.217Z"
   },
   {
    "duration": 0,
    "start_time": "2022-12-02T14:43:58.218Z"
   },
   {
    "duration": 125,
    "start_time": "2022-12-02T14:46:00.851Z"
   },
   {
    "duration": 0,
    "start_time": "2022-12-02T14:46:00.979Z"
   },
   {
    "duration": 0,
    "start_time": "2022-12-02T14:46:00.981Z"
   },
   {
    "duration": 0,
    "start_time": "2022-12-02T14:46:00.983Z"
   },
   {
    "duration": 0,
    "start_time": "2022-12-02T14:46:00.984Z"
   },
   {
    "duration": 0,
    "start_time": "2022-12-02T14:46:00.986Z"
   },
   {
    "duration": 0,
    "start_time": "2022-12-02T14:46:00.987Z"
   },
   {
    "duration": 1,
    "start_time": "2022-12-02T14:46:00.997Z"
   },
   {
    "duration": 0,
    "start_time": "2022-12-02T14:46:00.999Z"
   },
   {
    "duration": 0,
    "start_time": "2022-12-02T14:46:01.000Z"
   },
   {
    "duration": 0,
    "start_time": "2022-12-02T14:46:01.003Z"
   },
   {
    "duration": 0,
    "start_time": "2022-12-02T14:46:01.008Z"
   },
   {
    "duration": 0,
    "start_time": "2022-12-02T14:46:01.009Z"
   },
   {
    "duration": 0,
    "start_time": "2022-12-02T14:46:01.009Z"
   },
   {
    "duration": 0,
    "start_time": "2022-12-02T14:46:01.010Z"
   },
   {
    "duration": 0,
    "start_time": "2022-12-02T14:46:01.015Z"
   },
   {
    "duration": 0,
    "start_time": "2022-12-02T14:46:01.016Z"
   },
   {
    "duration": 0,
    "start_time": "2022-12-02T14:46:01.022Z"
   },
   {
    "duration": 0,
    "start_time": "2022-12-02T14:46:01.023Z"
   },
   {
    "duration": 0,
    "start_time": "2022-12-02T14:46:01.024Z"
   },
   {
    "duration": 0,
    "start_time": "2022-12-02T14:46:01.025Z"
   },
   {
    "duration": 0,
    "start_time": "2022-12-02T14:46:01.026Z"
   },
   {
    "duration": 16,
    "start_time": "2022-12-02T14:46:01.052Z"
   },
   {
    "duration": 0,
    "start_time": "2022-12-02T14:46:01.070Z"
   },
   {
    "duration": 0,
    "start_time": "2022-12-02T14:46:01.075Z"
   },
   {
    "duration": 0,
    "start_time": "2022-12-02T14:46:01.076Z"
   },
   {
    "duration": 0,
    "start_time": "2022-12-02T14:46:01.077Z"
   },
   {
    "duration": 0,
    "start_time": "2022-12-02T14:46:01.078Z"
   },
   {
    "duration": 0,
    "start_time": "2022-12-02T14:46:01.079Z"
   },
   {
    "duration": 0,
    "start_time": "2022-12-02T14:46:01.080Z"
   },
   {
    "duration": 0,
    "start_time": "2022-12-02T14:46:01.081Z"
   },
   {
    "duration": 0,
    "start_time": "2022-12-02T14:46:01.085Z"
   },
   {
    "duration": 0,
    "start_time": "2022-12-02T14:46:01.086Z"
   },
   {
    "duration": 0,
    "start_time": "2022-12-02T14:46:01.092Z"
   },
   {
    "duration": 116,
    "start_time": "2022-12-02T14:46:01.095Z"
   },
   {
    "duration": 0,
    "start_time": "2022-12-02T14:46:01.214Z"
   },
   {
    "duration": 0,
    "start_time": "2022-12-02T14:46:01.216Z"
   },
   {
    "duration": 0,
    "start_time": "2022-12-02T14:46:01.217Z"
   },
   {
    "duration": 0,
    "start_time": "2022-12-02T14:46:01.219Z"
   },
   {
    "duration": 0,
    "start_time": "2022-12-02T14:46:01.220Z"
   },
   {
    "duration": 0,
    "start_time": "2022-12-02T14:46:01.221Z"
   },
   {
    "duration": 0,
    "start_time": "2022-12-02T14:46:01.227Z"
   },
   {
    "duration": 0,
    "start_time": "2022-12-02T14:46:01.229Z"
   },
   {
    "duration": 1,
    "start_time": "2022-12-02T14:46:01.230Z"
   },
   {
    "duration": 0,
    "start_time": "2022-12-02T14:46:01.232Z"
   },
   {
    "duration": 0,
    "start_time": "2022-12-02T14:46:01.234Z"
   },
   {
    "duration": 0,
    "start_time": "2022-12-02T14:46:01.235Z"
   },
   {
    "duration": 0,
    "start_time": "2022-12-02T14:46:01.237Z"
   },
   {
    "duration": 0,
    "start_time": "2022-12-02T14:46:01.238Z"
   },
   {
    "duration": 0,
    "start_time": "2022-12-02T14:46:01.240Z"
   },
   {
    "duration": 0,
    "start_time": "2022-12-02T14:46:01.241Z"
   },
   {
    "duration": 0,
    "start_time": "2022-12-02T14:46:01.242Z"
   },
   {
    "duration": 0,
    "start_time": "2022-12-02T14:46:01.249Z"
   },
   {
    "duration": 0,
    "start_time": "2022-12-02T14:46:01.250Z"
   },
   {
    "duration": 0,
    "start_time": "2022-12-02T14:46:01.253Z"
   },
   {
    "duration": 0,
    "start_time": "2022-12-02T14:46:01.255Z"
   },
   {
    "duration": 176,
    "start_time": "2022-12-02T14:46:01.258Z"
   },
   {
    "duration": 0,
    "start_time": "2022-12-02T14:46:01.436Z"
   },
   {
    "duration": 1396,
    "start_time": "2022-12-02T14:46:38.922Z"
   },
   {
    "duration": 88,
    "start_time": "2022-12-02T14:46:40.333Z"
   },
   {
    "duration": 17,
    "start_time": "2022-12-02T14:46:40.424Z"
   },
   {
    "duration": 89,
    "start_time": "2022-12-02T14:46:40.444Z"
   },
   {
    "duration": 23,
    "start_time": "2022-12-02T14:46:40.536Z"
   },
   {
    "duration": 123,
    "start_time": "2022-12-02T14:46:40.560Z"
   },
   {
    "duration": 25,
    "start_time": "2022-12-02T14:46:40.694Z"
   },
   {
    "duration": 80,
    "start_time": "2022-12-02T14:46:40.725Z"
   },
   {
    "duration": 45,
    "start_time": "2022-12-02T14:46:40.815Z"
   },
   {
    "duration": 62,
    "start_time": "2022-12-02T14:46:40.871Z"
   },
   {
    "duration": 12,
    "start_time": "2022-12-02T14:46:40.936Z"
   },
   {
    "duration": 66,
    "start_time": "2022-12-02T14:46:40.955Z"
   },
   {
    "duration": 24,
    "start_time": "2022-12-02T14:46:41.023Z"
   },
   {
    "duration": 50,
    "start_time": "2022-12-02T14:46:41.051Z"
   },
   {
    "duration": 36,
    "start_time": "2022-12-02T14:46:41.106Z"
   },
   {
    "duration": 69,
    "start_time": "2022-12-02T14:46:41.144Z"
   },
   {
    "duration": 79,
    "start_time": "2022-12-02T14:46:41.217Z"
   },
   {
    "duration": 23,
    "start_time": "2022-12-02T14:46:41.298Z"
   },
   {
    "duration": 10,
    "start_time": "2022-12-02T14:46:41.323Z"
   },
   {
    "duration": 7,
    "start_time": "2022-12-02T14:46:41.335Z"
   },
   {
    "duration": 64,
    "start_time": "2022-12-02T14:46:41.344Z"
   },
   {
    "duration": 13,
    "start_time": "2022-12-02T14:46:41.410Z"
   },
   {
    "duration": 6,
    "start_time": "2022-12-02T14:46:41.426Z"
   },
   {
    "duration": 5,
    "start_time": "2022-12-02T14:46:41.434Z"
   },
   {
    "duration": 40,
    "start_time": "2022-12-02T14:46:41.442Z"
   },
   {
    "duration": 174,
    "start_time": "2022-12-02T14:46:41.483Z"
   },
   {
    "duration": 0,
    "start_time": "2022-12-02T14:46:41.665Z"
   },
   {
    "duration": 0,
    "start_time": "2022-12-02T14:46:41.666Z"
   },
   {
    "duration": 0,
    "start_time": "2022-12-02T14:46:41.667Z"
   },
   {
    "duration": 0,
    "start_time": "2022-12-02T14:46:41.668Z"
   },
   {
    "duration": 0,
    "start_time": "2022-12-02T14:46:41.668Z"
   },
   {
    "duration": 0,
    "start_time": "2022-12-02T14:46:41.670Z"
   },
   {
    "duration": 1,
    "start_time": "2022-12-02T14:46:41.673Z"
   },
   {
    "duration": 0,
    "start_time": "2022-12-02T14:46:41.674Z"
   },
   {
    "duration": 0,
    "start_time": "2022-12-02T14:46:41.675Z"
   },
   {
    "duration": 0,
    "start_time": "2022-12-02T14:46:41.677Z"
   },
   {
    "duration": 0,
    "start_time": "2022-12-02T14:46:41.679Z"
   },
   {
    "duration": 0,
    "start_time": "2022-12-02T14:46:41.680Z"
   },
   {
    "duration": 0,
    "start_time": "2022-12-02T14:46:41.681Z"
   },
   {
    "duration": 0,
    "start_time": "2022-12-02T14:46:41.682Z"
   },
   {
    "duration": 0,
    "start_time": "2022-12-02T14:46:41.683Z"
   },
   {
    "duration": 0,
    "start_time": "2022-12-02T14:46:41.685Z"
   },
   {
    "duration": 0,
    "start_time": "2022-12-02T14:46:41.687Z"
   },
   {
    "duration": 0,
    "start_time": "2022-12-02T14:46:41.688Z"
   },
   {
    "duration": 0,
    "start_time": "2022-12-02T14:46:41.690Z"
   },
   {
    "duration": 0,
    "start_time": "2022-12-02T14:46:41.692Z"
   },
   {
    "duration": 0,
    "start_time": "2022-12-02T14:46:41.693Z"
   },
   {
    "duration": 0,
    "start_time": "2022-12-02T14:46:41.696Z"
   },
   {
    "duration": 0,
    "start_time": "2022-12-02T14:46:41.697Z"
   },
   {
    "duration": 0,
    "start_time": "2022-12-02T14:46:41.698Z"
   },
   {
    "duration": 0,
    "start_time": "2022-12-02T14:46:41.700Z"
   },
   {
    "duration": 0,
    "start_time": "2022-12-02T14:46:41.701Z"
   },
   {
    "duration": 0,
    "start_time": "2022-12-02T14:46:41.703Z"
   },
   {
    "duration": 0,
    "start_time": "2022-12-02T14:46:41.704Z"
   },
   {
    "duration": 0,
    "start_time": "2022-12-02T14:46:41.715Z"
   },
   {
    "duration": 0,
    "start_time": "2022-12-02T14:46:41.717Z"
   },
   {
    "duration": 0,
    "start_time": "2022-12-02T14:46:41.719Z"
   },
   {
    "duration": 0,
    "start_time": "2022-12-02T14:46:41.721Z"
   },
   {
    "duration": 0,
    "start_time": "2022-12-02T14:46:41.723Z"
   },
   {
    "duration": 1088,
    "start_time": "2022-12-02T15:06:34.986Z"
   },
   {
    "duration": 91,
    "start_time": "2022-12-02T15:06:36.075Z"
   },
   {
    "duration": 9,
    "start_time": "2022-12-02T15:06:36.509Z"
   },
   {
    "duration": 17,
    "start_time": "2022-12-02T15:06:36.930Z"
   },
   {
    "duration": 7,
    "start_time": "2022-12-02T15:06:37.492Z"
   },
   {
    "duration": 13,
    "start_time": "2022-12-02T15:06:37.988Z"
   },
   {
    "duration": 12,
    "start_time": "2022-12-02T15:06:39.562Z"
   },
   {
    "duration": 5,
    "start_time": "2022-12-02T15:06:40.505Z"
   },
   {
    "duration": 8,
    "start_time": "2022-12-02T15:06:41.028Z"
   },
   {
    "duration": 13,
    "start_time": "2022-12-02T15:06:42.664Z"
   },
   {
    "duration": 7,
    "start_time": "2022-12-02T15:06:43.288Z"
   },
   {
    "duration": 7,
    "start_time": "2022-12-02T15:06:43.799Z"
   },
   {
    "duration": 4,
    "start_time": "2022-12-02T15:06:44.382Z"
   },
   {
    "duration": 2,
    "start_time": "2022-12-02T15:06:49.207Z"
   },
   {
    "duration": 13,
    "start_time": "2022-12-02T15:06:50.277Z"
   },
   {
    "duration": 111,
    "start_time": "2022-12-02T15:07:18.117Z"
   },
   {
    "duration": 12,
    "start_time": "2022-12-02T15:07:23.651Z"
   },
   {
    "duration": 3,
    "start_time": "2022-12-02T15:07:25.073Z"
   },
   {
    "duration": 8,
    "start_time": "2022-12-02T15:07:25.545Z"
   },
   {
    "duration": 3,
    "start_time": "2022-12-02T15:07:26.042Z"
   },
   {
    "duration": 7,
    "start_time": "2022-12-02T15:07:26.426Z"
   },
   {
    "duration": 4,
    "start_time": "2022-12-02T15:07:26.992Z"
   },
   {
    "duration": 4,
    "start_time": "2022-12-02T15:07:27.477Z"
   },
   {
    "duration": 5,
    "start_time": "2022-12-02T15:07:27.937Z"
   },
   {
    "duration": 2,
    "start_time": "2022-12-02T15:07:29.200Z"
   },
   {
    "duration": 3,
    "start_time": "2022-12-02T15:07:29.743Z"
   },
   {
    "duration": 3,
    "start_time": "2022-12-02T15:07:44.424Z"
   },
   {
    "duration": 57,
    "start_time": "2022-12-02T15:09:18.135Z"
   },
   {
    "duration": 15,
    "start_time": "2022-12-02T15:10:03.614Z"
   },
   {
    "duration": 3,
    "start_time": "2022-12-02T15:10:17.465Z"
   },
   {
    "duration": 13,
    "start_time": "2022-12-02T15:10:18.406Z"
   },
   {
    "duration": 8,
    "start_time": "2022-12-02T15:25:21.305Z"
   },
   {
    "duration": 8,
    "start_time": "2022-12-02T15:26:02.160Z"
   },
   {
    "duration": 3,
    "start_time": "2022-12-02T15:27:06.114Z"
   },
   {
    "duration": 10,
    "start_time": "2022-12-02T15:27:07.431Z"
   },
   {
    "duration": 4,
    "start_time": "2022-12-02T15:27:19.076Z"
   },
   {
    "duration": 7,
    "start_time": "2022-12-02T15:27:20.157Z"
   },
   {
    "duration": 8,
    "start_time": "2022-12-02T15:27:21.817Z"
   },
   {
    "duration": 7,
    "start_time": "2022-12-02T15:27:22.303Z"
   },
   {
    "duration": 2,
    "start_time": "2022-12-02T15:27:27.119Z"
   },
   {
    "duration": 3,
    "start_time": "2022-12-02T15:27:27.688Z"
   },
   {
    "duration": 14,
    "start_time": "2022-12-02T15:27:31.659Z"
   },
   {
    "duration": 9,
    "start_time": "2022-12-02T15:28:17.231Z"
   },
   {
    "duration": 13,
    "start_time": "2022-12-02T15:33:10.782Z"
   },
   {
    "duration": 12,
    "start_time": "2022-12-02T15:33:57.919Z"
   },
   {
    "duration": 12,
    "start_time": "2022-12-02T15:34:12.502Z"
   },
   {
    "duration": 13,
    "start_time": "2022-12-02T15:34:27.562Z"
   },
   {
    "duration": 8,
    "start_time": "2022-12-02T15:34:45.112Z"
   },
   {
    "duration": 8,
    "start_time": "2022-12-02T15:34:54.946Z"
   },
   {
    "duration": 9,
    "start_time": "2022-12-02T15:35:44.061Z"
   },
   {
    "duration": 8,
    "start_time": "2022-12-02T15:35:50.530Z"
   },
   {
    "duration": 20,
    "start_time": "2022-12-02T16:03:12.877Z"
   },
   {
    "duration": 8,
    "start_time": "2022-12-02T16:04:01.954Z"
   },
   {
    "duration": 8,
    "start_time": "2022-12-02T16:04:03.804Z"
   },
   {
    "duration": 9,
    "start_time": "2022-12-02T16:04:07.230Z"
   },
   {
    "duration": 9,
    "start_time": "2022-12-02T16:04:07.682Z"
   },
   {
    "duration": 3,
    "start_time": "2022-12-02T16:04:25.009Z"
   },
   {
    "duration": 2,
    "start_time": "2022-12-02T16:04:25.417Z"
   },
   {
    "duration": 64,
    "start_time": "2022-12-02T16:04:26.549Z"
   },
   {
    "duration": 9,
    "start_time": "2022-12-02T16:04:27.195Z"
   },
   {
    "duration": 47,
    "start_time": "2022-12-02T16:04:29.332Z"
   },
   {
    "duration": 14,
    "start_time": "2022-12-02T16:04:54.582Z"
   },
   {
    "duration": 14,
    "start_time": "2022-12-02T16:24:19.724Z"
   },
   {
    "duration": 8,
    "start_time": "2022-12-02T16:24:21.037Z"
   },
   {
    "duration": 7,
    "start_time": "2022-12-02T16:25:10.788Z"
   },
   {
    "duration": 8,
    "start_time": "2022-12-02T16:32:57.621Z"
   },
   {
    "duration": 8,
    "start_time": "2022-12-02T16:33:14.196Z"
   },
   {
    "duration": 9,
    "start_time": "2022-12-02T16:33:22.800Z"
   },
   {
    "duration": 9,
    "start_time": "2022-12-02T16:33:31.881Z"
   },
   {
    "duration": 1163,
    "start_time": "2022-12-02T19:16:29.763Z"
   },
   {
    "duration": 97,
    "start_time": "2022-12-02T19:16:30.928Z"
   },
   {
    "duration": 10,
    "start_time": "2022-12-02T19:16:31.312Z"
   },
   {
    "duration": 19,
    "start_time": "2022-12-02T19:16:32.024Z"
   },
   {
    "duration": 9,
    "start_time": "2022-12-02T19:16:32.646Z"
   },
   {
    "duration": 15,
    "start_time": "2022-12-02T19:16:33.393Z"
   },
   {
    "duration": 13,
    "start_time": "2022-12-02T19:16:35.496Z"
   },
   {
    "duration": 6,
    "start_time": "2022-12-02T19:16:36.728Z"
   },
   {
    "duration": 9,
    "start_time": "2022-12-02T19:16:37.247Z"
   },
   {
    "duration": 15,
    "start_time": "2022-12-02T19:16:39.077Z"
   },
   {
    "duration": 6,
    "start_time": "2022-12-02T19:16:39.860Z"
   },
   {
    "duration": 6,
    "start_time": "2022-12-02T19:16:40.603Z"
   },
   {
    "duration": 5,
    "start_time": "2022-12-02T19:16:41.162Z"
   },
   {
    "duration": 2,
    "start_time": "2022-12-02T19:16:47.874Z"
   },
   {
    "duration": 12,
    "start_time": "2022-12-02T19:16:49.868Z"
   },
   {
    "duration": 3,
    "start_time": "2022-12-02T19:16:52.100Z"
   },
   {
    "duration": 6,
    "start_time": "2022-12-02T19:16:52.805Z"
   },
   {
    "duration": 3,
    "start_time": "2022-12-02T19:16:53.412Z"
   },
   {
    "duration": 6,
    "start_time": "2022-12-02T19:16:54.048Z"
   },
   {
    "duration": 5,
    "start_time": "2022-12-02T19:16:54.597Z"
   },
   {
    "duration": 4,
    "start_time": "2022-12-02T19:16:55.230Z"
   },
   {
    "duration": 5,
    "start_time": "2022-12-02T19:16:55.758Z"
   },
   {
    "duration": 2,
    "start_time": "2022-12-02T19:16:57.202Z"
   },
   {
    "duration": 3,
    "start_time": "2022-12-02T19:16:57.938Z"
   },
   {
    "duration": 8,
    "start_time": "2022-12-02T19:16:59.167Z"
   },
   {
    "duration": 11,
    "start_time": "2022-12-02T19:17:00.007Z"
   },
   {
    "duration": 109,
    "start_time": "2022-12-02T19:17:28.286Z"
   },
   {
    "duration": 8,
    "start_time": "2022-12-02T19:20:34.863Z"
   },
   {
    "duration": 10,
    "start_time": "2022-12-02T19:20:35.491Z"
   },
   {
    "duration": 8,
    "start_time": "2022-12-02T19:20:37.415Z"
   },
   {
    "duration": 9,
    "start_time": "2022-12-02T19:20:38.061Z"
   },
   {
    "duration": 9,
    "start_time": "2022-12-02T19:20:38.560Z"
   },
   {
    "duration": 3,
    "start_time": "2022-12-02T19:20:40.157Z"
   },
   {
    "duration": 3,
    "start_time": "2022-12-02T19:20:40.700Z"
   },
   {
    "duration": 3,
    "start_time": "2022-12-02T19:21:32.852Z"
   },
   {
    "duration": 16,
    "start_time": "2022-12-02T19:21:34.580Z"
   },
   {
    "duration": 2,
    "start_time": "2022-12-02T19:21:57.009Z"
   },
   {
    "duration": 13,
    "start_time": "2022-12-02T19:21:58.844Z"
   },
   {
    "duration": 12,
    "start_time": "2022-12-02T19:23:35.828Z"
   },
   {
    "duration": 3,
    "start_time": "2022-12-02T19:23:37.406Z"
   },
   {
    "duration": 6,
    "start_time": "2022-12-02T19:23:37.932Z"
   },
   {
    "duration": 3,
    "start_time": "2022-12-02T19:23:38.458Z"
   },
   {
    "duration": 6,
    "start_time": "2022-12-02T19:23:38.928Z"
   },
   {
    "duration": 4,
    "start_time": "2022-12-02T19:23:39.404Z"
   },
   {
    "duration": 4,
    "start_time": "2022-12-02T19:23:40.040Z"
   },
   {
    "duration": 4,
    "start_time": "2022-12-02T19:23:40.553Z"
   },
   {
    "duration": 3,
    "start_time": "2022-12-02T19:23:41.536Z"
   },
   {
    "duration": 3,
    "start_time": "2022-12-02T19:23:42.031Z"
   },
   {
    "duration": 7,
    "start_time": "2022-12-02T19:23:43.404Z"
   },
   {
    "duration": 7,
    "start_time": "2022-12-02T19:23:45.374Z"
   },
   {
    "duration": 9,
    "start_time": "2022-12-02T19:23:46.178Z"
   },
   {
    "duration": 4,
    "start_time": "2022-12-02T19:26:35.183Z"
   },
   {
    "duration": 15,
    "start_time": "2022-12-02T19:26:36.986Z"
   },
   {
    "duration": 13,
    "start_time": "2022-12-02T19:27:25.997Z"
   },
   {
    "duration": 15,
    "start_time": "2022-12-02T19:30:31.051Z"
   },
   {
    "duration": 7,
    "start_time": "2022-12-02T19:31:10.580Z"
   },
   {
    "duration": 9,
    "start_time": "2022-12-02T19:33:08.954Z"
   },
   {
    "duration": 6,
    "start_time": "2022-12-02T19:51:08.101Z"
   },
   {
    "duration": 11,
    "start_time": "2022-12-02T19:51:08.574Z"
   },
   {
    "duration": 7,
    "start_time": "2022-12-02T19:51:32.655Z"
   },
   {
    "duration": 8,
    "start_time": "2022-12-02T19:52:27.014Z"
   },
   {
    "duration": 7,
    "start_time": "2022-12-02T20:00:06.087Z"
   },
   {
    "duration": 40,
    "start_time": "2022-12-02T20:00:07.286Z"
   },
   {
    "duration": 4,
    "start_time": "2022-12-02T20:00:07.682Z"
   },
   {
    "duration": 15,
    "start_time": "2022-12-02T20:00:08.152Z"
   },
   {
    "duration": 7,
    "start_time": "2022-12-02T20:00:08.584Z"
   },
   {
    "duration": 12,
    "start_time": "2022-12-02T20:00:09.000Z"
   },
   {
    "duration": 11,
    "start_time": "2022-12-02T20:00:10.361Z"
   },
   {
    "duration": 5,
    "start_time": "2022-12-02T20:00:11.266Z"
   },
   {
    "duration": 8,
    "start_time": "2022-12-02T20:00:11.800Z"
   },
   {
    "duration": 14,
    "start_time": "2022-12-02T20:00:13.112Z"
   },
   {
    "duration": 6,
    "start_time": "2022-12-02T20:00:13.529Z"
   },
   {
    "duration": 6,
    "start_time": "2022-12-02T20:00:14.035Z"
   },
   {
    "duration": 4,
    "start_time": "2022-12-02T20:00:14.540Z"
   },
   {
    "duration": 2,
    "start_time": "2022-12-02T20:00:19.523Z"
   },
   {
    "duration": 12,
    "start_time": "2022-12-02T20:00:20.484Z"
   },
   {
    "duration": 3,
    "start_time": "2022-12-02T20:00:22.275Z"
   },
   {
    "duration": 7,
    "start_time": "2022-12-02T20:00:22.836Z"
   },
   {
    "duration": 2,
    "start_time": "2022-12-02T20:00:23.450Z"
   },
   {
    "duration": 6,
    "start_time": "2022-12-02T20:00:24.065Z"
   },
   {
    "duration": 5,
    "start_time": "2022-12-02T20:00:25.153Z"
   },
   {
    "duration": 5,
    "start_time": "2022-12-02T20:00:25.698Z"
   },
   {
    "duration": 6,
    "start_time": "2022-12-02T20:00:26.199Z"
   },
   {
    "duration": 2,
    "start_time": "2022-12-02T20:00:27.211Z"
   },
   {
    "duration": 3,
    "start_time": "2022-12-02T20:00:27.802Z"
   },
   {
    "duration": 6,
    "start_time": "2022-12-02T20:00:28.833Z"
   },
   {
    "duration": 13,
    "start_time": "2022-12-02T20:00:40.681Z"
   },
   {
    "duration": 14,
    "start_time": "2022-12-02T20:01:27.006Z"
   },
   {
    "duration": 8,
    "start_time": "2022-12-02T20:01:32.953Z"
   },
   {
    "duration": 9,
    "start_time": "2022-12-02T20:01:50.633Z"
   },
   {
    "duration": 4,
    "start_time": "2022-12-02T20:05:25.326Z"
   },
   {
    "duration": 16,
    "start_time": "2022-12-02T20:05:26.229Z"
   },
   {
    "duration": 13,
    "start_time": "2022-12-02T20:05:49.366Z"
   },
   {
    "duration": 3,
    "start_time": "2022-12-02T20:05:52.372Z"
   },
   {
    "duration": 8,
    "start_time": "2022-12-02T20:05:53.173Z"
   },
   {
    "duration": 9,
    "start_time": "2022-12-02T20:05:53.979Z"
   },
   {
    "duration": 7,
    "start_time": "2022-12-02T20:05:56.314Z"
   },
   {
    "duration": 8,
    "start_time": "2022-12-02T20:05:56.892Z"
   },
   {
    "duration": 3,
    "start_time": "2022-12-02T20:05:58.797Z"
   },
   {
    "duration": 3,
    "start_time": "2022-12-02T20:06:43.022Z"
   },
   {
    "duration": 16,
    "start_time": "2022-12-02T20:06:45.619Z"
   },
   {
    "duration": 3,
    "start_time": "2022-12-02T20:07:12.444Z"
   },
   {
    "duration": 3,
    "start_time": "2022-12-02T20:07:12.941Z"
   },
   {
    "duration": 2,
    "start_time": "2022-12-02T20:12:15.664Z"
   },
   {
    "duration": 13,
    "start_time": "2022-12-02T20:12:16.550Z"
   },
   {
    "duration": 2,
    "start_time": "2022-12-02T20:14:17.774Z"
   },
   {
    "duration": 7,
    "start_time": "2022-12-02T20:14:18.731Z"
   },
   {
    "duration": 10,
    "start_time": "2022-12-02T20:14:19.681Z"
   },
   {
    "duration": 7,
    "start_time": "2022-12-02T20:14:21.728Z"
   },
   {
    "duration": 7,
    "start_time": "2022-12-02T20:14:22.726Z"
   },
   {
    "duration": 13,
    "start_time": "2022-12-02T20:42:43.679Z"
   },
   {
    "duration": 67,
    "start_time": "2022-12-02T20:47:33.477Z"
   },
   {
    "duration": 26,
    "start_time": "2022-12-02T20:47:34.294Z"
   },
   {
    "duration": 8,
    "start_time": "2022-12-02T20:48:55.081Z"
   },
   {
    "duration": 10,
    "start_time": "2022-12-02T20:48:55.570Z"
   },
   {
    "duration": 7,
    "start_time": "2022-12-02T20:49:07.899Z"
   },
   {
    "duration": 9,
    "start_time": "2022-12-02T20:49:17.913Z"
   },
   {
    "duration": 14,
    "start_time": "2022-12-02T20:49:35.579Z"
   },
   {
    "duration": 6,
    "start_time": "2022-12-02T20:50:43.339Z"
   },
   {
    "duration": 14,
    "start_time": "2022-12-02T20:50:43.818Z"
   },
   {
    "duration": 8,
    "start_time": "2022-12-02T20:50:50.787Z"
   },
   {
    "duration": 7,
    "start_time": "2022-12-02T20:51:10.906Z"
   },
   {
    "duration": 7,
    "start_time": "2022-12-02T20:52:06.040Z"
   },
   {
    "duration": 7,
    "start_time": "2022-12-02T20:52:44.129Z"
   },
   {
    "duration": 3,
    "start_time": "2022-12-02T20:52:52.838Z"
   },
   {
    "duration": 14,
    "start_time": "2022-12-02T20:53:42.709Z"
   },
   {
    "duration": 13,
    "start_time": "2022-12-02T21:00:40.244Z"
   },
   {
    "duration": 36,
    "start_time": "2022-12-02T21:00:50.324Z"
   },
   {
    "duration": 8,
    "start_time": "2022-12-02T21:01:51.080Z"
   },
   {
    "duration": 8,
    "start_time": "2022-12-02T21:02:00.884Z"
   },
   {
    "duration": 7,
    "start_time": "2022-12-02T21:02:02.042Z"
   },
   {
    "duration": 2,
    "start_time": "2022-12-02T21:02:05.343Z"
   },
   {
    "duration": 3,
    "start_time": "2022-12-02T21:02:05.915Z"
   },
   {
    "duration": 19,
    "start_time": "2022-12-02T21:02:07.719Z"
   },
   {
    "duration": 7,
    "start_time": "2022-12-02T21:04:29.014Z"
   },
   {
    "duration": 14,
    "start_time": "2022-12-02T21:04:29.556Z"
   },
   {
    "duration": 7,
    "start_time": "2022-12-02T21:04:33.345Z"
   },
   {
    "duration": 6,
    "start_time": "2022-12-02T21:04:34.625Z"
   },
   {
    "duration": 7,
    "start_time": "2022-12-02T21:04:35.145Z"
   },
   {
    "duration": 6,
    "start_time": "2022-12-02T21:04:35.659Z"
   },
   {
    "duration": 3,
    "start_time": "2022-12-02T21:04:37.309Z"
   },
   {
    "duration": 3,
    "start_time": "2022-12-02T21:04:37.798Z"
   },
   {
    "duration": 40,
    "start_time": "2022-12-02T21:04:39.532Z"
   },
   {
    "duration": 9,
    "start_time": "2022-12-02T21:04:48.174Z"
   },
   {
    "duration": 6,
    "start_time": "2022-12-02T21:05:22.554Z"
   },
   {
    "duration": 9,
    "start_time": "2022-12-02T21:06:36.968Z"
   },
   {
    "duration": 19,
    "start_time": "2022-12-02T21:06:53.216Z"
   },
   {
    "duration": 11,
    "start_time": "2022-12-02T21:07:11.389Z"
   },
   {
    "duration": 6,
    "start_time": "2022-12-02T21:07:40.832Z"
   },
   {
    "duration": 15,
    "start_time": "2022-12-02T21:07:41.369Z"
   },
   {
    "duration": 657,
    "start_time": "2022-12-02T21:09:41.626Z"
   },
   {
    "duration": 7,
    "start_time": "2022-12-02T21:10:00.974Z"
   },
   {
    "duration": 8,
    "start_time": "2022-12-02T21:12:27.243Z"
   },
   {
    "duration": 9,
    "start_time": "2022-12-02T21:12:27.666Z"
   },
   {
    "duration": 9,
    "start_time": "2022-12-02T21:32:15.863Z"
   },
   {
    "duration": 6,
    "start_time": "2022-12-02T21:32:16.299Z"
   },
   {
    "duration": 14,
    "start_time": "2022-12-02T21:32:16.839Z"
   },
   {
    "duration": 9,
    "start_time": "2022-12-02T21:32:18.581Z"
   },
   {
    "duration": 8,
    "start_time": "2022-12-02T21:32:19.111Z"
   },
   {
    "duration": 8,
    "start_time": "2022-12-02T21:32:19.713Z"
   },
   {
    "duration": 7,
    "start_time": "2022-12-02T21:32:20.387Z"
   },
   {
    "duration": 15,
    "start_time": "2022-12-02T21:32:39.320Z"
   },
   {
    "duration": 15,
    "start_time": "2022-12-02T21:33:04.213Z"
   },
   {
    "duration": 16,
    "start_time": "2022-12-02T21:39:35.599Z"
   },
   {
    "duration": 8,
    "start_time": "2022-12-02T21:41:10.978Z"
   },
   {
    "duration": 17,
    "start_time": "2022-12-02T21:41:12.251Z"
   },
   {
    "duration": 8,
    "start_time": "2022-12-02T21:41:34.783Z"
   },
   {
    "duration": 15,
    "start_time": "2022-12-02T21:41:35.497Z"
   },
   {
    "duration": 48,
    "start_time": "2022-12-02T21:41:40.094Z"
   },
   {
    "duration": 41,
    "start_time": "2022-12-02T21:41:42.369Z"
   },
   {
    "duration": 8,
    "start_time": "2022-12-02T21:42:14.161Z"
   },
   {
    "duration": 14,
    "start_time": "2022-12-02T21:42:14.968Z"
   },
   {
    "duration": 7,
    "start_time": "2022-12-02T21:42:24.374Z"
   },
   {
    "duration": 21,
    "start_time": "2022-12-02T21:42:24.829Z"
   },
   {
    "duration": 8,
    "start_time": "2022-12-02T21:42:34.136Z"
   },
   {
    "duration": 15,
    "start_time": "2022-12-02T21:42:34.704Z"
   },
   {
    "duration": 2,
    "start_time": "2022-12-02T21:42:38.041Z"
   },
   {
    "duration": 8,
    "start_time": "2022-12-02T21:43:13.223Z"
   },
   {
    "duration": 14,
    "start_time": "2022-12-02T21:43:13.961Z"
   },
   {
    "duration": 7,
    "start_time": "2022-12-02T21:43:16.901Z"
   },
   {
    "duration": 8,
    "start_time": "2022-12-02T21:43:18.284Z"
   },
   {
    "duration": 14,
    "start_time": "2022-12-02T21:43:18.860Z"
   },
   {
    "duration": 8,
    "start_time": "2022-12-02T21:43:19.598Z"
   },
   {
    "duration": 7,
    "start_time": "2022-12-02T21:43:20.186Z"
   },
   {
    "duration": 14,
    "start_time": "2022-12-02T21:43:20.946Z"
   },
   {
    "duration": 3,
    "start_time": "2022-12-02T21:43:23.162Z"
   },
   {
    "duration": 3,
    "start_time": "2022-12-02T21:43:23.793Z"
   },
   {
    "duration": 34,
    "start_time": "2022-12-02T21:43:26.584Z"
   },
   {
    "duration": 5,
    "start_time": "2022-12-02T21:43:31.361Z"
   },
   {
    "duration": 2,
    "start_time": "2022-12-02T21:43:33.858Z"
   },
   {
    "duration": 16,
    "start_time": "2022-12-02T21:43:34.618Z"
   },
   {
    "duration": 7,
    "start_time": "2022-12-02T21:44:04.929Z"
   },
   {
    "duration": 24,
    "start_time": "2022-12-02T21:44:47.294Z"
   },
   {
    "duration": 6,
    "start_time": "2022-12-02T21:45:05.807Z"
   },
   {
    "duration": 17,
    "start_time": "2022-12-02T21:45:17.339Z"
   },
   {
    "duration": 18,
    "start_time": "2022-12-02T21:46:56.002Z"
   },
   {
    "duration": 10,
    "start_time": "2022-12-02T21:47:06.802Z"
   },
   {
    "duration": 2,
    "start_time": "2022-12-02T21:48:02.716Z"
   },
   {
    "duration": 3,
    "start_time": "2022-12-02T21:48:03.248Z"
   },
   {
    "duration": 10,
    "start_time": "2022-12-02T21:48:06.431Z"
   },
   {
    "duration": 13,
    "start_time": "2022-12-02T21:48:06.868Z"
   },
   {
    "duration": 7,
    "start_time": "2022-12-02T21:48:07.712Z"
   },
   {
    "duration": 7,
    "start_time": "2022-12-02T21:48:35.907Z"
   },
   {
    "duration": 22,
    "start_time": "2022-12-02T21:48:37.188Z"
   },
   {
    "duration": 10,
    "start_time": "2022-12-02T21:48:55.792Z"
   },
   {
    "duration": 20,
    "start_time": "2022-12-02T21:48:56.322Z"
   },
   {
    "duration": 7,
    "start_time": "2022-12-02T21:50:04.109Z"
   },
   {
    "duration": 14,
    "start_time": "2022-12-02T21:50:04.716Z"
   },
   {
    "duration": 4,
    "start_time": "2022-12-02T21:50:17.234Z"
   },
   {
    "duration": 4,
    "start_time": "2022-12-02T21:50:32.019Z"
   },
   {
    "duration": 4,
    "start_time": "2022-12-02T21:51:10.855Z"
   },
   {
    "duration": 4,
    "start_time": "2022-12-02T21:51:13.487Z"
   },
   {
    "duration": 3,
    "start_time": "2022-12-02T21:51:14.118Z"
   },
   {
    "duration": 3,
    "start_time": "2022-12-02T21:51:15.156Z"
   },
   {
    "duration": 2,
    "start_time": "2022-12-02T21:51:16.187Z"
   },
   {
    "duration": 7,
    "start_time": "2022-12-02T21:51:17.073Z"
   },
   {
    "duration": 9,
    "start_time": "2022-12-02T21:51:17.866Z"
   },
   {
    "duration": 3,
    "start_time": "2022-12-02T21:51:18.970Z"
   },
   {
    "duration": 8,
    "start_time": "2022-12-02T21:51:34.119Z"
   },
   {
    "duration": 14,
    "start_time": "2022-12-02T21:51:34.740Z"
   },
   {
    "duration": 4,
    "start_time": "2022-12-02T21:52:38.517Z"
   },
   {
    "duration": 7,
    "start_time": "2022-12-02T21:52:39.108Z"
   },
   {
    "duration": 16,
    "start_time": "2022-12-02T21:52:40.100Z"
   },
   {
    "duration": 5,
    "start_time": "2022-12-02T21:52:40.951Z"
   },
   {
    "duration": 4,
    "start_time": "2022-12-02T21:58:50.872Z"
   },
   {
    "duration": 8,
    "start_time": "2022-12-02T21:58:52.794Z"
   },
   {
    "duration": 8,
    "start_time": "2022-12-02T21:58:53.424Z"
   },
   {
    "duration": 12,
    "start_time": "2022-12-02T21:58:54.054Z"
   },
   {
    "duration": 8,
    "start_time": "2022-12-02T21:59:10.415Z"
   },
   {
    "duration": 17,
    "start_time": "2022-12-02T21:59:10.979Z"
   },
   {
    "duration": 9,
    "start_time": "2022-12-02T21:59:26.117Z"
   },
   {
    "duration": 13,
    "start_time": "2022-12-02T21:59:26.645Z"
   },
   {
    "duration": 64,
    "start_time": "2022-12-02T21:59:32.789Z"
   },
   {
    "duration": 1100,
    "start_time": "2022-12-03T09:02:57.052Z"
   },
   {
    "duration": 179,
    "start_time": "2022-12-03T09:02:58.164Z"
   },
   {
    "duration": 8,
    "start_time": "2022-12-03T09:02:58.765Z"
   },
   {
    "duration": 15,
    "start_time": "2022-12-03T09:02:59.312Z"
   },
   {
    "duration": 7,
    "start_time": "2022-12-03T09:02:59.897Z"
   },
   {
    "duration": 13,
    "start_time": "2022-12-03T09:03:00.600Z"
   },
   {
    "duration": 16,
    "start_time": "2022-12-03T09:03:02.280Z"
   },
   {
    "duration": 5,
    "start_time": "2022-12-03T09:03:03.380Z"
   },
   {
    "duration": 8,
    "start_time": "2022-12-03T09:03:03.899Z"
   },
   {
    "duration": 20,
    "start_time": "2022-12-03T09:03:05.389Z"
   },
   {
    "duration": 6,
    "start_time": "2022-12-03T09:03:05.945Z"
   },
   {
    "duration": 6,
    "start_time": "2022-12-03T09:03:06.501Z"
   },
   {
    "duration": 4,
    "start_time": "2022-12-03T09:03:07.121Z"
   },
   {
    "duration": 2,
    "start_time": "2022-12-03T09:03:13.329Z"
   },
   {
    "duration": 10,
    "start_time": "2022-12-03T09:03:14.345Z"
   },
   {
    "duration": 3,
    "start_time": "2022-12-03T09:03:15.858Z"
   },
   {
    "duration": 5,
    "start_time": "2022-12-03T09:03:16.373Z"
   },
   {
    "duration": 2,
    "start_time": "2022-12-03T09:03:16.867Z"
   },
   {
    "duration": 5,
    "start_time": "2022-12-03T09:03:17.390Z"
   },
   {
    "duration": 5,
    "start_time": "2022-12-03T09:03:17.917Z"
   },
   {
    "duration": 4,
    "start_time": "2022-12-03T09:03:18.360Z"
   },
   {
    "duration": 4,
    "start_time": "2022-12-03T09:03:18.924Z"
   },
   {
    "duration": 4,
    "start_time": "2022-12-03T09:03:19.403Z"
   },
   {
    "duration": 3,
    "start_time": "2022-12-03T09:03:20.630Z"
   },
   {
    "duration": 3,
    "start_time": "2022-12-03T09:03:21.120Z"
   },
   {
    "duration": 7,
    "start_time": "2022-12-03T09:03:22.238Z"
   },
   {
    "duration": 10,
    "start_time": "2022-12-03T09:03:22.861Z"
   },
   {
    "duration": 4,
    "start_time": "2022-12-03T09:03:48.422Z"
   },
   {
    "duration": 8,
    "start_time": "2022-12-03T09:03:50.253Z"
   },
   {
    "duration": 12,
    "start_time": "2022-12-03T09:03:51.187Z"
   },
   {
    "duration": 4,
    "start_time": "2022-12-03T09:51:23.664Z"
   },
   {
    "duration": 8,
    "start_time": "2022-12-03T09:51:24.091Z"
   },
   {
    "duration": 11,
    "start_time": "2022-12-03T09:51:24.557Z"
   },
   {
    "duration": 4,
    "start_time": "2022-12-03T09:51:25.043Z"
   },
   {
    "duration": 9,
    "start_time": "2022-12-03T09:59:13.751Z"
   },
   {
    "duration": 4,
    "start_time": "2022-12-03T09:59:14.421Z"
   },
   {
    "duration": 5,
    "start_time": "2022-12-03T09:59:14.907Z"
   },
   {
    "duration": 12,
    "start_time": "2022-12-03T09:59:15.416Z"
   },
   {
    "duration": 5,
    "start_time": "2022-12-03T10:26:14.075Z"
   },
   {
    "duration": 4,
    "start_time": "2022-12-03T10:26:23.962Z"
   },
   {
    "duration": 4,
    "start_time": "2022-12-03T10:26:41.307Z"
   },
   {
    "duration": 5,
    "start_time": "2022-12-03T10:27:17.018Z"
   },
   {
    "duration": 6,
    "start_time": "2022-12-03T10:27:28.832Z"
   },
   {
    "duration": 6,
    "start_time": "2022-12-03T10:27:43.453Z"
   },
   {
    "duration": 3,
    "start_time": "2022-12-03T10:27:43.982Z"
   },
   {
    "duration": 5,
    "start_time": "2022-12-03T10:27:44.399Z"
   },
   {
    "duration": 4,
    "start_time": "2022-12-03T10:27:44.850Z"
   },
   {
    "duration": 5,
    "start_time": "2022-12-03T10:27:45.364Z"
   },
   {
    "duration": 5,
    "start_time": "2022-12-03T10:27:46.017Z"
   },
   {
    "duration": 4,
    "start_time": "2022-12-03T10:27:47.602Z"
   },
   {
    "duration": 4,
    "start_time": "2022-12-03T10:27:48.210Z"
   },
   {
    "duration": 3,
    "start_time": "2022-12-03T10:27:48.740Z"
   },
   {
    "duration": 5,
    "start_time": "2022-12-03T10:28:19.462Z"
   },
   {
    "duration": 2,
    "start_time": "2022-12-03T10:28:20.041Z"
   },
   {
    "duration": 5,
    "start_time": "2022-12-03T10:28:20.641Z"
   },
   {
    "duration": 5,
    "start_time": "2022-12-03T10:28:21.290Z"
   },
   {
    "duration": 3,
    "start_time": "2022-12-03T10:28:21.894Z"
   },
   {
    "duration": 4,
    "start_time": "2022-12-03T10:28:22.609Z"
   },
   {
    "duration": 4,
    "start_time": "2022-12-03T10:28:23.183Z"
   },
   {
    "duration": 4,
    "start_time": "2022-12-03T10:28:23.940Z"
   },
   {
    "duration": 4,
    "start_time": "2022-12-03T10:28:24.541Z"
   },
   {
    "duration": 6,
    "start_time": "2022-12-03T10:29:06.006Z"
   },
   {
    "duration": 2,
    "start_time": "2022-12-03T10:29:06.644Z"
   },
   {
    "duration": 5,
    "start_time": "2022-12-03T10:29:10.860Z"
   },
   {
    "duration": 5,
    "start_time": "2022-12-03T10:29:11.596Z"
   },
   {
    "duration": 4,
    "start_time": "2022-12-03T10:29:12.216Z"
   },
   {
    "duration": 5,
    "start_time": "2022-12-03T10:29:12.988Z"
   },
   {
    "duration": 4,
    "start_time": "2022-12-03T10:29:13.719Z"
   },
   {
    "duration": 4,
    "start_time": "2022-12-03T10:29:14.451Z"
   },
   {
    "duration": 4,
    "start_time": "2022-12-03T10:29:15.064Z"
   },
   {
    "duration": 6,
    "start_time": "2022-12-03T10:29:54.497Z"
   },
   {
    "duration": 2,
    "start_time": "2022-12-03T10:29:54.939Z"
   },
   {
    "duration": 5,
    "start_time": "2022-12-03T10:29:55.455Z"
   },
   {
    "duration": 5,
    "start_time": "2022-12-03T10:29:55.990Z"
   },
   {
    "duration": 4,
    "start_time": "2022-12-03T10:29:56.511Z"
   },
   {
    "duration": 3,
    "start_time": "2022-12-03T10:29:57.149Z"
   },
   {
    "duration": 4,
    "start_time": "2022-12-03T10:29:57.647Z"
   },
   {
    "duration": 4,
    "start_time": "2022-12-03T10:29:58.280Z"
   },
   {
    "duration": 4,
    "start_time": "2022-12-03T10:29:58.769Z"
   },
   {
    "duration": 3,
    "start_time": "2022-12-03T10:30:05.730Z"
   },
   {
    "duration": 3,
    "start_time": "2022-12-03T10:30:06.412Z"
   },
   {
    "duration": 12,
    "start_time": "2022-12-03T10:30:07.702Z"
   },
   {
    "duration": 9,
    "start_time": "2022-12-03T10:30:08.250Z"
   },
   {
    "duration": 4,
    "start_time": "2022-12-03T10:30:09.118Z"
   },
   {
    "duration": 8,
    "start_time": "2022-12-03T10:30:09.880Z"
   },
   {
    "duration": 13,
    "start_time": "2022-12-03T10:30:10.547Z"
   },
   {
    "duration": 4,
    "start_time": "2022-12-03T10:30:11.602Z"
   },
   {
    "duration": 8,
    "start_time": "2022-12-03T10:30:13.779Z"
   },
   {
    "duration": 8,
    "start_time": "2022-12-03T10:30:14.448Z"
   },
   {
    "duration": 15,
    "start_time": "2022-12-03T10:30:15.139Z"
   },
   {
    "duration": 8,
    "start_time": "2022-12-03T10:30:15.826Z"
   },
   {
    "duration": 5,
    "start_time": "2022-12-03T10:30:16.550Z"
   },
   {
    "duration": 12,
    "start_time": "2022-12-03T10:30:17.110Z"
   },
   {
    "duration": 3,
    "start_time": "2022-12-03T10:30:19.059Z"
   },
   {
    "duration": 9,
    "start_time": "2022-12-03T10:33:38.979Z"
   },
   {
    "duration": 7,
    "start_time": "2022-12-03T10:33:39.420Z"
   },
   {
    "duration": 4,
    "start_time": "2022-12-03T10:33:39.874Z"
   },
   {
    "duration": 4,
    "start_time": "2022-12-03T10:33:40.388Z"
   },
   {
    "duration": 111,
    "start_time": "2022-12-03T10:33:41.001Z"
   },
   {
    "duration": 4,
    "start_time": "2022-12-03T10:33:46.378Z"
   },
   {
    "duration": 7,
    "start_time": "2022-12-03T10:34:04.786Z"
   },
   {
    "duration": 15,
    "start_time": "2022-12-03T10:34:18.173Z"
   },
   {
    "duration": 10,
    "start_time": "2022-12-03T10:47:12.502Z"
   },
   {
    "duration": 4,
    "start_time": "2022-12-03T10:47:13.564Z"
   },
   {
    "duration": 8,
    "start_time": "2022-12-03T10:47:26.954Z"
   },
   {
    "duration": 6,
    "start_time": "2022-12-03T10:47:30.960Z"
   },
   {
    "duration": 14,
    "start_time": "2022-12-03T10:47:31.970Z"
   },
   {
    "duration": 8,
    "start_time": "2022-12-03T10:48:14.616Z"
   },
   {
    "duration": 14,
    "start_time": "2022-12-03T10:48:22.022Z"
   },
   {
    "duration": 8,
    "start_time": "2022-12-03T10:48:39.082Z"
   },
   {
    "duration": 7,
    "start_time": "2022-12-03T10:48:42.305Z"
   },
   {
    "duration": 4,
    "start_time": "2022-12-03T10:48:47.826Z"
   },
   {
    "duration": 6,
    "start_time": "2022-12-03T10:50:54.797Z"
   },
   {
    "duration": 3,
    "start_time": "2022-12-03T10:50:56.124Z"
   },
   {
    "duration": 9,
    "start_time": "2022-12-03T10:52:07.863Z"
   },
   {
    "duration": 5,
    "start_time": "2022-12-03T10:52:12.182Z"
   },
   {
    "duration": 3,
    "start_time": "2022-12-03T10:52:12.711Z"
   },
   {
    "duration": 8,
    "start_time": "2022-12-03T10:52:13.165Z"
   },
   {
    "duration": 2,
    "start_time": "2022-12-03T10:52:15.169Z"
   },
   {
    "duration": 13,
    "start_time": "2022-12-03T10:53:12.651Z"
   },
   {
    "duration": 2,
    "start_time": "2022-12-03T10:54:11.224Z"
   },
   {
    "duration": 7,
    "start_time": "2022-12-03T10:54:11.716Z"
   },
   {
    "duration": 2,
    "start_time": "2022-12-03T10:54:13.490Z"
   },
   {
    "duration": 11,
    "start_time": "2022-12-03T10:54:14.389Z"
   },
   {
    "duration": 15,
    "start_time": "2022-12-03T10:54:34.858Z"
   },
   {
    "duration": 7,
    "start_time": "2022-12-03T10:54:41.425Z"
   },
   {
    "duration": 15,
    "start_time": "2022-12-03T10:54:51.302Z"
   },
   {
    "duration": 4,
    "start_time": "2022-12-03T10:55:01.241Z"
   },
   {
    "duration": 4,
    "start_time": "2022-12-03T10:55:02.064Z"
   },
   {
    "duration": 4,
    "start_time": "2022-12-03T10:55:02.675Z"
   },
   {
    "duration": 10,
    "start_time": "2022-12-03T10:56:13.233Z"
   },
   {
    "duration": 4,
    "start_time": "2022-12-03T10:56:16.934Z"
   },
   {
    "duration": 2,
    "start_time": "2022-12-03T10:56:17.372Z"
   },
   {
    "duration": 6,
    "start_time": "2022-12-03T10:56:17.786Z"
   },
   {
    "duration": 2,
    "start_time": "2022-12-03T10:56:18.130Z"
   },
   {
    "duration": 12,
    "start_time": "2022-12-03T10:56:18.632Z"
   },
   {
    "duration": 4,
    "start_time": "2022-12-03T10:56:44.090Z"
   },
   {
    "duration": 43,
    "start_time": "2022-12-03T10:56:44.953Z"
   },
   {
    "duration": 4,
    "start_time": "2022-12-03T10:56:45.469Z"
   },
   {
    "duration": 13,
    "start_time": "2022-12-03T10:56:46.488Z"
   },
   {
    "duration": 7,
    "start_time": "2022-12-03T10:56:47.006Z"
   },
   {
    "duration": 12,
    "start_time": "2022-12-03T10:56:47.540Z"
   },
   {
    "duration": 15,
    "start_time": "2022-12-03T10:56:49.079Z"
   },
   {
    "duration": 5,
    "start_time": "2022-12-03T10:56:50.237Z"
   },
   {
    "duration": 9,
    "start_time": "2022-12-03T10:56:50.730Z"
   },
   {
    "duration": 15,
    "start_time": "2022-12-03T10:56:52.029Z"
   },
   {
    "duration": 6,
    "start_time": "2022-12-03T10:56:52.617Z"
   },
   {
    "duration": 6,
    "start_time": "2022-12-03T10:56:53.087Z"
   },
   {
    "duration": 4,
    "start_time": "2022-12-03T10:56:53.553Z"
   },
   {
    "duration": 2,
    "start_time": "2022-12-03T10:56:58.218Z"
   },
   {
    "duration": 11,
    "start_time": "2022-12-03T10:56:59.391Z"
   },
   {
    "duration": 4,
    "start_time": "2022-12-03T10:57:01.887Z"
   },
   {
    "duration": 2,
    "start_time": "2022-12-03T10:57:02.974Z"
   },
   {
    "duration": 6,
    "start_time": "2022-12-03T10:57:03.758Z"
   },
   {
    "duration": 2,
    "start_time": "2022-12-03T10:57:04.574Z"
   },
   {
    "duration": 11,
    "start_time": "2022-12-03T10:57:05.213Z"
   },
   {
    "duration": 15,
    "start_time": "2022-12-03T11:01:58.053Z"
   },
   {
    "duration": 4,
    "start_time": "2022-12-03T11:05:04.971Z"
   },
   {
    "duration": 5,
    "start_time": "2022-12-03T11:05:57.205Z"
   },
   {
    "duration": 8,
    "start_time": "2022-12-03T11:06:03.770Z"
   },
   {
    "duration": 4,
    "start_time": "2022-12-03T11:06:05.147Z"
   },
   {
    "duration": 5,
    "start_time": "2022-12-03T11:06:05.965Z"
   },
   {
    "duration": 4,
    "start_time": "2022-12-03T11:06:06.569Z"
   },
   {
    "duration": 11,
    "start_time": "2022-12-03T11:06:25.477Z"
   },
   {
    "duration": 10,
    "start_time": "2022-12-03T11:06:46.473Z"
   },
   {
    "duration": 11,
    "start_time": "2022-12-03T11:07:00.452Z"
   },
   {
    "duration": 7,
    "start_time": "2022-12-03T11:08:31.913Z"
   },
   {
    "duration": 4,
    "start_time": "2022-12-03T11:08:32.438Z"
   },
   {
    "duration": 3,
    "start_time": "2022-12-03T11:08:32.993Z"
   },
   {
    "duration": 14,
    "start_time": "2022-12-03T11:08:33.721Z"
   },
   {
    "duration": 12,
    "start_time": "2022-12-03T11:09:21.914Z"
   },
   {
    "duration": 4,
    "start_time": "2022-12-03T11:09:35.934Z"
   },
   {
    "duration": 3,
    "start_time": "2022-12-03T11:09:56.516Z"
   },
   {
    "duration": 6,
    "start_time": "2022-12-03T11:11:30.720Z"
   },
   {
    "duration": 4,
    "start_time": "2022-12-03T11:11:31.633Z"
   },
   {
    "duration": 2,
    "start_time": "2022-12-03T11:11:32.549Z"
   },
   {
    "duration": 5,
    "start_time": "2022-12-03T11:11:33.054Z"
   },
   {
    "duration": 5,
    "start_time": "2022-12-03T11:11:35.550Z"
   },
   {
    "duration": 4,
    "start_time": "2022-12-03T11:11:36.118Z"
   },
   {
    "duration": 4,
    "start_time": "2022-12-03T11:11:36.754Z"
   },
   {
    "duration": 5,
    "start_time": "2022-12-03T11:11:46.858Z"
   },
   {
    "duration": 2,
    "start_time": "2022-12-03T11:11:47.967Z"
   },
   {
    "duration": 3,
    "start_time": "2022-12-03T11:11:48.540Z"
   },
   {
    "duration": 13,
    "start_time": "2022-12-03T11:11:49.790Z"
   },
   {
    "duration": 12,
    "start_time": "2022-12-03T11:11:50.382Z"
   },
   {
    "duration": 4,
    "start_time": "2022-12-03T11:11:51.257Z"
   },
   {
    "duration": 6,
    "start_time": "2022-12-03T11:11:52.044Z"
   },
   {
    "duration": 6,
    "start_time": "2022-12-03T11:11:52.717Z"
   },
   {
    "duration": 10,
    "start_time": "2022-12-03T11:17:39.550Z"
   },
   {
    "duration": 7,
    "start_time": "2022-12-03T11:17:56.445Z"
   },
   {
    "duration": 14,
    "start_time": "2022-12-03T11:18:06.343Z"
   },
   {
    "duration": 14,
    "start_time": "2022-12-03T11:19:54.070Z"
   },
   {
    "duration": 3,
    "start_time": "2022-12-03T11:20:00.651Z"
   },
   {
    "duration": 10,
    "start_time": "2022-12-03T11:20:55.613Z"
   },
   {
    "duration": 20,
    "start_time": "2022-12-03T11:20:56.212Z"
   },
   {
    "duration": 4,
    "start_time": "2022-12-03T11:28:38.490Z"
   },
   {
    "duration": 13,
    "start_time": "2022-12-03T11:28:41.062Z"
   },
   {
    "duration": 4,
    "start_time": "2022-12-03T11:28:41.648Z"
   },
   {
    "duration": 7,
    "start_time": "2022-12-03T11:28:46.016Z"
   },
   {
    "duration": 7,
    "start_time": "2022-12-03T11:29:02.768Z"
   },
   {
    "duration": 14,
    "start_time": "2022-12-03T11:29:03.414Z"
   },
   {
    "duration": 73,
    "start_time": "2022-12-03T11:31:20.287Z"
   },
   {
    "duration": 12,
    "start_time": "2022-12-03T11:38:22.640Z"
   },
   {
    "duration": 5,
    "start_time": "2022-12-03T11:38:23.196Z"
   },
   {
    "duration": 6,
    "start_time": "2022-12-03T11:38:26.049Z"
   },
   {
    "duration": 21,
    "start_time": "2022-12-03T11:38:26.608Z"
   },
   {
    "duration": 7,
    "start_time": "2022-12-03T11:39:18.613Z"
   },
   {
    "duration": 12,
    "start_time": "2022-12-03T11:39:52.882Z"
   },
   {
    "duration": 4,
    "start_time": "2022-12-03T11:39:53.521Z"
   },
   {
    "duration": 9,
    "start_time": "2022-12-03T11:39:54.164Z"
   },
   {
    "duration": 20,
    "start_time": "2022-12-03T11:39:54.857Z"
   },
   {
    "duration": 13,
    "start_time": "2022-12-03T11:39:59.458Z"
   },
   {
    "duration": 8,
    "start_time": "2022-12-03T11:40:00.009Z"
   },
   {
    "duration": 9,
    "start_time": "2022-12-03T11:40:00.579Z"
   },
   {
    "duration": 8,
    "start_time": "2022-12-03T11:40:07.498Z"
   },
   {
    "duration": 5,
    "start_time": "2022-12-03T11:40:08.128Z"
   },
   {
    "duration": 7,
    "start_time": "2022-12-03T11:40:08.784Z"
   },
   {
    "duration": 20,
    "start_time": "2022-12-03T11:40:09.366Z"
   },
   {
    "duration": 1106,
    "start_time": "2022-12-03T11:42:35.314Z"
   },
   {
    "duration": 127,
    "start_time": "2022-12-03T11:42:50.512Z"
   },
   {
    "duration": 10,
    "start_time": "2022-12-03T11:42:59.425Z"
   },
   {
    "duration": 13,
    "start_time": "2022-12-03T11:49:01.715Z"
   },
   {
    "duration": 8,
    "start_time": "2022-12-03T11:49:02.583Z"
   },
   {
    "duration": 8,
    "start_time": "2022-12-03T11:49:03.042Z"
   },
   {
    "duration": 4,
    "start_time": "2022-12-03T11:49:03.489Z"
   },
   {
    "duration": 9,
    "start_time": "2022-12-03T11:49:03.993Z"
   },
   {
    "duration": 22,
    "start_time": "2022-12-03T11:49:04.474Z"
   },
   {
    "duration": 1423,
    "start_time": "2022-12-03T18:04:21.205Z"
   },
   {
    "duration": 185,
    "start_time": "2022-12-03T18:04:22.630Z"
   },
   {
    "duration": 15,
    "start_time": "2022-12-03T18:04:22.817Z"
   },
   {
    "duration": 20,
    "start_time": "2022-12-03T18:04:22.834Z"
   },
   {
    "duration": 9,
    "start_time": "2022-12-03T18:04:22.857Z"
   },
   {
    "duration": 30,
    "start_time": "2022-12-03T18:04:22.867Z"
   },
   {
    "duration": 27,
    "start_time": "2022-12-03T18:04:22.900Z"
   },
   {
    "duration": 22,
    "start_time": "2022-12-03T18:04:22.929Z"
   },
   {
    "duration": 8,
    "start_time": "2022-12-03T18:04:22.954Z"
   },
   {
    "duration": 20,
    "start_time": "2022-12-03T18:04:22.964Z"
   },
   {
    "duration": 10,
    "start_time": "2022-12-03T18:04:22.986Z"
   },
   {
    "duration": 11,
    "start_time": "2022-12-03T18:04:22.998Z"
   },
   {
    "duration": 40,
    "start_time": "2022-12-03T18:04:23.012Z"
   },
   {
    "duration": 13,
    "start_time": "2022-12-03T18:04:23.056Z"
   },
   {
    "duration": 23,
    "start_time": "2022-12-03T18:04:23.071Z"
   },
   {
    "duration": 16,
    "start_time": "2022-12-03T18:04:23.099Z"
   },
   {
    "duration": 19,
    "start_time": "2022-12-03T18:04:23.118Z"
   },
   {
    "duration": 19,
    "start_time": "2022-12-03T18:04:23.140Z"
   },
   {
    "duration": 10,
    "start_time": "2022-12-03T18:04:23.161Z"
   },
   {
    "duration": 8,
    "start_time": "2022-12-03T18:04:23.173Z"
   },
   {
    "duration": 23,
    "start_time": "2022-12-03T18:04:23.183Z"
   },
   {
    "duration": 17,
    "start_time": "2022-12-03T18:04:23.207Z"
   },
   {
    "duration": 14,
    "start_time": "2022-12-03T18:04:23.226Z"
   },
   {
    "duration": 19,
    "start_time": "2022-12-03T18:04:23.241Z"
   },
   {
    "duration": 8,
    "start_time": "2022-12-03T18:04:23.262Z"
   },
   {
    "duration": 10,
    "start_time": "2022-12-03T18:04:23.272Z"
   },
   {
    "duration": 17,
    "start_time": "2022-12-03T18:04:23.284Z"
   },
   {
    "duration": 11,
    "start_time": "2022-12-03T18:04:23.304Z"
   },
   {
    "duration": 12,
    "start_time": "2022-12-03T18:04:23.317Z"
   },
   {
    "duration": 24,
    "start_time": "2022-12-03T18:04:23.332Z"
   },
   {
    "duration": 19,
    "start_time": "2022-12-03T18:04:23.357Z"
   },
   {
    "duration": 17,
    "start_time": "2022-12-03T18:04:23.378Z"
   },
   {
    "duration": 10,
    "start_time": "2022-12-03T18:04:23.398Z"
   },
   {
    "duration": 7,
    "start_time": "2022-12-03T18:04:23.411Z"
   },
   {
    "duration": 203,
    "start_time": "2022-12-03T18:04:23.420Z"
   },
   {
    "duration": 0,
    "start_time": "2022-12-03T18:04:23.626Z"
   },
   {
    "duration": 0,
    "start_time": "2022-12-03T18:04:23.632Z"
   },
   {
    "duration": 0,
    "start_time": "2022-12-03T18:04:23.635Z"
   },
   {
    "duration": 0,
    "start_time": "2022-12-03T18:04:23.637Z"
   },
   {
    "duration": 0,
    "start_time": "2022-12-03T18:04:23.638Z"
   },
   {
    "duration": 0,
    "start_time": "2022-12-03T18:04:23.652Z"
   },
   {
    "duration": 0,
    "start_time": "2022-12-03T18:04:23.654Z"
   },
   {
    "duration": 0,
    "start_time": "2022-12-03T18:04:23.656Z"
   },
   {
    "duration": 0,
    "start_time": "2022-12-03T18:04:23.657Z"
   },
   {
    "duration": 0,
    "start_time": "2022-12-03T18:04:23.659Z"
   },
   {
    "duration": 0,
    "start_time": "2022-12-03T18:04:23.660Z"
   },
   {
    "duration": 0,
    "start_time": "2022-12-03T18:04:23.661Z"
   },
   {
    "duration": 0,
    "start_time": "2022-12-03T18:04:23.663Z"
   },
   {
    "duration": 0,
    "start_time": "2022-12-03T18:04:23.665Z"
   },
   {
    "duration": 0,
    "start_time": "2022-12-03T18:04:23.666Z"
   },
   {
    "duration": 0,
    "start_time": "2022-12-03T18:04:23.667Z"
   },
   {
    "duration": 0,
    "start_time": "2022-12-03T18:04:23.682Z"
   },
   {
    "duration": 0,
    "start_time": "2022-12-03T18:04:23.684Z"
   },
   {
    "duration": 0,
    "start_time": "2022-12-03T18:04:23.686Z"
   },
   {
    "duration": 0,
    "start_time": "2022-12-03T18:04:23.687Z"
   },
   {
    "duration": 0,
    "start_time": "2022-12-03T18:04:23.689Z"
   },
   {
    "duration": 0,
    "start_time": "2022-12-03T18:04:23.690Z"
   },
   {
    "duration": 0,
    "start_time": "2022-12-03T18:04:23.692Z"
   },
   {
    "duration": 0,
    "start_time": "2022-12-03T18:04:23.693Z"
   },
   {
    "duration": 1,
    "start_time": "2022-12-03T18:04:23.694Z"
   },
   {
    "duration": 0,
    "start_time": "2022-12-03T18:04:23.696Z"
   },
   {
    "duration": 0,
    "start_time": "2022-12-03T18:04:23.697Z"
   },
   {
    "duration": 1,
    "start_time": "2022-12-03T18:04:23.698Z"
   },
   {
    "duration": 0,
    "start_time": "2022-12-03T18:04:23.700Z"
   },
   {
    "duration": 0,
    "start_time": "2022-12-03T18:04:23.702Z"
   },
   {
    "duration": 6,
    "start_time": "2022-12-03T18:11:54.373Z"
   },
   {
    "duration": 17,
    "start_time": "2022-12-03T18:12:04.739Z"
   },
   {
    "duration": 5,
    "start_time": "2022-12-03T18:13:05.123Z"
   },
   {
    "duration": 20,
    "start_time": "2022-12-03T18:13:06.992Z"
   },
   {
    "duration": 12,
    "start_time": "2022-12-03T18:14:26.147Z"
   },
   {
    "duration": 6,
    "start_time": "2022-12-03T18:14:34.706Z"
   },
   {
    "duration": 19,
    "start_time": "2022-12-03T18:14:38.301Z"
   },
   {
    "duration": 8,
    "start_time": "2022-12-03T18:16:18.639Z"
   },
   {
    "duration": 15,
    "start_time": "2022-12-03T18:16:21.041Z"
   },
   {
    "duration": 10,
    "start_time": "2022-12-03T18:16:58.352Z"
   },
   {
    "duration": 9,
    "start_time": "2022-12-03T18:17:02.576Z"
   },
   {
    "duration": 16,
    "start_time": "2022-12-03T18:17:05.026Z"
   },
   {
    "duration": 4,
    "start_time": "2022-12-03T18:17:24.948Z"
   },
   {
    "duration": 8,
    "start_time": "2022-12-03T18:17:44.198Z"
   },
   {
    "duration": 14,
    "start_time": "2022-12-03T18:17:45.809Z"
   },
   {
    "duration": 4,
    "start_time": "2022-12-03T18:17:49.535Z"
   },
   {
    "duration": 3,
    "start_time": "2022-12-03T18:18:28.643Z"
   },
   {
    "duration": 16,
    "start_time": "2022-12-03T18:18:38.576Z"
   },
   {
    "duration": 10018,
    "start_time": "2022-12-03T18:18:58.051Z"
   },
   {
    "duration": 3,
    "start_time": "2022-12-03T18:19:51.447Z"
   },
   {
    "duration": 20,
    "start_time": "2022-12-03T18:19:55.112Z"
   },
   {
    "duration": 12,
    "start_time": "2022-12-03T18:19:57.377Z"
   },
   {
    "duration": 1042,
    "start_time": "2022-12-03T18:20:05.562Z"
   },
   {
    "duration": 43,
    "start_time": "2022-12-03T18:20:06.605Z"
   },
   {
    "duration": 8,
    "start_time": "2022-12-03T18:20:06.650Z"
   },
   {
    "duration": 21,
    "start_time": "2022-12-03T18:20:06.661Z"
   },
   {
    "duration": 7,
    "start_time": "2022-12-03T18:20:06.684Z"
   },
   {
    "duration": 16,
    "start_time": "2022-12-03T18:20:06.693Z"
   },
   {
    "duration": 41,
    "start_time": "2022-12-03T18:20:06.711Z"
   },
   {
    "duration": 6,
    "start_time": "2022-12-03T18:20:06.754Z"
   },
   {
    "duration": 9,
    "start_time": "2022-12-03T18:20:06.762Z"
   },
   {
    "duration": 17,
    "start_time": "2022-12-03T18:20:06.774Z"
   },
   {
    "duration": 11,
    "start_time": "2022-12-03T18:20:06.793Z"
   },
   {
    "duration": 9,
    "start_time": "2022-12-03T18:20:06.806Z"
   },
   {
    "duration": 39,
    "start_time": "2022-12-03T18:20:06.817Z"
   },
   {
    "duration": 8,
    "start_time": "2022-12-03T18:20:06.858Z"
   },
   {
    "duration": 16,
    "start_time": "2022-12-03T18:20:06.868Z"
   },
   {
    "duration": 8,
    "start_time": "2022-12-03T18:20:06.888Z"
   },
   {
    "duration": 7,
    "start_time": "2022-12-03T18:20:06.897Z"
   },
   {
    "duration": 9,
    "start_time": "2022-12-03T18:20:06.906Z"
   },
   {
    "duration": 5,
    "start_time": "2022-12-03T18:20:06.917Z"
   },
   {
    "duration": 6,
    "start_time": "2022-12-03T18:20:06.923Z"
   },
   {
    "duration": 22,
    "start_time": "2022-12-03T18:20:06.931Z"
   },
   {
    "duration": 4,
    "start_time": "2022-12-03T18:20:06.955Z"
   },
   {
    "duration": 8,
    "start_time": "2022-12-03T18:20:06.960Z"
   },
   {
    "duration": 4,
    "start_time": "2022-12-03T18:20:06.970Z"
   },
   {
    "duration": 4,
    "start_time": "2022-12-03T18:20:06.976Z"
   },
   {
    "duration": 6,
    "start_time": "2022-12-03T18:20:06.982Z"
   },
   {
    "duration": 2323,
    "start_time": "2022-12-03T18:20:06.990Z"
   },
   {
    "duration": 13,
    "start_time": "2022-12-03T18:20:09.319Z"
   },
   {
    "duration": 12,
    "start_time": "2022-12-03T18:20:09.334Z"
   },
   {
    "duration": 7,
    "start_time": "2022-12-03T18:20:09.348Z"
   },
   {
    "duration": 11,
    "start_time": "2022-12-03T18:20:09.356Z"
   },
   {
    "duration": 10,
    "start_time": "2022-12-03T18:20:09.369Z"
   },
   {
    "duration": 24,
    "start_time": "2022-12-03T18:20:09.380Z"
   },
   {
    "duration": 14,
    "start_time": "2022-12-03T18:20:09.406Z"
   },
   {
    "duration": 6,
    "start_time": "2022-12-03T18:20:09.422Z"
   },
   {
    "duration": 13,
    "start_time": "2022-12-03T18:20:09.430Z"
   },
   {
    "duration": 3,
    "start_time": "2022-12-03T18:20:09.450Z"
   },
   {
    "duration": 141,
    "start_time": "2022-12-03T18:20:09.455Z"
   },
   {
    "duration": 0,
    "start_time": "2022-12-03T18:20:09.599Z"
   },
   {
    "duration": 0,
    "start_time": "2022-12-03T18:20:09.601Z"
   },
   {
    "duration": 0,
    "start_time": "2022-12-03T18:20:09.602Z"
   },
   {
    "duration": 0,
    "start_time": "2022-12-03T18:20:09.604Z"
   },
   {
    "duration": 0,
    "start_time": "2022-12-03T18:20:09.605Z"
   },
   {
    "duration": 0,
    "start_time": "2022-12-03T18:20:09.607Z"
   },
   {
    "duration": 0,
    "start_time": "2022-12-03T18:20:09.608Z"
   },
   {
    "duration": 0,
    "start_time": "2022-12-03T18:20:09.610Z"
   },
   {
    "duration": 0,
    "start_time": "2022-12-03T18:20:09.611Z"
   },
   {
    "duration": 0,
    "start_time": "2022-12-03T18:20:09.612Z"
   },
   {
    "duration": 0,
    "start_time": "2022-12-03T18:20:09.614Z"
   },
   {
    "duration": 0,
    "start_time": "2022-12-03T18:20:09.615Z"
   },
   {
    "duration": 0,
    "start_time": "2022-12-03T18:20:09.616Z"
   },
   {
    "duration": 0,
    "start_time": "2022-12-03T18:20:09.617Z"
   },
   {
    "duration": 0,
    "start_time": "2022-12-03T18:20:09.651Z"
   },
   {
    "duration": 0,
    "start_time": "2022-12-03T18:20:09.653Z"
   },
   {
    "duration": 0,
    "start_time": "2022-12-03T18:20:09.654Z"
   },
   {
    "duration": 0,
    "start_time": "2022-12-03T18:20:09.655Z"
   },
   {
    "duration": 0,
    "start_time": "2022-12-03T18:20:09.656Z"
   },
   {
    "duration": 0,
    "start_time": "2022-12-03T18:20:09.657Z"
   },
   {
    "duration": 0,
    "start_time": "2022-12-03T18:20:09.659Z"
   },
   {
    "duration": 0,
    "start_time": "2022-12-03T18:20:09.661Z"
   },
   {
    "duration": 0,
    "start_time": "2022-12-03T18:20:09.662Z"
   },
   {
    "duration": 0,
    "start_time": "2022-12-03T18:20:09.664Z"
   },
   {
    "duration": 0,
    "start_time": "2022-12-03T18:20:09.665Z"
   },
   {
    "duration": 0,
    "start_time": "2022-12-03T18:20:09.667Z"
   },
   {
    "duration": 0,
    "start_time": "2022-12-03T18:20:09.669Z"
   },
   {
    "duration": 0,
    "start_time": "2022-12-03T18:20:09.670Z"
   },
   {
    "duration": 0,
    "start_time": "2022-12-03T18:20:09.672Z"
   },
   {
    "duration": 0,
    "start_time": "2022-12-03T18:20:09.673Z"
   },
   {
    "duration": 3,
    "start_time": "2022-12-03T18:20:37.045Z"
   },
   {
    "duration": 12,
    "start_time": "2022-12-03T18:20:42.436Z"
   },
   {
    "duration": 4,
    "start_time": "2022-12-03T18:20:47.490Z"
   },
   {
    "duration": 7,
    "start_time": "2022-12-03T18:20:51.763Z"
   },
   {
    "duration": 15,
    "start_time": "2022-12-03T18:20:54.508Z"
   },
   {
    "duration": 4,
    "start_time": "2022-12-03T18:20:57.884Z"
   },
   {
    "duration": 12,
    "start_time": "2022-12-03T18:21:38.739Z"
   },
   {
    "duration": 7,
    "start_time": "2022-12-03T18:22:11.838Z"
   },
   {
    "duration": 15,
    "start_time": "2022-12-03T18:22:14.864Z"
   },
   {
    "duration": 21,
    "start_time": "2022-12-03T18:22:21.700Z"
   },
   {
    "duration": 10,
    "start_time": "2022-12-03T18:22:42.148Z"
   },
   {
    "duration": 22,
    "start_time": "2022-12-03T18:22:45.518Z"
   },
   {
    "duration": 6,
    "start_time": "2022-12-03T18:23:07.033Z"
   },
   {
    "duration": 21,
    "start_time": "2022-12-03T18:23:08.910Z"
   },
   {
    "duration": 2,
    "start_time": "2022-12-03T18:23:37.115Z"
   },
   {
    "duration": 11,
    "start_time": "2022-12-03T18:23:39.149Z"
   },
   {
    "duration": 3,
    "start_time": "2022-12-03T18:23:42.767Z"
   },
   {
    "duration": 10,
    "start_time": "2022-12-03T18:23:45.538Z"
   },
   {
    "duration": 4,
    "start_time": "2022-12-03T18:23:49.850Z"
   },
   {
    "duration": 7,
    "start_time": "2022-12-03T18:23:53.072Z"
   },
   {
    "duration": 21,
    "start_time": "2022-12-03T18:23:54.979Z"
   },
   {
    "duration": 1053,
    "start_time": "2022-12-03T18:27:13.139Z"
   },
   {
    "duration": 43,
    "start_time": "2022-12-03T18:27:14.194Z"
   },
   {
    "duration": 9,
    "start_time": "2022-12-03T18:27:14.239Z"
   },
   {
    "duration": 19,
    "start_time": "2022-12-03T18:27:14.250Z"
   },
   {
    "duration": 9,
    "start_time": "2022-12-03T18:27:14.270Z"
   },
   {
    "duration": 13,
    "start_time": "2022-12-03T18:27:14.280Z"
   },
   {
    "duration": 13,
    "start_time": "2022-12-03T18:27:14.295Z"
   },
   {
    "duration": 6,
    "start_time": "2022-12-03T18:27:14.310Z"
   },
   {
    "duration": 40,
    "start_time": "2022-12-03T18:27:14.317Z"
   },
   {
    "duration": 18,
    "start_time": "2022-12-03T18:27:14.360Z"
   },
   {
    "duration": 12,
    "start_time": "2022-12-03T18:27:14.380Z"
   },
   {
    "duration": 9,
    "start_time": "2022-12-03T18:27:14.394Z"
   },
   {
    "duration": 9,
    "start_time": "2022-12-03T18:27:14.405Z"
   },
   {
    "duration": 5,
    "start_time": "2022-12-03T18:27:14.416Z"
   },
   {
    "duration": 34,
    "start_time": "2022-12-03T18:27:14.422Z"
   },
   {
    "duration": 7,
    "start_time": "2022-12-03T18:27:14.458Z"
   },
   {
    "duration": 8,
    "start_time": "2022-12-03T18:27:14.466Z"
   },
   {
    "duration": 8,
    "start_time": "2022-12-03T18:27:14.476Z"
   },
   {
    "duration": 5,
    "start_time": "2022-12-03T18:27:14.485Z"
   },
   {
    "duration": 8,
    "start_time": "2022-12-03T18:27:14.491Z"
   },
   {
    "duration": 7,
    "start_time": "2022-12-03T18:27:14.501Z"
   },
   {
    "duration": 4,
    "start_time": "2022-12-03T18:27:14.510Z"
   },
   {
    "duration": 35,
    "start_time": "2022-12-03T18:27:14.516Z"
   },
   {
    "duration": 5,
    "start_time": "2022-12-03T18:27:14.553Z"
   },
   {
    "duration": 5,
    "start_time": "2022-12-03T18:27:14.560Z"
   },
   {
    "duration": 5,
    "start_time": "2022-12-03T18:27:14.567Z"
   },
   {
    "duration": 14,
    "start_time": "2022-12-03T18:27:14.574Z"
   },
   {
    "duration": 10,
    "start_time": "2022-12-03T18:27:14.593Z"
   },
   {
    "duration": 8,
    "start_time": "2022-12-03T18:27:14.605Z"
   },
   {
    "duration": 6,
    "start_time": "2022-12-03T18:27:14.614Z"
   },
   {
    "duration": 8,
    "start_time": "2022-12-03T18:27:14.651Z"
   },
   {
    "duration": 3,
    "start_time": "2022-12-03T18:27:14.661Z"
   },
   {
    "duration": 9,
    "start_time": "2022-12-03T18:27:14.666Z"
   },
   {
    "duration": 146,
    "start_time": "2022-12-03T18:27:14.677Z"
   },
   {
    "duration": 0,
    "start_time": "2022-12-03T18:27:14.824Z"
   },
   {
    "duration": 0,
    "start_time": "2022-12-03T18:27:14.825Z"
   },
   {
    "duration": 0,
    "start_time": "2022-12-03T18:27:14.826Z"
   },
   {
    "duration": 0,
    "start_time": "2022-12-03T18:27:14.827Z"
   },
   {
    "duration": 0,
    "start_time": "2022-12-03T18:27:14.828Z"
   },
   {
    "duration": 0,
    "start_time": "2022-12-03T18:27:14.829Z"
   },
   {
    "duration": 0,
    "start_time": "2022-12-03T18:27:14.830Z"
   },
   {
    "duration": 0,
    "start_time": "2022-12-03T18:27:14.831Z"
   },
   {
    "duration": 0,
    "start_time": "2022-12-03T18:27:14.832Z"
   },
   {
    "duration": 0,
    "start_time": "2022-12-03T18:27:14.833Z"
   },
   {
    "duration": 0,
    "start_time": "2022-12-03T18:27:14.834Z"
   },
   {
    "duration": 0,
    "start_time": "2022-12-03T18:27:14.850Z"
   },
   {
    "duration": 0,
    "start_time": "2022-12-03T18:27:14.852Z"
   },
   {
    "duration": 0,
    "start_time": "2022-12-03T18:27:14.854Z"
   },
   {
    "duration": 0,
    "start_time": "2022-12-03T18:27:14.856Z"
   },
   {
    "duration": 0,
    "start_time": "2022-12-03T18:27:14.857Z"
   },
   {
    "duration": 0,
    "start_time": "2022-12-03T18:27:14.859Z"
   },
   {
    "duration": 0,
    "start_time": "2022-12-03T18:27:14.861Z"
   },
   {
    "duration": 0,
    "start_time": "2022-12-03T18:27:14.862Z"
   },
   {
    "duration": 0,
    "start_time": "2022-12-03T18:27:14.864Z"
   },
   {
    "duration": 0,
    "start_time": "2022-12-03T18:27:14.865Z"
   },
   {
    "duration": 0,
    "start_time": "2022-12-03T18:27:14.867Z"
   },
   {
    "duration": 0,
    "start_time": "2022-12-03T18:27:14.868Z"
   },
   {
    "duration": 0,
    "start_time": "2022-12-03T18:27:14.870Z"
   },
   {
    "duration": 0,
    "start_time": "2022-12-03T18:27:14.871Z"
   },
   {
    "duration": 0,
    "start_time": "2022-12-03T18:27:14.873Z"
   },
   {
    "duration": 0,
    "start_time": "2022-12-03T18:27:14.874Z"
   },
   {
    "duration": 0,
    "start_time": "2022-12-03T18:27:14.876Z"
   },
   {
    "duration": 0,
    "start_time": "2022-12-03T18:27:14.877Z"
   },
   {
    "duration": 0,
    "start_time": "2022-12-03T18:27:14.879Z"
   },
   {
    "duration": 1064,
    "start_time": "2022-12-04T05:43:10.684Z"
   },
   {
    "duration": 89,
    "start_time": "2022-12-04T05:43:12.447Z"
   },
   {
    "duration": 7,
    "start_time": "2022-12-04T05:43:12.902Z"
   },
   {
    "duration": 14,
    "start_time": "2022-12-04T05:43:13.319Z"
   },
   {
    "duration": 6,
    "start_time": "2022-12-04T05:43:13.793Z"
   },
   {
    "duration": 10,
    "start_time": "2022-12-04T05:43:14.294Z"
   },
   {
    "duration": 11,
    "start_time": "2022-12-04T05:43:15.957Z"
   },
   {
    "duration": 4,
    "start_time": "2022-12-04T05:43:17.019Z"
   },
   {
    "duration": 7,
    "start_time": "2022-12-04T05:43:17.464Z"
   },
   {
    "duration": 12,
    "start_time": "2022-12-04T05:43:19.129Z"
   },
   {
    "duration": 5,
    "start_time": "2022-12-04T05:43:19.572Z"
   },
   {
    "duration": 6,
    "start_time": "2022-12-04T05:43:20.247Z"
   },
   {
    "duration": 4,
    "start_time": "2022-12-04T05:43:20.809Z"
   },
   {
    "duration": 2,
    "start_time": "2022-12-04T05:43:26.627Z"
   },
   {
    "duration": 10,
    "start_time": "2022-12-04T05:43:27.568Z"
   },
   {
    "duration": 4,
    "start_time": "2022-12-04T05:43:29.191Z"
   },
   {
    "duration": 3,
    "start_time": "2022-12-04T05:43:29.644Z"
   },
   {
    "duration": 6,
    "start_time": "2022-12-04T05:43:30.291Z"
   },
   {
    "duration": 4,
    "start_time": "2022-12-04T05:43:30.871Z"
   },
   {
    "duration": 2,
    "start_time": "2022-12-04T05:43:31.528Z"
   },
   {
    "duration": 5,
    "start_time": "2022-12-04T05:43:32.137Z"
   },
   {
    "duration": 4,
    "start_time": "2022-12-04T05:43:32.710Z"
   },
   {
    "duration": 3,
    "start_time": "2022-12-04T05:43:33.272Z"
   },
   {
    "duration": 4,
    "start_time": "2022-12-04T05:43:33.860Z"
   },
   {
    "duration": 2,
    "start_time": "2022-12-04T05:43:36.080Z"
   },
   {
    "duration": 2,
    "start_time": "2022-12-04T05:43:40.216Z"
   },
   {
    "duration": 8,
    "start_time": "2022-12-04T05:43:41.672Z"
   },
   {
    "duration": 6,
    "start_time": "2022-12-04T05:43:44.793Z"
   },
   {
    "duration": 6,
    "start_time": "2022-12-04T05:43:45.593Z"
   },
   {
    "duration": 3,
    "start_time": "2022-12-04T05:43:46.633Z"
   },
   {
    "duration": 6,
    "start_time": "2022-12-04T05:43:47.396Z"
   },
   {
    "duration": 6,
    "start_time": "2022-12-04T05:44:27.702Z"
   },
   {
    "duration": 12,
    "start_time": "2022-12-04T05:44:52.293Z"
   },
   {
    "duration": 5,
    "start_time": "2022-12-04T05:45:50.488Z"
   },
   {
    "duration": 12,
    "start_time": "2022-12-04T05:46:59.693Z"
   },
   {
    "duration": 8,
    "start_time": "2022-12-04T05:47:00.336Z"
   },
   {
    "duration": 17,
    "start_time": "2022-12-04T05:47:01.397Z"
   },
   {
    "duration": 6,
    "start_time": "2022-12-04T05:47:54.453Z"
   },
   {
    "duration": 8,
    "start_time": "2022-12-04T05:47:55.631Z"
   },
   {
    "duration": 11,
    "start_time": "2022-12-04T05:48:12.691Z"
   },
   {
    "duration": 7,
    "start_time": "2022-12-04T05:49:11.175Z"
   },
   {
    "duration": 11,
    "start_time": "2022-12-04T05:49:17.432Z"
   },
   {
    "duration": 6,
    "start_time": "2022-12-04T05:49:21.482Z"
   },
   {
    "duration": 6,
    "start_time": "2022-12-04T05:49:21.811Z"
   },
   {
    "duration": 8,
    "start_time": "2022-12-04T05:49:22.138Z"
   },
   {
    "duration": 11,
    "start_time": "2022-12-04T05:49:32.022Z"
   },
   {
    "duration": 9,
    "start_time": "2022-12-04T05:49:43.054Z"
   },
   {
    "duration": 3,
    "start_time": "2022-12-04T05:58:38.436Z"
   },
   {
    "duration": 42,
    "start_time": "2022-12-04T05:58:39.003Z"
   },
   {
    "duration": 4,
    "start_time": "2022-12-04T05:58:39.284Z"
   },
   {
    "duration": 13,
    "start_time": "2022-12-04T05:58:39.529Z"
   },
   {
    "duration": 6,
    "start_time": "2022-12-04T05:58:39.758Z"
   },
   {
    "duration": 14,
    "start_time": "2022-12-04T05:58:40.037Z"
   },
   {
    "duration": 10,
    "start_time": "2022-12-04T05:58:40.767Z"
   },
   {
    "duration": 4,
    "start_time": "2022-12-04T05:58:41.221Z"
   },
   {
    "duration": 8,
    "start_time": "2022-12-04T05:58:41.488Z"
   },
   {
    "duration": 13,
    "start_time": "2022-12-04T05:58:42.224Z"
   },
   {
    "duration": 5,
    "start_time": "2022-12-04T05:58:42.639Z"
   },
   {
    "duration": 6,
    "start_time": "2022-12-04T05:58:42.943Z"
   },
   {
    "duration": 4,
    "start_time": "2022-12-04T05:58:43.198Z"
   },
   {
    "duration": 2,
    "start_time": "2022-12-04T05:58:45.819Z"
   },
   {
    "duration": 10,
    "start_time": "2022-12-04T05:58:46.493Z"
   },
   {
    "duration": 5,
    "start_time": "2022-12-04T05:58:48.423Z"
   },
   {
    "duration": 2,
    "start_time": "2022-12-04T05:58:48.837Z"
   },
   {
    "duration": 5,
    "start_time": "2022-12-04T05:58:49.332Z"
   },
   {
    "duration": 4,
    "start_time": "2022-12-04T05:58:49.828Z"
   },
   {
    "duration": 3,
    "start_time": "2022-12-04T05:58:50.327Z"
   },
   {
    "duration": 5,
    "start_time": "2022-12-04T05:58:50.788Z"
   },
   {
    "duration": 3,
    "start_time": "2022-12-04T05:58:51.241Z"
   },
   {
    "duration": 4,
    "start_time": "2022-12-04T05:58:51.684Z"
   },
   {
    "duration": 3,
    "start_time": "2022-12-04T05:58:52.196Z"
   },
   {
    "duration": 2,
    "start_time": "2022-12-04T05:58:53.603Z"
   },
   {
    "duration": 2,
    "start_time": "2022-12-04T05:58:54.125Z"
   },
   {
    "duration": 12,
    "start_time": "2022-12-04T05:58:55.612Z"
   },
   {
    "duration": 6,
    "start_time": "2022-12-04T05:58:56.183Z"
   },
   {
    "duration": 12,
    "start_time": "2022-12-04T05:58:56.628Z"
   },
   {
    "duration": 7,
    "start_time": "2022-12-04T05:58:57.131Z"
   },
   {
    "duration": 7,
    "start_time": "2022-12-04T05:58:57.660Z"
   },
   {
    "duration": 12,
    "start_time": "2022-12-04T05:58:58.101Z"
   },
   {
    "duration": 6,
    "start_time": "2022-12-04T05:58:58.573Z"
   },
   {
    "duration": 5,
    "start_time": "2022-12-04T05:58:59.109Z"
   },
   {
    "duration": 12,
    "start_time": "2022-12-04T05:58:59.621Z"
   },
   {
    "duration": 2,
    "start_time": "2022-12-04T05:59:10.123Z"
   },
   {
    "duration": 3,
    "start_time": "2022-12-04T05:59:10.543Z"
   },
   {
    "duration": 36,
    "start_time": "2022-12-04T05:59:13.769Z"
   },
   {
    "duration": 6,
    "start_time": "2022-12-04T05:59:21.413Z"
   },
   {
    "duration": 55,
    "start_time": "2022-12-04T06:01:14.535Z"
   },
   {
    "duration": 6,
    "start_time": "2022-12-04T06:01:18.964Z"
   },
   {
    "duration": 48,
    "start_time": "2022-12-04T06:01:20.702Z"
   },
   {
    "duration": 6,
    "start_time": "2022-12-04T06:01:25.170Z"
   },
   {
    "duration": 42,
    "start_time": "2022-12-04T06:01:26.681Z"
   },
   {
    "duration": 5,
    "start_time": "2022-12-04T06:01:30.271Z"
   },
   {
    "duration": 2,
    "start_time": "2022-12-04T06:01:39.297Z"
   },
   {
    "duration": 95,
    "start_time": "2022-12-04T06:01:39.807Z"
   },
   {
    "duration": 8,
    "start_time": "2022-12-04T06:01:50.976Z"
   },
   {
    "duration": 106,
    "start_time": "2022-12-04T06:01:51.616Z"
   },
   {
    "duration": 6,
    "start_time": "2022-12-04T06:01:58.401Z"
   },
   {
    "duration": 7,
    "start_time": "2022-12-04T06:02:04.649Z"
   },
   {
    "duration": 89,
    "start_time": "2022-12-04T06:02:06.610Z"
   },
   {
    "duration": 10,
    "start_time": "2022-12-04T06:02:30.163Z"
   },
   {
    "duration": 50027,
    "start_time": "2022-12-04T06:03:06.930Z"
   },
   {
    "duration": 70322,
    "start_time": "2022-12-04T06:05:25.545Z"
   },
   {
    "duration": 104077,
    "start_time": "2022-12-04T06:09:46.626Z"
   },
   {
    "duration": 6,
    "start_time": "2022-12-04T06:15:12.361Z"
   },
   {
    "duration": 14,
    "start_time": "2022-12-04T06:15:14.358Z"
   },
   {
    "duration": 2,
    "start_time": "2022-12-04T06:15:21.485Z"
   },
   {
    "duration": 2,
    "start_time": "2022-12-04T06:15:22.918Z"
   },
   {
    "duration": 2,
    "start_time": "2022-12-04T06:15:23.462Z"
   },
   {
    "duration": 25,
    "start_time": "2022-12-04T06:16:27.807Z"
   },
   {
    "duration": 5,
    "start_time": "2022-12-04T06:16:29.715Z"
   },
   {
    "duration": 15,
    "start_time": "2022-12-04T06:16:35.101Z"
   },
   {
    "duration": 5,
    "start_time": "2022-12-04T06:16:36.160Z"
   },
   {
    "duration": 12,
    "start_time": "2022-12-04T06:16:45.193Z"
   },
   {
    "duration": 6,
    "start_time": "2022-12-04T06:16:46.063Z"
   },
   {
    "duration": 15,
    "start_time": "2022-12-04T06:16:52.074Z"
   },
   {
    "duration": 5,
    "start_time": "2022-12-04T06:16:52.818Z"
   },
   {
    "duration": 12,
    "start_time": "2022-12-04T06:17:03.381Z"
   },
   {
    "duration": 6,
    "start_time": "2022-12-04T06:17:03.722Z"
   },
   {
    "duration": 22,
    "start_time": "2022-12-04T06:17:37.867Z"
   },
   {
    "duration": 20,
    "start_time": "2022-12-04T06:19:33.688Z"
   },
   {
    "duration": 14,
    "start_time": "2022-12-04T06:20:19.992Z"
   },
   {
    "duration": 12,
    "start_time": "2022-12-04T06:20:32.189Z"
   },
   {
    "duration": 5,
    "start_time": "2022-12-04T06:20:34.007Z"
   },
   {
    "duration": 2,
    "start_time": "2022-12-04T06:20:38.462Z"
   },
   {
    "duration": 18,
    "start_time": "2022-12-04T06:20:39.200Z"
   },
   {
    "duration": 22,
    "start_time": "2022-12-04T06:21:08.490Z"
   },
   {
    "duration": 6,
    "start_time": "2022-12-04T06:21:24.441Z"
   },
   {
    "duration": 16,
    "start_time": "2022-12-04T06:30:52.642Z"
   },
   {
    "duration": 24,
    "start_time": "2022-12-04T06:31:09.964Z"
   },
   {
    "duration": 4,
    "start_time": "2022-12-04T06:31:10.953Z"
   },
   {
    "duration": 15,
    "start_time": "2022-12-04T06:43:24.926Z"
   },
   {
    "duration": 5,
    "start_time": "2022-12-04T06:43:42.920Z"
   },
   {
    "duration": 5,
    "start_time": "2022-12-04T06:43:43.224Z"
   },
   {
    "duration": 5,
    "start_time": "2022-12-04T06:43:43.606Z"
   },
   {
    "duration": 5,
    "start_time": "2022-12-04T06:43:43.961Z"
   },
   {
    "duration": 16,
    "start_time": "2022-12-04T06:44:06.357Z"
   },
   {
    "duration": 17,
    "start_time": "2022-12-04T06:45:23.678Z"
   },
   {
    "duration": 16,
    "start_time": "2022-12-04T06:45:33.251Z"
   },
   {
    "duration": 16,
    "start_time": "2022-12-04T06:46:46.366Z"
   },
   {
    "duration": 18,
    "start_time": "2022-12-04T06:47:23.930Z"
   },
   {
    "duration": 6,
    "start_time": "2022-12-04T06:47:43.952Z"
   },
   {
    "duration": 3,
    "start_time": "2022-12-04T06:47:46.432Z"
   },
   {
    "duration": 6,
    "start_time": "2022-12-04T06:47:47.019Z"
   },
   {
    "duration": 3,
    "start_time": "2022-12-04T06:47:47.567Z"
   },
   {
    "duration": 2,
    "start_time": "2022-12-04T06:47:48.044Z"
   },
   {
    "duration": 5,
    "start_time": "2022-12-04T06:47:48.468Z"
   },
   {
    "duration": 3,
    "start_time": "2022-12-04T06:47:48.929Z"
   },
   {
    "duration": 3,
    "start_time": "2022-12-04T06:47:49.388Z"
   },
   {
    "duration": 4,
    "start_time": "2022-12-04T06:47:49.867Z"
   },
   {
    "duration": 5,
    "start_time": "2022-12-04T06:47:51.195Z"
   },
   {
    "duration": 3,
    "start_time": "2022-12-04T06:47:51.636Z"
   },
   {
    "duration": 9,
    "start_time": "2022-12-04T06:47:53.558Z"
   },
   {
    "duration": 6,
    "start_time": "2022-12-04T06:47:54.014Z"
   },
   {
    "duration": 11,
    "start_time": "2022-12-04T06:47:54.437Z"
   },
   {
    "duration": 7,
    "start_time": "2022-12-04T06:47:55.351Z"
   },
   {
    "duration": 6,
    "start_time": "2022-12-04T06:47:55.810Z"
   },
   {
    "duration": 12,
    "start_time": "2022-12-04T06:47:56.235Z"
   },
   {
    "duration": 6,
    "start_time": "2022-12-04T06:47:56.669Z"
   },
   {
    "duration": 8,
    "start_time": "2022-12-04T06:47:57.093Z"
   },
   {
    "duration": 13,
    "start_time": "2022-12-04T06:47:57.486Z"
   },
   {
    "duration": 3,
    "start_time": "2022-12-04T06:48:01.610Z"
   },
   {
    "duration": 2,
    "start_time": "2022-12-04T06:48:02.045Z"
   },
   {
    "duration": 36,
    "start_time": "2022-12-04T06:48:03.618Z"
   },
   {
    "duration": 5,
    "start_time": "2022-12-04T06:48:08.513Z"
   },
   {
    "duration": 8,
    "start_time": "2022-12-04T06:48:09.298Z"
   },
   {
    "duration": 8,
    "start_time": "2022-12-04T06:48:10.000Z"
   },
   {
    "duration": 6,
    "start_time": "2022-12-04T06:48:10.640Z"
   },
   {
    "duration": 3,
    "start_time": "2022-12-04T06:48:12.310Z"
   },
   {
    "duration": 100,
    "start_time": "2022-12-04T06:48:12.820Z"
   },
   {
    "duration": 6,
    "start_time": "2022-12-04T06:48:13.412Z"
   },
   {
    "duration": 6,
    "start_time": "2022-12-04T06:48:14.037Z"
   },
   {
    "duration": 7,
    "start_time": "2022-12-04T06:48:14.721Z"
   },
   {
    "duration": 71,
    "start_time": "2022-12-04T06:48:15.430Z"
   },
   {
    "duration": 3,
    "start_time": "2022-12-04T06:48:17.903Z"
   },
   {
    "duration": 112681,
    "start_time": "2022-12-04T06:48:18.485Z"
   },
   {
    "duration": 16,
    "start_time": "2022-12-04T06:51:16.291Z"
   },
   {
    "duration": 16,
    "start_time": "2022-12-04T06:54:03.452Z"
   },
   {
    "duration": 5,
    "start_time": "2022-12-04T06:54:41.877Z"
   },
   {
    "duration": 5,
    "start_time": "2022-12-04T06:54:42.891Z"
   },
   {
    "duration": 18,
    "start_time": "2022-12-04T06:54:49.844Z"
   },
   {
    "duration": 4,
    "start_time": "2022-12-04T06:55:36.691Z"
   },
   {
    "duration": 42,
    "start_time": "2022-12-04T06:55:37.189Z"
   },
   {
    "duration": 4,
    "start_time": "2022-12-04T06:55:37.388Z"
   },
   {
    "duration": 18,
    "start_time": "2022-12-04T06:55:37.599Z"
   },
   {
    "duration": 7,
    "start_time": "2022-12-04T06:55:38.617Z"
   },
   {
    "duration": 7,
    "start_time": "2022-12-04T06:55:42.486Z"
   },
   {
    "duration": 11,
    "start_time": "2022-12-04T06:55:42.764Z"
   },
   {
    "duration": 12,
    "start_time": "2022-12-04T06:55:43.613Z"
   },
   {
    "duration": 5,
    "start_time": "2022-12-04T06:55:44.209Z"
   },
   {
    "duration": 8,
    "start_time": "2022-12-04T06:55:44.542Z"
   },
   {
    "duration": 13,
    "start_time": "2022-12-04T06:55:45.381Z"
   },
   {
    "duration": 6,
    "start_time": "2022-12-04T06:55:45.711Z"
   },
   {
    "duration": 6,
    "start_time": "2022-12-04T06:55:46.070Z"
   },
   {
    "duration": 5,
    "start_time": "2022-12-04T06:55:46.411Z"
   },
   {
    "duration": 3,
    "start_time": "2022-12-04T06:55:49.878Z"
   },
   {
    "duration": 11,
    "start_time": "2022-12-04T06:55:50.461Z"
   },
   {
    "duration": 5,
    "start_time": "2022-12-04T06:55:51.267Z"
   },
   {
    "duration": 16,
    "start_time": "2022-12-04T06:55:51.524Z"
   },
   {
    "duration": 5,
    "start_time": "2022-12-04T06:56:02.638Z"
   },
   {
    "duration": 2,
    "start_time": "2022-12-04T06:56:03.069Z"
   },
   {
    "duration": 6,
    "start_time": "2022-12-04T06:56:03.558Z"
   },
   {
    "duration": 3,
    "start_time": "2022-12-04T06:56:04.069Z"
   },
   {
    "duration": 2,
    "start_time": "2022-12-04T06:56:04.615Z"
   },
   {
    "duration": 5,
    "start_time": "2022-12-04T06:56:05.159Z"
   },
   {
    "duration": 3,
    "start_time": "2022-12-04T06:56:05.668Z"
   },
   {
    "duration": 3,
    "start_time": "2022-12-04T06:56:06.209Z"
   },
   {
    "duration": 3,
    "start_time": "2022-12-04T06:56:06.727Z"
   },
   {
    "duration": 3,
    "start_time": "2022-12-04T06:56:08.277Z"
   },
   {
    "duration": 2,
    "start_time": "2022-12-04T06:56:08.812Z"
   },
   {
    "duration": 10,
    "start_time": "2022-12-04T06:56:10.869Z"
   },
   {
    "duration": 7,
    "start_time": "2022-12-04T06:56:11.469Z"
   },
   {
    "duration": 11,
    "start_time": "2022-12-04T06:56:12.080Z"
   },
   {
    "duration": 7,
    "start_time": "2022-12-04T06:56:13.036Z"
   },
   {
    "duration": 6,
    "start_time": "2022-12-04T06:56:13.677Z"
   },
   {
    "duration": 13,
    "start_time": "2022-12-04T06:56:14.372Z"
   },
   {
    "duration": 7,
    "start_time": "2022-12-04T06:56:15.318Z"
   },
   {
    "duration": 6,
    "start_time": "2022-12-04T06:56:16.118Z"
   },
   {
    "duration": 11,
    "start_time": "2022-12-04T06:56:16.701Z"
   },
   {
    "duration": 2,
    "start_time": "2022-12-04T06:56:22.437Z"
   },
   {
    "duration": 3,
    "start_time": "2022-12-04T06:56:24.025Z"
   },
   {
    "duration": 37,
    "start_time": "2022-12-04T06:56:26.078Z"
   },
   {
    "duration": 5,
    "start_time": "2022-12-04T06:56:33.910Z"
   },
   {
    "duration": 3,
    "start_time": "2022-12-04T06:56:41.338Z"
   },
   {
    "duration": 3,
    "start_time": "2022-12-04T06:56:51.902Z"
   },
   {
    "duration": 3,
    "start_time": "2022-12-04T06:56:57.985Z"
   },
   {
    "duration": 2,
    "start_time": "2022-12-04T06:57:00.471Z"
   },
   {
    "duration": 69,
    "start_time": "2022-12-04T06:57:01.133Z"
   },
   {
    "duration": 8,
    "start_time": "2022-12-04T06:57:01.999Z"
   },
   {
    "duration": 6,
    "start_time": "2022-12-04T06:57:02.782Z"
   },
   {
    "duration": 6,
    "start_time": "2022-12-04T06:57:03.501Z"
   },
   {
    "duration": 10,
    "start_time": "2022-12-04T06:57:04.217Z"
   },
   {
    "duration": 2,
    "start_time": "2022-12-04T06:57:05.914Z"
   },
   {
    "duration": 106629,
    "start_time": "2022-12-04T06:57:06.271Z"
   },
   {
    "duration": 7,
    "start_time": "2022-12-04T07:01:48.593Z"
   },
   {
    "duration": 18,
    "start_time": "2022-12-04T07:01:49.333Z"
   },
   {
    "duration": 3,
    "start_time": "2022-12-04T07:01:52.341Z"
   },
   {
    "duration": 2,
    "start_time": "2022-12-04T07:01:54.293Z"
   },
   {
    "duration": 3,
    "start_time": "2022-12-04T07:01:56.186Z"
   },
   {
    "duration": 10,
    "start_time": "2022-12-04T07:01:57.531Z"
   },
   {
    "duration": 5,
    "start_time": "2022-12-04T07:02:00.285Z"
   },
   {
    "duration": 3,
    "start_time": "2022-12-04T07:02:06.590Z"
   },
   {
    "duration": 143139,
    "start_time": "2022-12-04T07:02:07.478Z"
   },
   {
    "duration": 6,
    "start_time": "2022-12-04T07:04:35.577Z"
   },
   {
    "duration": 9,
    "start_time": "2022-12-04T07:04:36.626Z"
   },
   {
    "duration": 9,
    "start_time": "2022-12-04T07:04:52.135Z"
   },
   {
    "duration": 10,
    "start_time": "2022-12-04T07:05:23.424Z"
   },
   {
    "duration": 142122,
    "start_time": "2022-12-04T07:06:34.692Z"
   },
   {
    "duration": 19,
    "start_time": "2022-12-04T07:10:09.391Z"
   },
   {
    "duration": 10,
    "start_time": "2022-12-04T07:16:08.383Z"
   },
   {
    "duration": 6,
    "start_time": "2022-12-04T07:16:11.478Z"
   },
   {
    "duration": 21,
    "start_time": "2022-12-04T07:16:16.246Z"
   },
   {
    "duration": 74755,
    "start_time": "2022-12-04T07:16:36.363Z"
   },
   {
    "duration": 6,
    "start_time": "2022-12-04T07:17:51.120Z"
   },
   {
    "duration": 17,
    "start_time": "2022-12-04T07:17:55.494Z"
   },
   {
    "duration": 13,
    "start_time": "2022-12-04T07:18:05.894Z"
   },
   {
    "duration": 17,
    "start_time": "2022-12-04T07:19:01.484Z"
   },
   {
    "duration": 7,
    "start_time": "2022-12-04T07:19:09.802Z"
   },
   {
    "duration": 7,
    "start_time": "2022-12-04T07:19:11.831Z"
   },
   {
    "duration": 21,
    "start_time": "2022-12-04T07:19:17.870Z"
   },
   {
    "duration": 17,
    "start_time": "2022-12-04T07:21:08.309Z"
   },
   {
    "duration": 1275,
    "start_time": "2022-12-04T12:20:48.458Z"
   },
   {
    "duration": 87,
    "start_time": "2022-12-04T12:20:49.735Z"
   },
   {
    "duration": 8,
    "start_time": "2022-12-04T12:20:49.824Z"
   },
   {
    "duration": 22,
    "start_time": "2022-12-04T12:20:49.834Z"
   },
   {
    "duration": 43,
    "start_time": "2022-12-04T12:20:49.857Z"
   },
   {
    "duration": 17,
    "start_time": "2022-12-04T12:20:49.901Z"
   },
   {
    "duration": 15,
    "start_time": "2022-12-04T12:20:49.920Z"
   },
   {
    "duration": 62,
    "start_time": "2022-12-04T12:20:49.937Z"
   },
   {
    "duration": 7,
    "start_time": "2022-12-04T12:20:50.001Z"
   },
   {
    "duration": 20,
    "start_time": "2022-12-04T12:20:50.010Z"
   },
   {
    "duration": 68,
    "start_time": "2022-12-04T12:20:50.032Z"
   },
   {
    "duration": 12,
    "start_time": "2022-12-04T12:20:50.102Z"
   },
   {
    "duration": 10,
    "start_time": "2022-12-04T12:20:50.116Z"
   },
   {
    "duration": 8,
    "start_time": "2022-12-04T12:20:50.127Z"
   },
   {
    "duration": 65,
    "start_time": "2022-12-04T12:20:50.137Z"
   },
   {
    "duration": 12,
    "start_time": "2022-12-04T12:20:50.204Z"
   },
   {
    "duration": 7,
    "start_time": "2022-12-04T12:20:50.218Z"
   },
   {
    "duration": 15,
    "start_time": "2022-12-04T12:20:50.226Z"
   },
   {
    "duration": 3,
    "start_time": "2022-12-04T12:20:50.243Z"
   },
   {
    "duration": 5,
    "start_time": "2022-12-04T12:20:50.248Z"
   },
   {
    "duration": 8,
    "start_time": "2022-12-04T12:20:50.254Z"
   },
   {
    "duration": 37,
    "start_time": "2022-12-04T12:20:50.263Z"
   },
   {
    "duration": 6,
    "start_time": "2022-12-04T12:20:50.301Z"
   },
   {
    "duration": 6,
    "start_time": "2022-12-04T12:20:50.309Z"
   },
   {
    "duration": 5,
    "start_time": "2022-12-04T12:20:50.316Z"
   },
   {
    "duration": 6,
    "start_time": "2022-12-04T12:20:50.323Z"
   },
   {
    "duration": 13,
    "start_time": "2022-12-04T12:20:50.330Z"
   },
   {
    "duration": 11,
    "start_time": "2022-12-04T12:20:50.347Z"
   },
   {
    "duration": 14,
    "start_time": "2022-12-04T12:20:50.360Z"
   },
   {
    "duration": 22,
    "start_time": "2022-12-04T12:20:50.375Z"
   },
   {
    "duration": 12,
    "start_time": "2022-12-04T12:20:50.399Z"
   },
   {
    "duration": 14,
    "start_time": "2022-12-04T12:20:50.412Z"
   },
   {
    "duration": 7,
    "start_time": "2022-12-04T12:20:50.428Z"
   },
   {
    "duration": 6,
    "start_time": "2022-12-04T12:20:50.437Z"
   },
   {
    "duration": 19,
    "start_time": "2022-12-04T12:20:50.444Z"
   },
   {
    "duration": 6,
    "start_time": "2022-12-04T12:20:50.464Z"
   },
   {
    "duration": 29,
    "start_time": "2022-12-04T12:20:50.472Z"
   },
   {
    "duration": 42,
    "start_time": "2022-12-04T12:20:50.502Z"
   },
   {
    "duration": 5,
    "start_time": "2022-12-04T12:20:50.546Z"
   },
   {
    "duration": 6,
    "start_time": "2022-12-04T12:20:50.553Z"
   },
   {
    "duration": 9,
    "start_time": "2022-12-04T12:20:50.560Z"
   },
   {
    "duration": 11,
    "start_time": "2022-12-04T12:20:50.570Z"
   },
   {
    "duration": 8,
    "start_time": "2022-12-04T12:20:50.583Z"
   },
   {
    "duration": 202,
    "start_time": "2022-12-04T12:20:50.597Z"
   },
   {
    "duration": 102,
    "start_time": "2022-12-04T12:20:50.801Z"
   },
   {
    "duration": 204,
    "start_time": "2022-12-04T12:20:50.905Z"
   },
   {
    "duration": 7,
    "start_time": "2022-12-04T12:20:51.111Z"
   },
   {
    "duration": 14,
    "start_time": "2022-12-04T12:20:51.120Z"
   },
   {
    "duration": 2,
    "start_time": "2022-12-04T12:20:51.199Z"
   },
   {
    "duration": 149641,
    "start_time": "2022-12-04T12:20:51.203Z"
   },
   {
    "duration": 6,
    "start_time": "2022-12-04T12:23:20.846Z"
   },
   {
    "duration": 15,
    "start_time": "2022-12-04T12:23:20.853Z"
   },
   {
    "duration": 2,
    "start_time": "2022-12-04T12:23:20.870Z"
   },
   {
    "duration": 24,
    "start_time": "2022-12-04T12:23:20.873Z"
   },
   {
    "duration": 7,
    "start_time": "2022-12-04T12:23:20.899Z"
   },
   {
    "duration": 14,
    "start_time": "2022-12-04T12:23:20.908Z"
   },
   {
    "duration": 5,
    "start_time": "2022-12-04T12:23:20.923Z"
   },
   {
    "duration": 6,
    "start_time": "2022-12-04T12:23:20.929Z"
   },
   {
    "duration": 225028,
    "start_time": "2022-12-04T12:23:20.936Z"
   },
   {
    "duration": 6,
    "start_time": "2022-12-04T12:27:05.965Z"
   },
   {
    "duration": 40,
    "start_time": "2022-12-04T12:27:05.973Z"
   },
   {
    "duration": 2,
    "start_time": "2022-12-04T12:27:06.015Z"
   },
   {
    "duration": 13,
    "start_time": "2022-12-04T12:27:06.018Z"
   },
   {
    "duration": 4,
    "start_time": "2022-12-04T12:27:06.033Z"
   },
   {
    "duration": 81419,
    "start_time": "2022-12-04T12:27:06.039Z"
   },
   {
    "duration": 6,
    "start_time": "2022-12-04T12:28:27.460Z"
   },
   {
    "duration": 14,
    "start_time": "2022-12-04T12:28:27.467Z"
   },
   {
    "duration": 19,
    "start_time": "2022-12-04T12:28:27.497Z"
   },
   {
    "duration": 9,
    "start_time": "2022-12-04T12:28:27.518Z"
   },
   {
    "duration": 5,
    "start_time": "2022-12-04T12:28:27.529Z"
   },
   {
    "duration": 17,
    "start_time": "2022-12-04T12:28:27.536Z"
   },
   {
    "duration": 1244,
    "start_time": "2022-12-05T07:39:18.134Z"
   },
   {
    "duration": 189,
    "start_time": "2022-12-05T07:39:19.380Z"
   },
   {
    "duration": 12,
    "start_time": "2022-12-05T07:39:19.870Z"
   },
   {
    "duration": 16,
    "start_time": "2022-12-05T07:39:20.392Z"
   },
   {
    "duration": 8,
    "start_time": "2022-12-05T07:39:21.190Z"
   },
   {
    "duration": 14,
    "start_time": "2022-12-05T07:39:21.822Z"
   },
   {
    "duration": 13,
    "start_time": "2022-12-05T07:39:23.829Z"
   },
   {
    "duration": 5,
    "start_time": "2022-12-05T07:39:24.981Z"
   },
   {
    "duration": 10,
    "start_time": "2022-12-05T07:39:25.411Z"
   },
   {
    "duration": 23,
    "start_time": "2022-12-05T07:39:27.441Z"
   },
   {
    "duration": 8,
    "start_time": "2022-12-05T07:39:30.390Z"
   },
   {
    "duration": 6,
    "start_time": "2022-12-05T07:39:31.507Z"
   },
   {
    "duration": 4,
    "start_time": "2022-12-05T07:39:32.278Z"
   },
   {
    "duration": 3,
    "start_time": "2022-12-05T07:39:41.176Z"
   },
   {
    "duration": 12,
    "start_time": "2022-12-05T07:39:45.119Z"
   },
   {
    "duration": 4,
    "start_time": "2022-12-05T07:39:50.566Z"
   },
   {
    "duration": 3,
    "start_time": "2022-12-05T07:39:51.265Z"
   },
   {
    "duration": 9,
    "start_time": "2022-12-05T07:39:51.822Z"
   },
   {
    "duration": 4,
    "start_time": "2022-12-05T07:39:52.419Z"
   },
   {
    "duration": 2,
    "start_time": "2022-12-05T07:39:52.999Z"
   },
   {
    "duration": 8,
    "start_time": "2022-12-05T07:39:53.614Z"
   },
   {
    "duration": 6,
    "start_time": "2022-12-05T07:39:54.126Z"
   },
   {
    "duration": 4,
    "start_time": "2022-12-05T07:39:54.816Z"
   },
   {
    "duration": 5,
    "start_time": "2022-12-05T07:39:55.321Z"
   },
   {
    "duration": 3,
    "start_time": "2022-12-05T07:40:01.103Z"
   },
   {
    "duration": 4,
    "start_time": "2022-12-05T07:40:01.758Z"
   },
   {
    "duration": 14,
    "start_time": "2022-12-05T07:40:04.179Z"
   },
   {
    "duration": 9,
    "start_time": "2022-12-05T07:40:04.779Z"
   },
   {
    "duration": 21,
    "start_time": "2022-12-05T07:40:05.377Z"
   },
   {
    "duration": 9,
    "start_time": "2022-12-05T07:40:06.042Z"
   },
   {
    "duration": 8,
    "start_time": "2022-12-05T07:40:06.623Z"
   },
   {
    "duration": 19,
    "start_time": "2022-12-05T07:40:07.327Z"
   },
   {
    "duration": 9,
    "start_time": "2022-12-05T07:40:07.910Z"
   },
   {
    "duration": 6,
    "start_time": "2022-12-05T07:40:08.560Z"
   },
   {
    "duration": 20,
    "start_time": "2022-12-05T07:40:09.216Z"
   },
   {
    "duration": 3,
    "start_time": "2022-12-05T07:40:39.512Z"
   },
   {
    "duration": 4,
    "start_time": "2022-12-05T07:40:41.765Z"
   },
   {
    "duration": 71,
    "start_time": "2022-12-05T07:40:45.882Z"
   },
   {
    "duration": 8,
    "start_time": "2022-12-05T07:40:51.721Z"
   },
   {
    "duration": 4,
    "start_time": "2022-12-05T07:40:52.392Z"
   },
   {
    "duration": 4,
    "start_time": "2022-12-05T07:40:52.972Z"
   },
   {
    "duration": 3,
    "start_time": "2022-12-05T07:40:53.536Z"
   },
   {
    "duration": 4,
    "start_time": "2022-12-05T07:40:55.847Z"
   },
   {
    "duration": 258,
    "start_time": "2022-12-05T07:40:58.396Z"
   },
   {
    "duration": 9,
    "start_time": "2022-12-05T07:40:59.634Z"
   },
   {
    "duration": 9,
    "start_time": "2022-12-05T07:41:00.420Z"
   },
   {
    "duration": 8,
    "start_time": "2022-12-05T07:41:01.187Z"
   },
   {
    "duration": 15,
    "start_time": "2022-12-05T07:41:01.954Z"
   },
   {
    "duration": 3,
    "start_time": "2022-12-05T07:41:04.656Z"
   }
  ],
  "kernelspec": {
   "display_name": "Python 3 (ipykernel)",
   "language": "python",
   "name": "python3"
  },
  "language_info": {
   "codemirror_mode": {
    "name": "ipython",
    "version": 3
   },
   "file_extension": ".py",
   "mimetype": "text/x-python",
   "name": "python",
   "nbconvert_exporter": "python",
   "pygments_lexer": "ipython3",
   "version": "3.9.7"
  },
  "toc": {
   "base_numbering": 1,
   "nav_menu": {},
   "number_sections": true,
   "sideBar": true,
   "skip_h1_title": true,
   "title_cell": "Содержание",
   "title_sidebar": "Contents",
   "toc_cell": true,
   "toc_position": {
    "height": "calc(100% - 180px)",
    "left": "10px",
    "top": "150px",
    "width": "165px"
   },
   "toc_section_display": true,
   "toc_window_display": true
  }
 },
 "nbformat": 4,
 "nbformat_minor": 2
}
